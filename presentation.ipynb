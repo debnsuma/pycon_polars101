{
 "cells": [
  {
   "cell_type": "code",
   "execution_count": 4,
   "id": "fa5720f5",
   "metadata": {},
   "outputs": [],
   "source": [
    "import polars as pl"
   ]
  },
  {
   "cell_type": "markdown",
   "id": "4e7a1ce7-43ce-4425-b86f-ef9f3c6440eb",
   "metadata": {
    "slideshow": {
     "slide_type": "slide"
    }
   },
   "source": [
    "# Creating a Dataframe"
   ]
  },
  {
   "cell_type": "code",
   "execution_count": 5,
   "id": "8b0f0d93-866d-467d-82c6-b4b76ae18cba",
   "metadata": {
    "scrolled": true,
    "slideshow": {
     "slide_type": "slide"
    }
   },
   "outputs": [
    {
     "data": {
      "text/html": [
       "<div><style>\n",
       ".dataframe > thead > tr > th,\n",
       ".dataframe > tbody > tr > td {\n",
       "  text-align: right;\n",
       "}\n",
       "</style>\n",
       "<small>shape: (5, 12)</small><table border=\"1\" class=\"dataframe\"><thead><tr><th>PassengerId</th><th>Survived</th><th>Pclass</th><th>Name</th><th>Sex</th><th>Age</th><th>SibSp</th><th>Parch</th><th>Ticket</th><th>Fare</th><th>Cabin</th><th>Embarked</th></tr><tr><td>i64</td><td>i64</td><td>i64</td><td>str</td><td>str</td><td>f64</td><td>i64</td><td>i64</td><td>str</td><td>f64</td><td>str</td><td>str</td></tr></thead><tbody><tr><td>1</td><td>0</td><td>3</td><td>&quot;Braund, Mr. Ow…</td><td>&quot;male&quot;</td><td>22.0</td><td>1</td><td>0</td><td>&quot;A/5 21171&quot;</td><td>7.25</td><td>null</td><td>&quot;S&quot;</td></tr><tr><td>2</td><td>1</td><td>1</td><td>&quot;Cumings, Mrs. …</td><td>&quot;female&quot;</td><td>38.0</td><td>1</td><td>0</td><td>&quot;PC 17599&quot;</td><td>71.2833</td><td>&quot;C85&quot;</td><td>&quot;C&quot;</td></tr><tr><td>3</td><td>1</td><td>3</td><td>&quot;Heikkinen, Mis…</td><td>&quot;female&quot;</td><td>26.0</td><td>0</td><td>0</td><td>&quot;STON/O2. 31012…</td><td>7.925</td><td>null</td><td>&quot;S&quot;</td></tr><tr><td>4</td><td>1</td><td>1</td><td>&quot;Futrelle, Mrs.…</td><td>&quot;female&quot;</td><td>35.0</td><td>1</td><td>0</td><td>&quot;113803&quot;</td><td>53.1</td><td>&quot;C123&quot;</td><td>&quot;S&quot;</td></tr><tr><td>5</td><td>0</td><td>3</td><td>&quot;Allen, Mr. Wil…</td><td>&quot;male&quot;</td><td>35.0</td><td>0</td><td>0</td><td>&quot;373450&quot;</td><td>8.05</td><td>null</td><td>&quot;S&quot;</td></tr></tbody></table></div>"
      ],
      "text/plain": [
       "shape: (5, 12)\n",
       "┌─────────────┬──────────┬────────┬───────────────────┬───┬───────────┬─────────┬───────┬──────────┐\n",
       "│ PassengerId ┆ Survived ┆ Pclass ┆ Name              ┆ … ┆ Ticket    ┆ Fare    ┆ Cabin ┆ Embarked │\n",
       "│ ---         ┆ ---      ┆ ---    ┆ ---               ┆   ┆ ---       ┆ ---     ┆ ---   ┆ ---      │\n",
       "│ i64         ┆ i64      ┆ i64    ┆ str               ┆   ┆ str       ┆ f64     ┆ str   ┆ str      │\n",
       "╞═════════════╪══════════╪════════╪═══════════════════╪═══╪═══════════╪═════════╪═══════╪══════════╡\n",
       "│ 1           ┆ 0        ┆ 3      ┆ Braund, Mr. Owen  ┆ … ┆ A/5 21171 ┆ 7.25    ┆ null  ┆ S        │\n",
       "│             ┆          ┆        ┆ Harris            ┆   ┆           ┆         ┆       ┆          │\n",
       "│ 2           ┆ 1        ┆ 1      ┆ Cumings, Mrs.     ┆ … ┆ PC 17599  ┆ 71.2833 ┆ C85   ┆ C        │\n",
       "│             ┆          ┆        ┆ John Bradley      ┆   ┆           ┆         ┆       ┆          │\n",
       "│             ┆          ┆        ┆ (Flor…            ┆   ┆           ┆         ┆       ┆          │\n",
       "│ 3           ┆ 1        ┆ 3      ┆ Heikkinen, Miss.  ┆ … ┆ STON/O2.  ┆ 7.925   ┆ null  ┆ S        │\n",
       "│             ┆          ┆        ┆ Laina             ┆   ┆ 3101282   ┆         ┆       ┆          │\n",
       "│ 4           ┆ 1        ┆ 1      ┆ Futrelle, Mrs.    ┆ … ┆ 113803    ┆ 53.1    ┆ C123  ┆ S        │\n",
       "│             ┆          ┆        ┆ Jacques Heath     ┆   ┆           ┆         ┆       ┆          │\n",
       "│             ┆          ┆        ┆ (Li…              ┆   ┆           ┆         ┆       ┆          │\n",
       "│ 5           ┆ 0        ┆ 3      ┆ Allen, Mr.        ┆ … ┆ 373450    ┆ 8.05    ┆ null  ┆ S        │\n",
       "│             ┆          ┆        ┆ William Henry     ┆   ┆           ┆         ┆       ┆          │\n",
       "└─────────────┴──────────┴────────┴───────────────────┴───┴───────────┴─────────┴───────┴──────────┘"
      ]
     },
     "execution_count": 5,
     "metadata": {},
     "output_type": "execute_result"
    }
   ],
   "source": [
    "df = pl.read_csv('notebooks/data/titanic.csv')\n",
    "df.head()"
   ]
  },
  {
   "cell_type": "markdown",
   "id": "ef6d9211",
   "metadata": {
    "slideshow": {
     "slide_type": "slide"
    }
   },
   "source": [
    "# Expressions"
   ]
  },
  {
   "cell_type": "code",
   "execution_count": 6,
   "id": "d9e31f43",
   "metadata": {
    "slideshow": {
     "slide_type": "slide"
    }
   },
   "outputs": [
    {
     "data": {
      "text/html": [
       "<div><style>\n",
       ".dataframe > thead > tr > th,\n",
       ".dataframe > tbody > tr > td {\n",
       "  text-align: right;\n",
       "}\n",
       "</style>\n",
       "<small>shape: (3, 3)</small><table border=\"1\" class=\"dataframe\"><thead><tr><th>Pclass</th><th>Name</th><th>Age</th></tr><tr><td>i64</td><td>str</td><td>f64</td></tr></thead><tbody><tr><td>3</td><td>&quot;Braund, Mr. Ow…</td><td>22.0</td></tr><tr><td>1</td><td>&quot;Cumings, Mrs. …</td><td>38.0</td></tr><tr><td>3</td><td>&quot;Heikkinen, Mis…</td><td>26.0</td></tr></tbody></table></div>"
      ],
      "text/plain": [
       "shape: (3, 3)\n",
       "┌────────┬───────────────────────────────────┬──────┐\n",
       "│ Pclass ┆ Name                              ┆ Age  │\n",
       "│ ---    ┆ ---                               ┆ ---  │\n",
       "│ i64    ┆ str                               ┆ f64  │\n",
       "╞════════╪═══════════════════════════════════╪══════╡\n",
       "│ 3      ┆ Braund, Mr. Owen Harris           ┆ 22.0 │\n",
       "│ 1      ┆ Cumings, Mrs. John Bradley (Flor… ┆ 38.0 │\n",
       "│ 3      ┆ Heikkinen, Miss. Laina            ┆ 26.0 │\n",
       "└────────┴───────────────────────────────────┴──────┘"
      ]
     },
     "execution_count": 6,
     "metadata": {},
     "output_type": "execute_result"
    }
   ],
   "source": [
    "df[:3,[\"Pclass\",\"Name\",\"Age\"]]"
   ]
  },
  {
   "cell_type": "code",
   "execution_count": 10,
   "id": "ca1f2bcf",
   "metadata": {
    "slideshow": {
     "slide_type": "slide"
    }
   },
   "outputs": [
    {
     "data": {
      "text/html": [
       "<div><style>\n",
       ".dataframe > thead > tr > th,\n",
       ".dataframe > tbody > tr > td {\n",
       "  text-align: right;\n",
       "}\n",
       "</style>\n",
       "<small>shape: (4, 3)</small><table border=\"1\" class=\"dataframe\"><thead><tr><th>Pclass</th><th>Name</th><th>Age</th></tr><tr><td>i64</td><td>str</td><td>f64</td></tr></thead><tbody><tr><td>3</td><td>&quot;Braund, Mr. Ow…</td><td>22.0</td></tr><tr><td>1</td><td>&quot;Cumings, Mrs. …</td><td>38.0</td></tr><tr><td>3</td><td>&quot;Heikkinen, Mis…</td><td>26.0</td></tr><tr><td>1</td><td>&quot;Futrelle, Mrs.…</td><td>35.0</td></tr></tbody></table></div>"
      ],
      "text/plain": [
       "shape: (4, 3)\n",
       "┌────────┬───────────────────────────────────┬──────┐\n",
       "│ Pclass ┆ Name                              ┆ Age  │\n",
       "│ ---    ┆ ---                               ┆ ---  │\n",
       "│ i64    ┆ str                               ┆ f64  │\n",
       "╞════════╪═══════════════════════════════════╪══════╡\n",
       "│ 3      ┆ Braund, Mr. Owen Harris           ┆ 22.0 │\n",
       "│ 1      ┆ Cumings, Mrs. John Bradley (Flor… ┆ 38.0 │\n",
       "│ 3      ┆ Heikkinen, Miss. Laina            ┆ 26.0 │\n",
       "│ 1      ┆ Futrelle, Mrs. Jacques Heath (Li… ┆ 35.0 │\n",
       "└────────┴───────────────────────────────────┴──────┘"
      ]
     },
     "execution_count": 10,
     "metadata": {},
     "output_type": "execute_result"
    }
   ],
   "source": [
    "data = df.select([pl.col(\"Pclass\"),\n",
    "                  pl.col(\"Name\"),\n",
    "                  pl.col(\"Age\")])\n",
    "\n",
    "data.head(4)"
   ]
  },
  {
   "cell_type": "code",
   "execution_count": 11,
   "id": "c1822cec",
   "metadata": {},
   "outputs": [
    {
     "data": {
      "text/html": [
       "<div><style>\n",
       ".dataframe > thead > tr > th,\n",
       ".dataframe > tbody > tr > td {\n",
       "  text-align: right;\n",
       "}\n",
       "</style>\n",
       "<small>shape: (4, 3)</small><table border=\"1\" class=\"dataframe\"><thead><tr><th>Pclass</th><th>Name</th><th>Age</th></tr><tr><td>i64</td><td>str</td><td>f64</td></tr></thead><tbody><tr><td>3</td><td>&quot;braund, mr. ow…</td><td>22.0</td></tr><tr><td>1</td><td>&quot;cumings, mrs. …</td><td>38.0</td></tr><tr><td>3</td><td>&quot;heikkinen, mis…</td><td>26.0</td></tr><tr><td>1</td><td>&quot;futrelle, mrs.…</td><td>35.0</td></tr></tbody></table></div>"
      ],
      "text/plain": [
       "shape: (4, 3)\n",
       "┌────────┬───────────────────────────────────┬──────┐\n",
       "│ Pclass ┆ Name                              ┆ Age  │\n",
       "│ ---    ┆ ---                               ┆ ---  │\n",
       "│ i64    ┆ str                               ┆ f64  │\n",
       "╞════════╪═══════════════════════════════════╪══════╡\n",
       "│ 3      ┆ braund, mr. owen harris           ┆ 22.0 │\n",
       "│ 1      ┆ cumings, mrs. john bradley (flor… ┆ 38.0 │\n",
       "│ 3      ┆ heikkinen, miss. laina            ┆ 26.0 │\n",
       "│ 1      ┆ futrelle, mrs. jacques heath (li… ┆ 35.0 │\n",
       "└────────┴───────────────────────────────────┴──────┘"
      ]
     },
     "execution_count": 11,
     "metadata": {},
     "output_type": "execute_result"
    }
   ],
   "source": [
    "data = df.select([pl.col(\"Pclass\"),\n",
    "                  pl.col(\"Name\").str.to_lowercase(),\n",
    "                  pl.col(\"Age\").round(2)])\n",
    "\n",
    "data.head(4)"
   ]
  },
  {
   "cell_type": "markdown",
   "id": "7da3ae2f",
   "metadata": {},
   "source": [
    "# DataFrames and LazyFrames\n",
    "\n",
    "**Eager mode**: each line of code is run as soon as it is encountered.\n",
    "\n",
    "**Lazy mode**: each line is added to a query plan and the query plan is optimized."
   ]
  },
  {
   "cell_type": "code",
   "execution_count": 17,
   "id": "46615013",
   "metadata": {},
   "outputs": [
    {
     "data": {
      "text/plain": [
       "(polars.dataframe.frame.DataFrame, polars.lazyframe.frame.LazyFrame)"
      ]
     },
     "execution_count": 17,
     "metadata": {},
     "output_type": "execute_result"
    }
   ],
   "source": [
    "csvFile = 'notebooks/data/titanic.csv'\n",
    "\n",
    "# DataFrames\n",
    "dfEager = pl.read_csv(csvFile)\n",
    "\n",
    "# LazyFrames\n",
    "dfLazy = pl.scan_csv(csvFile)\n",
    "\n",
    "# Check the type\n",
    "type(dfEager), type(dfLazy)"
   ]
  },
  {
   "cell_type": "code",
   "execution_count": 24,
   "id": "36854468",
   "metadata": {},
   "outputs": [
    {
     "data": {
      "text/html": [
       "<div><style>\n",
       ".dataframe > thead > tr > th,\n",
       ".dataframe > tbody > tr > td {\n",
       "  text-align: right;\n",
       "}\n",
       "</style>\n",
       "<small>shape: (4, 12)</small><table border=\"1\" class=\"dataframe\"><thead><tr><th>PassengerId</th><th>Survived</th><th>Pclass</th><th>Name</th><th>Sex</th><th>Age</th><th>SibSp</th><th>Parch</th><th>Ticket</th><th>Fare</th><th>Cabin</th><th>Embarked</th></tr><tr><td>i64</td><td>i64</td><td>i64</td><td>str</td><td>str</td><td>f64</td><td>i64</td><td>i64</td><td>str</td><td>f64</td><td>str</td><td>str</td></tr></thead><tbody><tr><td>1</td><td>0</td><td>3</td><td>&quot;Braund, Mr. Ow…</td><td>&quot;male&quot;</td><td>22.0</td><td>1</td><td>0</td><td>&quot;A/5 21171&quot;</td><td>7.25</td><td>null</td><td>&quot;S&quot;</td></tr><tr><td>2</td><td>1</td><td>1</td><td>&quot;Cumings, Mrs. …</td><td>&quot;female&quot;</td><td>38.0</td><td>1</td><td>0</td><td>&quot;PC 17599&quot;</td><td>71.2833</td><td>&quot;C85&quot;</td><td>&quot;C&quot;</td></tr><tr><td>3</td><td>1</td><td>3</td><td>&quot;Heikkinen, Mis…</td><td>&quot;female&quot;</td><td>26.0</td><td>0</td><td>0</td><td>&quot;STON/O2. 31012…</td><td>7.925</td><td>null</td><td>&quot;S&quot;</td></tr><tr><td>4</td><td>1</td><td>1</td><td>&quot;Futrelle, Mrs.…</td><td>&quot;female&quot;</td><td>35.0</td><td>1</td><td>0</td><td>&quot;113803&quot;</td><td>53.1</td><td>&quot;C123&quot;</td><td>&quot;S&quot;</td></tr></tbody></table></div>"
      ],
      "text/plain": [
       "shape: (4, 12)\n",
       "┌─────────────┬──────────┬────────┬───────────────────┬───┬───────────┬─────────┬───────┬──────────┐\n",
       "│ PassengerId ┆ Survived ┆ Pclass ┆ Name              ┆ … ┆ Ticket    ┆ Fare    ┆ Cabin ┆ Embarked │\n",
       "│ ---         ┆ ---      ┆ ---    ┆ ---               ┆   ┆ ---       ┆ ---     ┆ ---   ┆ ---      │\n",
       "│ i64         ┆ i64      ┆ i64    ┆ str               ┆   ┆ str       ┆ f64     ┆ str   ┆ str      │\n",
       "╞═════════════╪══════════╪════════╪═══════════════════╪═══╪═══════════╪═════════╪═══════╪══════════╡\n",
       "│ 1           ┆ 0        ┆ 3      ┆ Braund, Mr. Owen  ┆ … ┆ A/5 21171 ┆ 7.25    ┆ null  ┆ S        │\n",
       "│             ┆          ┆        ┆ Harris            ┆   ┆           ┆         ┆       ┆          │\n",
       "│ 2           ┆ 1        ┆ 1      ┆ Cumings, Mrs.     ┆ … ┆ PC 17599  ┆ 71.2833 ┆ C85   ┆ C        │\n",
       "│             ┆          ┆        ┆ John Bradley      ┆   ┆           ┆         ┆       ┆          │\n",
       "│             ┆          ┆        ┆ (Flor…            ┆   ┆           ┆         ┆       ┆          │\n",
       "│ 3           ┆ 1        ┆ 3      ┆ Heikkinen, Miss.  ┆ … ┆ STON/O2.  ┆ 7.925   ┆ null  ┆ S        │\n",
       "│             ┆          ┆        ┆ Laina             ┆   ┆ 3101282   ┆         ┆       ┆          │\n",
       "│ 4           ┆ 1        ┆ 1      ┆ Futrelle, Mrs.    ┆ … ┆ 113803    ┆ 53.1    ┆ C123  ┆ S        │\n",
       "│             ┆          ┆        ┆ Jacques Heath     ┆   ┆           ┆         ┆       ┆          │\n",
       "│             ┆          ┆        ┆ (Li…              ┆   ┆           ┆         ┆       ┆          │\n",
       "└─────────────┴──────────┴────────┴───────────────────┴───┴───────────┴─────────┴───────┴──────────┘"
      ]
     },
     "execution_count": 24,
     "metadata": {},
     "output_type": "execute_result"
    }
   ],
   "source": [
    "dfEager.head(4)"
   ]
  },
  {
   "cell_type": "code",
   "execution_count": 18,
   "id": "694827c4",
   "metadata": {},
   "outputs": [
    {
     "data": {
      "text/html": [
       "<i>naive plan: (run <b>LazyFrame.explain(optimized=True)</b> to see the optimized plan)</i>\n",
       "    <p></p>\n",
       "    <div>SLICE[offset: 0, len: 4]<p></p><p></p>    CSV SCAN notebooks/data/titanic.csv<p></p>    PROJECT */12 COLUMNS</div>"
      ],
      "text/plain": [
       "<polars.LazyFrame object at 0x7F9ADA54AA10>"
      ]
     },
     "execution_count": 18,
     "metadata": {},
     "output_type": "execute_result"
    }
   ],
   "source": [
    "dfLazy.head(4)"
   ]
  },
  {
   "cell_type": "code",
   "execution_count": 23,
   "id": "191624a3",
   "metadata": {},
   "outputs": [
    {
     "data": {
      "text/html": [
       "<i>naive plan: (run <b>LazyFrame.explain(optimized=True)</b> to see the optimized plan)</i>\n",
       "    <p></p>\n",
       "    <div>SLICE[offset: 0, len: 4]<p></p>  RENAME<p></p><p></p>      CSV SCAN notebooks/data/titanic.csv<p></p>      PROJECT */12 COLUMNS</div>"
      ],
      "text/plain": [
       "<polars.LazyFrame object at 0x7F9ADA11B640>"
      ]
     },
     "execution_count": 23,
     "metadata": {},
     "output_type": "execute_result"
    }
   ],
   "source": [
    "(\n",
    "    dfLazy.rename({\"PassengerId\":\"Id\"}) \n",
    "      .head(4)   \n",
    ")"
   ]
  },
  {
   "cell_type": "code",
   "execution_count": 26,
   "id": "14062e8b",
   "metadata": {},
   "outputs": [
    {
     "name": "stdout",
     "output_type": "stream",
     "text": [
      "RENAME\n",
      "\n",
      "    CSV SCAN notebooks/data/titanic.csv\n",
      "    PROJECT */12 COLUMNS\n"
     ]
    }
   ],
   "source": [
    "print(\n",
    "    pl.scan_csv(csvFile)\n",
    "    .rename({\"PassengerId\":\"Id\"})\n",
    "    .explain()\n",
    ")  "
   ]
  },
  {
   "cell_type": "code",
   "execution_count": 32,
   "id": "834110a6",
   "metadata": {},
   "outputs": [
    {
     "name": "stdout",
     "output_type": "stream",
     "text": [
      "SLICE[offset: 0, len: 2]\n",
      "\n",
      "    CSV SCAN notebooks/data/titanic.csv\n",
      "    PROJECT */12 COLUMNS\n",
      "    SELECTION: [([(col(\"Sex\")) == (Utf8(female))]) & ([(col(\"Fare\")) < (10.0)])]\n"
     ]
    }
   ],
   "source": [
    "print(\n",
    "    pl.scan_csv(csvFile)\n",
    "    .filter(pl.col('Fare') < 10)\n",
    "    .filter(pl.col('Sex') == 'female')\n",
    "    .head(2)\n",
    "    .explain()\n",
    ")"
   ]
  },
  {
   "cell_type": "code",
   "execution_count": 42,
   "id": "b30c77f1",
   "metadata": {},
   "outputs": [
    {
     "name": "stdout",
     "output_type": "stream",
     "text": [
      "SLICE[offset: 0, len: 2]\n",
      "  FILTER [(col(\"Sex\")) == (Utf8(female))] FROM\n",
      "  FILTER [(col(\"Fare\")) < (10)] FROM\n",
      "\n",
      "    CSV SCAN notebooks/data/titanic.csv\n",
      "    PROJECT */12 COLUMNS\n"
     ]
    }
   ],
   "source": [
    "print(\n",
    "    pl.scan_csv(csvFile)\n",
    "    .filter(pl.col('Fare') < 10)\n",
    "    .filter(pl.col('Sex') == 'female')\n",
    "    .head(2)\n",
    "    .explain(optimized=False)\n",
    ")"
   ]
  },
  {
   "cell_type": "code",
   "execution_count": 43,
   "id": "3c2e4c7f",
   "metadata": {},
   "outputs": [
    {
     "name": "stdout",
     "output_type": "stream",
     "text": [
      "SLICE[offset: 0, len: 2]\n",
      "\n",
      "    CSV SCAN notebooks/data/titanic.csv\n",
      "    PROJECT */12 COLUMNS\n",
      "    SELECTION: [([(col(\"Sex\")) == (Utf8(female))]) & ([(col(\"Fare\")) < (10.0)])]\n"
     ]
    }
   ],
   "source": [
    "print(\n",
    "    pl.scan_csv(csvFile)\n",
    "    .filter(pl.col('Fare') < 10)\n",
    "    .filter(pl.col('Sex') == 'female')\n",
    "    .head(2)\n",
    "    .explain(optimized=True)\n",
    ")"
   ]
  },
  {
   "cell_type": "code",
   "execution_count": null,
   "id": "8fd33487",
   "metadata": {},
   "outputs": [],
   "source": []
  }
 ],
 "metadata": {
  "celltoolbar": "Slideshow",
  "kernelspec": {
   "display_name": "Python 3 (ipykernel)",
   "language": "python",
   "name": "python3"
  },
  "language_info": {
   "codemirror_mode": {
    "name": "ipython",
    "version": 3
   },
   "file_extension": ".py",
   "mimetype": "text/x-python",
   "name": "python",
   "nbconvert_exporter": "python",
   "pygments_lexer": "ipython3",
   "version": "3.10.9"
  }
 },
 "nbformat": 4,
 "nbformat_minor": 5
}
