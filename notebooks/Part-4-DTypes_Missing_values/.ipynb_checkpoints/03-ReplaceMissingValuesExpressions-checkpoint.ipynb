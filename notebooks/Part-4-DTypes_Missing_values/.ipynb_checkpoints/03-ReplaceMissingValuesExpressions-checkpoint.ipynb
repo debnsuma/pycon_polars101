{
 "cells": [
  {
   "cell_type": "markdown",
   "id": "37402c9b-9b3b-42ee-b99e-a4486562f068",
   "metadata": {},
   "source": [
    "## Replacing missing values with expressions\n",
    "By the end of this section, you will learn:\n",
    "- replace missing values with an expression on the same column\n",
    "- replace missing values based on other columns\n",
    "- replace missing values based on a condition\n",
    "- replace missing values with interpolation"
   ]
  },
  {
   "cell_type": "code",
   "execution_count": 2,
   "id": "c6eeec38-daf3-4680-b36d-9ad03c782454",
   "metadata": {},
   "outputs": [],
   "source": [
    "import polars as pl"
   ]
  },
  {
   "cell_type": "markdown",
   "id": "1e4169d3-e0bd-4ac0-a07b-36eadb5ae19a",
   "metadata": {},
   "source": [
    "We create a simple `DataFrame` for this lecture"
   ]
  },
  {
   "cell_type": "code",
   "execution_count": null,
   "id": "e26a300f-5120-4a2d-81a1-645a9655a421",
   "metadata": {},
   "outputs": [],
   "source": [
    "df = pl.DataFrame(\n",
    "    {\n",
    "        'col1':[0,None,2,3],\n",
    "        \"col2\":[0,None,None,3],\n",
    "        \"col3\":[4,5,6,7]\n",
    "    }\n",
    ")\n",
    "df"
   ]
  },
  {
   "cell_type": "markdown",
   "id": "a0d95795-5aa4-46b1-9b61-1365afcee496",
   "metadata": {},
   "source": [
    "## Replace missing values with an expression\n",
    "We are not limited to the built-in strategies as we can also use expressions to replace missing values.\n",
    "\n",
    "### Using an expression from the same column\n",
    "For example we can replace the missing values with the median of the non-`null` values for that column"
   ]
  },
  {
   "cell_type": "code",
   "execution_count": null,
   "id": "88df4edf-1854-4474-b1c9-79d9c7ba4aab",
   "metadata": {},
   "outputs": [],
   "source": [
    "(\n",
    "    df\n",
    "    .with_columns(\n",
    "        pl.col(\"col1\").fill_null(pl.median(\"col1\")).suffix(\"_new\"),\n",
    "    )\n",
    ")\n"
   ]
  },
  {
   "cell_type": "markdown",
   "id": "7aaeb8fe-b90e-4723-a6a0-9d3411546efa",
   "metadata": {},
   "source": [
    "### Using an expression from a different column\n",
    "\n",
    "We can also replace missing values with the values from another column"
   ]
  },
  {
   "cell_type": "code",
   "execution_count": null,
   "id": "d032d2a0-3185-402f-b146-576ce599eebc",
   "metadata": {},
   "outputs": [],
   "source": [
    "(\n",
    "    df\n",
    "    .with_columns(\n",
    "        pl.col(\"col2\").fill_null(pl.col(\"col3\")).suffix(\"_new\"),\n",
    "    )\n",
    ")\n"
   ]
  },
  {
   "cell_type": "markdown",
   "id": "86efccb6-f93c-44db-9292-f0180678ec46",
   "metadata": {},
   "source": [
    "## Replace missing values based on a condition\n",
    "We can replace missing values based on a condition on other columns using `pl.when.then.otherwise`.\n",
    "\n",
    "In this example we replace missing values in `col2` with `col1` as long as `col1` is not null. Otherwise we use `col3`"
   ]
  },
  {
   "cell_type": "code",
   "execution_count": null,
   "id": "4ba40908-7ed3-46bf-856e-b91ae49cc2e5",
   "metadata": {},
   "outputs": [],
   "source": [
    "(\n",
    "    df\n",
    "    .with_columns(\n",
    "        pl.when(\n",
    "            pl.col(\"col1\").is_not_null()\n",
    "        )\n",
    "        .then(\n",
    "            pl.col(\"col2\").fill_null(pl.col(\"col1\"))\n",
    "        )\n",
    "        .otherwise(\n",
    "            pl.col(\"col2\").fill_null(pl.col(\"col3\"))\n",
    "        )   \n",
    "        .suffix(\"_new\"),\n",
    "    )\n",
    ")\n"
   ]
  },
  {
   "cell_type": "markdown",
   "id": "6da0a216-405f-4e0d-b5a3-1b9a2cdf4cb1",
   "metadata": {},
   "source": [
    "## Interpolation\n",
    "We can replace missing values with linear interpolation"
   ]
  },
  {
   "cell_type": "code",
   "execution_count": null,
   "id": "2e069c09-9ed0-4a08-8baa-ff15c20ed000",
   "metadata": {},
   "outputs": [],
   "source": [
    "(\n",
    "    df\n",
    "    .with_columns(\n",
    "        pl.all().interpolate().suffix(\"_new\"),\n",
    "    )\n",
    ")"
   ]
  },
  {
   "cell_type": "markdown",
   "id": "b05aeaad-e9f9-4225-8765-0ffc98b5bb62",
   "metadata": {},
   "source": [
    "## Replacing missing values based on a sequence of columns\n",
    "We can replace missing values based on a sequence of columns with `coalesce`.\n",
    "\n",
    "In this example we have 3 columns `a`,`b` and `c`"
   ]
  },
  {
   "cell_type": "code",
   "execution_count": null,
   "id": "369b3e39-2133-4b38-91a7-87b2fc7c7fa9",
   "metadata": {},
   "outputs": [],
   "source": [
    "dfCoalesce = pl.DataFrame(\n",
    "    data=[\n",
    "        (None, 1.0, 1.0),\n",
    "        (None, 2.0, 2.0),\n",
    "        (None, None, 3.0),\n",
    "        (None, None, None),\n",
    "    ],\n",
    "    schema=[(\"a\", pl.Float64), (\"b\", pl.Float64), (\"c\", pl.Float64)],\n",
    ")\n",
    "dfCoalesce"
   ]
  },
  {
   "cell_type": "markdown",
   "id": "d8941034-d667-4b5f-bddc-3fb367ce6728",
   "metadata": {},
   "source": [
    "We want to create a new column that has the first non-`null` value as we go through these columns in order. \n",
    "\n",
    "We do this with `pl.coalesce` where we can also specify a fill value if all of the columns are `null`"
   ]
  },
  {
   "cell_type": "code",
   "execution_count": null,
   "id": "1edf69e7-a5a5-4c8c-9e07-1a423bb6cafe",
   "metadata": {},
   "outputs": [],
   "source": [
    "(\n",
    "    dfCoalesce\n",
    "    .with_columns(\n",
    "        pl.coalesce([\"a\", \"b\", \"c\", 9.0]).alias(\"d\")\n",
    "    )\n",
    ")"
   ]
  },
  {
   "cell_type": "markdown",
   "id": "32a40ac6-32f2-4585-9c97-c3a7ae7d9c9d",
   "metadata": {},
   "source": [
    "## Exercises\n",
    "In the exercises you will develop your understanding of:\n",
    "- replacing missing values with an expression\n",
    "- replacing missing values with interpolation\n",
    "- replacing missing values with `coalesce`"
   ]
  },
  {
   "cell_type": "markdown",
   "id": "c7d1f974-96f1-4633-8f3f-adbf3f3694c6",
   "metadata": {},
   "source": [
    "### Exercise 1\n",
    "Replace `null` values in the `Age` column to have the `median` of the `Age` column"
   ]
  },
  {
   "cell_type": "code",
   "execution_count": null,
   "id": "aadfe1d3-e150-4196-90c0-6e337dee98d6",
   "metadata": {},
   "outputs": [],
   "source": [
    "csvFile = \"../data/titanic.csv\"\n",
    "(\n",
    "    pl.read_csv(csvFile)\n",
    "   <blank>\n",
    ")"
   ]
  },
  {
   "cell_type": "markdown",
   "id": "1dc96514-1758-486e-9398-d6f4ec636ae8",
   "metadata": {},
   "source": [
    "Replace `null` values in the `Age` column to have the `median` of the `Age` column **based on whether the passenger is `male` or `female` in the `Sex` column**.\n",
    "\n",
    "Expand the following cell if you want a hint"
   ]
  },
  {
   "cell_type": "code",
   "execution_count": null,
   "id": "6976abd3-8373-4670-be0f-328658bfe49e",
   "metadata": {
    "jupyter": {
     "source_hidden": true
    },
    "tags": []
   },
   "outputs": [],
   "source": [
    "#Hint: in each fill_null call you need to apply a filter to the `Sex` column before you can call median"
   ]
  },
  {
   "cell_type": "code",
   "execution_count": null,
   "id": "a5b61880-2c86-4eef-acc6-172acf5b4912",
   "metadata": {},
   "outputs": [],
   "source": [
    "csvFile = \"../data/titanic.csv\"\n",
    "(\n",
    "    pl.read_csv(csvFile)\n",
    "    .with_columns(\n",
    "        <blank>\n",
    "        .alias(\"Age_filled\")\n",
    "    )\n",
    "    .select([\"Sex\",\"Age\",\"Age_filled\"])\n",
    "    .filter(pl.col(\"Age\").is_null())\n",
    "    .head()\n",
    ")"
   ]
  },
  {
   "cell_type": "markdown",
   "id": "b5865d7c-4479-4f20-af32-baf78d6d06d5",
   "metadata": {},
   "source": [
    "### Exercise 2\n",
    "We have the following `DataFrame` with 3 columns"
   ]
  },
  {
   "cell_type": "code",
   "execution_count": null,
   "id": "00512f96-6466-4f5c-98f1-4cf81d96abda",
   "metadata": {},
   "outputs": [],
   "source": [
    "df = pl.DataFrame(\n",
    "    {\n",
    "        \"a\":[10,None,22,1],\n",
    "        \"b\":[8,12,19,None],        \n",
    "        \"c\":[5,None,19,None],\n",
    "    }\n",
    ")"
   ]
  },
  {
   "cell_type": "markdown",
   "id": "675245fa-0030-4ed3-8e69-29c8f18f9b99",
   "metadata": {},
   "source": [
    "Add a new column with values from column `c`. If `c` is `null` then use the value from column `b` and if `b` is also `null` use the value from column `a`"
   ]
  },
  {
   "cell_type": "code",
   "execution_count": null,
   "id": "e9d82523-8f6a-489d-8733-7e1c4f61a0c2",
   "metadata": {},
   "outputs": [],
   "source": [
    "(\n",
    "    df\n",
    "    <blank>\n",
    ")"
   ]
  },
  {
   "cell_type": "markdown",
   "id": "6aedabb7-d2ea-4265-b3a9-2c141f363929",
   "metadata": {},
   "source": [
    "## Solutions\n",
    "\n",
    "### Solution to Exercise 1\n",
    "Replace `null` values in the `Age` column to have the `median` of the `Age` column"
   ]
  },
  {
   "cell_type": "code",
   "execution_count": null,
   "id": "98f1df41-8194-441a-a9fd-1bac7a9685c7",
   "metadata": {
    "jupyter": {
     "source_hidden": true
    },
    "tags": []
   },
   "outputs": [],
   "source": [
    "csvFile = \"../data/titanic.csv\"\n",
    "(\n",
    "    pl.read_csv(csvFile)\n",
    "    .with_columns(\n",
    "        pl.col(\"Age\").fill_null(pl.col(\"Age\").median())\n",
    "    )\n",
    "    .head(10)\n",
    ")"
   ]
  },
  {
   "cell_type": "markdown",
   "id": "c38975d3-2694-445d-ab00-9652a1fe4623",
   "metadata": {},
   "source": [
    "Replace `null` values in the `Age` column to have the `median` of the `Age` column **based on whether the passenger is `male` or `female` in the `Sex` column**.\n",
    "\n",
    "Expand the following cell if you want a hint"
   ]
  },
  {
   "cell_type": "code",
   "execution_count": null,
   "id": "7ed60514-fd4c-4301-bda7-1934b0b23dcb",
   "metadata": {
    "jupyter": {
     "source_hidden": true
    },
    "tags": []
   },
   "outputs": [],
   "source": [
    "#Hint: in each fill_null call you need to apply a filter to the `Sex` column before you can call median"
   ]
  },
  {
   "cell_type": "code",
   "execution_count": 3,
   "id": "7ed92d9c-f141-44c7-a108-9cc265f4052b",
   "metadata": {
    "jupyter": {
     "source_hidden": true
    },
    "tags": []
   },
   "outputs": [
    {
     "data": {
      "text/html": [
       "<div>\n",
       "<style scoped>\n",
       "    .dataframe tbody tr th:only-of-type {\n",
       "        vertical-align: middle;\n",
       "    }\n",
       "\n",
       "    .dataframe tbody tr th {\n",
       "        vertical-align: top;\n",
       "    }\n",
       "\n",
       "    .dataframe thead th {\n",
       "        text-align: right;\n",
       "    }\n",
       "\n",
       "    .dataframe td {\n",
       "        white-space: pre;\n",
       "    }\n",
       "\n",
       "    .dataframe td {\n",
       "        padding-top: 0;\n",
       "    }\n",
       "\n",
       "    .dataframe td {\n",
       "        padding-bottom: 0;\n",
       "    }\n",
       "\n",
       "    .dataframe td {\n",
       "        line-height: 95%;\n",
       "    }\n",
       "</style>\n",
       "<table border=\"1\" class=\"dataframe\" >\n",
       "<small>shape: (5, 3)</small>\n",
       "<thead>\n",
       "<tr>\n",
       "<th>\n",
       "Sex\n",
       "</th>\n",
       "<th>\n",
       "Age\n",
       "</th>\n",
       "<th>\n",
       "Age_filled\n",
       "</th>\n",
       "</tr>\n",
       "<tr>\n",
       "<td>\n",
       "str\n",
       "</td>\n",
       "<td>\n",
       "f64\n",
       "</td>\n",
       "<td>\n",
       "f64\n",
       "</td>\n",
       "</tr>\n",
       "</thead>\n",
       "<tbody>\n",
       "<tr>\n",
       "<td>\n",
       "&quot;male&quot;\n",
       "</td>\n",
       "<td>\n",
       "null\n",
       "</td>\n",
       "<td>\n",
       "29.0\n",
       "</td>\n",
       "</tr>\n",
       "<tr>\n",
       "<td>\n",
       "&quot;male&quot;\n",
       "</td>\n",
       "<td>\n",
       "null\n",
       "</td>\n",
       "<td>\n",
       "29.0\n",
       "</td>\n",
       "</tr>\n",
       "<tr>\n",
       "<td>\n",
       "&quot;female&quot;\n",
       "</td>\n",
       "<td>\n",
       "null\n",
       "</td>\n",
       "<td>\n",
       "27.0\n",
       "</td>\n",
       "</tr>\n",
       "<tr>\n",
       "<td>\n",
       "&quot;male&quot;\n",
       "</td>\n",
       "<td>\n",
       "null\n",
       "</td>\n",
       "<td>\n",
       "29.0\n",
       "</td>\n",
       "</tr>\n",
       "<tr>\n",
       "<td>\n",
       "&quot;female&quot;\n",
       "</td>\n",
       "<td>\n",
       "null\n",
       "</td>\n",
       "<td>\n",
       "27.0\n",
       "</td>\n",
       "</tr>\n",
       "</tbody>\n",
       "</table>\n",
       "</div>"
      ],
      "text/plain": [
       "shape: (5, 3)\n",
       "┌────────┬──────┬────────────┐\n",
       "│ Sex    ┆ Age  ┆ Age_filled │\n",
       "│ ---    ┆ ---  ┆ ---        │\n",
       "│ str    ┆ f64  ┆ f64        │\n",
       "╞════════╪══════╪════════════╡\n",
       "│ male   ┆ null ┆ 29.0       │\n",
       "├╌╌╌╌╌╌╌╌┼╌╌╌╌╌╌┼╌╌╌╌╌╌╌╌╌╌╌╌┤\n",
       "│ male   ┆ null ┆ 29.0       │\n",
       "├╌╌╌╌╌╌╌╌┼╌╌╌╌╌╌┼╌╌╌╌╌╌╌╌╌╌╌╌┤\n",
       "│ female ┆ null ┆ 27.0       │\n",
       "├╌╌╌╌╌╌╌╌┼╌╌╌╌╌╌┼╌╌╌╌╌╌╌╌╌╌╌╌┤\n",
       "│ male   ┆ null ┆ 29.0       │\n",
       "├╌╌╌╌╌╌╌╌┼╌╌╌╌╌╌┼╌╌╌╌╌╌╌╌╌╌╌╌┤\n",
       "│ female ┆ null ┆ 27.0       │\n",
       "└────────┴──────┴────────────┘"
      ]
     },
     "execution_count": 3,
     "metadata": {},
     "output_type": "execute_result"
    }
   ],
   "source": [
    "csvFile = \"../data/titanic.csv\"\n",
    "(\n",
    "    pl.read_csv(csvFile)\n",
    "    .with_columns(\n",
    "        pl.when(\n",
    "            pl.col(\"Sex\") == \"female\"\n",
    "        )\n",
    "        .then(\n",
    "            pl.col(\"Age\").fill_null(pl.col(\"Age\").filter(pl.col(\"Sex\") == \"female\").median())\n",
    "        )\n",
    "        .otherwise(\n",
    "            pl.col(\"Age\").fill_null(pl.col(\"Age\").filter(pl.col(\"Sex\") == \"male\").median())\n",
    "        )\n",
    "        .alias(\"Age_filled\")\n",
    "    )\n",
    "    .select([\"Sex\",\"Age\",\"Age_filled\"])\n",
    "    .filter(pl.col(\"Age\").is_null())\n",
    "    .head()\n",
    ")"
   ]
  },
  {
   "cell_type": "markdown",
   "id": "9c661c26-3a05-421f-890f-6f786b27eae0",
   "metadata": {},
   "source": [
    "### Solution to Exercise 2\n",
    "We have the following `DataFrame` with 3 columns"
   ]
  },
  {
   "cell_type": "code",
   "execution_count": 4,
   "id": "0b38d34b-1989-493b-9fef-0357975850f7",
   "metadata": {
    "tags": []
   },
   "outputs": [],
   "source": [
    "df = pl.DataFrame(\n",
    "    {\n",
    "        \"a\":[10,None,22,1],\n",
    "        \"b\":[8,12,19,None],        \n",
    "        \"c\":[5,None,19,None],\n",
    "    }\n",
    ")"
   ]
  },
  {
   "cell_type": "markdown",
   "id": "9686128e-7ca4-42fe-8335-d901c9648e35",
   "metadata": {},
   "source": [
    "Add a new column with values from column `c`. If `c` is `null` then use the value from column `b` and if `b` is also `null` use the value from column `a`"
   ]
  },
  {
   "cell_type": "code",
   "execution_count": 5,
   "id": "3572747f-b6fd-4f8e-862b-320efb68ad52",
   "metadata": {
    "tags": []
   },
   "outputs": [
    {
     "data": {
      "text/html": [
       "<div>\n",
       "<style scoped>\n",
       "    .dataframe tbody tr th:only-of-type {\n",
       "        vertical-align: middle;\n",
       "    }\n",
       "\n",
       "    .dataframe tbody tr th {\n",
       "        vertical-align: top;\n",
       "    }\n",
       "\n",
       "    .dataframe thead th {\n",
       "        text-align: right;\n",
       "    }\n",
       "\n",
       "    .dataframe td {\n",
       "        white-space: pre;\n",
       "    }\n",
       "\n",
       "    .dataframe td {\n",
       "        padding-top: 0;\n",
       "    }\n",
       "\n",
       "    .dataframe td {\n",
       "        padding-bottom: 0;\n",
       "    }\n",
       "\n",
       "    .dataframe td {\n",
       "        line-height: 95%;\n",
       "    }\n",
       "</style>\n",
       "<table border=\"1\" class=\"dataframe\" >\n",
       "<small>shape: (4, 4)</small>\n",
       "<thead>\n",
       "<tr>\n",
       "<th>\n",
       "a\n",
       "</th>\n",
       "<th>\n",
       "b\n",
       "</th>\n",
       "<th>\n",
       "c\n",
       "</th>\n",
       "<th>\n",
       "d\n",
       "</th>\n",
       "</tr>\n",
       "<tr>\n",
       "<td>\n",
       "i64\n",
       "</td>\n",
       "<td>\n",
       "i64\n",
       "</td>\n",
       "<td>\n",
       "i64\n",
       "</td>\n",
       "<td>\n",
       "i64\n",
       "</td>\n",
       "</tr>\n",
       "</thead>\n",
       "<tbody>\n",
       "<tr>\n",
       "<td>\n",
       "10\n",
       "</td>\n",
       "<td>\n",
       "8\n",
       "</td>\n",
       "<td>\n",
       "5\n",
       "</td>\n",
       "<td>\n",
       "5\n",
       "</td>\n",
       "</tr>\n",
       "<tr>\n",
       "<td>\n",
       "null\n",
       "</td>\n",
       "<td>\n",
       "12\n",
       "</td>\n",
       "<td>\n",
       "null\n",
       "</td>\n",
       "<td>\n",
       "12\n",
       "</td>\n",
       "</tr>\n",
       "<tr>\n",
       "<td>\n",
       "22\n",
       "</td>\n",
       "<td>\n",
       "19\n",
       "</td>\n",
       "<td>\n",
       "19\n",
       "</td>\n",
       "<td>\n",
       "19\n",
       "</td>\n",
       "</tr>\n",
       "<tr>\n",
       "<td>\n",
       "1\n",
       "</td>\n",
       "<td>\n",
       "null\n",
       "</td>\n",
       "<td>\n",
       "null\n",
       "</td>\n",
       "<td>\n",
       "1\n",
       "</td>\n",
       "</tr>\n",
       "</tbody>\n",
       "</table>\n",
       "</div>"
      ],
      "text/plain": [
       "shape: (4, 4)\n",
       "┌──────┬──────┬──────┬─────┐\n",
       "│ a    ┆ b    ┆ c    ┆ d   │\n",
       "│ ---  ┆ ---  ┆ ---  ┆ --- │\n",
       "│ i64  ┆ i64  ┆ i64  ┆ i64 │\n",
       "╞══════╪══════╪══════╪═════╡\n",
       "│ 10   ┆ 8    ┆ 5    ┆ 5   │\n",
       "├╌╌╌╌╌╌┼╌╌╌╌╌╌┼╌╌╌╌╌╌┼╌╌╌╌╌┤\n",
       "│ null ┆ 12   ┆ null ┆ 12  │\n",
       "├╌╌╌╌╌╌┼╌╌╌╌╌╌┼╌╌╌╌╌╌┼╌╌╌╌╌┤\n",
       "│ 22   ┆ 19   ┆ 19   ┆ 19  │\n",
       "├╌╌╌╌╌╌┼╌╌╌╌╌╌┼╌╌╌╌╌╌┼╌╌╌╌╌┤\n",
       "│ 1    ┆ null ┆ null ┆ 1   │\n",
       "└──────┴──────┴──────┴─────┘"
      ]
     },
     "execution_count": 5,
     "metadata": {},
     "output_type": "execute_result"
    }
   ],
   "source": [
    "(\n",
    "    df\n",
    "    .with_columns(\n",
    "        pl.coalesce([\"c\",\"b\",\"a\"]).alias(\"d\")\n",
    "    )\n",
    ")"
   ]
  },
  {
   "cell_type": "code",
   "execution_count": null,
   "id": "3e991c83-c8ad-4eb8-b067-452c0b812af0",
   "metadata": {},
   "outputs": [],
   "source": []
  }
 ],
 "metadata": {
  "kernelspec": {
   "display_name": "Python 3 (ipykernel)",
   "language": "python",
   "name": "python3"
  },
  "language_info": {
   "codemirror_mode": {
    "name": "ipython",
    "version": 3
   },
   "file_extension": ".py",
   "mimetype": "text/x-python",
   "name": "python",
   "nbconvert_exporter": "python",
   "pygments_lexer": "ipython3",
   "version": "3.10.9"
  }
 },
 "nbformat": 4,
 "nbformat_minor": 5
}
