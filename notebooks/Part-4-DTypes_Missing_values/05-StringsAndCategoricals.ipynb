{
    "cells": [
        {
            "cell_type": "markdown",
            "id": "4a90af8d-3a3a-4ac8-9ce1-a021435b1fe4",
            "metadata": {},
            "source": [
                "## String and categorical dtypes\n",
                "By the end of this lecture you will be able to:\n",
                "- convert from string to categorical dtype\n",
                "- get the integer mapping values\n",
                "- sort categorical data\n",
                "\n",
                "When we have a string column with repeated values it is often faster and less memory intensive to cast the strings to the `pl.Categorical` dtype. The categorical dtype works in some surprising ways, however. In this lecture we go through the fundamentals of how Polars works with the categorical dtype. "
            ]
        },
        {
            "cell_type": "code",
            "execution_count": null,
            "id": "a1ff26da-d88d-4130-a7b5-9213701473d3",
            "metadata": {},
            "outputs": [],
            "source": [
                "import polars as pl"
            ]
        },
        {
            "cell_type": "markdown",
            "id": "ebdf2107-2718-4546-b7b6-d845618193d5",
            "metadata": {},
            "source": [
                "We create a `DataFrame` with a string column to illustrate how string data is stored in memory"
            ]
        },
        {
            "cell_type": "code",
            "execution_count": null,
            "id": "b72a21d3-9147-4ad7-8003-ece51d8e4bc5",
            "metadata": {},
            "outputs": [],
            "source": [
                "df = pl.DataFrame(\n",
                "    {\n",
                "        \"text\":[\"cat\",\"dog\",\"rabbit\",\"cat\"]\n",
                "    }\n",
                ")"
            ]
        },
        {
            "cell_type": "markdown",
            "id": "7c958a67-d56e-4df3-b2c1-56e032f08066",
            "metadata": {},
            "source": [
                "## String data in memory\n",
                "In memory Polars - or really Apache Arrow - stores the strings in a column.\n",
                "\n",
                "The array `[\"cat\", \"dog\", \"rabbit\"]` is stored as:\n",
                "\n",
                "- a concatenated string \"catdograbbit\"\n",
                "- an offset array with the start (and end) of each string [0, 2, 5, 11]\n",
                "\n",
                "> In Pandas a string column is not a concatenated string. Instead the column is a set of pointers to generic python objects that could be of any type. The actual strings are stored in different places in memory. This representation makes string operations slow in Pandas.\n",
                "\n",
                "### Advantages of the Arrow string format\n",
                "- Fast string search and transformation operations \n",
                "\n",
                "### Disadvantages of the Arrow string format\n",
                "- Slow to re-order. For example when doing a `sort` all the data must be moved around (not just pointers to data).\n",
                "- Repeated string values are stored each time they occur\n",
                "\n",
                "These disadvantages have implications for operations other than just `sort`. For example a `join` might involve a `sort` internally.\n",
                "\n",
                "## Categorical dtype\n",
                "The `pl.Categorical` dtype is useful when you have a string column with repeated values.\n",
                "\n",
                "The `pl.Categorical` dtype replaces the strings with a unique mapping from each string to an integer.\n",
                "\n",
                "We convert from string to categorical with `cast`. We modify our original `DataFrame` to have a repeated value"
            ]
        },
        {
            "cell_type": "code",
            "execution_count": null,
            "id": "fbb1e8d1-c0bb-45b8-bfd0-35631deaf7bb",
            "metadata": {},
            "outputs": [],
            "source": [
                "df = (\n",
                "    pl.DataFrame(\n",
                "        {\n",
                "            \"text\":[\"cat\",\"dog\",\"rabbit\",\"cat\"]\n",
                "        }\n",
                "    )\n",
                ")\n",
                "(\n",
                "    df\n",
                "    .with_columns(\n",
                "        pl.col(\"text\").cast(pl.Categorical).alias(\"text_cat\")\n",
                "    )\n",
                ")"
            ]
        },
        {
            "cell_type": "markdown",
            "id": "eb71c848-570c-4918-8f9d-4bab185812de",
            "metadata": {},
            "source": [
                "There is no difference in the printed appearance of values in a `pl.Categorical` column.\n",
                "\n",
                "### Physical representation of categoricals\n",
                "\n",
                "In Polars the integer part of the categorical mapping is referred to as the **\"physical\"** representation.\n",
                "\n",
                "We can see the underlying integer values with the `to_physical` expression"
            ]
        },
        {
            "cell_type": "code",
            "execution_count": null,
            "id": "5b040731-5a57-4155-82ef-35f740bc899a",
            "metadata": {},
            "outputs": [],
            "source": [
                "df = pl.DataFrame({\"text\":[\"cat\",\"dog\",\"rabbit\",\"cat\"]})\n",
                "(\n",
                "    df\n",
                "    .with_columns(\n",
                "        pl.col(\"text\").cast(pl.Categorical).alias(\"text_cat\")\n",
                "    )\n",
                "    .with_columns(\n",
                "        pl.col(\"text_cat\").to_physical().alias(\"cat_physical\")\n",
                "    )\n",
                ")"
            ]
        },
        {
            "cell_type": "markdown",
            "id": "2824d8d8-88c5-4339-891a-d705b6e3e859",
            "metadata": {},
            "source": [
                "The dtype for the categorical encoding is `pl.UInt32` - unsigned 32-bit integers.\n",
                "\n",
                "Polars can accommodate over 4 billion unique string mappings with `pl.UInt32` integers.\n",
                "\n",
                "## Sorting categoricals\n",
                "\n",
                "As categoricals have both a `lexical` (string) representation and an integer representation there are two ways to sort a categorical column.\n",
                "\n",
                "To illustrate this we create a `DataFrame` with some string values in the first column. We add their postion in the `values` column to keep track of where they started"
            ]
        },
        {
            "cell_type": "code",
            "execution_count": null,
            "id": "35864dd7-2f51-45df-9205-3c0fb93ec498",
            "metadata": {},
            "outputs": [],
            "source": [
                "dfPhysical = (\n",
                "    pl.DataFrame(\n",
                "            {\"strings\": [\"c\",\"b\",\"a\",\"c\"], \"values\": [0, 1, 2, 3]}\n",
                "    )\n",
                "    .with_columns(\n",
                "        pl.col(\"strings\").cast(pl.Categorical).alias(\"cats\")\n",
                "    )\n",
                "    .with_columns(\n",
                "        pl.col(\"cats\").to_physical().alias(\"physical\")\n",
                "    )\n",
                ")\n",
                "dfPhysical"
            ]
        },
        {
            "cell_type": "markdown",
            "id": "2dd213bf-128d-4b6c-975f-1a6894b2bd38",
            "metadata": {},
            "source": [
                "If we sort this `DataFrame` on the `cats` column we see that the `\"c\"` values come first rather than `\"a\"`! \n",
                "\n",
                "**In Polars the default is for sorting categoricals by the `physical` representation and not the string representation**"
            ]
        },
        {
            "cell_type": "code",
            "execution_count": null,
            "id": "649ee56e-d108-4c26-a4c0-97ec0d7de1b6",
            "metadata": {},
            "outputs": [],
            "source": [
                "dfPhysical.sort(\"cats\")"
            ]
        },
        {
            "cell_type": "markdown",
            "id": "3f3a6c24-ac3b-43cc-834f-a50afefe2310",
            "metadata": {},
            "source": [
                "We can change the ordering convention to sort by the string lexical representation using the `cat.set_ordering` expression"
            ]
        },
        {
            "cell_type": "code",
            "execution_count": null,
            "id": "c65764f4-6af3-40d3-bc0f-f6cf1565a38a",
            "metadata": {},
            "outputs": [],
            "source": [
                "dfLexical = (\n",
                "    dfPhysical\n",
                "    .with_columns(\n",
                "            [\n",
                "                pl.col(\"cats\").cast(pl.Categorical).cat.set_ordering(\"lexical\"),\n",
                "            ]\n",
                "        )\n",
                "     )\n",
                "dfLexical.sort(\"cats\")"
            ]
        },
        {
            "cell_type": "markdown",
            "id": "5483fdb3-a6ed-47b8-a667-c49652a4dafa",
            "metadata": {},
            "source": [
                "### Why does Polars sort on the physical rather than the string representation?\n",
                "It may seem strange that Polars defaults to sorting categoricals by their physical representation. However, there are advantages to this. \n",
                "\n",
                "Polars has fast-track algorithms for sorted data including key operations such as `groupby` and `join`. Polars can use these fast-track algorithms if the physical representation is sorted. We see examples of this in later Sections."
            ]
        },
        {
            "cell_type": "markdown",
            "id": "483bb57b-a653-4e51-903d-2f058b7f00ee",
            "metadata": {},
            "source": [
                "## Operations on categoricals\n",
                "Arithmetic operations on categorical columns lead to a `null` - even when they work on string columns. \n",
                "\n",
                "You can see this behaviour in the following cell\n",
                "\n",
                "> Earlier versions of Polars gave an `Exception` if you try to do this operation - update your Polars version if you get an exception here"
            ]
        },
        {
            "cell_type": "code",
            "execution_count": null,
            "id": "9c95a2ee-419f-4849-bf9c-501e58645ea0",
            "metadata": {},
            "outputs": [],
            "source": [
                "(\n",
                "    dfLexical\n",
                "    .select(\n",
                "        pl.all().max()\n",
                "    )\n",
                ")"
            ]
        },
        {
            "cell_type": "markdown",
            "id": "3f4f4243-6e9d-4f37-bf4d-8599b0e06fbf",
            "metadata": {},
            "source": [
                "## Integers as categoricals?\n",
                "We might have an integer column that we consider to be a categorical column.\n",
                "\n",
                "For example we can consider the passenger class column in the Titanic dataset to be categorical"
            ]
        },
        {
            "cell_type": "code",
            "execution_count": null,
            "id": "5c3c4081-c959-4fa3-98a2-3a67708da95e",
            "metadata": {},
            "outputs": [],
            "source": [
                "csvFile = \"../data/titanic.csv\"\n",
                "pl.read_csv(csvFile,n_rows=2)"
            ]
        },
        {
            "cell_type": "markdown",
            "id": "0423ffee-35a7-4529-a582-80b9daf951d6",
            "metadata": {},
            "source": [
                "However, only a string column can be converted to `pl.Categorical` in Polars.\n",
                "\n",
                "If we want to cast an integer column to categorical we first cast it to string dtype"
            ]
        },
        {
            "cell_type": "code",
            "execution_count": null,
            "id": "03126240-7a2a-433e-8be2-53989bec030d",
            "metadata": {},
            "outputs": [],
            "source": [
                "(\n",
                "    pl.read_csv(csvFile,n_rows=2)\n",
                "    .select(\n",
                "        [\n",
                "            \"Pclass\",\n",
                "            pl.col(\"Pclass\").cast(pl.Utf8).cast(pl.Categorical).alias(\"cat\")\n",
                "        ]\n",
                "    )\n",
                ")"
            ]
        },
        {
            "cell_type": "markdown",
            "id": "3e84474d-bf46-48bc-90dc-3340a0c1311d",
            "metadata": {},
            "source": [
                "The physical representation may not match the original integer representation"
            ]
        },
        {
            "cell_type": "code",
            "execution_count": null,
            "id": "742d30a6-fa93-406b-a6cf-623cafe15b36",
            "metadata": {},
            "outputs": [],
            "source": [
                "(\n",
                "    pl.read_csv(csvFile,n_rows=2)\n",
                "    .select(\n",
                "        [\n",
                "            \"Pclass\",\n",
                "            pl.col(\"Pclass\").cast(pl.Utf8).cast(pl.Categorical).alias(\"cat\")\n",
                "        ]\n",
                "    )\n",
                "    .with_columns(\n",
                "            pl.col(\"cat\").to_physical().alias(\"physical\")\n",
                "    )\n",
                ")"
            ]
        },
        {
            "cell_type": "markdown",
            "id": "141a902e-f830-4f7c-a3d6-28dcc7275d7d",
            "metadata": {},
            "source": [
                "In the next lecture we learn more about the categoricals including:\n",
                "- filtering a categorical column\n",
                "- working with categoricals over multiple `DataFrames` or `Series`\n",
                "\n",
                "## Exercises\n",
                "\n",
                "In the exercises you will develop your understanding of:\n",
                "- casting a string column to categorical\n",
                "- accessing the physical values\n",
                "- sorting by a categorical column in alphabetical order\n",
                "\n",
                "### Exercise 1\n",
                "We have the following `DataFrame` of animals and their sizes"
            ]
        },
        {
            "cell_type": "code",
            "execution_count": null,
            "id": "00437a53-de1f-4cbf-b6eb-bb751a07e9bc",
            "metadata": {},
            "outputs": [],
            "source": [
                "dfAnimalSizes = (\n",
                "    pl.DataFrame(\n",
                "        {\n",
                "            \"animals\":[\"dog\",\"cat\",\"mouse\",\"giraffe\"],\n",
                "            \"size\": [\"medium\",\"medium\",\"small\",\"big\"]\n",
                "        }\n",
                "    )\n",
                ")\n"
            ]
        },
        {
            "cell_type": "markdown",
            "id": "df4ca760-6bdd-452e-b0d7-93fc3bbb9f67",
            "metadata": {},
            "source": [
                "Cast the `size` column to categorical and call it `size_cats`"
            ]
        },
        {
            "cell_type": "code",
            "execution_count": null,
            "id": "4f48d5b8-11e9-42cd-9389-be98a662e875",
            "metadata": {},
            "outputs": [],
            "source": [
                "dfAnimalSizes = (\n",
                "    pl.DataFrame(\n",
                "        {\n",
                "            \"animals\":[\"dog\",\"cat\",\"mouse\",\"giraffe\"],\n",
                "            \"size\": [\"medium\",\"medium\",\"small\",\"big\"]\n",
                "        }\n",
                "    )\n",
                "    <blank>\n",
                ")"
            ]
        },
        {
            "cell_type": "markdown",
            "id": "2940f9ba-0490-45cc-8054-5c742447572a",
            "metadata": {},
            "source": [
                "Add a column with the physical values of the categoricals"
            ]
        },
        {
            "cell_type": "code",
            "execution_count": null,
            "id": "15cd3bc6-80ff-42ee-b2b3-b72da9e4dfbc",
            "metadata": {},
            "outputs": [],
            "source": []
        },
        {
            "cell_type": "markdown",
            "id": "5de40973-41c9-45c2-b3bd-757a444bd3e1",
            "metadata": {},
            "source": [
                "Sort the `DataFrame` by `size_cats` in alphabetical order"
            ]
        },
        {
            "cell_type": "markdown",
            "id": "f6c0a3e5-4477-4c16-8bcf-2e912bd21996",
            "metadata": {},
            "source": [
                "## Solutions\n",
                "\n",
                "### Solution to Exercise 1 "
            ]
        },
        {
            "cell_type": "markdown",
            "id": "2a6c4d5d-1526-4a18-b30d-20fac86593d5",
            "metadata": {},
            "source": [
                "Cast the `size` column to categorical and call it `size_cats`"
            ]
        },
        {
            "cell_type": "code",
            "execution_count": null,
            "id": "6b11b559-0603-427c-82bd-4aca13862fc2",
            "metadata": {
                "jupyter": {
                    "source_hidden": true
                },
                "tags": []
            },
            "outputs": [],
            "source": [
                "dfAnimalSizes = (\n",
                "    pl.DataFrame(\n",
                "        {\n",
                "            \"animals\":[\"dog\",\"cat\",\"mouse\",\"giraffe\"],\n",
                "            \"size\": [\"medium\",\"medium\",\"small\",\"big\"]\n",
                "        }\n",
                "    )\n",
                "    .with_columns(\n",
                "        pl.col(\"size\").cast(pl.Categorical).alias(\"size_cats\")\n",
                "    )\n",
                ")\n",
                "dfAnimalSizes"
            ]
        },
        {
            "cell_type": "markdown",
            "id": "fe2e1fbe-f081-40f3-a588-fbe635c0f209",
            "metadata": {},
            "source": [
                "Add a column with the physical values of the categoricals"
            ]
        },
        {
            "cell_type": "code",
            "execution_count": null,
            "id": "2ee32bf8-c604-4b9a-9219-96d37d737862",
            "metadata": {
                "jupyter": {
                    "source_hidden": true
                },
                "tags": []
            },
            "outputs": [],
            "source": [
                "dfAnimalSizes = (\n",
                "    pl.DataFrame(\n",
                "        {\n",
                "            \"animals\":[\"dog\",\"cat\",\"mouse\",\"giraffe\"],\n",
                "            \"size\": [\"medium\",\"medium\",\"small\",\"big\"]\n",
                "        }\n",
                "    )\n",
                "    .with_columns(\n",
                "        pl.col(\"size\").cast(pl.Categorical).alias(\"size_cats\")\n",
                "    )\n",
                "    .with_columns(\n",
                "        pl.col(\"size_cats\").to_physical().alias(\"physical\"),\n",
                "    )\n",
                "    .sort(\"size_cats\")\n",
                ")\n",
                "dfAnimalSizes"
            ]
        },
        {
            "cell_type": "markdown",
            "id": "c0056a11-67c1-4194-b4ba-05e1fb0d0bae",
            "metadata": {},
            "source": [
                "Sort the `DataFrame` by `size_cats` in alphabetical order"
            ]
        },
        {
            "cell_type": "code",
            "execution_count": null,
            "id": "1468a8db-6236-422d-b01f-6f74054f3722",
            "metadata": {
                "jupyter": {
                    "source_hidden": true
                },
                "tags": []
            },
            "outputs": [],
            "source": [
                "dfAnimalSizes = (\n",
                "    pl.DataFrame(\n",
                "        {\n",
                "            \"animals\":[\"dog\",\"cat\",\"mouse\",\"giraffe\"],\n",
                "            \"size\": [\"medium\",\"medium\",\"small\",\"big\"]\n",
                "        }\n",
                "    )\n",
                "    .with_columns(\n",
                "        pl.col(\"size\").cast(pl.Categorical).alias(\"size_cats\")\n",
                "    )\n",
                "    .with_columns(\n",
                "        [\n",
                "        pl.col(\"size_cats\").to_physical().alias(\"physical\"),\n",
                "        pl.col(\"size_cats\").cat.set_ordering(\"lexical\")\n",
                "        ]\n",
                "    )\n",
                "    .sort(\"size_cats\")\n",
                ")\n",
                "dfAnimalSizes"
            ]
        }
    ],
    "metadata": {
        "kernelspec": {
            "display_name": "Python 3 (ipykernel)",
            "language": "python",
            "name": "python3"
        },
        "language_info": {
            "codemirror_mode": {
                "name": "ipython",
                "version": 3
            },
            "file_extension": ".py",
            "mimetype": "text/x-python",
            "name": "python",
            "nbconvert_exporter": "python",
            "pygments_lexer": "ipython3",
            "version": "3.10.1"
        }
    },
    "nbformat": 4,
    "nbformat_minor": 5
}