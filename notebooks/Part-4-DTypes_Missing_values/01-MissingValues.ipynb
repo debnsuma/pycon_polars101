{
 "cells": [
  {
   "cell_type": "markdown",
   "id": "84241041-15b1-4d83-871a-f0fc39a5150d",
   "metadata": {},
   "source": [
    "## Missing values\n",
    "By the end of this section we will learn how to:\n",
    "- identify missing values in a `DataFrame`\n",
    "- count the number of missing values in a column\n",
    "- filter for `null` or non-`null` values"
   ]
  },
  {
   "cell_type": "code",
   "execution_count": null,
   "id": "50da2ceb-72fb-400a-8ef5-982f231120c8",
   "metadata": {},
   "outputs": [],
   "source": [
    "import polars as pl"
   ]
  },
  {
   "cell_type": "code",
   "execution_count": null,
   "id": "d69c34ab-64e1-4537-b3cf-af0888ac6006",
   "metadata": {},
   "outputs": [],
   "source": [
    "csvFile = \"../data/titanic.csv\""
   ]
  },
  {
   "cell_type": "markdown",
   "id": "bfcae499-dc59-44c9-a6eb-9f2c9731303f",
   "metadata": {},
   "source": [
    "## Missing values in Polars\n",
    "Missing values in Polars are represented with a `null` value for all dtypes. We can create them manually with `None` value"
   ]
  },
  {
   "cell_type": "code",
   "execution_count": null,
   "id": "cbb109b9-3ace-469d-8d0f-1d79202d63b7",
   "metadata": {},
   "outputs": [],
   "source": [
    "df = pl.DataFrame(\n",
    "    {\n",
    "        'col1':[0,None,2],\n",
    "        'col2':[None,None,5],\n",
    "        'col3':[1,2,3]\n",
    "    }\n",
    ")\n",
    "df"
   ]
  },
  {
   "cell_type": "markdown",
   "id": "43142210-016e-45eb-8bd5-fde23fa1ad81",
   "metadata": {},
   "source": [
    "> In Pandas a missing value can be represented with a `null`,`NaN` or `None` value depending on the dtype of the column. Polars also allows `NaN` values for floating point columns as we will see. \n",
    "\n",
    "## Metadata on `null` values\n",
    "Polars stores metadata about `null` values for each column in a `DataFrame`.\n",
    "\n",
    "### Null count\n",
    "Polars stores a count of how many `null` values there are. We can access this with the `null_count` method on a single column or on all the columns"
   ]
  },
  {
   "cell_type": "code",
   "execution_count": null,
   "id": "a8534431-f5fd-4531-8b69-cb881dc9f112",
   "metadata": {},
   "outputs": [],
   "source": [
    "df.null_count()"
   ]
  },
  {
   "cell_type": "markdown",
   "id": "683d5580-1479-41b8-923d-74ac8ac3fea6",
   "metadata": {},
   "source": [
    "Polars keeps track of the `null_count` at all times so this is a cheap operation regardless of the size of the column.\n",
    "\n",
    "### Validity bitmap\n",
    "\n",
    "As well as storing the data for each column Polars stores a separate array that indicates if each value in that column has valid data or is `null`. This array is called the validity bitmap as the value is 1 when valid data is present in that position and 0 when it is not.\n",
    "\n",
    "If there are no `null` values in a column the validity bitmap is not present. We can check if the validity bitmap is present with `has_validity`"
   ]
  },
  {
   "cell_type": "code",
   "execution_count": null,
   "id": "8965a938-9da7-4b42-8011-e0f804241c1d",
   "metadata": {},
   "outputs": [],
   "source": [
    "df[\"col1\"].has_validity()"
   ]
  },
  {
   "cell_type": "code",
   "execution_count": null,
   "id": "fc0c840f-be16-4d3e-a791-e264c60e5f93",
   "metadata": {},
   "outputs": [],
   "source": [
    "df[\"col3\"].has_validity()"
   ]
  },
  {
   "cell_type": "markdown",
   "id": "8c2f5d9a-5d25-4d24-bc9c-d5ab25975951",
   "metadata": {},
   "source": [
    "So `col1` does have `null` values and `col3` doesnt.\n",
    "\n",
    "Using `has_validity` is the fastest way to check if a column or `Series` has any `null` values.\n",
    "\n",
    "## Finding `null` values\n",
    "\n",
    "We use the `is_null` expression to find out whether each value is `null` and `is_not_null` for the converse"
   ]
  },
  {
   "cell_type": "code",
   "execution_count": null,
   "id": "b9f48986-5846-499c-9140-f9b3e8e0e3f4",
   "metadata": {},
   "outputs": [],
   "source": [
    "(\n",
    "    df\n",
    "    .select(\n",
    "        [\n",
    "            pl.col(\"col1\"),\n",
    "            pl.col(\"col1\").is_null().alias(\"is_null\"),\n",
    "            pl.col(\"col1\").is_not_null().alias(\"is_not_null\")\n",
    "        ]\n",
    "    )\n",
    ")"
   ]
  },
  {
   "cell_type": "markdown",
   "id": "841cf23d-9f4a-4f3e-ba59-6fb82b45a310",
   "metadata": {},
   "source": [
    "## Filtering by `null` values\n",
    "We can use these methods to filter by `null` or non-`null` values"
   ]
  },
  {
   "cell_type": "code",
   "execution_count": null,
   "id": "f52d2f7d-ffbf-4db0-b35d-430e70042cd0",
   "metadata": {},
   "outputs": [],
   "source": [
    "(\n",
    "    df\n",
    "    .filter(\n",
    "            pl.col(\"col1\").is_not_null(),\n",
    "    )\n",
    ")"
   ]
  },
  {
   "cell_type": "markdown",
   "id": "cdc59801-d806-49b4-9860-6981ce1242ff",
   "metadata": {},
   "source": [
    "## Exercises\n",
    "In the exercises you will develop your understanding of:\n",
    "- counting the `null` values\n",
    "- filtering by `null` values\n",
    "\n",
    "### Exercise 1\n",
    "Count the number of `null` values in each row of the Titanic data"
   ]
  },
  {
   "cell_type": "code",
   "execution_count": null,
   "id": "666b2726-c91b-46e8-90c2-e79d9eafe765",
   "metadata": {},
   "outputs": [],
   "source": [
    "csvFile = \"../data/titanic.csv\"\n",
    "(\n",
    "    pl.read_csv(csvFile)\n",
    "    <blank>\n",
    ")"
   ]
  },
  {
   "cell_type": "markdown",
   "id": "05b07b74-68fa-4310-ac53-1764881b4027",
   "metadata": {},
   "source": [
    "Filter out the rows that are `null` from the `Cabin` column and count the null values for all columns again"
   ]
  },
  {
   "cell_type": "code",
   "execution_count": null,
   "id": "3b5a9fb4-c5ef-4526-905b-940a4aafb6b1",
   "metadata": {},
   "outputs": [],
   "source": []
  },
  {
   "cell_type": "markdown",
   "id": "94f67824-f6a8-4b5d-8a94-4bf7c256bb73",
   "metadata": {},
   "source": [
    "### Exercise 2\n",
    "Find all the rows for which the `Age` is `null`"
   ]
  },
  {
   "cell_type": "code",
   "execution_count": null,
   "id": "ce223dad-28dc-4c66-a5bd-c291f863eac2",
   "metadata": {},
   "outputs": [],
   "source": [
    "csvFile = \"../data/titanic.csv\"\n",
    "(\n",
    "    pl.read_csv(csvFile)\n",
    "    <blank>\n",
    ")"
   ]
  },
  {
   "cell_type": "markdown",
   "id": "5ad25833-20cb-49ab-9c41-c8ddf9de8226",
   "metadata": {},
   "source": [
    "Find all the rows for wFind all the rows for which neither the `Age` nor the `Cabin` is `null`"
   ]
  },
  {
   "cell_type": "code",
   "execution_count": null,
   "id": "9143267f-544a-4abe-8a46-a68b34771896",
   "metadata": {},
   "outputs": [],
   "source": []
  },
  {
   "cell_type": "markdown",
   "id": "0837d1af-8f57-40ee-bc2d-c8f8c0402019",
   "metadata": {},
   "source": [
    "## Solutions\n",
    "### Solution to Exercise 1\n",
    "Count the number of `null` values in each row of the Titanic data"
   ]
  },
  {
   "cell_type": "code",
   "execution_count": null,
   "id": "adc00328-dd89-428c-b597-f1f285047692",
   "metadata": {
    "jupyter": {
     "source_hidden": true
    },
    "tags": []
   },
   "outputs": [],
   "source": [
    "csvFile = \"../data/titanic.csv\"\n",
    "(\n",
    "    pl.read_csv(csvFile)\n",
    "    .null_count()\n",
    ")"
   ]
  },
  {
   "cell_type": "markdown",
   "id": "7d8e3fed-fe2e-4916-8da0-79061c387de1",
   "metadata": {},
   "source": [
    "Filter out the rows that are `null` from the `Cabin` column and count the null values for all columns again"
   ]
  },
  {
   "cell_type": "code",
   "execution_count": null,
   "id": "5fb29ef2-0c32-4225-bb7f-5553a62bef23",
   "metadata": {
    "jupyter": {
     "source_hidden": true
    },
    "tags": []
   },
   "outputs": [],
   "source": [
    "csvFile = \"../data/titanic.csv\"\n",
    "(\n",
    "    pl.read_csv(csvFile)\n",
    "    .filter(pl.col(\"Cabin\").is_not_null())\n",
    "    .null_count()\n",
    ")"
   ]
  },
  {
   "cell_type": "markdown",
   "id": "34999fef-7299-40cf-b128-1534f2db5c7a",
   "metadata": {},
   "source": [
    "### Solution to Exercise 2\n",
    "Find all the rows for which the `Age` is `null`"
   ]
  },
  {
   "cell_type": "code",
   "execution_count": null,
   "id": "2def0871-ad68-489e-823d-08025b656d79",
   "metadata": {
    "jupyter": {
     "source_hidden": true
    },
    "tags": []
   },
   "outputs": [],
   "source": [
    "csvFile = \"../data/titanic.csv\"\n",
    "(\n",
    "    pl.read_csv(csvFile)\n",
    "    .filter(pl.col(\"Age\").is_null())\n",
    "    .head()\n",
    ")"
   ]
  },
  {
   "cell_type": "markdown",
   "id": "13d76e29-cb75-4d80-8483-84d45c0a4f8a",
   "metadata": {},
   "source": [
    "Find all the rows for which neither the `Age` nor the `Cabin` is `null`"
   ]
  },
  {
   "cell_type": "code",
   "execution_count": null,
   "id": "e4092cc6-fb0d-4734-b47b-94567c8b0622",
   "metadata": {
    "jupyter": {
     "source_hidden": true
    },
    "tags": []
   },
   "outputs": [],
   "source": [
    "csvFile = \"../data/titanic.csv\"\n",
    "(\n",
    "    pl.read_csv(csvFile)\n",
    "    .filter(\n",
    "        (pl.col(\"Age\").is_not_null()) & (pl.col(\"Cabin\").is_not_null())\n",
    "    )\n",
    "    .head()\n",
    ")"
   ]
  }
 ],
 "metadata": {
  "kernelspec": {
   "display_name": "Python 3 (ipykernel)",
   "language": "python",
   "name": "python3"
  },
  "language_info": {
   "codemirror_mode": {
    "name": "ipython",
    "version": 3
   },
   "file_extension": ".py",
   "mimetype": "text/x-python",
   "name": "python",
   "nbconvert_exporter": "python",
   "pygments_lexer": "ipython3",
   "version": "3.10.9"
  }
 },
 "nbformat": 4,
 "nbformat_minor": 5
}
