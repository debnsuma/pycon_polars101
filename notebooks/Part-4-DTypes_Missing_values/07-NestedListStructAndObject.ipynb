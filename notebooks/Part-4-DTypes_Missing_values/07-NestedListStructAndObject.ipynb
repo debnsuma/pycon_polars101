{
 "cells": [
  {
   "cell_type": "markdown",
   "id": "674913ae-6d37-4d8f-882c-ae2a95292a43",
   "metadata": {},
   "source": [
    "# Introduction to nested dtypes: List, Struct and Object\n",
    "By the end of this lecture you will be able to:\n",
    "- create columns with List, Struct and Object dtypes\n",
    "- explain the difference between the List, Struct and Object dtypes\n",
    "- unnest the fields in a Struct dtype"
   ]
  },
  {
   "cell_type": "code",
   "execution_count": null,
   "id": "a350b0f1-ff14-4097-94a2-a4f937b89fcd",
   "metadata": {
    "tags": []
   },
   "outputs": [],
   "source": [
    "import polars as pl"
   ]
  },
  {
   "cell_type": "markdown",
   "id": "1ff42bce-6d9b-4635-ac5c-5844256c527e",
   "metadata": {},
   "source": [
    "### `pl.List` dtype\n",
    "With a `pl.List` dtype each row is a `Series` and each `Series` has the same dtype.\n",
    "\n",
    "We can create a `pl.List` column manually with a Python `list` *where all elements of the `list` have the same type or can be cast to the same type e.g. `int` to `float`*"
   ]
  },
  {
   "cell_type": "code",
   "execution_count": null,
   "id": "46320a2a-c0fa-42ed-b647-3b0da5dd9179",
   "metadata": {
    "tags": []
   },
   "outputs": [],
   "source": [
    "dfLists = pl.DataFrame({\n",
    "    'ints':[ \n",
    "        [0,1], \n",
    "        [2,3]\n",
    "    ],\n",
    "    'floats':[ \n",
    "        [0.0,1], \n",
    "        [2,3]\n",
    "    ],\n",
    "    'strings':[ \n",
    "        [\"0\",\"1\"],\n",
    "        [\"2\",\"3\"]\n",
    "    ]\n",
    "})\n",
    "dfLists"
   ]
  },
  {
   "cell_type": "markdown",
   "id": "888a2fd7-35c2-41f4-b348-4e2035201234",
   "metadata": {},
   "source": [
    "We cover the `pl.List` dtype in the lectures that follow\n",
    "\n",
    "## Object dtype\n",
    "We create a column with an object dtype when the lists cannot be cast to a homogenous type"
   ]
  },
  {
   "cell_type": "code",
   "execution_count": null,
   "id": "4aa74ae2-26cd-4134-9907-86c36d046e58",
   "metadata": {
    "tags": []
   },
   "outputs": [],
   "source": [
    "dfObject = pl.DataFrame({\n",
    "    'mixed':[ \n",
    "        ['a',0],\n",
    "        ['b',1]\n",
    "    ]\n",
    "})\n",
    "dfObject"
   ]
  },
  {
   "cell_type": "markdown",
   "id": "8fbd34b3-536c-438e-9449-26c6eec556db",
   "metadata": {},
   "source": [
    "The \"list\" on each row in a **`pl.Object`** column is a standard python `list` under the hood."
   ]
  },
  {
   "cell_type": "code",
   "execution_count": null,
   "id": "2414b21f-1c5b-4e18-b3a8-264ed8168560",
   "metadata": {
    "tags": []
   },
   "outputs": [],
   "source": [
    "dfObject[0,0]"
   ]
  },
  {
   "cell_type": "code",
   "execution_count": null,
   "id": "f54466e1-46e9-4a27-810e-d534f73b2c1c",
   "metadata": {
    "tags": []
   },
   "outputs": [],
   "source": [
    "type(dfObject[0,0])"
   ]
  },
  {
   "cell_type": "markdown",
   "id": "126e9c0a-862c-43ec-a58f-d220936feb18",
   "metadata": {},
   "source": [
    "Operations on a `pl.Object` column are slow as the operations are working with slow Python `lists` rather than fast Polars `Series`.\n",
    "\n",
    "We generally want to avoid working with a `pl.Object` dtype if possible. For example, it may be better to cast integers to strings to have a string `pl.List` column rather than a `pl.Object` column."
   ]
  },
  {
   "cell_type": "markdown",
   "id": "cb592c46-afdd-4199-9847-a1802a050268",
   "metadata": {},
   "source": [
    "## `pl.Struct` dtype\n",
    "The `pl.Struct` dtype also has a collection of data on each row.\n",
    "\n",
    "We create a `pl.Struct` column by passing a list of `dicts` where:\n",
    "- the `dict` on each row has the same keys\n",
    "- the values for each key on each row have the same dtype"
   ]
  },
  {
   "cell_type": "code",
   "execution_count": null,
   "id": "9f9012da-8799-4cb4-a54c-2e36b2881c9a",
   "metadata": {
    "tags": []
   },
   "outputs": [],
   "source": [
    "dfStructs = (\n",
    "    pl.DataFrame(\n",
    "        {\n",
    "            \"year\":[2020,2021],\n",
    "            \"trades\":[\n",
    "                {\"exporter\":\"India\",\"importer\":\"USA\",\"quantity\":0.0},\n",
    "                {\"exporter\":\"India\",\"importer\":\"USA\",\"quantity\":1.5},\n",
    "            ]\n",
    "          }\n",
    "    )\n",
    ")\n",
    "dfStructs"
   ]
  },
  {
   "cell_type": "markdown",
   "id": "f9a10da1-8586-461e-b638-5791904effa0",
   "metadata": {},
   "source": [
    "The keys in a struct column are called `fields`.\n",
    "\n",
    "We can list the keys with `struct.fields` on a `Series`"
   ]
  },
  {
   "cell_type": "code",
   "execution_count": null,
   "id": "70029c50-e6a5-452b-abdd-26d0558d0989",
   "metadata": {
    "tags": []
   },
   "outputs": [],
   "source": [
    "dfStructs[\"trades\"].struct.fields"
   ]
  },
  {
   "cell_type": "markdown",
   "id": "3b550c6e-dcc2-468f-8346-a611321050f6",
   "metadata": {},
   "source": [
    "## Accessing  `pl.Struct` fields\n",
    "\n",
    "We access fields within a struct column in an expression"
   ]
  },
  {
   "cell_type": "code",
   "execution_count": null,
   "id": "445af974-1d13-496e-9407-6519705d92ba",
   "metadata": {
    "tags": []
   },
   "outputs": [],
   "source": [
    "(\n",
    "    dfStructs\n",
    "    .select(\n",
    "        pl.col(\"trades\").struct.field(\"exporter\")\n",
    "    )\n",
    ")"
   ]
  },
  {
   "cell_type": "markdown",
   "id": "4276da94-55fb-4c24-8b8d-7f200858b749",
   "metadata": {},
   "source": [
    "## Extracting data from a `pl.Struct`\n",
    "\n",
    "We can convert a struct `Series` to be its own multi-column `DataFrame`"
   ]
  },
  {
   "cell_type": "code",
   "execution_count": null,
   "id": "87720964-927d-4e33-b62e-2a4309fb7182",
   "metadata": {
    "tags": []
   },
   "outputs": [],
   "source": [
    "dfStructs[\"trades\"].struct.unnest()"
   ]
  },
  {
   "cell_type": "markdown",
   "id": "36c6fce8-9587-42e3-bd17-8dd6fdcabad3",
   "metadata": {},
   "source": [
    "We can also un-nest a `pl.Struct` column to become columns in the `DataFrame`"
   ]
  },
  {
   "cell_type": "code",
   "execution_count": null,
   "id": "738178ca-91c1-4c76-97cd-b71fbd67f9dd",
   "metadata": {},
   "outputs": [],
   "source": [
    "dfStructs.unnest(\"trades\")"
   ]
  },
  {
   "cell_type": "markdown",
   "id": "67196701-0e60-4c42-9f77-180442146fea",
   "metadata": {},
   "source": [
    "Struct columns are useful for having nested data within a column of a `DataFrame`.\n",
    "\n",
    "In this example we keep the `quantity` field at the top level of the `pl.Struct` but move the `importer`/`exporter` fields into a nested level within the `pl.Struct`"
   ]
  },
  {
   "cell_type": "code",
   "execution_count": null,
   "id": "1e091b2e-7630-4a8b-bc80-faa5ad733969",
   "metadata": {},
   "outputs": [],
   "source": [
    "dfStructsDeep = pl.DataFrame({'trades':[\n",
    "        {\n",
    "            \"countries\":{\"exporter\":\"India\",\"importer\":\"USA\"},\n",
    "            \"quantity\":0.0\n",
    "        },\n",
    "        {\n",
    "            \"countries\":{\"exporter\":\"India\",\"importer\":\"USA\"},\n",
    "            \"quantity\":1.5\n",
    "        },\n",
    "    ]\n",
    "  })\n",
    "dfStructsDeep"
   ]
  },
  {
   "cell_type": "markdown",
   "id": "515398fe-8d97-401f-b655-47436ad9fbb3",
   "metadata": {},
   "source": [
    "We can do fast operations on a `pl.Struct` dtype because we are working with Polars objects rather than python `lists`."
   ]
  },
  {
   "cell_type": "markdown",
   "id": "79e3ba51-b738-4c99-9186-39b5104e9f30",
   "metadata": {
    "jupyter": {
     "outputs_hidden": true
    },
    "tags": []
   },
   "source": [
    "## Exercises\n",
    "In the quiz in this Section you will develop your understanding of:\n",
    "- creating `pl.List` columns\n",
    "- creating `pl.Object` columns\n",
    "- creating `pl.Struct` columns"
   ]
  }
 ],
 "metadata": {
  "kernelspec": {
   "display_name": "Python 3 (ipykernel)",
   "language": "python",
   "name": "python3"
  },
  "language_info": {
   "codemirror_mode": {
    "name": "ipython",
    "version": 3
   },
   "file_extension": ".py",
   "mimetype": "text/x-python",
   "name": "python",
   "nbconvert_exporter": "python",
   "pygments_lexer": "ipython3",
   "version": "3.10.1"
  }
 },
 "nbformat": 4,
 "nbformat_minor": 5
}
