{
    "cells": [
        {
            "cell_type": "markdown",
            "id": "0f337a89-8ca5-41f8-badd-9a270023f688",
            "metadata": {},
            "source": [
                "## Categoricals and the string cache\n",
                "By the end of this lecture you will be able to:\n",
                "- filter a categorical column\n",
                "- coordinating categortical mappings across objects with the string cache\n",
                "\n",
                "We introduce the string cache here but we will see that it is essential when combining `DataFrames` with categorical columns. We will see that using categoricals can lead to much faster join operations than with strings."
            ]
        },
        {
            "cell_type": "code",
            "execution_count": null,
            "id": "bba84684-2dc2-4ea6-a298-c23c05c11925",
            "metadata": {},
            "outputs": [],
            "source": [
                "import polars as pl"
            ]
        },
        {
            "cell_type": "markdown",
            "id": "f9b5e068-5737-48bd-8faa-3fdce3f9134c",
            "metadata": {},
            "source": [
                "We create a `DataFrame` and add a categorical column called `cats`"
            ]
        },
        {
            "cell_type": "code",
            "execution_count": null,
            "id": "1c9849d3-fd1b-4a92-8bfa-9f8dca58c9f1",
            "metadata": {},
            "outputs": [],
            "source": [
                "df = (\n",
                "    pl.DataFrame(\n",
                "            {\"strings\": [\"c\",\"b\",\"a\",\"c\"], \"values\": [1, 2, 3, 4]}\n",
                "    )\n",
                "    .with_columns(\n",
                "        pl.col(\"strings\").cast(pl.Categorical).alias(\"cats\")\n",
                "    )\n",
                ")\n",
                "df"
            ]
        },
        {
            "cell_type": "markdown",
            "id": "c5a65427-33c8-47d0-9210-d632269150f1",
            "metadata": {},
            "source": [
                "## Filtering a categorical column\n",
                "We filter a categorical column for equality in the normal way"
            ]
        },
        {
            "cell_type": "code",
            "execution_count": null,
            "id": "732d1465-569c-4cca-98f8-421dd353dedb",
            "metadata": {},
            "outputs": [],
            "source": [
                "(\n",
                "    df\n",
                "    .filter(\n",
                "        pl.col(\"cats\") == \"b\"\n",
                "    )\n",
                ")"
            ]
        },
        {
            "cell_type": "markdown",
            "id": "7cc460db-bfa3-4eea-aaed-4cb92a2bfb3e",
            "metadata": {},
            "source": [
                "If we try to filter a categorical column with `is_in` we get an `Exception`"
            ]
        },
        {
            "cell_type": "code",
            "execution_count": null,
            "id": "c148d957-6ec6-474a-be7f-24aa15af17e1",
            "metadata": {},
            "outputs": [],
            "source": [
                "# (\n",
                "#     df\n",
                "#     .filter(\n",
                "#         pl.col(\"cats\").is_in([\"b\"])\n",
                "#     )\n",
                "# )"
            ]
        },
        {
            "cell_type": "markdown",
            "id": "2f2644a5-82a9-478e-b2bf-fedcf2e203d9",
            "metadata": {},
            "source": [
                "### Why do we get an `Exception` with `is_in`?\n",
                "\n",
                "When we use `is_in` Polars: \n",
                "1. converts the list `[\"b\"]` to a one-element `Series` with string dtype internally\n",
                "2. casts this `Series` to `pl.Categorical`\n",
                "3. uses its internal algorithms for comparing categoricals\n",
                "\n",
                "The problem is in step 2. The mapping to categoricals for the `Series` `[\"b\"]` is not guaranteed to be the same mapping as for `df`\n",
                "\n",
                "## Combining categoricals with the `StringCache`\n",
                "To ensure that different objects - in this case `df[\"cats\"]` and `[\"b\"]` have the same categorical mapping we use the `StringCache`.\n",
                "\n",
                "The `StringCache` object:\n",
                "- stores the categorical mapping\n",
                "- ensures that all categorical columns use the same mapping. \n",
                "\n",
                "We can use the `StringCache` inside a context manager and with a toggle.\n",
                "\n",
                "### Using the `StringCache` inside a context-manager\n",
                "\n",
                "A context-manager is a way to ensure certain actions happen in Python.\n",
                "\n",
                "Everything inside the code block beginning with `with` is in the same context.\n",
                "\n",
                "In this case\n",
                "```python\n",
                "with pl.StringCache():\n",
                "```\n",
                "ensures that everything that happens in the following code block uses the same categorical mappings"
            ]
        },
        {
            "cell_type": "code",
            "execution_count": null,
            "id": "cc759f7d-1675-4c82-8d58-5ab90638af78",
            "metadata": {},
            "outputs": [],
            "source": [
                "with pl.StringCache():\n",
                "    df = (\n",
                "        pl.DataFrame(\n",
                "                {\"strings\": [\"c\",\"b\",\"a\",\"c\"], \"values\": [1, 2, 3, 4]}\n",
                "        )\n",
                "        .with_columns(\n",
                "            pl.col(\"strings\").cast(pl.Categorical).alias(\"cats\")\n",
                "        )\n",
                "        .filter(\n",
                "            pl.col(\"cats\").is_in([\"b\"])\n",
                "        )\n",
                ")\n",
                "df"
            ]
        },
        {
            "cell_type": "markdown",
            "id": "bdb99412-4dd4-484b-bc8b-f1fc7783d361",
            "metadata": {},
            "source": [
                "At the end of the `with` block the `StringCache` is deleted.\n",
                "\n",
                "### Toggling the `StringCache`\n",
                "We can also toggle the `StringCache` to be enabled through a session - be aware that this can have affects beyond this script/notebook. In fact I've commented it out here because when I run my test suite with `pytest` the command changes the outputs in other notebooks!"
            ]
        },
        {
            "cell_type": "code",
            "execution_count": null,
            "id": "e4446e04-2841-42bb-be7d-d28a6c6e4334",
            "metadata": {},
            "outputs": [],
            "source": [
                "# pl.toggle_string_cache(toggle=True)"
            ]
        },
        {
            "cell_type": "markdown",
            "id": "efdc3861-fd22-40f3-8bf0-b7f1be3700f9",
            "metadata": {},
            "source": [
                "When we use `pl.toggle_string_cache(toggle=True)` then Polars enables a `StringCache` that is used by all categorical column until:\n",
                "- the end of the session or\n",
                "- you call `pl.toggle_string_cache(toggle = False)`\n",
                "\n",
                "You can see whether a string cache is enabled with "
            ]
        },
        {
            "cell_type": "code",
            "execution_count": null,
            "id": "c63ce285-5569-44ba-8d06-b5f3eba73159",
            "metadata": {},
            "outputs": [],
            "source": [
                "pl.using_string_cache()"
            ]
        },
        {
            "cell_type": "markdown",
            "id": "80ec72c9-3285-43dd-8b30-b2aabe4cb933",
            "metadata": {},
            "source": [
                "### Context-manager or toggle the string cache?\n",
                "Toggling the string cache is easier than using the context-manager.\n",
                "\n",
                "However, I recommend using the context-manager as:\n",
                "- it makes the use of the string cache explicit in the code\n",
                "- it avoids errors that can arise from setting global values\n",
                "\n",
                "### Use cases for `pl.StringCache`\n",
                "\n",
                "We need the string cache whenever different objects with a categorical dtype are involved. For example when:\n",
                "- joining `DataFrames` with categorical dtypes\n",
                "- concatenating `DataFrames` with categorical dtypes\n",
                "- creating a `DataFrame` with categorical dtype from multiple files\n",
                "\n",
                "We will see examples of these in later Sections of the course."
            ]
        },
        {
            "cell_type": "markdown",
            "id": "fbc70a86-9a4b-4de5-8979-85f4940a9617",
            "metadata": {},
            "source": [
                "## Exercises\n",
                "In the exercises you will develop your understanding of:\n",
                "- filtering a categorical column\n",
                "- using the string cache\n",
                "- the effect of categoricals on the query optimiser\n",
                "\n",
                "### Exercise 1\n",
                "Create a `DataFrame` from the Titanic dataset and cast the `Pclass` column to categorical."
            ]
        },
        {
            "cell_type": "code",
            "execution_count": null,
            "id": "80973220-d668-4676-99f0-16d900364fff",
            "metadata": {},
            "outputs": [],
            "source": [
                "csvFile = \"../data/titanic.csv\"\n",
                "(\n",
                "    pl.read_csv(csvFile)\n",
                "    <blank>\n",
                "    .head(3)\n",
                ")"
            ]
        },
        {
            "cell_type": "markdown",
            "id": "31ac432c-6f83-42be-a0a4-f11cd21ee7fd",
            "metadata": {},
            "source": [
                "Continue by casting the `Embarked` column to categorical (change `with_column` to `with_columns`). "
            ]
        },
        {
            "cell_type": "code",
            "execution_count": null,
            "id": "b3264fde-49f4-4be3-93e9-74c785e203e5",
            "metadata": {},
            "outputs": [],
            "source": []
        },
        {
            "cell_type": "markdown",
            "id": "914adaec-97c6-43c0-8657-f4f2d0793c57",
            "metadata": {},
            "source": [
                "Filter the `Pclass` column for third class passengers"
            ]
        },
        {
            "cell_type": "code",
            "execution_count": null,
            "id": "44d49b99-8bbf-49c5-ac23-9404adff2edf",
            "metadata": {},
            "outputs": [],
            "source": []
        },
        {
            "cell_type": "markdown",
            "id": "3bf25a51-6ab1-4bb0-b159-caecc120d53a",
            "metadata": {},
            "source": [
                "Add a filter on the `Embarked` column for passengers who embarked in either Southampton (`S`) or Queenstown (`Q`)"
            ]
        },
        {
            "cell_type": "code",
            "execution_count": null,
            "id": "217f2cb3-c757-4e7f-bc6a-b821016b16f2",
            "metadata": {},
            "outputs": [],
            "source": []
        },
        {
            "cell_type": "markdown",
            "id": "6f83b339-b34a-4131-bcb3-7b5ca7563807",
            "metadata": {},
            "source": [
                "Do the full query again but in lazy mode. \n",
                "\n",
                "Print the optimised query plan (recall that you need to call `print` on the query for the optimised plan to format correctly).\n",
                "\n",
                "Can Polars push the filters on `Pclass` and `Embarked` back to the CSV SCAN? See the `SELECTION` part of the optimised plan."
            ]
        },
        {
            "cell_type": "code",
            "execution_count": null,
            "id": "a4e41647-9252-40e7-84be-b2ecc82b612e",
            "metadata": {},
            "outputs": [],
            "source": []
        },
        {
            "cell_type": "markdown",
            "id": "cad524a6-bae3-4a58-808c-27c18e97ed38",
            "metadata": {},
            "source": [
                "To see the effect of categoricals on the optmised query plan do the query again but without casting `Pclass` and `Embarked` to categorical"
            ]
        },
        {
            "cell_type": "markdown",
            "id": "ee7b27d5-877f-4195-bd7d-84387d8f3e6c",
            "metadata": {},
            "source": [
                "## Solutions\n",
                "\n",
                "### Solution to Exercise 1"
            ]
        },
        {
            "cell_type": "markdown",
            "id": "a226bbb3-80a0-4ee6-b01d-a7f05587d679",
            "metadata": {},
            "source": [
                "Cast the `Pclass` column to categorical"
            ]
        },
        {
            "cell_type": "code",
            "execution_count": null,
            "id": "2e06f006-a38c-48d0-8ac2-c61f61717ac9",
            "metadata": {
                "jupyter": {
                    "source_hidden": true
                },
                "tags": []
            },
            "outputs": [],
            "source": [
                "csvFile = \"../data/titanic.csv\"\n",
                "(\n",
                "    pl.read_csv(csvFile)\n",
                "    .with_columns(\n",
                "        pl.col(\"Pclass\").cast(pl.Utf8).cast(pl.Categorical)\n",
                "    )\n",
                ")\n"
            ]
        },
        {
            "cell_type": "markdown",
            "id": "83373def-6124-4b59-8651-3da4316f62db",
            "metadata": {},
            "source": [
                "Cast the `Embarked` column to categorical"
            ]
        },
        {
            "cell_type": "code",
            "execution_count": null,
            "id": "0227e12c-db2c-485b-b211-1eb351db1b01",
            "metadata": {
                "jupyter": {
                    "source_hidden": true
                },
                "tags": []
            },
            "outputs": [],
            "source": [
                "(\n",
                "    pl.read_csv(csvFile)\n",
                "    .with_columns(\n",
                "        [\n",
                "            pl.col(\"Pclass\").cast(pl.Utf8).cast(pl.Categorical),\n",
                "            pl.col(\"Embarked\").cast(pl.Categorical)\n",
                "        ]\n",
                "    )\n",
                "    .head(3)\n",
                ")\n"
            ]
        },
        {
            "cell_type": "markdown",
            "id": "96bbdec2-527a-42dc-bac1-c93282a037c2",
            "metadata": {},
            "source": [
                "Filter the `Pclass` column for third class passengers"
            ]
        },
        {
            "cell_type": "code",
            "execution_count": null,
            "id": "ca175759-5386-4f56-8198-68632c2c153d",
            "metadata": {
                "jupyter": {
                    "source_hidden": true
                },
                "tags": []
            },
            "outputs": [],
            "source": [
                "(\n",
                "    pl.read_csv(csvFile)\n",
                "    .with_columns(\n",
                "        [\n",
                "            pl.col(\"Pclass\").cast(pl.Utf8).cast(pl.Categorical),\n",
                "            pl.col(\"Embarked\").cast(pl.Categorical)\n",
                "        ]\n",
                "    )\n",
                "    .filter(pl.col(\"Pclass\")==\"3\")\n",
                "    .head(3)\n",
                ")\n"
            ]
        },
        {
            "cell_type": "markdown",
            "id": "15976842-37a1-45f6-aef4-a35ebd2caa91",
            "metadata": {},
            "source": [
                "In addition, filter the `Embarked` column for passengers who embarked in Southampton (`S`) or Queenstown (`Q`)"
            ]
        },
        {
            "cell_type": "code",
            "execution_count": null,
            "id": "f21d618d-3879-4444-bf5e-4d2c768360b2",
            "metadata": {
                "jupyter": {
                    "source_hidden": true
                },
                "tags": []
            },
            "outputs": [],
            "source": [
                "with pl.StringCache():\n",
                "    (\n",
                "        pl.read_csv(csvFile)\n",
                "        .with_columns(\n",
                "            [\n",
                "                pl.col(\"Pclass\").cast(pl.Utf8).cast(pl.Categorical),\n",
                "                pl.col(\"Embarked\").cast(pl.Categorical)\n",
                "            ]\n",
                "        )\n",
                "        .filter(pl.col(\"Pclass\")==\"3\")\n",
                "        .filter(pl.col(\"Embarked\").is_in([\"S\",\"Q\"]))\n",
                "        .head(3)\n",
                "    )"
            ]
        },
        {
            "cell_type": "markdown",
            "id": "d4795cdb-a016-436f-9104-1cae8fa1c3a7",
            "metadata": {},
            "source": [
                "Do the full query again but in lazy mode.\n",
                "\n",
                "Print the optimised query plan (recall that you need to call `print` on the query for the optimised plan to format correctly)."
            ]
        },
        {
            "cell_type": "code",
            "execution_count": null,
            "id": "0f676633-dc04-43c1-9c22-a8ee63509a0b",
            "metadata": {
                "jupyter": {
                    "source_hidden": true
                },
                "tags": []
            },
            "outputs": [],
            "source": [
                "with pl.StringCache():\n",
                "    print(\n",
                "        pl.scan_csv(csvFile)\n",
                "        .with_columns(\n",
                "            [\n",
                "                pl.col(\"Pclass\").cast(pl.Utf8).cast(pl.Categorical),\n",
                "                pl.col(\"Embarked\").cast(pl.Categorical)\n",
                "            ]\n",
                "        )\n",
                "        .filter(pl.col(\"Pclass\")==\"3\")\n",
                "        .filter(pl.col(\"Embarked\").is_in([\"S\",\"Q\"]))\n",
                "        .explain()\n",
                "    )"
            ]
        },
        {
            "cell_type": "markdown",
            "id": "e8cd801e-6e59-4521-a203-2812c8881363",
            "metadata": {},
            "source": [
                "Can Polars push the filters on `Pclass` and `Embarked` back to the CSV SCAN? \n",
                "\n",
                "Polars is not able to push filters on categorical columns back to the CSV SCAN. In this case Polars reads all rows into memory, casts the columns to categorical and then applies the filters.\n",
                "\n",
                "When we do the query without categoricals the filters are pushed back to the CSV SCAN and so the filtering happens when reading from the CSV."
            ]
        },
        {
            "cell_type": "code",
            "execution_count": null,
            "id": "c130cd64-dcf5-4e85-bf5a-f58aea2a53eb",
            "metadata": {
                "jupyter": {
                    "source_hidden": true
                },
                "tags": []
            },
            "outputs": [],
            "source": [
                "print(\n",
                "    pl.scan_csv(csvFile)\n",
                "    .filter(pl.col(\"Pclass\")==\"3\")\n",
                "    .filter(pl.col(\"Embarked\").is_in([\"S\",\"Q\"]))\n",
                "    .explain()\n",
                ")"
            ]
        },
        {
            "cell_type": "code",
            "execution_count": null,
            "id": "918b4468-5611-4f9a-b1b6-d038ca900eb7",
            "metadata": {},
            "outputs": [],
            "source": []
        }
    ],
    "metadata": {
        "kernelspec": {
            "display_name": "Python 3 (ipykernel)",
            "language": "python",
            "name": "python3"
        },
        "language_info": {
            "codemirror_mode": {
                "name": "ipython",
                "version": 3
            },
            "file_extension": ".py",
            "mimetype": "text/x-python",
            "name": "python",
            "nbconvert_exporter": "python",
            "pygments_lexer": "ipython3",
            "version": "3.10.1"
        }
    },
    "nbformat": 4,
    "nbformat_minor": 5
}
