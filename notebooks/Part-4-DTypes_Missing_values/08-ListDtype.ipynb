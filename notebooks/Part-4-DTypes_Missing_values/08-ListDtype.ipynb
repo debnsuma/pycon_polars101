{
 "cells": [
  {
   "cell_type": "markdown",
   "id": "2bf5718e-7cf0-49ba-8898-6ec9645fc09b",
   "metadata": {},
   "source": [
    "## List dtype 1: Creating and transforming List columns\n",
    "By the end of this lecture you will be able to:\n",
    "- select `pl.List` columns\n",
    "- turn each `pl.List` row into its own row\n",
    "- convert a `pl.List` column to a `pl.Struct` or `pl.DataFrame`\n",
    "- convert a `pl.List` column to a Numpy array"
   ]
  },
  {
   "cell_type": "code",
   "execution_count": null,
   "id": "6773a7b8-738d-4848-b17d-452e3e3029be",
   "metadata": {
    "tags": []
   },
   "outputs": [],
   "source": [
    "import polars as pl"
   ]
  },
  {
   "cell_type": "markdown",
   "id": "c9abc1a6-8fc6-4864-94b0-ea256e5f0a12",
   "metadata": {},
   "source": [
    "We create a `DataFrame` with integer, floating point and string `pl.List` columns"
   ]
  },
  {
   "cell_type": "code",
   "execution_count": null,
   "id": "0e98f87d-b6a3-44bd-93ab-d012ee5f4091",
   "metadata": {
    "tags": []
   },
   "outputs": [],
   "source": [
    "dfLists = pl.DataFrame({\n",
    "    'ints':[ \n",
    "        [0,1], \n",
    "        [2,3]\n",
    "    ],\n",
    "    'floats':[ \n",
    "        [0.0,1], \n",
    "        [2,3]\n",
    "    ],\n",
    "    'strings':[ \n",
    "        [\"0\",\"1\"],\n",
    "        [\"2\",\"3\"]\n",
    "    ]\n",
    "})\n",
    "dfLists"
   ]
  },
  {
   "cell_type": "markdown",
   "id": "437b3058-b5f6-4c78-8d79-81de164a10e5",
   "metadata": {},
   "source": [
    "In the printed representation we see a list on each row.\n",
    "\n",
    "In reality the data on each row is a Polars `Series`.\n",
    "\n",
    "We can see the underlying `Series` by selecting a row in a `pl.List` column"
   ]
  },
  {
   "cell_type": "code",
   "execution_count": null,
   "id": "01add894-a911-45d9-b96e-94899e136b5f",
   "metadata": {
    "tags": []
   },
   "outputs": [],
   "source": [
    "dfLists[0,\"ints\"]"
   ]
  },
  {
   "cell_type": "markdown",
   "id": "1216ba33-4dd6-455b-93be-9b4820556299",
   "metadata": {},
   "source": [
    "In this lecture we refer to the data on each row as an array."
   ]
  },
  {
   "cell_type": "markdown",
   "id": "af3e2680-a734-4525-a8d5-85293531382a",
   "metadata": {},
   "source": [
    "## Selecting `pl.List` columns \n",
    "At present we cannot select all `pl.List` columns without the column dtype"
   ]
  },
  {
   "cell_type": "code",
   "execution_count": null,
   "id": "1c438c14-b9d5-4d2f-9b89-e257dcc513b8",
   "metadata": {},
   "outputs": [],
   "source": [
    "(\n",
    "    dfLists\n",
    "    .select(\n",
    "        pl.col(pl.List)\n",
    "    )\n",
    ")"
   ]
  },
  {
   "cell_type": "markdown",
   "id": "90aaf38c-587f-4b88-bda9-2e61227963ad",
   "metadata": {},
   "source": [
    "Instead we must pass the dtype for the arrays in that column.\n",
    "\n",
    "In this example we select the 64-bit integer `pl.List` column "
   ]
  },
  {
   "cell_type": "code",
   "execution_count": null,
   "id": "5975fa7e-4a15-421e-923d-e4bdbb4b266b",
   "metadata": {},
   "outputs": [],
   "source": [
    "(\n",
    "    dfLists\n",
    "    .select(\n",
    "        pl.col(pl.List(pl.Int64)\n",
    "              )\n",
    "    )\n",
    ")"
   ]
  },
  {
   "cell_type": "markdown",
   "id": "814d60a2-c941-4e8c-a4d2-2bbd5a7c91a5",
   "metadata": {},
   "source": [
    "The length of the array does not have to be the same on each row"
   ]
  },
  {
   "cell_type": "code",
   "execution_count": null,
   "id": "cb31dc99-53af-4f79-924d-e728283cc515",
   "metadata": {},
   "outputs": [],
   "source": [
    "(\n",
    "    pl.DataFrame(\n",
    "        {\n",
    "            'values':[ \n",
    "                [0,1], \n",
    "                [2,3,4],\n",
    "                [4,5,6,7,8]\n",
    "            ],\n",
    "        }\n",
    "    )\n",
    ")"
   ]
  },
  {
   "cell_type": "markdown",
   "id": "ab61bbec-64ad-434d-825a-06f6de8cccef",
   "metadata": {},
   "source": [
    "## Turning `pl.List` columns into rows\n",
    "We use `explode` to turn each array element into a row.\n",
    "\n",
    "In some cases we want to keep track of which rows came from which array (for example to do a `groupby` operation). If we do not have an existing column with a unique row identifier we can call `with_row_count` before calling `explode`"
   ]
  },
  {
   "cell_type": "code",
   "execution_count": null,
   "id": "cd013c20-8566-4094-ac3e-322265cf2d98",
   "metadata": {},
   "outputs": [],
   "source": [
    "(\n",
    "    pl.DataFrame(\n",
    "        {\n",
    "            'values':[ \n",
    "                [0,1], \n",
    "                [2,3,4]\n",
    "            ],\n",
    "        }\n",
    "    )\n",
    "    .with_row_count()\n",
    "    .explode(\"values\")\n",
    ")"
   ]
  },
  {
   "cell_type": "markdown",
   "id": "e1557b30-dcce-4a03-9ee9-58dafa8b031c",
   "metadata": {},
   "source": [
    "## Convert a `pl.List` column to a `pl.Struct` column or a `DataFrame`\n",
    "Polars has an `arr` namespace with expressions that work on `pl.List` columns (we see more of this in the next lecture).\n",
    "\n",
    "We convert a `pl.List` column to a `pl.Struct` column with `arr.to_struct`.\n",
    "\n",
    "In this example we use `arr.to_struct` to turn the `pl.List` column into `DataFrame` columns"
   ]
  },
  {
   "cell_type": "code",
   "execution_count": null,
   "id": "21b0a514-509a-490a-8ea9-bf881754ba49",
   "metadata": {},
   "outputs": [],
   "source": [
    "(\n",
    "    pl.DataFrame(\n",
    "        {\n",
    "            'values':[ \n",
    "                [0,1], \n",
    "                [2,3],\n",
    "                [4,5]\n",
    "            ],\n",
    "        }\n",
    "    )\n",
    "    # Convert the arrays to a struct\n",
    "    .with_columns(\n",
    "        pl.col(\"values\").arr.to_struct().alias(\"value_struct\")\n",
    "    )\n",
    "    # Un-nest the struct to DataFrame columns\n",
    "    .unnest(\"value_struct\")\n",
    ")"
   ]
  },
  {
   "cell_type": "markdown",
   "id": "899a27fa-5328-458c-a983-800a82d20217",
   "metadata": {},
   "source": [
    "While a `pl.List` array can have a variable number of elements a `pl.Struct` has a fixed number of elements on each row. See the API docs for strategies to deal with a variable number of elements: https://pola-rs.github.io/polars/py-polars/html/reference/expressions/api/polars.Expr.arr.to_struct.html"
   ]
  },
  {
   "cell_type": "markdown",
   "id": "3a571a99-aba8-4510-9721-35464d840ffe",
   "metadata": {},
   "source": [
    "## Convert a `pl.List` column to a Numpy array\n",
    "A `pl.List` column is a natural way to hold array data that we may need in Numpy"
   ]
  },
  {
   "cell_type": "code",
   "execution_count": null,
   "id": "a9ef158b-f74b-4ae6-8017-284413725e37",
   "metadata": {},
   "outputs": [],
   "source": [
    "df = (\n",
    "    pl.DataFrame(\n",
    "        {\n",
    "            'embeddings':[ \n",
    "                [0.0,1], \n",
    "                [2,3],\n",
    "                [4,5]\n",
    "            ],\n",
    "        }\n",
    "    )\n",
    ")\n",
    "df"
   ]
  },
  {
   "cell_type": "markdown",
   "id": "24f17ce6-d46e-430f-b5f7-2d7672eefda2",
   "metadata": {},
   "source": [
    "To get the `embeddings` column as a Numpy array you `explode` the column and then reshape it in Numpy"
   ]
  },
  {
   "cell_type": "code",
   "execution_count": null,
   "id": "8253317a-7824-4651-91b5-456c26ac47b7",
   "metadata": {},
   "outputs": [],
   "source": [
    "(\n",
    "    df[\"embeddings\"]\n",
    "    .arr.explode()\n",
    "    .to_numpy()\n",
    "    .reshape(len(df), -1)\n",
    ")"
   ]
  },
  {
   "cell_type": "markdown",
   "id": "2961f4d8-4b7a-4b23-88b6-0bd3802ae351",
   "metadata": {},
   "source": [
    "## Exercises\n",
    "In the exercises you will develop your understanding of:\n",
    "- selecting list columns\n",
    "- exploding list columns\n",
    "- counting occurences in a list column\n",
    "\n",
    "### Exercise 1\n",
    "We create a `DataFrame` with `pl.List` columns"
   ]
  },
  {
   "cell_type": "code",
   "execution_count": null,
   "id": "2d76f6ef-448c-4eb2-ac47-c4ee1ecd050d",
   "metadata": {},
   "outputs": [],
   "source": [
    "dfLists = pl.DataFrame({\n",
    "    'ints':[ \n",
    "        [0,1], \n",
    "        [2,3]\n",
    "    ],\n",
    "    'floats':[ \n",
    "        [0.0,1], \n",
    "        [2,3]\n",
    "    ],\n",
    "    'strings':[ \n",
    "        [\"0\",\"1\"],\n",
    "        [\"2\",\"3\"]\n",
    "    ]\n",
    "})\n",
    "dfLists"
   ]
  },
  {
   "cell_type": "markdown",
   "id": "85af80e0-57cb-4d7f-ad07-03056d4b349b",
   "metadata": {},
   "source": [
    "Select the floating point list column from `dfLists`"
   ]
  },
  {
   "cell_type": "code",
   "execution_count": null,
   "id": "715626c9-c5bc-4039-8fac-fdc26ea6a783",
   "metadata": {},
   "outputs": [],
   "source": [
    "(\n",
    "    dfLists\n",
    "    <blank>\n",
    ")"
   ]
  },
  {
   "cell_type": "markdown",
   "id": "bc5f4700-5ef8-42b0-ada7-a317a36418c7",
   "metadata": {},
   "source": [
    "Select the floating point **and** integer list column from `dfLists`"
   ]
  },
  {
   "cell_type": "code",
   "execution_count": null,
   "id": "c994dfce-060c-426e-8d6e-68b756635429",
   "metadata": {},
   "outputs": [],
   "source": [
    "(\n",
    "    dfLists\n",
    "    <blank>\n",
    ")"
   ]
  },
  {
   "cell_type": "markdown",
   "id": "7b22aa8a-0b21-4386-bc6d-43315796768e",
   "metadata": {},
   "source": [
    "### Exercise 2\n",
    "We create a `pl.List` column from the Titanic dataset by splitting the `Name` column on every whitespace"
   ]
  },
  {
   "cell_type": "code",
   "execution_count": null,
   "id": "799027fd-a906-4ab5-b083-0aee5a2bfa3f",
   "metadata": {},
   "outputs": [],
   "source": [
    "csvFile = \"../data/titanic.csv\"\n",
    "df = (\n",
    "    pl.read_csv(csvFile)\n",
    "    .select(\n",
    "        [\n",
    "            \"PassengerId\",\n",
    "            \"Pclass\",\n",
    "            \"Name\",\n",
    "            pl.col(\"Name\").str.split(\" \").alias(\"Name_list\")\n",
    "        ]\n",
    "    )\n",
    ")\n",
    "df.head(2)"
   ]
  },
  {
   "cell_type": "markdown",
   "id": "8369ea43-2538-4c6a-b01c-bb9410817403",
   "metadata": {},
   "source": [
    "Expand the `Name_list` column into separate rows"
   ]
  },
  {
   "cell_type": "code",
   "execution_count": null,
   "id": "33ae204c-ee55-4b43-a4a0-151533302383",
   "metadata": {},
   "outputs": [],
   "source": [
    "(\n",
    "    df\n",
    "    <blank>\n",
    "    .head()\n",
    ")"
   ]
  },
  {
   "cell_type": "markdown",
   "id": "c0d3fac6-89d5-4d10-8297-f6526115f6f7",
   "metadata": {},
   "source": [
    "Filter rows with titles such as Mr. and Mrs. from the output. Hint: use `~` to negate a filter"
   ]
  },
  {
   "cell_type": "code",
   "execution_count": null,
   "id": "0003fe55-d813-49dc-9481-46835426da81",
   "metadata": {},
   "outputs": [],
   "source": []
  },
  {
   "cell_type": "markdown",
   "id": "8845e703-4e03-4530-bfe9-b1e1a9c7073c",
   "metadata": {},
   "source": [
    "Find the most common names using `value_counts` on the `Name_list` column (we cover `value_counts` in more detail in the next Section)"
   ]
  },
  {
   "cell_type": "code",
   "execution_count": null,
   "id": "d3493071-f9ef-4772-bc1a-718e251adbd9",
   "metadata": {},
   "outputs": [],
   "source": []
  },
  {
   "cell_type": "markdown",
   "id": "8a296ee1-e017-4c62-9424-c04187aa356c",
   "metadata": {},
   "source": [
    "## Solutions\n",
    "\n",
    "### Solution to exercise 1\n",
    "We create a `DataFrame` with `pl.List` columns"
   ]
  },
  {
   "cell_type": "code",
   "execution_count": null,
   "id": "5f681b85-7549-4363-a124-accca87adbc4",
   "metadata": {},
   "outputs": [],
   "source": [
    "dfLists = pl.DataFrame({\n",
    "    'ints':[ \n",
    "        [0,1], \n",
    "        [2,3]\n",
    "    ],\n",
    "    'floats':[ \n",
    "        [0.0,1], \n",
    "        [2,3]\n",
    "    ],\n",
    "    'strings':[ \n",
    "        [\"0\",\"1\"],\n",
    "        [\"2\",\"3\"]\n",
    "    ]\n",
    "})\n",
    "dfLists"
   ]
  },
  {
   "cell_type": "markdown",
   "id": "5524086f-2a95-4553-84cb-5f9069cfa9f0",
   "metadata": {},
   "source": [
    "Select the floating point list column from `dfLists`"
   ]
  },
  {
   "cell_type": "code",
   "execution_count": null,
   "id": "7e789992-5142-44ee-9b9d-a6b6f5f17c0a",
   "metadata": {
    "jupyter": {
     "source_hidden": true
    },
    "tags": []
   },
   "outputs": [],
   "source": [
    "(\n",
    "    dfLists\n",
    "    .select(\n",
    "        pl.col(pl.List(pl.Float64))\n",
    "    )\n",
    ")"
   ]
  },
  {
   "cell_type": "markdown",
   "id": "d0688d53-4322-4541-a4f3-6a8bcfeb0143",
   "metadata": {},
   "source": [
    "Select the floating point **and** integer list column from `dfLists`"
   ]
  },
  {
   "cell_type": "code",
   "execution_count": null,
   "id": "d4e1976e-bcce-443f-a0c9-5af92ff9a0d3",
   "metadata": {
    "jupyter": {
     "source_hidden": true
    },
    "tags": []
   },
   "outputs": [],
   "source": [
    "(\n",
    "    dfLists\n",
    "    .select(\n",
    "        pl.col([pl.List(pl.Float64),pl.List(pl.Int64)])\n",
    "    )\n",
    ")"
   ]
  },
  {
   "cell_type": "markdown",
   "id": "472764d6-11a8-4b95-b8c0-deea133d28b8",
   "metadata": {},
   "source": [
    "### Solution to exercise 2\n",
    "We create a `pl.List` column from the Titanic dataset by splitting the `Name` column on every whitespace"
   ]
  },
  {
   "cell_type": "code",
   "execution_count": null,
   "id": "5a3485ca-897f-4521-93d3-6eea60269405",
   "metadata": {},
   "outputs": [],
   "source": [
    "csvFile = \"../data/titanic.csv\"\n",
    "df = (\n",
    "    pl.read_csv(csvFile)\n",
    "    .select(\n",
    "        [\n",
    "            \"PassengerId\",\n",
    "            \"Pclass\",\n",
    "            \"Name\",\n",
    "            pl.col(\"Name\").str.split(\" \").alias(\"Name_list\")\n",
    "        ]\n",
    "    )\n",
    ")\n",
    "df.head(2)"
   ]
  },
  {
   "cell_type": "markdown",
   "id": "be7db6bb-7e23-4d62-9644-9d67fb258827",
   "metadata": {},
   "source": [
    "Expand the `Name_list` column into separate rows"
   ]
  },
  {
   "cell_type": "code",
   "execution_count": null,
   "id": "c783d862-8d84-44e8-b26c-60855355c46a",
   "metadata": {
    "jupyter": {
     "source_hidden": true
    },
    "tags": []
   },
   "outputs": [],
   "source": [
    "(\n",
    "    df\n",
    "    .explode(\"Name_list\")\n",
    "    .head()\n",
    ")"
   ]
  },
  {
   "cell_type": "markdown",
   "id": "9414669f-d11e-4b41-8c48-9052a3617b4a",
   "metadata": {},
   "source": [
    "Filter rows with titles such as Mr. and Mrs. from the output"
   ]
  },
  {
   "cell_type": "code",
   "execution_count": null,
   "id": "35e286ec-b372-44cd-966c-a2ea4b0f0dbf",
   "metadata": {
    "jupyter": {
     "source_hidden": true
    },
    "tags": []
   },
   "outputs": [],
   "source": [
    "(\n",
    "    df\n",
    "    .explode(\"Name_list\")\n",
    "    .filter(~pl.col(\"Name_list\").is_in([\"Mr.\",\"Mrs.\",\"Miss.\",\"Master.\"]))\n",
    "    .head()\n",
    ")"
   ]
  },
  {
   "cell_type": "markdown",
   "id": "ec18846e-0eaa-4668-bae0-ea3a7c78175b",
   "metadata": {},
   "source": [
    "Find the most common names using `value_counts` on the `Name_list` column (we cover `value_counts` in more detail in the next Section)"
   ]
  },
  {
   "cell_type": "code",
   "execution_count": null,
   "id": "e92fb82f-bead-4c51-8931-c0791c6c30cb",
   "metadata": {
    "jupyter": {
     "source_hidden": true
    },
    "tags": []
   },
   "outputs": [],
   "source": [
    "(\n",
    "    df\n",
    "    .explode(\"Name_list\")\n",
    "    .filter(~pl.col(\"Name_list\").is_in([\"Mr.\",\"Mrs.\",\"Miss.\",\"Master.\"]))\n",
    "    [\"Name_list\"]\n",
    "    .value_counts()\n",
    "    .sort(\"counts\",descending=True)\n",
    "    .head()\n",
    ")"
   ]
  }
 ],
 "metadata": {
  "kernelspec": {
   "display_name": "Python 3 (ipykernel)",
   "language": "python",
   "name": "python3"
  },
  "language_info": {
   "codemirror_mode": {
    "name": "ipython",
    "version": 3
   },
   "file_extension": ".py",
   "mimetype": "text/x-python",
   "name": "python",
   "nbconvert_exporter": "python",
   "pygments_lexer": "ipython3",
   "version": "3.10.1"
  }
 },
 "nbformat": 4,
 "nbformat_minor": 5
}
