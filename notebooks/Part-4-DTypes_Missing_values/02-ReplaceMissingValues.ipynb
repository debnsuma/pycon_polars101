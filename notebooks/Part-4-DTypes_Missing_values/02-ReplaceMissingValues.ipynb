{
 "cells": [
  {
   "cell_type": "markdown",
   "id": "37402c9b-9b3b-42ee-b99e-a4486562f068",
   "metadata": {},
   "source": [
    "## Replacing missing values\n",
    "By the end of this section you learn how to:\n",
    "- replace missing values with a constant\n",
    "- replace missing values with a strategy"
   ]
  },
  {
   "cell_type": "code",
   "execution_count": null,
   "id": "c6eeec38-daf3-4680-b36d-9ad03c782454",
   "metadata": {
    "tags": []
   },
   "outputs": [],
   "source": [
    "from datetime import date\n",
    "\n",
    "import polars as pl"
   ]
  },
  {
   "cell_type": "markdown",
   "id": "cfb3d8d0-f405-432f-ac0e-813196f0e024",
   "metadata": {},
   "source": [
    "We create a simple `DataFrame` for this lecture"
   ]
  },
  {
   "cell_type": "code",
   "execution_count": null,
   "id": "e26a300f-5120-4a2d-81a1-645a9655a421",
   "metadata": {
    "tags": []
   },
   "outputs": [],
   "source": [
    "df = pl.DataFrame(\n",
    "    {\n",
    "        \"col1\":[0,None,2,3],\n",
    "        \"col2\":[0,None,None,3],\n",
    "        \"strings\":[\"a\",None,\"c\",\"d\"]\n",
    "    }\n",
    ")\n",
    "df"
   ]
  },
  {
   "cell_type": "markdown",
   "id": "7be1ad8b-db72-4bb4-9aab-88369f943a28",
   "metadata": {},
   "source": [
    "## Replace missing values with a constant\n",
    "We replace missing values in an expression using `fill_null`"
   ]
  },
  {
   "cell_type": "code",
   "execution_count": null,
   "id": "28488f4f-c692-4883-9f84-e77b2614924a",
   "metadata": {
    "tags": []
   },
   "outputs": [],
   "source": [
    "(\n",
    "    df\n",
    "    .with_columns(\n",
    "        pl.all().fill_null(0).suffix(\"_new\")\n",
    "    )\n",
    ")"
   ]
  },
  {
   "cell_type": "markdown",
   "id": "2b36237e-62d2-4b7c-94e2-fc4ddc8cc2e5",
   "metadata": {},
   "source": [
    "Note that `fill_null` replaced `null` with a string `\"0\"` in `strings_new`\n",
    "\n",
    "We can also replace the missing values with a string "
   ]
  },
  {
   "cell_type": "code",
   "execution_count": null,
   "id": "0a9aa86c-5197-4429-b611-9ed06b1c0401",
   "metadata": {
    "tags": []
   },
   "outputs": [],
   "source": [
    "(\n",
    "    df\n",
    "    .with_columns(\n",
    "        pl.all().fill_null(\"missing\").suffix(\"_new\")\n",
    "    )\n",
    ")"
   ]
  },
  {
   "cell_type": "markdown",
   "id": "3ec033fe-1f33-46c1-b543-83e30dbbc405",
   "metadata": {},
   "source": [
    "In this case `fill_null` has `cast` the columns from integer to string dtype!\n",
    "\n",
    "\n",
    "\n",
    "## Replace missing values with a strategy\n",
    "We can also replace missing values with a stragegy including:\n",
    "- forward: replace with the previous non-`null` value\n",
    "- backward: replace with the next non-`null` value\n",
    "- min: replace with the smallest value in the `Series`\n",
    "- max: replace with the largest value in the `Series`\n",
    "- mean: replace with the mean value in the `Series`\n",
    "- zero: replace with `0`\n",
    "- one: replace with `1`\n",
    "\n",
    "### Forward strategy\n",
    "In the forward strategy the missing values are replaced with the previous non-`null` values"
   ]
  },
  {
   "cell_type": "code",
   "execution_count": null,
   "id": "243c3bc1-b41a-4e86-9fe4-c0eb06c25ed1",
   "metadata": {
    "tags": []
   },
   "outputs": [],
   "source": [
    "(\n",
    "    df\n",
    "    .with_columns(\n",
    "        pl.all().fill_null(strategy=\"forward\").suffix(\"_new\")\n",
    "    )\n",
    ")"
   ]
  },
  {
   "cell_type": "markdown",
   "id": "de9b1dbd-e01b-459f-bd3a-7ddb93831524",
   "metadata": {},
   "source": [
    "We can set a limit on how many rows to fill-forward or backward with `limit`"
   ]
  },
  {
   "cell_type": "code",
   "execution_count": null,
   "id": "930a5567-0d5f-4c78-a288-39fd70e9281f",
   "metadata": {},
   "outputs": [],
   "source": [
    "(\n",
    "    df\n",
    "    .with_columns(\n",
    "        pl.all().fill_null(strategy=\"forward\",limit=1).suffix(\"_new\")\n",
    "    )\n",
    ")"
   ]
  },
  {
   "cell_type": "markdown",
   "id": "d6a1115e-7e17-4f25-a144-74c177b53caf",
   "metadata": {},
   "source": [
    "## Replacing missing values by group\n",
    "In this example we have missing values in `col1` and we want to fill them with a fill-forward strategy. \n",
    "\n",
    "However, we want to fill forward with respect to the groups in the `group` column."
   ]
  },
  {
   "cell_type": "code",
   "execution_count": null,
   "id": "320c2673-22da-4c7b-be61-d26619d10d8b",
   "metadata": {
    "tags": []
   },
   "outputs": [],
   "source": [
    "df = pl.DataFrame(\n",
    "    {\n",
    "        \"group\":[\"A\",\"B\",\"A\",\"B\",\"A\",\"B\"],\n",
    "        \"col1\":[0,1,None,1,2,None],\n",
    "    }\n",
    ")\n",
    "df"
   ]
  },
  {
   "cell_type": "markdown",
   "id": "ac2ff14d-3c86-4209-9a46-9c5f07eee213",
   "metadata": {},
   "source": [
    "We can do this using a *window expression* with `over`"
   ]
  },
  {
   "cell_type": "code",
   "execution_count": null,
   "id": "2b74467b-b0d8-46c3-a04e-0ca63d77bd0f",
   "metadata": {},
   "outputs": [],
   "source": [
    "(\n",
    "    df\n",
    "    .with_columns(\n",
    "        pl.col(\"col1\").fill_null(strategy=\"forward\").over(\"group\").suffix(\"_filled\")\n",
    "    )\n",
    ")"
   ]
  },
  {
   "cell_type": "markdown",
   "id": "5b62a3cf-f3ea-4c12-aa74-7521d885e361",
   "metadata": {},
   "source": [
    "We see more of window expressions in the statistics and grouping Section."
   ]
  },
  {
   "cell_type": "markdown",
   "id": "32a40ac6-32f2-4585-9c97-c3a7ae7d9c9d",
   "metadata": {},
   "source": [
    "## Exercises\n",
    "In the exercises you will develop your understanding of:\n",
    "- replacing missing values with a constant\n",
    "- replacing missing values with a strategy\n",
    "- replacing missing values by group"
   ]
  },
  {
   "cell_type": "markdown",
   "id": "c7d1f974-96f1-4633-8f3f-adbf3f3694c6",
   "metadata": {},
   "source": [
    "### Exercise 1\n",
    "Filter the `DataFrame` to have only the two rows with missing values in the `Embarked` column and then replace the missing values in the `Embarked` column with the string `\"unknown\"`"
   ]
  },
  {
   "cell_type": "code",
   "execution_count": null,
   "id": "aadfe1d3-e150-4196-90c0-6e337dee98d6",
   "metadata": {},
   "outputs": [],
   "source": [
    "csvFile = \"../data/titanic.csv\"\n",
    "(\n",
    "    pl.read_csv(csvFile)\n",
    "   <blank>\n",
    ")"
   ]
  },
  {
   "cell_type": "markdown",
   "id": "b5865d7c-4479-4f20-af32-baf78d6d06d5",
   "metadata": {},
   "source": [
    "### Exercise 2\n",
    "Add a new column called `Age_filled` where missing values are replaced with the  value from the following row."
   ]
  },
  {
   "cell_type": "code",
   "execution_count": null,
   "id": "00512f96-6466-4f5c-98f1-4cf81d96abda",
   "metadata": {},
   "outputs": [],
   "source": [
    "csvFile = \"../data/titanic.csv\"\n",
    "(\n",
    "    pl.read_csv(csvFile)\n",
    "    <blank>\n",
    "    .select([\"Age\",\"Age_filled\"])\n",
    ")"
   ]
  },
  {
   "cell_type": "markdown",
   "id": "da08e75d-a987-4e12-8731-8378b6c4c51e",
   "metadata": {},
   "source": [
    "Do the same but this time with respect to the following row from the same passenger class "
   ]
  },
  {
   "cell_type": "code",
   "execution_count": null,
   "id": "d56b3a06-b406-4d6a-9204-7a8ada345ba3",
   "metadata": {},
   "outputs": [],
   "source": [
    "csvFile = \"../data/titanic.csv\"\n",
    "(\n",
    "    pl.read_csv(csvFile)\n",
    "    <blank>\n",
    "    .select([\"Pclass\",\"Age\",\"Age_filled\"])\n",
    ")"
   ]
  },
  {
   "cell_type": "markdown",
   "id": "0361bba1-258b-4e6d-a8f7-12940ebdfc86",
   "metadata": {},
   "source": [
    "Add three new columns called `Age_mean`, `Age_median` and `Age_interpolated` where missing values are replaced with the:\n",
    "- mean\n",
    "- median and\n",
    "- interpolated values"
   ]
  },
  {
   "cell_type": "code",
   "execution_count": null,
   "id": "1ea4ed60-98fb-4a00-bd46-06a7a7c59f2c",
   "metadata": {},
   "outputs": [],
   "source": [
    "csvFile = \"../data/titanic.csv\"\n",
    "(\n",
    "    pl.read_csv(csvFile)\n",
    "    <blank>\n",
    "    .select([\"Age\",\"Age_mean\",\"Age_median\",\"Age_interpolated\"])\n",
    "    .filter(pl.col(\"Age\").is_null())\n",
    ")"
   ]
  },
  {
   "cell_type": "markdown",
   "id": "6aedabb7-d2ea-4265-b3a9-2c141f363929",
   "metadata": {},
   "source": [
    "## Solutions\n",
    "\n",
    "### Solution to Exercise 1\n",
    "Filter the `DataFrame` to have only the two rows with missing values in the `Embarked` column and then replace the missing values in the `Embarked` column with `\"unknown\"`"
   ]
  },
  {
   "cell_type": "code",
   "execution_count": null,
   "id": "98f1df41-8194-441a-a9fd-1bac7a9685c7",
   "metadata": {
    "jupyter": {
     "source_hidden": true
    },
    "tags": []
   },
   "outputs": [],
   "source": [
    "csvFile = \"../data/titanic.csv\"\n",
    "(\n",
    "    pl.read_csv(csvFile)\n",
    "    .filter(\n",
    "        pl.col(\"Embarked\").is_null()\n",
    "    )\n",
    "    .with_columns(\n",
    "        pl.col(\"Embarked\").fill_null(\"unknown\")\n",
    "    )\n",
    ")"
   ]
  },
  {
   "cell_type": "markdown",
   "id": "9c661c26-3a05-421f-890f-6f786b27eae0",
   "metadata": {},
   "source": [
    "### Solution to Exercise 2\n",
    "Add a new column called `Age_filled` where missing values are replaced with the  value from the following row."
   ]
  },
  {
   "cell_type": "code",
   "execution_count": null,
   "id": "198d8bd6-bfb6-40b0-a570-337308cf8b1b",
   "metadata": {
    "jupyter": {
     "source_hidden": true
    },
    "tags": []
   },
   "outputs": [],
   "source": [
    "csvFile = \"../data/titanic.csv\"\n",
    "(\n",
    "    pl.read_csv(csvFile)\n",
    "    .with_columns(\n",
    "        pl.col(\"Age\").fill_null(strategy=\"backward\").alias(\"Age_filled\")\n",
    "    )\n",
    "    .select([\"Age\",\"Age_filled\"])\n",
    ")"
   ]
  },
  {
   "cell_type": "markdown",
   "id": "247c4116-a120-4746-a79c-1bf9a58751f2",
   "metadata": {},
   "source": [
    "Do the same but this time with respect to the following row from the same passenger class "
   ]
  },
  {
   "cell_type": "code",
   "execution_count": null,
   "id": "5596ad0c-a22c-4393-9b0e-a168c0445fe6",
   "metadata": {
    "jupyter": {
     "source_hidden": true
    }
   },
   "outputs": [],
   "source": [
    "csvFile = \"../data/titanic.csv\"\n",
    "(\n",
    "    pl.read_csv(csvFile)\n",
    "    .with_columns(\n",
    "        pl.col(\"Age\").fill_null(strategy=\"backward\").over(\"Pclass\").alias(\"Age_filled\")\n",
    "    )\n",
    "    .select([\"Pclass\",\"Age\",\"Age_filled\"])\n",
    ")"
   ]
  },
  {
   "cell_type": "markdown",
   "id": "12c98d41-25e0-43b9-b9f5-6b2a10f42b44",
   "metadata": {},
   "source": [
    "Add three new columns called `Age_mean`, `Age_median` and `Age_interpolated` where missing values are replaced with the mean, median and interpolated values."
   ]
  },
  {
   "cell_type": "code",
   "execution_count": null,
   "id": "a3b9f481-9d88-44f1-9305-609b55446b6c",
   "metadata": {
    "jupyter": {
     "source_hidden": true
    },
    "scrolled": true,
    "tags": []
   },
   "outputs": [],
   "source": [
    "csvFile = \"../data/titanic.csv\"\n",
    "(\n",
    "    pl.read_csv(csvFile)\n",
    "    .with_columns(\n",
    "        [\n",
    "            pl.col(\"Age\").fill_null(strategy=\"mean\").alias(\"Age_mean\"),\n",
    "            pl.col(\"Age\").fill_null(pl.col(\"Age\").median()).alias(\"Age_median\"),\n",
    "            pl.col(\"Age\").interpolate().alias(\"Age_interpolated\"),\n",
    "\n",
    "        ]\n",
    "            )\n",
    "    .select([\"Age\",\"Age_mean\",\"Age_median\",\"Age_interpolated\"])\n",
    "    .filter(pl.col(\"Age\").is_null())\n",
    ")"
   ]
  },
  {
   "cell_type": "code",
   "execution_count": null,
   "id": "184c11c8-8c4c-40a7-98c0-1fc2ad33e64e",
   "metadata": {},
   "outputs": [],
   "source": []
  }
 ],
 "metadata": {
  "kernelspec": {
   "display_name": "Python 3 (ipykernel)",
   "language": "python",
   "name": "python3"
  },
  "language_info": {
   "codemirror_mode": {
    "name": "ipython",
    "version": 3
   },
   "file_extension": ".py",
   "mimetype": "text/x-python",
   "name": "python",
   "nbconvert_exporter": "python",
   "pygments_lexer": "ipython3",
   "version": "3.10.9"
  }
 },
 "nbformat": 4,
 "nbformat_minor": 5
}
