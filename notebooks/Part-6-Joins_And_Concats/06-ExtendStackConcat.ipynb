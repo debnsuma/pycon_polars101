{
 "cells": [
  {
   "cell_type": "markdown",
   "id": "5dadfc27-f67a-470c-a5df-014eb3902269",
   "metadata": {},
   "source": [
    "## Extending, stacking and concatenating\n",
    "By the end of this lecture you will be able to:\n",
    "- combine two `DataFrames` with `vstack`, `extend` and vertical `concat`\n",
    "- explain the advantages and disadvantages of each approach"
   ]
  },
  {
   "cell_type": "code",
   "execution_count": null,
   "id": "5cd7310b-18f5-4e7c-b7ed-7a922c8a7ad8",
   "metadata": {},
   "outputs": [],
   "source": [
    "import polars as pl\n",
    "import numpy as np\n",
    "\n",
    "np.random.seed(0)"
   ]
  },
  {
   "cell_type": "code",
   "execution_count": null,
   "id": "4144433d-ca0d-46b7-9964-7c1c0d2a5dbe",
   "metadata": {},
   "outputs": [],
   "source": [
    "df1 = (\n",
    "    pl.DataFrame(\n",
    "        {\n",
    "            \"id\":[0,1],\n",
    "            \"values\":[\"a\",\"b\"]\n",
    "        }\n",
    "    )\n",
    ")\n",
    "df1"
   ]
  },
  {
   "cell_type": "code",
   "execution_count": null,
   "id": "50032805-4d16-43a8-8015-ca19cced63bf",
   "metadata": {},
   "outputs": [],
   "source": [
    "df2 = (\n",
    "    pl.DataFrame(\n",
    "        {\n",
    "            \"id\":[2,3],\n",
    "            \"values\":[\"c\",\"d\"]\n",
    "        }\n",
    "    )\n",
    ")\n",
    "df2"
   ]
  },
  {
   "cell_type": "markdown",
   "id": "a64c9dcf-72d9-4b6b-a526-5942a8c574c8",
   "metadata": {},
   "source": [
    "## Combining `DataFrames`\n",
    "If we have data in two different `DataFrames` then we can combine them as a new `DataFrame` while treating the data for the original `DataFrames` in three different ways:\n",
    "- keeping the data in the original two locations in memory and linking to these\n",
    "- copying the data to a single location in memory\n",
    "- appending the data from the second `DataFrame` to the location of the first `DataFrame`\n",
    "\n",
    "The trade-offs relative to copying both to the same location in memory are that: \n",
    "- keeping the data in their original locations is cheap but makes subsequent operations slower\n",
    "- copying data to a new location provides more consistent performance whereas the other methods are more variable.\n",
    "\n",
    "## Methods\n",
    "We cover three methods for combining `DataFrames`: `pl.concat`,`df.vstack` and `df.extent`. The output of each method is the same from a user perspective but differs in terms of where the data sits in memory underneath the hood.\n",
    "\n",
    "Later we examine the performance implications of the methods for some simple operations.\n",
    "\n",
    "### Concatenation\n",
    "In the first lecture of this section we saw how to combine `DataFrames` with a vertical concatenation"
   ]
  },
  {
   "cell_type": "code",
   "execution_count": null,
   "id": "1cc29c0d-e097-45fd-ba9b-3187465fd3ce",
   "metadata": {},
   "outputs": [],
   "source": [
    "print(pl.concat(\n",
    "    [\n",
    "        df1,df2\n",
    "    ]\n",
    "))"
   ]
  },
  {
   "cell_type": "markdown",
   "id": "98de44e5-8a6a-442a-9b16-18c3bd8049c7",
   "metadata": {},
   "source": [
    "A vertical concatenation:\n",
    "- combines a `list` of `DataFrames` into a single `DataFrame`\n",
    "- rechunks (copies) the data into a single location in memory\n",
    "\n",
    "We can tell Polars in `pl.concat` not to copy the data to a single location in memory with `rechunk = False`"
   ]
  },
  {
   "cell_type": "code",
   "execution_count": null,
   "id": "d6dbfb23-3cba-485d-9cfe-1a345ac47f4b",
   "metadata": {},
   "outputs": [],
   "source": [
    "pl.concat(\n",
    "    [\n",
    "        df1,df2\n",
    "    ],\n",
    "    rechunk=False\n",
    ")"
   ]
  },
  {
   "cell_type": "markdown",
   "id": "c6366682-12ba-4678-9742-3ac70ea5d686",
   "metadata": {},
   "source": [
    "### Vstack\n",
    "We can combine two `DataFrames` with `vstack`"
   ]
  },
  {
   "cell_type": "code",
   "execution_count": null,
   "id": "364a3851-9854-4081-843a-6d2262e4a652",
   "metadata": {},
   "outputs": [],
   "source": [
    "(\n",
    "    df1\n",
    "    .vstack(\n",
    "        df2\n",
    "    )\n",
    ")"
   ]
  },
  {
   "cell_type": "markdown",
   "id": "70d33e2c-fb6e-446e-9acd-6f93cba4b51b",
   "metadata": {},
   "source": [
    "A `vstack`:\n",
    "- keeps the data in the original locations in memory\n",
    "\n",
    "A `vstack` is computationally cheap but subsequent operations are slower than if the data has been rechunked (i.e. copied to a single location).\n",
    "\n",
    "### Extend\n",
    "We can append one `DataFrame` to another with `extend`"
   ]
  },
  {
   "cell_type": "code",
   "execution_count": null,
   "id": "f7a17c49-35b3-43d2-95d4-31b4a780860b",
   "metadata": {},
   "outputs": [],
   "source": [
    "(\n",
    "    df1\n",
    "    .extend(\n",
    "        df2\n",
    "    )\n",
    ")"
   ]
  },
  {
   "cell_type": "markdown",
   "id": "2391a336-84e8-44cb-b18a-649a7ac157b1",
   "metadata": {},
   "source": [
    "An `extend`:\n",
    "- copies the data from `df2` to append to the location of `df1`\n",
    "- this append operation can lead to all the data being copied to a new location if there is not enough space in the existing location of `df1`\n",
    "\n",
    "### Rechunk\n",
    "We can manually cause two `DataFrames` linked by `vstack` to be copied to a single location in memory with `rechunk`"
   ]
  },
  {
   "cell_type": "code",
   "execution_count": null,
   "id": "f5fab580-4f5f-4180-bec6-41a5a1e299cc",
   "metadata": {},
   "outputs": [],
   "source": [
    "(\n",
    "    df1\n",
    "    .vstack(\n",
    "        df2\n",
    "    )\n",
    "    .rechunk()\n",
    ")"
   ]
  },
  {
   "cell_type": "markdown",
   "id": "6880e7d6-b368-4998-aeb2-7bc2a3e76654",
   "metadata": {},
   "source": [
    "If we have done a `vstack` (or a series of `vstacks`) we can call `rechunk` to copy all the data to a single location in memory\n",
    "\n",
    "The official API docs provide the following advice:\n",
    "\n",
    "> Prefer `extend` over `vstack` when you want to do a query after a single append.\n",
    "For instance during online operations where you add `n` rows and rerun a query.\n",
    "\n",
    "> Prefer `vstack` over `extend` when you want to append many times before doing a\n",
    " query. For instance when you read in multiple files and when to store them in a\n",
    "        single `DataFrame`. In the latter case, finish the sequence of `vstack`\n",
    "        operations with a `rechunk`.\n",
    "\n",
    "I would also say:\n",
    "- use `extend` whenever adding a small `DataFrame` to a big one to avoid copying the big one\n",
    "- use `vstack` if you aren't going to do a computationally intensive query on the output - say you just want to count the length of the data\n",
    "- test the three options on your own data (see below)\n",
    "\n",
    "\n",
    "## Horizontal stacking\n",
    "We can also grow a `DataFrame` from a `Series` or another `DataFrame` with `hstack`. This is always a cheap operation as a new `DataFrame` is created without copying data"
   ]
  },
  {
   "cell_type": "code",
   "execution_count": null,
   "id": "945de4e0-3dd9-45e4-a781-b55f91e4d9f1",
   "metadata": {},
   "outputs": [],
   "source": [
    "df1 = pl.DataFrame(\n",
    "    {\n",
    "        \"a\":[0,1,2]\n",
    "    }\n",
    ")\n",
    "df2 = pl.DataFrame(\n",
    "    {\n",
    "        \"b\":[0,1,2]\n",
    "    }\n",
    ")\n",
    "df1.hstack(df2)"
   ]
  },
  {
   "cell_type": "markdown",
   "id": "44e1a7ff-50fb-41e3-a37c-c2dee215da2c",
   "metadata": {},
   "source": [
    "## Exploring performance of different strategies\n",
    "There are no exercises here as `concat`,`vstack` and `extend` do the same thing and we have already seen exercises for `concat`.\n",
    "\n",
    "Instead we look at the relative performance of different methods.\n",
    "\n",
    "We begin with a function to make a `DataFrame` with an integer `id` column and many floating point columns"
   ]
  },
  {
   "cell_type": "code",
   "execution_count": null,
   "id": "daa9b2f7-23a0-467b-af6a-c88b664274ae",
   "metadata": {},
   "outputs": [],
   "source": [
    "def makeDataFrame(N:int,K:int,cardinality:int):\n",
    "    return (\n",
    "    pl.DataFrame(\n",
    "        {\n",
    "            \"id\":np.random.randint(0,cardinality,N)\n",
    "        }\n",
    "    ).hstack(\n",
    "        pl.DataFrame(\n",
    "            np.random.standard_normal((N,K))\n",
    "        )\n",
    "    )\n",
    ")\n",
    "N = 100_000\n",
    "K = 100\n",
    "cardinality = 1000\n",
    "\n",
    "df = makeDataFrame(N=N,K=K,cardinality=cardinality)\n",
    "df.head(2)"
   ]
  },
  {
   "cell_type": "markdown",
   "id": "731dbc6f-42ed-4e9e-831c-779c778e2372",
   "metadata": {},
   "source": [
    "We now make another large `DataFrame` and a small `DataFrame`"
   ]
  },
  {
   "cell_type": "code",
   "execution_count": null,
   "id": "b48d91dd-ad3d-4056-8f8b-06f2e19e3b54",
   "metadata": {},
   "outputs": [],
   "source": [
    "# Make another large DataFrame\n",
    "dfOther = makeDataFrame(N=N,K=K,cardinality=cardinality)\n",
    "# Make another small DataFrame\n",
    "dfOtherSmall = makeDataFrame(N=100,K=K,cardinality=cardinality)"
   ]
  },
  {
   "cell_type": "markdown",
   "id": "cff838fa-ad2d-4e40-9696-5c1ac898177b",
   "metadata": {},
   "source": [
    "As there are many functions to compare we create a wrapper function to time execution below"
   ]
  },
  {
   "cell_type": "code",
   "execution_count": null,
   "id": "048c582f-5c5f-4785-8021-526d094f024a",
   "metadata": {},
   "outputs": [],
   "source": [
    "from functools import wraps\n",
    "import time\n",
    "\n",
    "def timeit(func):\n",
    "    @wraps(func)\n",
    "    def timeit_wrapper(*args, **kwargs):\n",
    "        start_time = time.perf_counter()\n",
    "        result = func(*args, **kwargs)\n",
    "        end_time = time.perf_counter()\n",
    "        total_time = end_time - start_time\n",
    "        print(f'Function {func.__name__} Took {1000*total_time:.2f} milliseconds')\n",
    "        return result\n",
    "    return timeit_wrapper\n"
   ]
  },
  {
   "cell_type": "markdown",
   "id": "7adb8644-1ea9-49d4-baf2-6711ae20fad5",
   "metadata": {},
   "source": [
    "We define the functions for different strategies wrapped by the timing module"
   ]
  },
  {
   "cell_type": "code",
   "execution_count": null,
   "id": "4be59d29-f751-4e0f-8dd3-948b0bdada6b",
   "metadata": {},
   "outputs": [],
   "source": [
    "@timeit\n",
    "def concatRechunk(df1,df2):\n",
    "    return pl.concat([df1,df2,],rechunk=True)\n",
    "@timeit\n",
    "def concatNoRechunk(df1,df2):\n",
    "    return pl.concat([df1,df2,],rechunk=False)\n",
    "@timeit\n",
    "def vstack(df1,df2):\n",
    "    return df1.vstack(df2)\n",
    "@timeit\n",
    "def vstackRechunk(df1,df2):\n",
    "    return df1.vstack(df2).rechunk()\n",
    "@timeit\n",
    "def extend(df1,df2):\n",
    "    return df1.extend(df2)"
   ]
  },
  {
   "cell_type": "markdown",
   "id": "f775bde2-aced-438e-bf31-063e6a258e5f",
   "metadata": {},
   "source": [
    "We first test the timings for combining the two large `DataFrames` to a new `DataFrame`. Note that:\n",
    "- relative timings may vary between your machine and my machine due to hardware differences\n",
    "- timings often get slower the longer the kernel has been running, it may be worth restarting it periodically\n",
    "- it is worth running any set of timings a few times as they do vary"
   ]
  },
  {
   "cell_type": "code",
   "execution_count": null,
   "id": "6f0da14c-03b2-49c9-8e2e-c8c0c1970a1a",
   "metadata": {},
   "outputs": [],
   "source": [
    "concatRechunk(df,dfOther)\n",
    "concatNoRechunk(df,dfOther)\n",
    "vstack(df,dfOther)\n",
    "vstackRechunk(df,dfOther)\n",
    "extend(df,dfOther)\n",
    "# Add a line here to stop the wrapped function printing a DataFrame\n",
    "a = 1"
   ]
  },
  {
   "cell_type": "markdown",
   "id": "1a7fb39e-89dc-47f1-bfa1-e7241d837ecb",
   "metadata": {},
   "source": [
    "On my machine `concatRechunk` takes about 100 milliseconds. If you get values much larger than this I recommend restarting your kernel and trying again.\n",
    "\n",
    "We see that combining `DataFrames` without copying any data (`concatNoRechunk`,`vstack`) is very fast - especially `vstack`."
   ]
  },
  {
   "cell_type": "markdown",
   "id": "21b57cf0-e1de-4820-9d1a-c5aa77d76bc3",
   "metadata": {},
   "source": [
    "### Combining a large and small `DataFrame`\n",
    "\n",
    "Compare how long it takes to combine `df` with `dfOtherSmall`"
   ]
  },
  {
   "cell_type": "code",
   "execution_count": null,
   "id": "f3c92845-a6a4-4e36-8b15-e424090fc66c",
   "metadata": {},
   "outputs": [],
   "source": [
    "concatRechunk(df,dfOtherSmall)\n",
    "concatNoRechunk(df,dfOtherSmall)\n",
    "vstack(df,dfOtherSmall)\n",
    "vstackRechunk(df,dfOtherSmall)\n",
    "extend(df,dfOtherSmall)\n",
    "a = 1"
   ]
  },
  {
   "cell_type": "markdown",
   "id": "e961f582-b47c-4983-9b2c-59a7ffad3cd2",
   "metadata": {},
   "source": [
    "In this case we also find that `extend` is very fast as it copies data but only copies the second smaller `DataFrame` that it appends to the large `DataFrame` (on some runs for me `extend` can also be as slow as `concatRechunk` though)\n",
    "\n",
    "### Combining and doing a groupby\n",
    "We now want to do a `groupby` on the combined `DataFrame`. We want to see if the strategies that do a `rechunk` make up time with a faster `groupby` "
   ]
  },
  {
   "cell_type": "code",
   "execution_count": null,
   "id": "89f13a58-d6b7-4c4d-a269-64f015843bd2",
   "metadata": {},
   "outputs": [],
   "source": [
    "@timeit\n",
    "def concatRechunk(df1,df2):\n",
    "    return pl.concat([df1,df2,],rechunk=True).groupby(\"id\").agg(\n",
    "        pl.col(pl.Float64).mean()\n",
    "    )\n",
    "@timeit\n",
    "def concatNoRechunk(df1,df2):\n",
    "    return pl.concat([df1,df2,],rechunk=False).groupby(\"id\").agg(\n",
    "        pl.col(pl.Float64).mean()\n",
    "    )\n",
    "@timeit\n",
    "def vstack(df1,df2):\n",
    "    return df1.vstack(df2).groupby(\"id\").agg(\n",
    "        pl.col(pl.Float64).mean()\n",
    "    )\n",
    "@timeit\n",
    "def vstackRechunk(df1,df2):\n",
    "    return df1.vstack(df2).groupby(\"id\").agg(\n",
    "        pl.col(pl.Float64).mean()\n",
    "    )\n",
    "@timeit\n",
    "def extend(df1,df2):\n",
    "    return df1.extend(df2).groupby(\"id\").agg(\n",
    "        pl.col(pl.Float64).mean()\n",
    "    )"
   ]
  },
  {
   "cell_type": "code",
   "execution_count": null,
   "id": "45ed619d-7e6f-4a84-af1b-168e8897d7c7",
   "metadata": {},
   "outputs": [],
   "source": [
    "concatRechunk(df,dfOther)\n",
    "concatNoRechunk(df,dfOther)\n",
    "vstack(df,dfOther)\n",
    "vstackRechunk(df,dfOther)\n",
    "extend(df,dfOther)\n",
    "# Add a line here to stop the wrapped function printing a DataFrame\n",
    "a = 1"
   ]
  },
  {
   "cell_type": "markdown",
   "id": "3e645b61-c2fb-4fc9-89f2-d2beb6da8037",
   "metadata": {},
   "source": [
    "On my machine the differences are much smaller between strategies in this case but `vstack` is still fastest"
   ]
  },
  {
   "cell_type": "markdown",
   "id": "001b6100-e8ce-41b7-affe-0d565e1f79c4",
   "metadata": {},
   "source": [
    "### Combining and doing a sort\n",
    "We now combine and sort by the `id` column"
   ]
  },
  {
   "cell_type": "code",
   "execution_count": null,
   "id": "11681280-a5c8-4bdb-8daf-7fea9d134e9c",
   "metadata": {},
   "outputs": [],
   "source": [
    "@timeit\n",
    "def concatRechunk(df1,df2):\n",
    "    return pl.concat([df1,df2,],rechunk=True).sort(\"id\")\n",
    "@timeit\n",
    "def concatNoRechunk(df1,df2):\n",
    "    return pl.concat([df1,df2,],rechunk=False).sort(\"id\")\n",
    "@timeit\n",
    "def vstack(df1,df2):\n",
    "    return df1.vstack(df2).sort(\"id\")\n",
    "@timeit\n",
    "def vstackRechunk(df1,df2):\n",
    "    return df1.vstack(df2).sort(\"id\")\n",
    "@timeit\n",
    "def extend(df1,df2):\n",
    "    return df1.extend(df2).sort(\"id\")"
   ]
  },
  {
   "cell_type": "code",
   "execution_count": null,
   "id": "811c92d5-6cd1-4318-969b-656bf13ef954",
   "metadata": {},
   "outputs": [],
   "source": [
    "concatRechunk(df,dfOther)\n",
    "concatNoRechunk(df,dfOther)\n",
    "vstack(df,dfOther)\n",
    "vstackRechunk(df,dfOther)\n",
    "extend(df,dfOther)\n",
    "# Add a line here to stop the wrapped function printing a DataFrame\n",
    "a = 1"
   ]
  },
  {
   "cell_type": "markdown",
   "id": "9fc5d067-f6aa-467a-9f9e-35701633cbbf",
   "metadata": {},
   "source": [
    "Again in this case the `vstack` strategy is fastest (for me at least) but the relative differences are smaller.\n",
    "\n",
    "The timings presented here cannot provide results on the different methods but do show that it may be worth experimenting with the various approaches in your own queries.\n",
    "\n",
    "## Horizontal combinations\n",
    "Both of the horizontal combinations are similarly fast as there is no rechunking of data"
   ]
  },
  {
   "cell_type": "code",
   "execution_count": null,
   "id": "6595c1c1-5044-4379-89f0-1f92b4ccdff1",
   "metadata": {},
   "outputs": [],
   "source": [
    "@timeit\n",
    "def concat_horizontal(df1,df2):\n",
    "    return pl.concat([df1,df2.select(pl.all().suffix(\"_other\"))],how=\"horizontal\")\n",
    "@timeit\n",
    "def hstack(df1,df2):\n",
    "    return df1.hstack(df2.select(pl.all().suffix(\"_other\")))"
   ]
  },
  {
   "cell_type": "code",
   "execution_count": null,
   "id": "bc158900-bb1c-4357-a166-858c252ab334",
   "metadata": {
    "tags": []
   },
   "outputs": [],
   "source": [
    "# Make more large DataFrames\n",
    "dfHorizontal1 = makeDataFrame(N=N,K=K,cardinality=cardinality)\n",
    "dfHorizontal2 = makeDataFrame(N=N,K=K,cardinality=cardinality)"
   ]
  },
  {
   "cell_type": "code",
   "execution_count": null,
   "id": "9f689eb8-ad65-4f1c-9e6f-e0210f30e50c",
   "metadata": {
    "tags": []
   },
   "outputs": [],
   "source": [
    "concat_horizontal(dfHorizontal1,dfHorizontal2)\n",
    "hstack(dfHorizontal1,dfHorizontal2)\n"
   ]
  },
  {
   "cell_type": "code",
   "execution_count": null,
   "id": "a84041c9-ab6c-42a8-b7f7-39e01d4f5151",
   "metadata": {},
   "outputs": [],
   "source": []
  }
 ],
 "metadata": {
  "kernelspec": {
   "display_name": "Python 3 (ipykernel)",
   "language": "python",
   "name": "python3"
  },
  "language_info": {
   "codemirror_mode": {
    "name": "ipython",
    "version": 3
   },
   "file_extension": ".py",
   "mimetype": "text/x-python",
   "name": "python",
   "nbconvert_exporter": "python",
   "pygments_lexer": "ipython3",
   "version": "3.10.1"
  }
 },
 "nbformat": 4,
 "nbformat_minor": 5
}
