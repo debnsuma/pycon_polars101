{
    "cells": [
        {
            "cell_type": "markdown",
            "id": "22a5ae25-072a-4be5-b590-714963ad9c89",
            "metadata": {},
            "source": [
                "## Use an expression in another `DataFrame`\n",
                "By the end of this lecture you will be able to:\n",
                "- use an expression in another `DataFrame`\n",
                "- use data from a training `DataFrame` in a testing `DataFrame`"
            ]
        },
        {
            "cell_type": "code",
            "execution_count": null,
            "id": "cd262a02-ed00-416d-a5b9-6b77bd6bab41",
            "metadata": {},
            "outputs": [],
            "source": [
                "import polars as pl"
            ]
        },
        {
            "cell_type": "markdown",
            "id": "47ac3c09-5075-444f-83d6-e7d3ca1377c2",
            "metadata": {},
            "source": [
                "In this simple example we have a `DataFrame` `df` with a column `a`. \n",
                "\n",
                "We require a `LazyFrame` so we call `.lazy` at the end"
            ]
        },
        {
            "cell_type": "code",
            "execution_count": null,
            "id": "ddcfd874-9b81-4afb-9a86-a439ff77440e",
            "metadata": {},
            "outputs": [],
            "source": [
                "df = (\n",
                "    pl.DataFrame(\n",
                "        {\n",
                "            \"a\":[0,1,2],\n",
                "        }\n",
                "    )\n",
                "    .lazy()\n",
                ")"
            ]
        },
        {
            "cell_type": "markdown",
            "id": "a61b2ef5-74e6-4b30-8ec2-dc8f37d2e54c",
            "metadata": {},
            "source": [
                "We also have another `DataFrame` `df_other` with a column `b`. We again convert this to a `LazyFrame` at the end"
            ]
        },
        {
            "cell_type": "code",
            "execution_count": null,
            "id": "c233bd75-e199-467d-8dfb-97b26d5909c7",
            "metadata": {},
            "outputs": [],
            "source": [
                "df_other = (\n",
                "    pl.DataFrame(\n",
                "        {\n",
                "            \"b\":[3,4,5]\n",
                "        }\n",
                "    )\n",
                "    .lazy()\n",
                ")"
            ]
        },
        {
            "cell_type": "markdown",
            "id": "b8a0cc53-dac5-4fe7-8c16-f9cdd4d0958c",
            "metadata": {},
            "source": [
                "We want to add the values in column `a` of `df` with the values in `b` in `df_other`\n",
                "\n",
                "We do this by calling `with_context(df_other)` on `df`. This allows us to use columns from `df_other` in expressions on `df`"
            ]
        },
        {
            "cell_type": "code",
            "execution_count": null,
            "id": "f63dbf42-52d4-4635-9256-8ee96e842c23",
            "metadata": {},
            "outputs": [],
            "source": [
                "(\n",
                "    df\n",
                "    .with_context(\n",
                "        df_other\n",
                "    )\n",
                "    .with_columns(\n",
                "        [\n",
                "            pl.col(\"b\"),\n",
                "            (pl.col(\"a\") + pl.col(\"b\")).alias(\"sum\")\n",
                "        ]\n",
                "    )\n",
                "    .collect()\n",
                ")"
            ]
        },
        {
            "cell_type": "markdown",
            "id": "7916c0b2-a284-4fdd-9df2-f79d1b68483f",
            "metadata": {},
            "source": [
                "In this example the length of `df` and `df_other` are the same so we can add the entire column.\n",
                "\n",
                "In general the lengths of `df` and `df_other` do not need to match - the output of the expression on `df_other` just needs to fit the space in `df`. We see an example of this in the exercises.\n",
                "\n",
                "## Column names\n",
                "If the column names overlap between `df` and `df_other` we need to rename the columns in `df_other` in the `with_context` statement. We also see an example of this in the exercises.\n",
                "\n",
                "## Exercises\n",
                "\n",
                "In the exercises you will develop your understanding of:\n",
                "- using a column from another `DataFrame` in an expression\n",
                "- dealing with column name overlaps\n",
                "\n",
                "### Exercise 1\n",
                "We read the Titanic CSV and split it into a train and test `DataFrame`"
            ]
        },
        {
            "cell_type": "code",
            "execution_count": null,
            "id": "c1e757d0-4a05-4a49-9e64-9bb3640de74c",
            "metadata": {},
            "outputs": [],
            "source": [
                "csvFile = \"../data/titanic.csv\"\n",
                "df = pl.read_csv(csvFile)\n",
                "train_df = df[:720]\n",
                "test_df = df[720:]"
            ]
        },
        {
            "cell_type": "code",
            "execution_count": null,
            "id": "61a6da10-e249-43c1-9e44-e2d38cdd1595",
            "metadata": {},
            "outputs": [],
            "source": []
        },
        {
            "cell_type": "markdown",
            "id": "edfbf012-e28b-42b1-8baa-d948dfc1734d",
            "metadata": {},
            "source": [
                "We print out the median values for the `Age` in the train and test set"
            ]
        },
        {
            "cell_type": "code",
            "execution_count": null,
            "id": "102ef2ee-bc37-4f20-aefc-16f0631e3e25",
            "metadata": {},
            "outputs": [],
            "source": [
                "print(\n",
                "    f\"Train median: {train_df['Age'].median()}\",\n",
                "    f\"Train median: {test_df['Age'].median()}\"\n",
                ")"
            ]
        },
        {
            "cell_type": "markdown",
            "id": "d48c4f36-41ac-4d2e-a6e9-b81b9031758b",
            "metadata": {},
            "source": [
                "We want to fill the `null` values in `test_df` with the median value from `train_df` which is 28.0.\n",
                "\n",
                "Convert the train and test `DataFrames` into `LazyFrames`"
            ]
        },
        {
            "cell_type": "code",
            "execution_count": null,
            "id": "56993859-57f4-4cef-b151-c2ed9d270fd0",
            "metadata": {},
            "outputs": [],
            "source": [
                "train_df = <blank>\n",
                "test_df = <blank>"
            ]
        },
        {
            "cell_type": "markdown",
            "id": "5dfef292-821a-4cce-bfc8-7ffde223a33f",
            "metadata": {},
            "source": [
                "Fill the `null` values in the `Age` column of the training `DataFrame` with the median value of the `Age` column"
            ]
        },
        {
            "cell_type": "code",
            "execution_count": null,
            "id": "79eaa9dd-6347-48bd-b1b0-a5f46519856a",
            "metadata": {},
            "outputs": [],
            "source": [
                "train_df_mod = (\n",
                "    train_df\n",
                "    .with_columns(\n",
                "        pl.col(\"Age\").<blank>\n",
                "    )\n",
                ")"
            ]
        },
        {
            "cell_type": "markdown",
            "id": "2b4746fc-958d-46a5-9903-c5732f825af7",
            "metadata": {},
            "source": [
                "In `test_df` fill the `null` values with the median value of the `Age` from the training `DataFrame`. Do this as a new column called `Age_filled`"
            ]
        },
        {
            "cell_type": "code",
            "execution_count": null,
            "id": "d9970e6d-f086-4b8d-93d0-2bb5b46fb043",
            "metadata": {},
            "outputs": [],
            "source": [
                "test_df_mod = (\n",
                "    test_df\n",
                "    <blank>\n",
                "    .collect()\n",
                ")"
            ]
        },
        {
            "cell_type": "markdown",
            "id": "7119877a-f05a-4ebf-ac26-1f26a5ec381e",
            "metadata": {},
            "source": [
                "The median of the `Age` column from `train_df` is 28.0 - check if `null` values in `test_df_mod` have been filled with 28.0"
            ]
        },
        {
            "cell_type": "code",
            "execution_count": null,
            "id": "8d3efa18-d346-4d51-8585-a0e13ffe4632",
            "metadata": {},
            "outputs": [],
            "source": [
                "(\n",
                "    test_df_mod\n",
                "    .filter(pl.col(\"Age\").is_null())\n",
                "    .select(\n",
                "        [\"Age\",\"Age_filled\"]\n",
                "    )\n",
                "    .head(3)\n",
                ")"
            ]
        },
        {
            "cell_type": "markdown",
            "id": "abca3cac-6cc0-4720-9fa8-1ee20740c746",
            "metadata": {},
            "source": [
                "We see that the `null` values have been filled with 27.5 - this is the median value from the `test_df` and not the `train_df`\n",
                "\n",
                "Try to fill the `null` values again - but this time rename all the columns in `train_df` with the suffix `_train`"
            ]
        },
        {
            "cell_type": "code",
            "execution_count": null,
            "id": "91162759-c51a-4164-93d2-8c1418a77716",
            "metadata": {},
            "outputs": [],
            "source": [
                "test_df_mod = (\n",
                "    test_df\n",
                "    <blank>\n",
                "    .collect()\n",
                ")"
            ]
        },
        {
            "cell_type": "markdown",
            "id": "9bc5a0db-ae56-4a11-b27f-d5ccf33bdff3",
            "metadata": {},
            "source": [
                "Check again to see that the `null` values in `Age_filled` are 28.0"
            ]
        },
        {
            "cell_type": "code",
            "execution_count": null,
            "id": "9170649c-2beb-4211-8d81-263aaea2f582",
            "metadata": {},
            "outputs": [],
            "source": [
                "(\n",
                "    test_df_mod\n",
                "    .filter(pl.col(\"Age\").is_null())\n",
                "    .select(\n",
                "        [\"Age\",\"Age_filled\"]\n",
                "    )\n",
                "    .head(3)\n",
                ")"
            ]
        },
        {
            "cell_type": "markdown",
            "id": "82a5c519-e6fa-4a1d-a8e3-1d753b2116f2",
            "metadata": {},
            "source": [
                "## Solutions\n",
                "\n",
                "### Solution to exercise 1\n",
                "We read the Titanic CSV and split it into a train and test `DataFrame`"
            ]
        },
        {
            "cell_type": "code",
            "execution_count": null,
            "id": "3913e900-f4c0-4e17-bcf9-9e42aae53a79",
            "metadata": {},
            "outputs": [],
            "source": [
                "csvFile = \"../data/titanic.csv\"\n",
                "df = pl.read_csv(csvFile)\n",
                "train_df = df[:720]\n",
                "test_df = df[720:]"
            ]
        },
        {
            "cell_type": "markdown",
            "id": "87dd20ef-448c-4fdc-8404-0454f9f4fdbe",
            "metadata": {},
            "source": [
                "We print out the median values for the `Age` in the train and test set"
            ]
        },
        {
            "cell_type": "code",
            "execution_count": null,
            "id": "ba755673-ac65-4bc5-a75a-05829ee05e9b",
            "metadata": {},
            "outputs": [],
            "source": [
                "print(\n",
                "    f\"Train median: {train_df['Age'].median()}\",\n",
                "    f\"Train median: {test_df['Age'].median()}\"\n",
                ")"
            ]
        },
        {
            "cell_type": "markdown",
            "id": "1109b354-8dcd-4e37-83cd-6ddc1c78906e",
            "metadata": {},
            "source": [
                "Convert the train and test `DataFrames` into `LazyFrames`"
            ]
        },
        {
            "cell_type": "code",
            "execution_count": null,
            "id": "a6635479-21b0-4829-8d4e-fa0fa4d01f3c",
            "metadata": {
                "jupyter": {
                    "source_hidden": true
                },
                "tags": []
            },
            "outputs": [],
            "source": [
                "train_df = train_df.lazy()\n",
                "test_df = test_df.lazy()"
            ]
        },
        {
            "cell_type": "markdown",
            "id": "ce74c07b-7e0e-41dd-a0bf-82459599ea89",
            "metadata": {},
            "source": [
                "Fill the `null` values in the `Age` column of the training `DataFrame` with the median value of the `Age` column"
            ]
        },
        {
            "cell_type": "code",
            "execution_count": null,
            "id": "0fcf9e5a-b1fa-4ab9-aec9-eea4a8ff54be",
            "metadata": {
                "tags": []
            },
            "outputs": [],
            "source": [
                "train_df_mod = (\n",
                "    train_df\n",
                "    .with_columns(\n",
                "        pl.col(\"Age\").fill_null(pl.col(\"Age\").median())\n",
                "    )\n",
                ")"
            ]
        },
        {
            "cell_type": "markdown",
            "id": "abbb4281-57dd-4920-ac9e-6e254afad53d",
            "metadata": {},
            "source": [
                "In `test_df` fill the `null` values with the median value of the `Age` from the training `DataFrame`"
            ]
        },
        {
            "cell_type": "code",
            "execution_count": null,
            "id": "f4d40081-1d89-4b6c-95c1-b551a938efea",
            "metadata": {
                "jupyter": {
                    "source_hidden": true
                },
                "tags": []
            },
            "outputs": [],
            "source": [
                "test_df_mod = (\n",
                "    test_df\n",
                "    .with_context(\n",
                "        train_df\n",
                "    )\n",
                "    .with_columns(\n",
                "        pl.col(\"Age\").fill_null(pl.col(\"Age\").median()).alias(\"Age_filled\")\n",
                "    )\n",
                "    .collect()\n",
                ")"
            ]
        },
        {
            "cell_type": "markdown",
            "id": "e77fa195-d2e4-4ded-b039-7ff8f96cefb6",
            "metadata": {},
            "source": [
                "The median of the `Age` column from `train_df` is 28.0 - check if `null` values in `test_df_mod` have been filled with 28.0"
            ]
        },
        {
            "cell_type": "code",
            "execution_count": null,
            "id": "127268ec-07ca-4c82-982f-9c02cc99a094",
            "metadata": {},
            "outputs": [],
            "source": [
                "(\n",
                "    test_df_mod\n",
                "    .filter(pl.col(\"Age\").is_null())\n",
                "    .select(\n",
                "        [\"Age\",\"Age_filled\"]\n",
                "    )\n",
                "    .head(3)\n",
                ")"
            ]
        },
        {
            "cell_type": "markdown",
            "id": "2efd11d7-b7d9-48d6-aee0-c886aa1441c8",
            "metadata": {},
            "source": [
                "We see that the `null` values have been filled with 27.5 - this is the median value from the `test_df` and not the `train_df`\n",
                "\n",
                "Try to fill the `null` values again - but this time rename all the columns in `train_df` with the suffix `_train`"
            ]
        },
        {
            "cell_type": "code",
            "execution_count": null,
            "id": "4e1c56ae-3b4e-4eba-b7bf-74413becb6d4",
            "metadata": {
                "jupyter": {
                    "source_hidden": true
                },
                "tags": []
            },
            "outputs": [],
            "source": [
                "test_df_mod = (\n",
                "    test_df\n",
                "    .with_context(\n",
                "        train_df.select(pl.all().suffix(\"_train\"))\n",
                "    )\n",
                "    .with_columns(\n",
                "        pl.col(\"Age\").fill_null(pl.col(\"Age_train\").median()).alias(\"Age_filled\")\n",
                "    )\n",
                "    .collect()\n",
                ")"
            ]
        },
        {
            "cell_type": "markdown",
            "id": "5a253adc-b0f9-455f-8990-992cd65f2885",
            "metadata": {},
            "source": [
                "Check again to see that the `null` values in `Age_filled` are 28.0"
            ]
        },
        {
            "cell_type": "code",
            "execution_count": null,
            "id": "3771225e-d2ff-4f71-990b-633f0767212e",
            "metadata": {},
            "outputs": [],
            "source": [
                "(\n",
                "    test_df_mod\n",
                "    .filter(pl.col(\"Age\").is_null())\n",
                "    .select(\n",
                "        [\"Age\",\"Age_filled\"]\n",
                "    )\n",
                "    .head(3)\n",
                ")"
            ]
        }
    ],
    "metadata": {
        "kernelspec": {
            "display_name": "Python 3 (ipykernel)",
            "language": "python",
            "name": "python3"
        },
        "language_info": {
            "codemirror_mode": {
                "name": "ipython",
                "version": 3
            },
            "file_extension": ".py",
            "mimetype": "text/x-python",
            "name": "python",
            "nbconvert_exporter": "python",
            "pygments_lexer": "ipython3",
            "version": "3.10.1"
        }
    },
    "nbformat": 4,
    "nbformat_minor": 5
}