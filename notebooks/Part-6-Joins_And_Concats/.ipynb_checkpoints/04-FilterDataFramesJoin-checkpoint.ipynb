{
 "cells": [
  {
   "cell_type": "markdown",
   "id": "a4406841-5bde-4424-8710-85bf8fb1f4e4",
   "metadata": {},
   "source": [
    "## Filtering one `DataFrame` by another `DataFrame`\n",
    "By the end of this lecture you will be able to:\n",
    "- filter a `DataFrame` to include values present in another `DataFrame`\n",
    "- filter a `DataFrame` to include values not present in another `DataFrame`\n",
    "- compare the performance of these `join` operations with a `filter` operation"
   ]
  },
  {
   "cell_type": "code",
   "execution_count": null,
   "id": "5494f6d0-be7d-40da-9c37-879d27c488a0",
   "metadata": {},
   "outputs": [],
   "source": [
    "import polars as pl"
   ]
  },
  {
   "cell_type": "code",
   "execution_count": null,
   "id": "a568e5fe-621c-4228-bfc4-f2b5771aebd4",
   "metadata": {},
   "outputs": [],
   "source": [
    "csvFile = \"../data/cites_extract.csv\""
   ]
  },
  {
   "cell_type": "markdown",
   "id": "b07da073-fdfa-48ed-900c-fa8920fa4ae5",
   "metadata": {},
   "source": [
    "We create a `DataFrame` from the CITES dataset introduced in previous lectures in this Section.\n",
    "\n",
    "Each row of the `DataFrame` records an international trade in an endangered species."
   ]
  },
  {
   "cell_type": "code",
   "execution_count": null,
   "id": "3e7c487d-48fb-4ab9-8238-62f34fd830da",
   "metadata": {},
   "outputs": [],
   "source": [
    "dfCITES = pl.read_csv(csvFile)\n",
    "dfCITES"
   ]
  },
  {
   "cell_type": "code",
   "execution_count": null,
   "id": "a00ca26a-782a-4dda-946f-12a25465cc25",
   "metadata": {},
   "outputs": [],
   "source": [
    "isoCSVFile = \"../data/countries_extract.csv\""
   ]
  },
  {
   "cell_type": "markdown",
   "id": "1b37d65e-0ea9-4ffe-a4f5-49385a9386ed",
   "metadata": {},
   "source": [
    "We create a `DataFrame` from an extract of the ISO country data"
   ]
  },
  {
   "cell_type": "code",
   "execution_count": null,
   "id": "cfcd37c9-99f2-480a-bcc0-dfa9eedccf7e",
   "metadata": {},
   "outputs": [],
   "source": [
    "dfISO = pl.read_csv(isoCSVFile)\n",
    "dfISO"
   ]
  },
  {
   "cell_type": "markdown",
   "id": "829bed7a-3541-4bd2-838b-4a17f6ba6f52",
   "metadata": {},
   "source": [
    "## Keep rows with values that are present in another `DataFrame`\n",
    "\n",
    "We keep rows that are present in another `DataFrame` with a `semi` join.\n",
    "\n",
    "In this example we keep rows from the CITES data if the Importer country is in the ISO extract"
   ]
  },
  {
   "cell_type": "code",
   "execution_count": null,
   "id": "715b6cb7-9dbb-4fde-b562-42da5e96f86d",
   "metadata": {},
   "outputs": [],
   "source": [
    "(\n",
    "    dfCITES\n",
    "    .join(\n",
    "        dfISO,\n",
    "        how=\"semi\",\n",
    "        left_on=\"Importer\",\n",
    "        right_on=\"alpha-2\"\n",
    "    )\n",
    ")   "
   ]
  },
  {
   "cell_type": "markdown",
   "id": "b6171c66-8c36-4089-b62d-63a73897ba0b",
   "metadata": {},
   "source": [
    "A `semi` join is like an inner join but we do not add any columns from the right `DataFrame` - it is purely a filtering operation\n",
    "\n",
    "## Keep rows with values that are **not** present in another `DataFrame`\n",
    "We keep rows that are not present in another `DataFrame` with an `anti` join.\n",
    "\n",
    "In this example we keep rows from the CITES data if the Importer country **is not in the ISO extract**"
   ]
  },
  {
   "cell_type": "code",
   "execution_count": null,
   "id": "edf55796-bbe5-4ba2-a908-7892aba4f0bf",
   "metadata": {},
   "outputs": [],
   "source": [
    "(\n",
    "    dfCITES\n",
    "    .join(\n",
    "        dfISO,\n",
    "        how=\"anti\",\n",
    "        left_on=\"Importer\",\n",
    "        right_on=\"alpha-2\"\n",
    "    )\n",
    ")"
   ]
  },
  {
   "cell_type": "markdown",
   "id": "cd534977-4d97-4fc1-a227-1a2fce5d5a44",
   "metadata": {},
   "source": [
    "Again we do not add any columns from the right `DataFrame`"
   ]
  },
  {
   "cell_type": "markdown",
   "id": "b4c0a324-2fb7-462b-88f3-d60d738f6d79",
   "metadata": {},
   "source": [
    "## Comparing a `semi` join with `is_in`\n",
    "A semi join has similar functionality to using `is_in` within `filter`.\n",
    "\n",
    "In the exercises we compare the performance of a semi `join` compared to `filter`.\n",
    "\n",
    "## Exercises\n",
    "In the exercises you will develop your understanding of:\n",
    "- filtering a `DataFrame` with a `semi` join\n",
    "- filtering a `DataFrame` with an `anti` join\n",
    "- the relative performance of `filter.is_in` and a `semi`/`anti` join\n",
    "\n",
    "### Exercise 1\n",
    "We create a `DataFrame` from the Titanic data"
   ]
  },
  {
   "cell_type": "code",
   "execution_count": null,
   "id": "56e0d717-bbd8-4573-a726-371b6120646d",
   "metadata": {},
   "outputs": [],
   "source": [
    "pl.Config.set_fmt_str_lengths(80)\n",
    "csvFile = \"../data/titanic.csv\"\n",
    "df = pl.read_csv(csvFile)"
   ]
  },
  {
   "cell_type": "markdown",
   "id": "87b2e546-edb3-458d-8eb4-0ae893d3a4eb",
   "metadata": {},
   "source": [
    "Create a `DataFrame` that has the Name, Sex, Age and Survival status of **all the passengers** from the ship's manifesto"
   ]
  },
  {
   "cell_type": "code",
   "execution_count": null,
   "id": "c1b664ef-1e38-4020-ab7d-29cbab48d023",
   "metadata": {},
   "outputs": [],
   "source": [
    "dfManifesto = (\n",
    "    <blank>\n",
    ")\n",
    "dfManifesto.head(3)"
   ]
  },
  {
   "cell_type": "markdown",
   "id": "abb07463-6e46-4a3c-b19a-5bbe12884491",
   "metadata": {},
   "source": [
    "Create another `DataFrame` that only has the Name of the passengers that survived"
   ]
  },
  {
   "cell_type": "code",
   "execution_count": null,
   "id": "a00bcf9a-ac02-4476-a9c6-0e4163eb2374",
   "metadata": {},
   "outputs": [],
   "source": [
    "dfSurvival = (\n",
    "    <blank>\n",
    ")\n",
    "dfSurvival.head()"
   ]
  },
  {
   "cell_type": "markdown",
   "id": "00f47c78-b5b3-4ad7-b18f-f91e28880e39",
   "metadata": {},
   "source": [
    "Filter `dfManifesto` to create a `DataFrame` with the details of the passengers that did not survive - all values in `Survived` should be 0"
   ]
  },
  {
   "cell_type": "code",
   "execution_count": null,
   "id": "fd11289f-f6ad-42d2-8b0d-e6d217f69d31",
   "metadata": {},
   "outputs": [],
   "source": [
    "(\n",
    "    <blank>\n",
    "    .head(3)\n",
    ")\n",
    "        "
   ]
  },
  {
   "cell_type": "markdown",
   "id": "76cdbfc7-ebdb-438c-b4c6-40cdd4f4bac3",
   "metadata": {},
   "source": [
    "Filter `dfManifesto` to create a `DataFrame` with the details of the passengers that did survive - all values in `Survived` should be 1"
   ]
  },
  {
   "cell_type": "code",
   "execution_count": null,
   "id": "52c8b799-e32f-4f18-a2da-a35a40e366f4",
   "metadata": {},
   "outputs": [],
   "source": [
    "(\n",
    "    <blank>\n",
    "    .head(3)\n",
    ")\n",
    "        "
   ]
  },
  {
   "cell_type": "markdown",
   "id": "e989684f-b685-462d-911a-4b1429f5f194",
   "metadata": {},
   "source": [
    "### Exercise 2\n",
    "We create a left `DataFrame` with `N` rows and `cardinality` distinct values in the string `id` column that we join on"
   ]
  },
  {
   "cell_type": "code",
   "execution_count": null,
   "id": "966eeeb9-99f9-4582-8c96-32d43b02847d",
   "metadata": {},
   "outputs": [],
   "source": [
    "import numpy as np\n",
    "np.random.seed(0)\n",
    "\n",
    "N = 1_000_000\n",
    "# Cardinality is half of N\n",
    "cardinality = N // 2\n",
    "# Create the random array of values for the join column\n",
    "stringArray = [f\"id{i}\" for i in np.random.randint(0,cardinality,N)]\n",
    "\n",
    "dfLeft = pl.DataFrame(\n",
    "    {\n",
    "        \"id\":stringArray\n",
    "    }\n",
    ")\n",
    "dfLeft.head(3)"
   ]
  },
  {
   "cell_type": "markdown",
   "id": "42f53f8c-70bb-46ba-bcfd-190f41b30d72",
   "metadata": {},
   "source": [
    "Create the right `DataFrame` with a single row for each `id`.\n",
    "\n",
    "The right `DataFrame` only has rows for half of the `id` values in `dfLeft` so we can use it to filter `dfLeft`"
   ]
  },
  {
   "cell_type": "code",
   "execution_count": null,
   "id": "f7de7473-de05-44db-ab42-c6cf01e2859f",
   "metadata": {},
   "outputs": [],
   "source": [
    "dfRight = pl.DataFrame(\n",
    "    {\"id\" : [f\"id{i}\" for i in np.arange(0,cardinality // 2)]}\n",
    ")\n",
    "dfRight.head(3)"
   ]
  },
  {
   "cell_type": "markdown",
   "id": "36f17d59-aecf-431c-b362-fe114828fda6",
   "metadata": {},
   "source": [
    "Filter `dfLeft` by `dfRight` using `filter` and `is_in`. We use the `timeit` magic with 3 iterations (`r3`)"
   ]
  },
  {
   "cell_type": "code",
   "execution_count": null,
   "id": "0fe5c39c-91e4-43fd-9bd1-ca96ff306dd4",
   "metadata": {},
   "outputs": [],
   "source": [
    "%%timeit -n1 -r3 \n",
    "(\n",
    "    <blank>\n",
    ")"
   ]
  },
  {
   "cell_type": "markdown",
   "id": "145bbf8e-a933-42ae-a7a4-64c9fdc83f48",
   "metadata": {},
   "source": [
    "Filter `dfLeft` by `dfRight` with a `semi` join"
   ]
  },
  {
   "cell_type": "code",
   "execution_count": null,
   "id": "200b80ca-7872-409a-be43-d4a8df86722b",
   "metadata": {},
   "outputs": [],
   "source": [
    "%%timeit -n1 -r3 \n",
    "(\n",
    "    <blank>\n",
    ")"
   ]
  },
  {
   "cell_type": "markdown",
   "id": "22cf8a80-5618-4d94-8141-7e8937316635",
   "metadata": {},
   "source": [
    "- Vary `N` to see if the relative difference changes with scale\n",
    "- Vary `cardinality` (e.g. set equal to `N // 8` or a small number like `10`) to see how changes in cardinality affect relative performance"
   ]
  },
  {
   "cell_type": "markdown",
   "id": "cc2299de-de0c-42d4-8d5b-46a931041e37",
   "metadata": {},
   "source": [
    "## Solutions\n",
    "\n",
    "### Solution to exercise 1\n",
    "\n",
    "We create a `DataFrame` from the Titanic data"
   ]
  },
  {
   "cell_type": "code",
   "execution_count": null,
   "id": "69c52c46-4ab7-4d5b-bc9d-07cbb6b7a457",
   "metadata": {},
   "outputs": [],
   "source": [
    "pl.Config.set_fmt_str_lengths(80)\n",
    "csvFile = \"../data/titanic.csv\"\n",
    "df = pl.read_csv(csvFile)"
   ]
  },
  {
   "cell_type": "markdown",
   "id": "964d2806-4409-4bab-b0fc-61d266b05c41",
   "metadata": {},
   "source": [
    "Create a `DataFrame` that has the Name, Sex, Age and Survival status of **all the passengers** from the ship's manifesto"
   ]
  },
  {
   "cell_type": "code",
   "execution_count": null,
   "id": "669e6954-6e06-4f8a-a20f-2a94385363a9",
   "metadata": {
    "jupyter": {
     "source_hidden": true
    },
    "tags": []
   },
   "outputs": [],
   "source": [
    "dfManifesto = (\n",
    "    df\n",
    "    .select([\"Name\",\"Sex\",\"Age\",\"Survived\"])\n",
    ")\n",
    "dfManifesto.head(3)"
   ]
  },
  {
   "cell_type": "markdown",
   "id": "bbfb7541-359c-47d9-8e67-bb854dfdd099",
   "metadata": {},
   "source": [
    "Create another `DataFrame` that only has the Name of the passengers that survived"
   ]
  },
  {
   "cell_type": "code",
   "execution_count": null,
   "id": "119feaf3-f58b-453f-9e2f-1c3511a5ae09",
   "metadata": {
    "jupyter": {
     "source_hidden": true
    },
    "tags": []
   },
   "outputs": [],
   "source": [
    "dfSurvival = (\n",
    "    df\n",
    "    .filter(\n",
    "        pl.col(\"Survived\") == 1\n",
    "    )\n",
    "    .select(\"Name\")\n",
    ")\n",
    "dfSurvival.head(3)"
   ]
  },
  {
   "cell_type": "markdown",
   "id": "6459f3c8-70ee-46dd-9a15-048ab8e262b1",
   "metadata": {},
   "source": [
    "Filter `dfManifesto` to create a `DataFrame` with the details of the passengers that did not survive (all values in `Survived` should be 0)"
   ]
  },
  {
   "cell_type": "code",
   "execution_count": null,
   "id": "ae87a411-11a2-4b6c-a52a-86b13c7b9fe3",
   "metadata": {
    "jupyter": {
     "source_hidden": true
    },
    "tags": []
   },
   "outputs": [],
   "source": [
    "(\n",
    "    dfManifesto\n",
    "    .join(\n",
    "        dfSurvival,\n",
    "        on=\"Name\",\n",
    "        how=\"anti\"\n",
    "    )\n",
    "    .head(3)\n",
    ")"
   ]
  },
  {
   "cell_type": "markdown",
   "id": "69a2cbe0-b254-43e5-a59c-fb44d7e4f8a2",
   "metadata": {},
   "source": [
    "Filter `dfManifesto` to create a `DataFrame` with the details of the passengers that did survive - all values in `Survived` should be 1"
   ]
  },
  {
   "cell_type": "code",
   "execution_count": null,
   "id": "590f53c0-c462-465d-bb3f-6fe98f80a056",
   "metadata": {
    "jupyter": {
     "source_hidden": true
    },
    "tags": []
   },
   "outputs": [],
   "source": [
    "(\n",
    "    dfManifesto\n",
    "    .join(\n",
    "        dfSurvival,\n",
    "        on=\"Name\",\n",
    "        how=\"semi\"\n",
    "    )\n",
    "    .head(3)\n",
    ")        "
   ]
  },
  {
   "cell_type": "markdown",
   "id": "c308ac47-906f-432d-a96b-2305b3a86af0",
   "metadata": {},
   "source": [
    "### Solution to exercise 2\n",
    "We create a left `DataFrame` with `N` rows and `cardinality` distinct values in the string `id` column that we join on"
   ]
  },
  {
   "cell_type": "code",
   "execution_count": null,
   "id": "f3ad5f98-d0b8-414b-a87f-e6fc270a14d9",
   "metadata": {},
   "outputs": [],
   "source": [
    "import numpy as np\n",
    "np.random.seed(0)\n",
    "\n",
    "N = 1_000_000\n",
    "# Cardinality is half of N\n",
    "cardinality = N // 2\n",
    "# Create the random array of values for the join column\n",
    "stringArray = [f\"id{i}\" for i in np.random.randint(0,cardinality,N)]\n",
    "\n",
    "dfLeft = pl.DataFrame(\n",
    "    {\n",
    "        \"id\":stringArray\n",
    "    }\n",
    ")\n",
    "dfLeft.head(3)"
   ]
  },
  {
   "cell_type": "markdown",
   "id": "e3f37175-f6b9-468f-b00e-414ccebb22a7",
   "metadata": {},
   "source": [
    "Create the right `DataFrame` with a single row for each `id`.\n",
    "\n",
    "The right `DataFrame` only has rows for half of the `id` values in `dfLeft` so we can use it to filter `dfLeft`"
   ]
  },
  {
   "cell_type": "code",
   "execution_count": null,
   "id": "9b1849fb-2874-4a30-b861-8eb39aa017e2",
   "metadata": {},
   "outputs": [],
   "source": [
    "dfRight = pl.DataFrame(\n",
    "    {\"id\" : [f\"id{i}\" for i in np.arange(0,cardinality // 2)]}\n",
    ")\n",
    "dfRight.head(3)"
   ]
  },
  {
   "cell_type": "markdown",
   "id": "050fb33f-03fc-4adc-ba5f-ffa67cf85391",
   "metadata": {},
   "source": [
    "Filter `dfLeft` by `dfRight` using `filter` and `is_in`"
   ]
  },
  {
   "cell_type": "code",
   "execution_count": null,
   "id": "3b69f42f-1179-4d72-8053-15b4e5949d19",
   "metadata": {
    "jupyter": {
     "source_hidden": true
    },
    "tags": []
   },
   "outputs": [],
   "source": [
    "%%timeit -n1 -r3 \n",
    "(\n",
    "    dfLeft\n",
    "    .filter(\n",
    "        pl.col(\"id\").is_in(dfRight[\"id\"])\n",
    "    )\n",
    ")"
   ]
  },
  {
   "cell_type": "markdown",
   "id": "91e99f48-a14a-4e04-a41a-d3eb243c174a",
   "metadata": {},
   "source": [
    "Filter `dfLeft` by `dfRight` with a `semi` join"
   ]
  },
  {
   "cell_type": "code",
   "execution_count": null,
   "id": "2a433dde-a0f8-4758-941c-f272a84d4f1c",
   "metadata": {
    "jupyter": {
     "source_hidden": true
    },
    "tags": []
   },
   "outputs": [],
   "source": [
    "%%timeit -n1 -r3 \n",
    "(\n",
    "    dfLeft\n",
    "    .join(\n",
    "        dfRight,\n",
    "        on=\"id\",\n",
    "        how=\"semi\"\n",
    "    )\n",
    ")"
   ]
  },
  {
   "cell_type": "markdown",
   "id": "bac47f85-617c-4161-af93-25b64edccea7",
   "metadata": {},
   "source": [
    "In this case we see that the `semi` join is faster\n",
    "\n",
    "- Vary `N` to see if the relative difference changes with scale\n",
    "- Vary `cardinality` (e.g. set equal to a small number like `10`) to see if changes in cardinality affect relative performance"
   ]
  },
  {
   "cell_type": "code",
   "execution_count": null,
   "id": "c876ee61-9678-4b54-825c-33e2946af1e2",
   "metadata": {},
   "outputs": [],
   "source": []
  }
 ],
 "metadata": {
  "kernelspec": {
   "display_name": "Python 3 (ipykernel)",
   "language": "python",
   "name": "python3"
  },
  "language_info": {
   "codemirror_mode": {
    "name": "ipython",
    "version": 3
   },
   "file_extension": ".py",
   "mimetype": "text/x-python",
   "name": "python",
   "nbconvert_exporter": "python",
   "pygments_lexer": "ipython3",
   "version": "3.10.1"
  }
 },
 "nbformat": 4,
 "nbformat_minor": 5
}
