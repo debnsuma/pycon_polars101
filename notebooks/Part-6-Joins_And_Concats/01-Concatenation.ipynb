{
 "cells": [
  {
   "cell_type": "markdown",
   "id": "0c668ee9-44db-428b-8114-681699d2bea6",
   "metadata": {},
   "source": [
    "## Concatenation\n",
    "By the end of this lecture you will be able to:\n",
    "- vertically concatenate a list of `DataFrames`\n",
    "- horizontally concatenate a list of `DataFrames`\n",
    "- diagonally concatenate a list of `DataFrames`\n"
   ]
  },
  {
   "cell_type": "code",
   "execution_count": null,
   "id": "3cbcacc3-dc68-4544-a81d-4d7f2a9b877d",
   "metadata": {},
   "outputs": [],
   "source": [
    "import polars as pl"
   ]
  },
  {
   "cell_type": "markdown",
   "id": "1d1598ed-7f6e-40aa-97f4-90a673a82bad",
   "metadata": {},
   "source": [
    "We create a first `DataFrame` with fake trade records from 2020"
   ]
  },
  {
   "cell_type": "code",
   "execution_count": null,
   "id": "b5c43a46-92fa-4183-9946-321e7807570e",
   "metadata": {},
   "outputs": [],
   "source": [
    "df2020 = pl.DataFrame(\n",
    "    [\n",
    "        {\"year\":2020,\"exporter\":\"India\",\"importer\":\"USA\",\"quantity\":0},\n",
    "        {\"year\":2020,\"exporter\":\"India\",\"importer\":\"USA\",\"quantity\":1},\n",
    "    ]\n",
    ")\n",
    "df2020"
   ]
  },
  {
   "cell_type": "markdown",
   "id": "c6b5a9ff-a965-4621-82f0-23c03c6f118a",
   "metadata": {},
   "source": [
    "We now create a second fake `DataFrame`with trade records from 2021"
   ]
  },
  {
   "cell_type": "code",
   "execution_count": null,
   "id": "237a8976-199e-4ba6-8564-5a0746aefbc0",
   "metadata": {},
   "outputs": [],
   "source": [
    "df2021 = pl.DataFrame(\n",
    "    [\n",
    "        {\"year\":2021,\"exporter\":\"India\",\"importer\":\"USA\",\"quantity\":2},\n",
    "        {\"year\":2021,\"exporter\":\"India\",\"importer\":\"USA\",\"quantity\":3},\n",
    "    ]\n",
    ")\n",
    "df2021"
   ]
  },
  {
   "cell_type": "markdown",
   "id": "8b0e9dbf-68ef-4598-bdd0-cd4d3bc4e32b",
   "metadata": {},
   "source": [
    "## Vertical concatenation\n",
    "\n",
    "We combine the 2020 and 2021 `DataFrames` into a single `DataFrame` with `pl.concat`"
   ]
  },
  {
   "cell_type": "code",
   "execution_count": null,
   "id": "39afd69b-0370-4175-bef3-cde52ebd6d66",
   "metadata": {},
   "outputs": [],
   "source": [
    "dfVertical = (\n",
    "    pl.concat(\n",
    "        [df2020,df2021]\n",
    "    )\n",
    ")\n",
    "dfVertical"
   ]
  },
  {
   "cell_type": "markdown",
   "id": "8b00c2d4-22bf-4a3a-85bd-2e7dc9524fdb",
   "metadata": {},
   "source": [
    "Vertical concatenation fails when:\n",
    "- the dataframes do not have the same column names\n",
    "\n",
    "## Horizontal concatenation\n",
    "We create another `DataFrame` that has more details about each of the trades in 2020"
   ]
  },
  {
   "cell_type": "code",
   "execution_count": null,
   "id": "2c055668-f8f4-42c3-93da-849951a9cbfc",
   "metadata": {},
   "outputs": [],
   "source": [
    "df2020Details = pl.DataFrame(\n",
    "    [\n",
    "        {\"item\":\"Clothes\",\"value\":10},\n",
    "        {\"item\":\"Machinery\",\"value\":100},\n",
    "    ]\n",
    " )\n",
    "df2020Details"
   ]
  },
  {
   "cell_type": "markdown",
   "id": "62a8682a-fbfd-44ed-b9f7-42d88aea4792",
   "metadata": {},
   "source": [
    "We combine these details with the original records using a horizontal concatenation."
   ]
  },
  {
   "cell_type": "code",
   "execution_count": null,
   "id": "834f875d-9109-44eb-9347-940f1f351e8a",
   "metadata": {},
   "outputs": [],
   "source": [
    "dfHorizontal = pl.concat(\n",
    "    [\n",
    "        df2020,df2020Details\n",
    "    ]\n",
    "    ,how=\"horizontal\"\n",
    ")\n",
    "dfHorizontal"
   ]
  },
  {
   "cell_type": "markdown",
   "id": "14ba4713-3b0d-4b65-a60c-da3cacfdb84f",
   "metadata": {},
   "source": [
    "Horizontal concatenation fails when:\n",
    "- the dataframes have overlapping column names or \n",
    "- a different number of rows\n",
    "\n",
    "We can also concatenate horizontally with `hstack`"
   ]
  },
  {
   "cell_type": "code",
   "execution_count": null,
   "id": "bac13e15-e2eb-42ef-801d-fc5ba3e32317",
   "metadata": {},
   "outputs": [],
   "source": [
    "(\n",
    "    df2020.hstack(df2020Details)\n",
    ")"
   ]
  },
  {
   "cell_type": "markdown",
   "id": "948a35a5-2a96-4c64-b9de-0501079537d0",
   "metadata": {},
   "source": [
    "With `hstack` we can also add a `list` of `Series` as columns"
   ]
  },
  {
   "cell_type": "code",
   "execution_count": null,
   "id": "6a7f5f42-972b-4533-a3af-67af787c49b6",
   "metadata": {},
   "outputs": [],
   "source": [
    "(\n",
    "    df2020.hstack([df2020Details[\"value\"]])\n",
    ")"
   ]
  },
  {
   "cell_type": "markdown",
   "id": "023e1577-07cf-4c8b-9f7d-5a2fd5c53b94",
   "metadata": {},
   "source": [
    "## Diagonal concatenation\n",
    "\n",
    "We are now looking at new fake trade records for 2020 and 2021 between China and the USA.\n",
    "\n",
    "In 2020 the schema of the trade records is the same as we saw above with: \n",
    "- `year`\n",
    "- `exporter` and \n",
    "- `importer`\n",
    "\n",
    "In 2021 the schema changed and also includes:\n",
    "- `item` and \n",
    "- `value`"
   ]
  },
  {
   "cell_type": "code",
   "execution_count": null,
   "id": "d6d7b1ae-7637-4622-b17a-6e56f921994f",
   "metadata": {},
   "outputs": [],
   "source": [
    "df2020 = pl.DataFrame(\n",
    "    [\n",
    "        {\"year\":2020,\"exporter\":\"China\",\"importer\":\"USA\",\"quantity\":0},\n",
    "        {\"year\":2020,\"exporter\":\"China\",\"importer\":\"USA\",\"quantity\":1},\n",
    "    ]\n",
    ")\n",
    "df2021 = pl.DataFrame(\n",
    "    [\n",
    "        {\"year\":2021,\"exporter\":\"China\",\"importer\":\"USA\",\"quantity\":2,\"item\":\"Clothes\",\"value\":10},\n",
    "        {\"year\":2021,\"exporter\":\"China\",\"importer\":\"USA\",\"quantity\":3,\"item\":\"Machinery\",\"value\":100},\n",
    "    ]\n",
    ")"
   ]
  },
  {
   "cell_type": "markdown",
   "id": "12d8a458-8411-49b4-a0d5-658185cdc378",
   "metadata": {},
   "source": [
    "We want to combine these records into a single `DataFrame`. As the column names are not the same we cannot do a vertical concatenation.\n",
    "\n",
    "Instead we do a diagonal concatenation."
   ]
  },
  {
   "cell_type": "code",
   "execution_count": null,
   "id": "fbe5a31f-27a6-4c73-9f56-696d2792ef73",
   "metadata": {},
   "outputs": [],
   "source": [
    "pl.concat([df2020,df2021],how=\"diagonal\")"
   ]
  },
  {
   "cell_type": "markdown",
   "id": "d7c78268-f2c7-4811-8757-965c9d740a13",
   "metadata": {},
   "source": [
    "This diagonal concatenation is a vertical concatenation for the column names that match but with `null` values where the column names do not.\n",
    "\n",
    "Diagonal concatenation can be a quick way to work with multiple CSVs or other files where:\n",
    "- the columns are not the same in all files\n",
    "- the order of the columns is not the same in all files\n",
    "\n",
    "A hypothetical example for this is provided here"
   ]
  },
  {
   "cell_type": "code",
   "execution_count": null,
   "id": "14147c80-ef6e-4045-838c-fb6fc3a04578",
   "metadata": {},
   "outputs": [],
   "source": [
    "# df_list = []\n",
    "# for file_path in list_of_file_paths:\n",
    "#     df_list.append(\n",
    "#         pl.read_csv(file_path)\n",
    "#     )\n",
    "# df = pl.concat(df_list,how=\"diagonal\")"
   ]
  },
  {
   "cell_type": "markdown",
   "id": "3311fcf4-cb28-4cef-88ea-a393e13a79e2",
   "metadata": {},
   "source": [
    "The disadvantage of the diagonal concatenation is that all possible columns are populated in the `DataFrame`.\n",
    "\n",
    "However, if this is an issue you can then analyse the `DataFrame` to see which columns you actually want and pass these as a list to the `scan_csv` or `read_csv` function"
   ]
  },
  {
   "cell_type": "markdown",
   "id": "ada44ca2-1b80-404e-bee4-bc8b8899b1bb",
   "metadata": {},
   "source": [
    "## Exercises\n",
    "\n",
    "### Exercise 1\n",
    "We split the Titanic dataset into `dfLeft` and `dfRight`"
   ]
  },
  {
   "cell_type": "code",
   "execution_count": null,
   "id": "1863ae21-56af-421d-83e7-3cb0cf696fd0",
   "metadata": {},
   "outputs": [],
   "source": [
    "csvFile = \"../data/titanic.csv\"\n",
    "df = pl.read_csv(csvFile)\n",
    "dfLeft = df[:,:6]\n",
    "dfRight = df[:,5:]"
   ]
  },
  {
   "cell_type": "markdown",
   "id": "68705a46-8adf-4cad-8f30-e6191319184b",
   "metadata": {},
   "source": [
    "Horizontally concatenate `dfLeft` and `dfRight`"
   ]
  },
  {
   "cell_type": "code",
   "execution_count": null,
   "id": "4744c745-7992-4446-a5fd-05400c931bb4",
   "metadata": {},
   "outputs": [],
   "source": [
    "pl.concat(<blank>)"
   ]
  },
  {
   "cell_type": "markdown",
   "id": "bc8d1e51-245c-4d51-a87d-ced06d520c67",
   "metadata": {},
   "source": [
    "### Exercise 2\n",
    "\n",
    "You are given the following data from the sales of a bike shop. "
   ]
  },
  {
   "cell_type": "code",
   "execution_count": null,
   "id": "4eb8ce2b-8e88-445a-91f8-7021b43f42c2",
   "metadata": {},
   "outputs": [],
   "source": [
    "sales2020 = [\n",
    "    {\"make\":\"Giant\",\"model\":\"Roam\",\"quantity\":100},\n",
    "    {\"make\":\"Giant\",\"model\":\"Contend\",\"quantity\":200},\n",
    "    {\"make\":\"Trek\",\"model\":\"FX\",\"quantity\":300},\n",
    "]\n",
    "sales2021 = [\n",
    "    {\"make\":\"Giant\",\"model\":\"Roam\",\"type\":\"Hybrid\",\"quantity\":100},\n",
    "    {\"make\":\"Giant\",\"model\":\"Contend\",\"type\":\"Gravel\",\"quantity\":200},\n",
    "    {\"make\":\"Trek\",\"model\":\"FX\",\"type\":\"Hybrid\",\"quantity\":300},\n",
    "]"
   ]
  },
  {
   "cell_type": "markdown",
   "id": "253d480c-5735-4a56-a71d-5229bae1f0c2",
   "metadata": {},
   "source": [
    "Combine the full set of data into a single `DataFrame`"
   ]
  },
  {
   "cell_type": "code",
   "execution_count": null,
   "id": "174673dd-7eb8-4411-872a-bceed377100e",
   "metadata": {},
   "outputs": [],
   "source": [
    "<blank>"
   ]
  },
  {
   "cell_type": "markdown",
   "id": "86fb3095-7342-49d9-a909-19527ec72009",
   "metadata": {},
   "source": [
    "Combine the overlapping columns into a single `DataFrame` with vertical concatenation"
   ]
  },
  {
   "cell_type": "code",
   "execution_count": null,
   "id": "6ac469e2-446c-40f3-ae37-ee0a1634a1bf",
   "metadata": {},
   "outputs": [],
   "source": []
  },
  {
   "cell_type": "markdown",
   "id": "2538f018-4b73-411b-8393-884e70bc2945",
   "metadata": {},
   "source": [
    "### Exercise 3\n",
    "In the lecture on quantiles in the Statistics section we learned how to calculate quantiles.\n",
    "\n",
    "In this exercise we will combine multiple quantiles into a single `DataFrame`.\n",
    "\n",
    "As a reminder, this is how we calculate a single quantile on the floating point columns"
   ]
  },
  {
   "cell_type": "code",
   "execution_count": null,
   "id": "af5b7243-ab8e-4537-aecb-d44e5a70f4ea",
   "metadata": {},
   "outputs": [],
   "source": [
    "csvFile = \"../data/titanic.csv\"\n",
    "df = pl.read_csv(csvFile)\n",
    "q = 0.25\n",
    "(\n",
    "    df\n",
    "    .select(\n",
    "            pl.col(pl.Float64).quantile(q)\n",
    "        )\n",
    ")"
   ]
  },
  {
   "cell_type": "markdown",
   "id": "caefcf20-b019-4ce7-92ce-4701c8c52465",
   "metadata": {},
   "source": [
    "We want to produce a `DataFrame` that has:\n",
    "- the 0.25,0.5 and 0.75 percentiles of the floating point columns on separate rows\n",
    "- a column called `percentiles` to show the percentile for each row \n",
    "\n",
    "Create this `DataFrame` using vertical concatenation.\n",
    "\n",
    "Begin by iterating over the list `quantiles`.\n",
    "\n",
    "On each iteration calculate the quantile for the `Age` and `Fare` columns.\n",
    "\n",
    "Append this output to the list `dfList`"
   ]
  },
  {
   "cell_type": "code",
   "execution_count": null,
   "id": "5a897cc7-8e42-4685-82ac-6dd650f04bc9",
   "metadata": {},
   "outputs": [],
   "source": [
    "csvFile = \"../data/titanic.csv\"\n",
    "df = pl.read_csv(csvFile)\n",
    "quantiles = [0.25,0.5,0.75]\n",
    "dfList = []\n",
    "<blank>"
   ]
  },
  {
   "cell_type": "markdown",
   "id": "b7da4a90-a7c1-4676-b337-2147908a4861",
   "metadata": {},
   "source": [
    "Repeat this operation but this time on each iteration add a column called `percentile` that captures the percentile on that iteration."
   ]
  },
  {
   "cell_type": "code",
   "execution_count": null,
   "id": "8c04657e-1777-4f4a-bae3-f52ee78df3d1",
   "metadata": {},
   "outputs": [],
   "source": []
  },
  {
   "cell_type": "markdown",
   "id": "65d55511-16fd-44cd-b900-892154d84a9c",
   "metadata": {},
   "source": [
    "Concatenate the outputs"
   ]
  },
  {
   "cell_type": "code",
   "execution_count": null,
   "id": "b2c9cbc6-4450-43e2-998e-6116d38ccc1a",
   "metadata": {},
   "outputs": [],
   "source": []
  },
  {
   "cell_type": "markdown",
   "id": "cb6102a7-de80-4bdf-8d48-66adbbb92422",
   "metadata": {},
   "source": [
    "## Solutions\n",
    "\n",
    "### Solution to Exercise 1\n",
    "\n",
    "Horizontally concatenate `dfLeft` and `dfRight`"
   ]
  },
  {
   "cell_type": "code",
   "execution_count": null,
   "id": "e992867d-51af-42f5-888d-cf8449d5b108",
   "metadata": {
    "tags": []
   },
   "outputs": [],
   "source": [
    "csvFile = \"../data/titanic.csv\"\n",
    "df = pl.read_csv(csvFile)\n",
    "dfLeft = df[:,:6]\n",
    "dfRight = df[:,5:]"
   ]
  },
  {
   "cell_type": "code",
   "execution_count": null,
   "id": "c3a7b5a4-1a17-4a3d-811f-d5aa58c8e949",
   "metadata": {
    "jupyter": {
     "source_hidden": true
    },
    "tags": []
   },
   "outputs": [],
   "source": [
    "pl.concat([dfLeft,dfRight.drop(\"Age\")],how=\"horizontal\")"
   ]
  },
  {
   "cell_type": "markdown",
   "id": "fdab58fd-6867-4978-b074-c0fdc3d353e2",
   "metadata": {},
   "source": [
    "### Solution to Exercise 2"
   ]
  },
  {
   "cell_type": "code",
   "execution_count": null,
   "id": "5bf19b60-89bb-4062-a7cd-2bd8d43802f6",
   "metadata": {
    "tags": []
   },
   "outputs": [],
   "source": [
    "sales2020 = [\n",
    "    {\"make\":\"Giant\",\"model\":\"Roam\",\"quantity\":100},\n",
    "    {\"make\":\"Giant\",\"model\":\"Contend\",\"quantity\":200},\n",
    "    {\"make\":\"Trek\",\"model\":\"FX\",\"quantity\":300},\n",
    "]\n",
    "sales2021 = [\n",
    "    {\"make\":\"Giant\",\"model\":\"Roam\",\"type\":\"Hybrid\",\"quantity\":100},\n",
    "    {\"make\":\"Giant\",\"model\":\"Contend\",\"type\":\"Gravel\",\"quantity\":200},\n",
    "    {\"make\":\"Trek\",\"model\":\"FX\",\"type\":\"Hybrid\",\"quantity\":300},\n",
    "]\n",
    "dfSales2020 = pl.DataFrame(sales2020)\n",
    "dfSales2021 = pl.DataFrame(sales2021)"
   ]
  },
  {
   "cell_type": "markdown",
   "id": "deced667-33d3-4b7b-9dde-79e0e64ec91f",
   "metadata": {},
   "source": [
    "Combine the full set of data into a single `DataFrame`"
   ]
  },
  {
   "cell_type": "code",
   "execution_count": null,
   "id": "4a40bd6c-a8a7-4a6f-ae30-00bea4b0bf32",
   "metadata": {
    "jupyter": {
     "source_hidden": true
    },
    "tags": []
   },
   "outputs": [],
   "source": [
    "pl.concat([dfSales2020,dfSales2021],how=\"diagonal\")"
   ]
  },
  {
   "cell_type": "markdown",
   "id": "a8ac279c-261c-4ef5-bcd9-bfbbf01b683b",
   "metadata": {},
   "source": [
    "Combine the data with overlapping columns into a single `DataFrame`"
   ]
  },
  {
   "cell_type": "code",
   "execution_count": null,
   "id": "60ebf07a-4adc-45c8-a747-8e3578041e3b",
   "metadata": {
    "jupyter": {
     "source_hidden": true
    },
    "tags": []
   },
   "outputs": [],
   "source": [
    "pl.concat(\n",
    "    [dfSales2020,dfSales2021.select([\"make\",\"model\",\"quantity\"])\n",
    "    ])"
   ]
  },
  {
   "cell_type": "markdown",
   "id": "84868029-daf6-4b3d-8b00-9377a99c35d7",
   "metadata": {},
   "source": [
    "### Solution to Exercise 3"
   ]
  },
  {
   "cell_type": "markdown",
   "id": "d1259f4d-dbb5-4685-a1b4-c7713970c976",
   "metadata": {},
   "source": [
    "Begin by iterating over the list `quantiles`.\n",
    "\n",
    "On each iteration calculate the quantile for the `Age` and `Fare` columns.\n",
    "\n",
    "Append this output to the list `dfList`"
   ]
  },
  {
   "cell_type": "code",
   "execution_count": null,
   "id": "bb374fe2-cc43-48fc-9319-cad685e293b0",
   "metadata": {
    "jupyter": {
     "source_hidden": true
    },
    "tags": []
   },
   "outputs": [],
   "source": [
    "csvFile = \"../data/titanic.csv\"\n",
    "df = pl.read_csv(csvFile)\n",
    "quantiles = [0.25,0.5,0.75]\n",
    "dfList = []\n",
    "for q in quantiles:\n",
    "    dfList.append(\n",
    "        df\n",
    "        .select(\n",
    "            pl.col(pl.Float64).quantile(q)\n",
    "        )\n",
    ")"
   ]
  },
  {
   "cell_type": "markdown",
   "id": "09e0595a-1d17-4d55-af5c-3dd981025909",
   "metadata": {},
   "source": [
    "Repeat this operation but this time on each iteration add a column called `percentile` that captures the percentile on that iteration."
   ]
  },
  {
   "cell_type": "code",
   "execution_count": null,
   "id": "811ae7d9-439d-49c3-af5f-73c608850970",
   "metadata": {
    "jupyter": {
     "source_hidden": true
    },
    "tags": []
   },
   "outputs": [],
   "source": [
    "csvFile = \"../data/titanic.csv\"\n",
    "df = pl.read_csv(csvFile)\n",
    "quantiles = [0.25,0.5,0.75]\n",
    "dfList = []\n",
    "for q in quantiles:\n",
    "    dfList.append(\n",
    "        df\n",
    "        .select(\n",
    "            pl.col(pl.Float64).quantile(q)\n",
    "        )\n",
    "        .with_columns(\n",
    "            pl.lit(q).alias(\"percentiles\")\n",
    "        )\n",
    ")"
   ]
  },
  {
   "cell_type": "markdown",
   "id": "afbf23c1-c48d-4d56-a78b-db5bb3de48f3",
   "metadata": {},
   "source": [
    "Concatenate the outputs"
   ]
  },
  {
   "cell_type": "code",
   "execution_count": null,
   "id": "365072a0-dfbd-4263-8d6f-238d6a1c984e",
   "metadata": {
    "jupyter": {
     "source_hidden": true
    },
    "tags": []
   },
   "outputs": [],
   "source": [
    "csvFile = \"../data/titanic.csv\"\n",
    "df = pl.read_csv(csvFile)\n",
    "quantiles = [0.25,0.5,0.75]\n",
    "dfList = []\n",
    "for q in quantiles:\n",
    "    dfList.append(\n",
    "        df\n",
    "        .select(\n",
    "            pl.col(pl.Float64).quantile(q)\n",
    "        )\n",
    "        .with_columns(\n",
    "            pl.lit(q).alias(\"percentiles\")\n",
    "        )\n",
    ")\n",
    "pl.concat(dfList)"
   ]
  },
  {
   "cell_type": "code",
   "execution_count": null,
   "id": "10ca97a6-f2b1-4929-a0ae-29497f2982b9",
   "metadata": {},
   "outputs": [],
   "source": []
  }
 ],
 "metadata": {
  "kernelspec": {
   "display_name": "Python 3 (ipykernel)",
   "language": "python",
   "name": "python3"
  },
  "language_info": {
   "codemirror_mode": {
    "name": "ipython",
    "version": 3
   },
   "file_extension": ".py",
   "mimetype": "text/x-python",
   "name": "python",
   "nbconvert_exporter": "python",
   "pygments_lexer": "ipython3",
   "version": "3.10.9"
  }
 },
 "nbformat": 4,
 "nbformat_minor": 5
}
