{
 "cells": [
  {
   "cell_type": "markdown",
   "id": "df7d8d8e",
   "metadata": {
    "slideshow": {
     "slide_type": "slide"
    }
   },
   "source": [
    "![Image Description](img/polars-101/Slide1.png)\n"
   ]
  },
  {
   "cell_type": "markdown",
   "id": "ea3afa8a-0219-494a-8f03-12a21d8223de",
   "metadata": {
    "slideshow": {
     "slide_type": "slide"
    }
   },
   "source": [
    "# Getting started with Polars\n",
    " \n",
    "To help you get started this notebook introduces some of the key concepts that make Polars a powerful data analysis tool.\n",
    "\n",
    "The key concepts we meet are:\n",
    "- fast flexible analysis with the `Expression API` in Polars\n",
    "- easy `parallel` computations\n",
    "- `automatic query optimisation` in `lazy mode`\n",
    "- `streaming` to work with `larger-than-memory` datasets in Polars\n",
    "\n",
    "## Importing Polars\n",
    "We begin by importing polars as `pl`. Following this convention will allow you to work with examples from the official documentation"
   ]
  },
  {
   "cell_type": "code",
   "execution_count": 2,
   "id": "ad810bd3-f454-48b7-9af9-363514fa4176",
   "metadata": {
    "slideshow": {
     "slide_type": "slide"
    },
    "tags": []
   },
   "outputs": [],
   "source": [
    "import polars as pl"
   ]
  },
  {
   "cell_type": "markdown",
   "id": "fa74a155-9f01-4d37-9d7a-83f6889ac7f7",
   "metadata": {
    "slideshow": {
     "slide_type": "slide"
    }
   },
   "source": [
    "We want to restrict how many rows of a `DataFrame` are printed out to the screen. Polars allows us to control configuration using options in `pl.Config`.\n",
    "\n",
    "## Setting configuration options\n",
    "We can adjust default configuration options with `pl.Config`.\n",
    "\n",
    "In this notebook we want Polars to print `5 rows` of `DataFrame` so we use `pl.Config.set_tbl_rows`"
   ]
  },
  {
   "cell_type": "code",
   "execution_count": 3,
   "id": "bd1cf030-ca90-4ccb-b102-6f7d2dac6690",
   "metadata": {
    "tags": []
   },
   "outputs": [
    {
     "data": {
      "text/plain": [
       "polars.config.Config"
      ]
     },
     "execution_count": 3,
     "metadata": {},
     "output_type": "execute_result"
    }
   ],
   "source": [
    "pl.Config.set_tbl_rows(6)"
   ]
  },
  {
   "cell_type": "markdown",
   "id": "bc4c2ff6-4c50-4002-bd07-cb66c6c89e4b",
   "metadata": {},
   "source": [
    "You can see the full range of configuration options here: https://pola-rs.github.io/polars/py-polars/html/reference/config.html\n",
    "\n",
    "In the workshop we see how to apply the right configuration options in a range of contexts.\n",
    "\n",
    "## Input data\n",
    "Polars can read from a wide range of data formats including CSV, Parquet, Arrow, JSON, Excel and database connections.\n",
    "\n",
    "To get started we will use a sample `CSV Titanic passenger` dataset. This dataset gives details of `all the passengers on the Titanic and whether they survived`.\n",
    "\n",
    "We begin by setting the path to this CSV"
   ]
  },
  {
   "cell_type": "code",
   "execution_count": 3,
   "id": "195ea4e6-dbef-4a3e-b2da-0dd7c84a6816",
   "metadata": {
    "tags": []
   },
   "outputs": [],
   "source": [
    "csvFile = \"../data/titanic.csv\""
   ]
  },
  {
   "cell_type": "markdown",
   "id": "f0e0973f-d2ba-4c29-9ecb-2b7b1d58bee8",
   "metadata": {},
   "source": [
    "We read the CSV into a Polars `DataFrame` with the `read_csv` function. \n",
    "\n",
    "We then call `head` to print out the first few rows of the `DataFrame`"
   ]
  },
  {
   "cell_type": "code",
   "execution_count": 4,
   "id": "a0407fc1-e41e-4613-9163-56f9daf68d47",
   "metadata": {
    "tags": []
   },
   "outputs": [
    {
     "data": {
      "text/html": [
       "<div><style>\n",
       ".dataframe > thead > tr > th,\n",
       ".dataframe > tbody > tr > td {\n",
       "  text-align: right;\n",
       "}\n",
       "</style>\n",
       "<small>shape: (5, 12)</small><table border=\"1\" class=\"dataframe\"><thead><tr><th>PassengerId</th><th>Survived</th><th>Pclass</th><th>Name</th><th>Sex</th><th>Age</th><th>SibSp</th><th>Parch</th><th>Ticket</th><th>Fare</th><th>Cabin</th><th>Embarked</th></tr><tr><td>i64</td><td>i64</td><td>i64</td><td>str</td><td>str</td><td>f64</td><td>i64</td><td>i64</td><td>str</td><td>f64</td><td>str</td><td>str</td></tr></thead><tbody><tr><td>1</td><td>0</td><td>3</td><td>&quot;Braund, Mr. Ow…</td><td>&quot;male&quot;</td><td>22.0</td><td>1</td><td>0</td><td>&quot;A/5 21171&quot;</td><td>7.25</td><td>null</td><td>&quot;S&quot;</td></tr><tr><td>2</td><td>1</td><td>1</td><td>&quot;Cumings, Mrs. …</td><td>&quot;female&quot;</td><td>38.0</td><td>1</td><td>0</td><td>&quot;PC 17599&quot;</td><td>71.2833</td><td>&quot;C85&quot;</td><td>&quot;C&quot;</td></tr><tr><td>3</td><td>1</td><td>3</td><td>&quot;Heikkinen, Mis…</td><td>&quot;female&quot;</td><td>26.0</td><td>0</td><td>0</td><td>&quot;STON/O2. 31012…</td><td>7.925</td><td>null</td><td>&quot;S&quot;</td></tr><tr><td>4</td><td>1</td><td>1</td><td>&quot;Futrelle, Mrs.…</td><td>&quot;female&quot;</td><td>35.0</td><td>1</td><td>0</td><td>&quot;113803&quot;</td><td>53.1</td><td>&quot;C123&quot;</td><td>&quot;S&quot;</td></tr><tr><td>5</td><td>0</td><td>3</td><td>&quot;Allen, Mr. Wil…</td><td>&quot;male&quot;</td><td>35.0</td><td>0</td><td>0</td><td>&quot;373450&quot;</td><td>8.05</td><td>null</td><td>&quot;S&quot;</td></tr></tbody></table></div>"
      ],
      "text/plain": [
       "shape: (5, 12)\n",
       "┌─────────────┬──────────┬────────┬───────────────────┬───┬───────────┬─────────┬───────┬──────────┐\n",
       "│ PassengerId ┆ Survived ┆ Pclass ┆ Name              ┆ … ┆ Ticket    ┆ Fare    ┆ Cabin ┆ Embarked │\n",
       "│ ---         ┆ ---      ┆ ---    ┆ ---               ┆   ┆ ---       ┆ ---     ┆ ---   ┆ ---      │\n",
       "│ i64         ┆ i64      ┆ i64    ┆ str               ┆   ┆ str       ┆ f64     ┆ str   ┆ str      │\n",
       "╞═════════════╪══════════╪════════╪═══════════════════╪═══╪═══════════╪═════════╪═══════╪══════════╡\n",
       "│ 1           ┆ 0        ┆ 3      ┆ Braund, Mr. Owen  ┆ … ┆ A/5 21171 ┆ 7.25    ┆ null  ┆ S        │\n",
       "│             ┆          ┆        ┆ Harris            ┆   ┆           ┆         ┆       ┆          │\n",
       "│ 2           ┆ 1        ┆ 1      ┆ Cumings, Mrs.     ┆ … ┆ PC 17599  ┆ 71.2833 ┆ C85   ┆ C        │\n",
       "│             ┆          ┆        ┆ John Bradley      ┆   ┆           ┆         ┆       ┆          │\n",
       "│             ┆          ┆        ┆ (Flor…            ┆   ┆           ┆         ┆       ┆          │\n",
       "│ 3           ┆ 1        ┆ 3      ┆ Heikkinen, Miss.  ┆ … ┆ STON/O2.  ┆ 7.925   ┆ null  ┆ S        │\n",
       "│             ┆          ┆        ┆ Laina             ┆   ┆ 3101282   ┆         ┆       ┆          │\n",
       "│ 4           ┆ 1        ┆ 1      ┆ Futrelle, Mrs.    ┆ … ┆ 113803    ┆ 53.1    ┆ C123  ┆ S        │\n",
       "│             ┆          ┆        ┆ Jacques Heath     ┆   ┆           ┆         ┆       ┆          │\n",
       "│             ┆          ┆        ┆ (Li…              ┆   ┆           ┆         ┆       ┆          │\n",
       "│ 5           ┆ 0        ┆ 3      ┆ Allen, Mr.        ┆ … ┆ 373450    ┆ 8.05    ┆ null  ┆ S        │\n",
       "│             ┆          ┆        ┆ William Henry     ┆   ┆           ┆         ┆       ┆          │\n",
       "└─────────────┴──────────┴────────┴───────────────────┴───┴───────────┴─────────┴───────┴──────────┘"
      ]
     },
     "execution_count": 4,
     "metadata": {},
     "output_type": "execute_result"
    }
   ],
   "source": [
    "df = pl.read_csv(csvFile)\n",
    "df.head(5)"
   ]
  },
  {
   "cell_type": "markdown",
   "id": "d5f97603-768a-459c-a1c9-11bbd741bc43",
   "metadata": {},
   "source": [
    "Each row of the `DataFrame` has details about a passenger on the Titanic including the class they travelled in (`Pclass`), their name (`Name`) and `Age`.\n",
    "\n",
    "Alternatively we can use `glimpse` to see the first data points arranged vertically. This is handy for wide dataframes.\n",
    "    \n",
    "    - The formatting is done one line per column, so wide dataframes show nicely.\n",
    "    - Each line will show the column name, the data type and the first few values.\n",
    "    - Return a dense preview of the dataframe."
   ]
  },
  {
   "cell_type": "code",
   "execution_count": 5,
   "id": "bc4416a4-86f8-4c7f-ab63-8749f31afff9",
   "metadata": {
    "tags": []
   },
   "outputs": [
    {
     "name": "stdout",
     "output_type": "stream",
     "text": [
      "Rows: 891\n",
      "Columns: 12\n",
      "$ PassengerId <i64> 1, 2, 3, 4, 5, 6, 7, 8, 9, 10\n",
      "$ Survived    <i64> 0, 1, 1, 1, 0, 0, 0, 0, 1, 1\n",
      "$ Pclass      <i64> 3, 1, 3, 1, 3, 3, 1, 3, 3, 2\n",
      "$ Name        <str> Braund, Mr. Owen Harris, Cumings, Mrs. John Bradley (Florence Briggs Thayer), Heikkinen, Miss. Laina, Futrelle, Mrs. Jacques Heath (Lily May Peel), Allen, Mr. William Henry, Moran, Mr. James, McCarthy, Mr. Timothy J, Palsson, Master. Gosta Leonard, Johnson, Mrs. Oscar W (Elisabeth Vilhelmina Berg), Nasser, Mrs. Nicholas (Adele Achem)\n",
      "$ Sex         <str> male, female, female, female, male, male, male, male, female, female\n",
      "$ Age         <f64> 22.0, 38.0, 26.0, 35.0, 35.0, None, 54.0, 2.0, 27.0, 14.0\n",
      "$ SibSp       <i64> 1, 1, 0, 1, 0, 0, 0, 3, 0, 1\n",
      "$ Parch       <i64> 0, 0, 0, 0, 0, 0, 0, 1, 2, 0\n",
      "$ Ticket      <str> A/5 21171, PC 17599, STON/O2. 3101282, 113803, 373450, 330877, 17463, 349909, 347742, 237736\n",
      "$ Fare        <f64> 7.25, 71.2833, 7.925, 53.1, 8.05, 8.4583, 51.8625, 21.075, 11.1333, 30.0708\n",
      "$ Cabin       <str> None, C85, None, C123, None, None, E46, None, None, None\n",
      "$ Embarked    <str> S, C, S, S, S, Q, S, S, S, C\n",
      "\n"
     ]
    }
   ],
   "source": [
    "df.glimpse()"
   ]
  },
  {
   "cell_type": "markdown",
   "id": "cd37b789-901d-4259-af96-5a05b732e005",
   "metadata": {},
   "source": [
    "## Expressions\n",
    "You can use square brackets to select rows and columns in Polars..."
   ]
  },
  {
   "cell_type": "code",
   "execution_count": 6,
   "id": "c1452e27-d791-4852-bd53-220fef08a03f",
   "metadata": {
    "tags": []
   },
   "outputs": [
    {
     "data": {
      "text/html": [
       "<div><style>\n",
       ".dataframe > thead > tr > th,\n",
       ".dataframe > tbody > tr > td {\n",
       "  text-align: right;\n",
       "}\n",
       "</style>\n",
       "<small>shape: (3, 3)</small><table border=\"1\" class=\"dataframe\"><thead><tr><th>Pclass</th><th>Name</th><th>Age</th></tr><tr><td>i64</td><td>str</td><td>f64</td></tr></thead><tbody><tr><td>3</td><td>&quot;Braund, Mr. Ow…</td><td>22.0</td></tr><tr><td>1</td><td>&quot;Cumings, Mrs. …</td><td>38.0</td></tr><tr><td>3</td><td>&quot;Heikkinen, Mis…</td><td>26.0</td></tr></tbody></table></div>"
      ],
      "text/plain": [
       "shape: (3, 3)\n",
       "┌────────┬───────────────────────────────────┬──────┐\n",
       "│ Pclass ┆ Name                              ┆ Age  │\n",
       "│ ---    ┆ ---                               ┆ ---  │\n",
       "│ i64    ┆ str                               ┆ f64  │\n",
       "╞════════╪═══════════════════════════════════╪══════╡\n",
       "│ 3      ┆ Braund, Mr. Owen Harris           ┆ 22.0 │\n",
       "│ 1      ┆ Cumings, Mrs. John Bradley (Flor… ┆ 38.0 │\n",
       "│ 3      ┆ Heikkinen, Miss. Laina            ┆ 26.0 │\n",
       "└────────┴───────────────────────────────────┴──────┘"
      ]
     },
     "execution_count": 6,
     "metadata": {},
     "output_type": "execute_result"
    }
   ],
   "source": [
    "df[:3,[\"Pclass\",\"Name\",\"Age\"]]"
   ]
  },
  {
   "cell_type": "markdown",
   "id": "8ecd56c7-e764-4218-bc72-66fe206f54df",
   "metadata": {},
   "source": [
    "...but using this square bracket approach means that you don't get all the benefits of parallelisation and query optimisation.\n",
    "\n",
    "To really take advantage of Polars we use the Expression API.\n",
    "\n",
    "### Selecting and transforming columns with the Expression API\n",
    "\n",
    "We see a simple example of the Expression API here where we select the `Pclass`, `Name` and `Age` columns inside a `select` statement"
   ]
  },
  {
   "cell_type": "code",
   "execution_count": 7,
   "id": "1b12f502-21dc-435d-917d-fcd0ccbef8a8",
   "metadata": {
    "tags": []
   },
   "outputs": [
    {
     "data": {
      "text/html": [
       "<div><style>\n",
       ".dataframe > thead > tr > th,\n",
       ".dataframe > tbody > tr > td {\n",
       "  text-align: right;\n",
       "}\n",
       "</style>\n",
       "<small>shape: (891, 3)</small><table border=\"1\" class=\"dataframe\"><thead><tr><th>Pclass</th><th>Name</th><th>Age</th></tr><tr><td>i64</td><td>str</td><td>f64</td></tr></thead><tbody><tr><td>3</td><td>&quot;Braund, Mr. Ow…</td><td>22.0</td></tr><tr><td>1</td><td>&quot;Cumings, Mrs. …</td><td>38.0</td></tr><tr><td>3</td><td>&quot;Heikkinen, Mis…</td><td>26.0</td></tr><tr><td>&hellip;</td><td>&hellip;</td><td>&hellip;</td></tr><tr><td>3</td><td>&quot;Johnston, Miss…</td><td>null</td></tr><tr><td>1</td><td>&quot;Behr, Mr. Karl…</td><td>26.0</td></tr><tr><td>3</td><td>&quot;Dooley, Mr. Pa…</td><td>32.0</td></tr></tbody></table></div>"
      ],
      "text/plain": [
       "shape: (891, 3)\n",
       "┌────────┬───────────────────────────────────┬──────┐\n",
       "│ Pclass ┆ Name                              ┆ Age  │\n",
       "│ ---    ┆ ---                               ┆ ---  │\n",
       "│ i64    ┆ str                               ┆ f64  │\n",
       "╞════════╪═══════════════════════════════════╪══════╡\n",
       "│ 3      ┆ Braund, Mr. Owen Harris           ┆ 22.0 │\n",
       "│ 1      ┆ Cumings, Mrs. John Bradley (Flor… ┆ 38.0 │\n",
       "│ 3      ┆ Heikkinen, Miss. Laina            ┆ 26.0 │\n",
       "│ …      ┆ …                                 ┆ …    │\n",
       "│ 3      ┆ Johnston, Miss. Catherine Helen … ┆ null │\n",
       "│ 1      ┆ Behr, Mr. Karl Howell             ┆ 26.0 │\n",
       "│ 3      ┆ Dooley, Mr. Patrick               ┆ 32.0 │\n",
       "└────────┴───────────────────────────────────┴──────┘"
      ]
     },
     "execution_count": 7,
     "metadata": {},
     "output_type": "execute_result"
    }
   ],
   "source": [
    "(\n",
    "    df\n",
    "    .select(\n",
    "        [\n",
    "            pl.col(\"Pclass\"),\n",
    "            pl.col(\"Name\"),\n",
    "            pl.col(\"Age\"),\n",
    "        ]\n",
    "    )\n",
    ")"
   ]
  },
  {
   "cell_type": "markdown",
   "id": "bcd7bd30-04f4-4a16-b01c-89d24374c8de",
   "metadata": {},
   "source": [
    "In the Expression API we use `pl.col` to refer to a column.\n",
    "\n",
    "**However, the Expression API allows us not only to refer to a column but also to transform it.**\n",
    "\n",
    "In this example we select the same three columns, but this time we will get:\n",
    "\n",
    "    - the Pclass\n",
    "    - the name with all lower case \n",
    "    - round off the age to the nearest whole number"
   ]
  },
  {
   "cell_type": "code",
   "execution_count": 8,
   "id": "d0430980-ee09-446e-9292-35cf20edd511",
   "metadata": {
    "tags": []
   },
   "outputs": [
    {
     "data": {
      "text/html": [
       "<div><style>\n",
       ".dataframe > thead > tr > th,\n",
       ".dataframe > tbody > tr > td {\n",
       "  text-align: right;\n",
       "}\n",
       "</style>\n",
       "<small>shape: (891, 3)</small><table border=\"1\" class=\"dataframe\"><thead><tr><th>Pclass</th><th>Name</th><th>Age</th></tr><tr><td>i64</td><td>str</td><td>f64</td></tr></thead><tbody><tr><td>3</td><td>&quot;braund, mr. ow…</td><td>22.0</td></tr><tr><td>1</td><td>&quot;cumings, mrs. …</td><td>38.0</td></tr><tr><td>3</td><td>&quot;heikkinen, mis…</td><td>26.0</td></tr><tr><td>&hellip;</td><td>&hellip;</td><td>&hellip;</td></tr><tr><td>3</td><td>&quot;johnston, miss…</td><td>null</td></tr><tr><td>1</td><td>&quot;behr, mr. karl…</td><td>26.0</td></tr><tr><td>3</td><td>&quot;dooley, mr. pa…</td><td>32.0</td></tr></tbody></table></div>"
      ],
      "text/plain": [
       "shape: (891, 3)\n",
       "┌────────┬───────────────────────────────────┬──────┐\n",
       "│ Pclass ┆ Name                              ┆ Age  │\n",
       "│ ---    ┆ ---                               ┆ ---  │\n",
       "│ i64    ┆ str                               ┆ f64  │\n",
       "╞════════╪═══════════════════════════════════╪══════╡\n",
       "│ 3      ┆ braund, mr. owen harris           ┆ 22.0 │\n",
       "│ 1      ┆ cumings, mrs. john bradley (flor… ┆ 38.0 │\n",
       "│ 3      ┆ heikkinen, miss. laina            ┆ 26.0 │\n",
       "│ …      ┆ …                                 ┆ …    │\n",
       "│ 3      ┆ johnston, miss. catherine helen … ┆ null │\n",
       "│ 1      ┆ behr, mr. karl howell             ┆ 26.0 │\n",
       "│ 3      ┆ dooley, mr. patrick               ┆ 32.0 │\n",
       "└────────┴───────────────────────────────────┴──────┘"
      ]
     },
     "execution_count": 8,
     "metadata": {},
     "output_type": "execute_result"
    }
   ],
   "source": [
    "(\n",
    "    df\n",
    "    .select(\n",
    "        [\n",
    "            pl.col(\"Pclass\"),\n",
    "            pl.col(\"Name\").str.to_lowercase(),\n",
    "            pl.col(\"Age\").round(2)\n",
    "        ]\n",
    "    )\n",
    ")"
   ]
  },
  {
   "cell_type": "markdown",
   "id": "19199543-fb56-40d8-ad59-c9edba58ab96",
   "metadata": {},
   "source": [
    "**When we have multiple expressions like this Polars runs them in parallel.**\n",
    "\n",
    "We can chain expressions together to do more complicated transformations on a column. \n",
    "\n",
    "In this example:\n",
    "\n",
    "    - we first split the `Name` column into words seperated by a space to get a list of words. \n",
    "    - In the same step we then count the length of this list. \n",
    "    - And then we add this as a new column to the `DataFrame` by giving it an `alias` at the end of the expression"
   ]
  },
  {
   "cell_type": "code",
   "execution_count": 9,
   "id": "f98151ca-ea98-47ea-b6af-26c56538591d",
   "metadata": {
    "tags": []
   },
   "outputs": [
    {
     "data": {
      "text/html": [
       "<div><style>\n",
       ".dataframe > thead > tr > th,\n",
       ".dataframe > tbody > tr > td {\n",
       "  text-align: right;\n",
       "}\n",
       "</style>\n",
       "<small>shape: (891, 4)</small><table border=\"1\" class=\"dataframe\"><thead><tr><th>Pclass</th><th>Name</th><th>Name_split</th><th>Name_word_count</th></tr><tr><td>i64</td><td>str</td><td>list[str]</td><td>u32</td></tr></thead><tbody><tr><td>3</td><td>&quot;Braund, Mr. Ow…</td><td>[&quot;Braund,&quot;, &quot;Mr.&quot;, … &quot;Harris&quot;]</td><td>4</td></tr><tr><td>1</td><td>&quot;Cumings, Mrs. …</td><td>[&quot;Cumings,&quot;, &quot;Mrs.&quot;, … &quot;Thayer)&quot;]</td><td>7</td></tr><tr><td>3</td><td>&quot;Heikkinen, Mis…</td><td>[&quot;Heikkinen,&quot;, &quot;Miss.&quot;, &quot;Laina&quot;]</td><td>3</td></tr><tr><td>&hellip;</td><td>&hellip;</td><td>&hellip;</td><td>&hellip;</td></tr><tr><td>3</td><td>&quot;Johnston, Miss…</td><td>[&quot;Johnston,&quot;, &quot;Miss.&quot;, … &quot;&quot;Carrie&quot;&quot;]</td><td>5</td></tr><tr><td>1</td><td>&quot;Behr, Mr. Karl…</td><td>[&quot;Behr,&quot;, &quot;Mr.&quot;, … &quot;Howell&quot;]</td><td>4</td></tr><tr><td>3</td><td>&quot;Dooley, Mr. Pa…</td><td>[&quot;Dooley,&quot;, &quot;Mr.&quot;, &quot;Patrick&quot;]</td><td>3</td></tr></tbody></table></div>"
      ],
      "text/plain": [
       "shape: (891, 4)\n",
       "┌────────┬───────────────────────────────────┬───────────────────────────────────┬─────────────────┐\n",
       "│ Pclass ┆ Name                              ┆ Name_split                        ┆ Name_word_count │\n",
       "│ ---    ┆ ---                               ┆ ---                               ┆ ---             │\n",
       "│ i64    ┆ str                               ┆ list[str]                         ┆ u32             │\n",
       "╞════════╪═══════════════════════════════════╪═══════════════════════════════════╪═════════════════╡\n",
       "│ 3      ┆ Braund, Mr. Owen Harris           ┆ [\"Braund,\", \"Mr.\", … \"Harris\"]    ┆ 4               │\n",
       "│ 1      ┆ Cumings, Mrs. John Bradley (Flor… ┆ [\"Cumings,\", \"Mrs.\", … \"Thayer)\"… ┆ 7               │\n",
       "│ 3      ┆ Heikkinen, Miss. Laina            ┆ [\"Heikkinen,\", \"Miss.\", \"Laina\"]  ┆ 3               │\n",
       "│ …      ┆ …                                 ┆ …                                 ┆ …               │\n",
       "│ 3      ┆ Johnston, Miss. Catherine Helen … ┆ [\"Johnston,\", \"Miss.\", … \"\"Carri… ┆ 5               │\n",
       "│ 1      ┆ Behr, Mr. Karl Howell             ┆ [\"Behr,\", \"Mr.\", … \"Howell\"]      ┆ 4               │\n",
       "│ 3      ┆ Dooley, Mr. Patrick               ┆ [\"Dooley,\", \"Mr.\", \"Patrick\"]     ┆ 3               │\n",
       "└────────┴───────────────────────────────────┴───────────────────────────────────┴─────────────────┘"
      ]
     },
     "execution_count": 9,
     "metadata": {},
     "output_type": "execute_result"
    }
   ],
   "source": [
    "(\n",
    "    df\n",
    "    .select(\n",
    "        [\n",
    "            pl.col(\"Pclass\"),\n",
    "            pl.col(\"Name\"),\n",
    "            pl.col(\"Name\").str.split(\" \").alias(\"Name_split\"),\n",
    "            pl.col(\"Name\").str.split(\" \").arr.lengths().alias(\"Name_word_count\"),\n",
    "        ]\n",
    "    )\n",
    ")"
   ]
  },
  {
   "cell_type": "markdown",
   "id": "498d39e1-3a9b-4c73-8c40-ff3e9ed56097",
   "metadata": {},
   "source": [
    "We look at expressions in detail throughout the workshop to find the right expression for many different scenarios.\n",
    "\n",
    "### Filtering a `DataFrame` with the Expression API\n",
    "\n",
    "We filter a `DataFrame` by applying a condition to an expression.\n",
    "\n",
    "In this example we find all the passengers over 70 years of age"
   ]
  },
  {
   "cell_type": "code",
   "execution_count": 10,
   "id": "49ce72f9-3a9c-4cba-9010-c46894316463",
   "metadata": {
    "tags": []
   },
   "outputs": [
    {
     "data": {
      "text/html": [
       "<div><style>\n",
       ".dataframe > thead > tr > th,\n",
       ".dataframe > tbody > tr > td {\n",
       "  text-align: right;\n",
       "}\n",
       "</style>\n",
       "<small>shape: (5, 12)</small><table border=\"1\" class=\"dataframe\"><thead><tr><th>PassengerId</th><th>Survived</th><th>Pclass</th><th>Name</th><th>Sex</th><th>Age</th><th>SibSp</th><th>Parch</th><th>Ticket</th><th>Fare</th><th>Cabin</th><th>Embarked</th></tr><tr><td>i64</td><td>i64</td><td>i64</td><td>str</td><td>str</td><td>f64</td><td>i64</td><td>i64</td><td>str</td><td>f64</td><td>str</td><td>str</td></tr></thead><tbody><tr><td>97</td><td>0</td><td>1</td><td>&quot;Goldschmidt, M…</td><td>&quot;male&quot;</td><td>71.0</td><td>0</td><td>0</td><td>&quot;PC 17754&quot;</td><td>34.6542</td><td>&quot;A5&quot;</td><td>&quot;C&quot;</td></tr><tr><td>117</td><td>0</td><td>3</td><td>&quot;Connors, Mr. P…</td><td>&quot;male&quot;</td><td>70.5</td><td>0</td><td>0</td><td>&quot;370369&quot;</td><td>7.75</td><td>null</td><td>&quot;Q&quot;</td></tr><tr><td>494</td><td>0</td><td>1</td><td>&quot;Artagaveytia, …</td><td>&quot;male&quot;</td><td>71.0</td><td>0</td><td>0</td><td>&quot;PC 17609&quot;</td><td>49.5042</td><td>null</td><td>&quot;C&quot;</td></tr><tr><td>631</td><td>1</td><td>1</td><td>&quot;Barkworth, Mr.…</td><td>&quot;male&quot;</td><td>80.0</td><td>0</td><td>0</td><td>&quot;27042&quot;</td><td>30.0</td><td>&quot;A23&quot;</td><td>&quot;S&quot;</td></tr><tr><td>852</td><td>0</td><td>3</td><td>&quot;Svensson, Mr. …</td><td>&quot;male&quot;</td><td>74.0</td><td>0</td><td>0</td><td>&quot;347060&quot;</td><td>7.775</td><td>null</td><td>&quot;S&quot;</td></tr></tbody></table></div>"
      ],
      "text/plain": [
       "shape: (5, 12)\n",
       "┌─────────────┬──────────┬────────┬────────────────────┬───┬──────────┬─────────┬───────┬──────────┐\n",
       "│ PassengerId ┆ Survived ┆ Pclass ┆ Name               ┆ … ┆ Ticket   ┆ Fare    ┆ Cabin ┆ Embarked │\n",
       "│ ---         ┆ ---      ┆ ---    ┆ ---                ┆   ┆ ---      ┆ ---     ┆ ---   ┆ ---      │\n",
       "│ i64         ┆ i64      ┆ i64    ┆ str                ┆   ┆ str      ┆ f64     ┆ str   ┆ str      │\n",
       "╞═════════════╪══════════╪════════╪════════════════════╪═══╪══════════╪═════════╪═══════╪══════════╡\n",
       "│ 97          ┆ 0        ┆ 1      ┆ Goldschmidt, Mr.   ┆ … ┆ PC 17754 ┆ 34.6542 ┆ A5    ┆ C        │\n",
       "│             ┆          ┆        ┆ George B           ┆   ┆          ┆         ┆       ┆          │\n",
       "│ 117         ┆ 0        ┆ 3      ┆ Connors, Mr.       ┆ … ┆ 370369   ┆ 7.75    ┆ null  ┆ Q        │\n",
       "│             ┆          ┆        ┆ Patrick            ┆   ┆          ┆         ┆       ┆          │\n",
       "│ 494         ┆ 0        ┆ 1      ┆ Artagaveytia, Mr.  ┆ … ┆ PC 17609 ┆ 49.5042 ┆ null  ┆ C        │\n",
       "│             ┆          ┆        ┆ Ramon              ┆   ┆          ┆         ┆       ┆          │\n",
       "│ 631         ┆ 1        ┆ 1      ┆ Barkworth, Mr.     ┆ … ┆ 27042    ┆ 30.0    ┆ A23   ┆ S        │\n",
       "│             ┆          ┆        ┆ Algernon Henry Wi… ┆   ┆          ┆         ┆       ┆          │\n",
       "│ 852         ┆ 0        ┆ 3      ┆ Svensson, Mr.      ┆ … ┆ 347060   ┆ 7.775   ┆ null  ┆ S        │\n",
       "│             ┆          ┆        ┆ Johan              ┆   ┆          ┆         ┆       ┆          │\n",
       "└─────────────┴──────────┴────────┴────────────────────┴───┴──────────┴─────────┴───────┴──────────┘"
      ]
     },
     "execution_count": 10,
     "metadata": {},
     "output_type": "execute_result"
    }
   ],
   "source": [
    "(\n",
    "    df\n",
    "    .filter(\n",
    "        pl.col(\"Age\") > 70\n",
    "    )\n",
    ")"
   ]
  },
  {
   "cell_type": "markdown",
   "id": "015f274a-69d7-4215-9ffa-0784bc53dd66",
   "metadata": {},
   "source": [
    "We are not limited to using the Expression API for these operations. The Expression API is at the heart of all data transformations in Polars as we see below."
   ]
  },
  {
   "cell_type": "markdown",
   "id": "7887c01d-29e1-4871-bb4d-b5499fecd234",
   "metadata": {},
   "source": [
    "## Analytics\n",
    "Polars has a wide range of functionality for analysing data. In the workshop we look at a wider range of analytic methods and how we can use expressions to write more complicated analysis in a concise way.\n",
    "\n",
    "We begin by getting an overview of the `DataFrame` with `describe`"
   ]
  },
  {
   "cell_type": "code",
   "execution_count": 11,
   "id": "574a41d3-be19-446c-829b-bc85f5385312",
   "metadata": {
    "tags": []
   },
   "outputs": [
    {
     "data": {
      "text/html": [
       "<div><style>\n",
       ".dataframe > thead > tr > th,\n",
       ".dataframe > tbody > tr > td {\n",
       "  text-align: right;\n",
       "}\n",
       "</style>\n",
       "<small>shape: (9, 13)</small><table border=\"1\" class=\"dataframe\"><thead><tr><th>describe</th><th>PassengerId</th><th>Survived</th><th>Pclass</th><th>Name</th><th>Sex</th><th>Age</th><th>SibSp</th><th>Parch</th><th>Ticket</th><th>Fare</th><th>Cabin</th><th>Embarked</th></tr><tr><td>str</td><td>f64</td><td>f64</td><td>f64</td><td>str</td><td>str</td><td>f64</td><td>f64</td><td>f64</td><td>str</td><td>f64</td><td>str</td><td>str</td></tr></thead><tbody><tr><td>&quot;count&quot;</td><td>891.0</td><td>891.0</td><td>891.0</td><td>&quot;891&quot;</td><td>&quot;891&quot;</td><td>891.0</td><td>891.0</td><td>891.0</td><td>&quot;891&quot;</td><td>891.0</td><td>&quot;891&quot;</td><td>&quot;891&quot;</td></tr><tr><td>&quot;null_count&quot;</td><td>0.0</td><td>0.0</td><td>0.0</td><td>&quot;0&quot;</td><td>&quot;0&quot;</td><td>177.0</td><td>0.0</td><td>0.0</td><td>&quot;0&quot;</td><td>0.0</td><td>&quot;687&quot;</td><td>&quot;2&quot;</td></tr><tr><td>&quot;mean&quot;</td><td>446.0</td><td>0.383838</td><td>2.308642</td><td>null</td><td>null</td><td>29.699118</td><td>0.523008</td><td>0.381594</td><td>null</td><td>32.204208</td><td>null</td><td>null</td></tr><tr><td>&hellip;</td><td>&hellip;</td><td>&hellip;</td><td>&hellip;</td><td>&hellip;</td><td>&hellip;</td><td>&hellip;</td><td>&hellip;</td><td>&hellip;</td><td>&hellip;</td><td>&hellip;</td><td>&hellip;</td><td>&hellip;</td></tr><tr><td>&quot;median&quot;</td><td>446.0</td><td>0.0</td><td>3.0</td><td>null</td><td>null</td><td>28.0</td><td>0.0</td><td>0.0</td><td>null</td><td>14.4542</td><td>null</td><td>null</td></tr><tr><td>&quot;25%&quot;</td><td>223.0</td><td>0.0</td><td>2.0</td><td>null</td><td>null</td><td>20.0</td><td>0.0</td><td>0.0</td><td>null</td><td>7.8958</td><td>null</td><td>null</td></tr><tr><td>&quot;75%&quot;</td><td>669.0</td><td>1.0</td><td>3.0</td><td>null</td><td>null</td><td>38.0</td><td>1.0</td><td>0.0</td><td>null</td><td>31.0</td><td>null</td><td>null</td></tr></tbody></table></div>"
      ],
      "text/plain": [
       "shape: (9, 13)\n",
       "┌────────────┬─────────────┬──────────┬──────────┬───┬────────┬───────────┬───────┬──────────┐\n",
       "│ describe   ┆ PassengerId ┆ Survived ┆ Pclass   ┆ … ┆ Ticket ┆ Fare      ┆ Cabin ┆ Embarked │\n",
       "│ ---        ┆ ---         ┆ ---      ┆ ---      ┆   ┆ ---    ┆ ---       ┆ ---   ┆ ---      │\n",
       "│ str        ┆ f64         ┆ f64      ┆ f64      ┆   ┆ str    ┆ f64       ┆ str   ┆ str      │\n",
       "╞════════════╪═════════════╪══════════╪══════════╪═══╪════════╪═══════════╪═══════╪══════════╡\n",
       "│ count      ┆ 891.0       ┆ 891.0    ┆ 891.0    ┆ … ┆ 891    ┆ 891.0     ┆ 891   ┆ 891      │\n",
       "│ null_count ┆ 0.0         ┆ 0.0      ┆ 0.0      ┆ … ┆ 0      ┆ 0.0       ┆ 687   ┆ 2        │\n",
       "│ mean       ┆ 446.0       ┆ 0.383838 ┆ 2.308642 ┆ … ┆ null   ┆ 32.204208 ┆ null  ┆ null     │\n",
       "│ …          ┆ …           ┆ …        ┆ …        ┆ … ┆ …      ┆ …         ┆ …     ┆ …        │\n",
       "│ median     ┆ 446.0       ┆ 0.0      ┆ 3.0      ┆ … ┆ null   ┆ 14.4542   ┆ null  ┆ null     │\n",
       "│ 25%        ┆ 223.0       ┆ 0.0      ┆ 2.0      ┆ … ┆ null   ┆ 7.8958    ┆ null  ┆ null     │\n",
       "│ 75%        ┆ 669.0       ┆ 1.0      ┆ 3.0      ┆ … ┆ null   ┆ 31.0      ┆ null  ┆ null     │\n",
       "└────────────┴─────────────┴──────────┴──────────┴───┴────────┴───────────┴───────┴──────────┘"
      ]
     },
     "execution_count": 11,
     "metadata": {},
     "output_type": "execute_result"
    }
   ],
   "source": [
    "df.describe()"
   ]
  },
  {
   "cell_type": "markdown",
   "id": "d556f10c-48e8-4355-880f-eedf640b217e",
   "metadata": {},
   "source": [
    "The output of `describe` shows us how many records there are, how many `null` values and some key statistics.\n",
    "\n",
    "### Value counts on a column\n",
    "We use `value_counts` to count occurences of values in a column.\n",
    "\n",
    "In this example we count how many passengers there are in each class with `value_counts`"
   ]
  },
  {
   "cell_type": "code",
   "execution_count": 12,
   "id": "faa1e191-8e7c-4c9b-83e5-ea0f7416141f",
   "metadata": {
    "tags": []
   },
   "outputs": [
    {
     "data": {
      "text/html": [
       "<div><style>\n",
       ".dataframe > thead > tr > th,\n",
       ".dataframe > tbody > tr > td {\n",
       "  text-align: right;\n",
       "}\n",
       "</style>\n",
       "<small>shape: (3, 2)</small><table border=\"1\" class=\"dataframe\"><thead><tr><th>Pclass</th><th>counts</th></tr><tr><td>i64</td><td>u32</td></tr></thead><tbody><tr><td>2</td><td>184</td></tr><tr><td>3</td><td>491</td></tr><tr><td>1</td><td>216</td></tr></tbody></table></div>"
      ],
      "text/plain": [
       "shape: (3, 2)\n",
       "┌────────┬────────┐\n",
       "│ Pclass ┆ counts │\n",
       "│ ---    ┆ ---    │\n",
       "│ i64    ┆ u32    │\n",
       "╞════════╪════════╡\n",
       "│ 2      ┆ 184    │\n",
       "│ 3      ┆ 491    │\n",
       "│ 1      ┆ 216    │\n",
       "└────────┴────────┘"
      ]
     },
     "execution_count": 12,
     "metadata": {},
     "output_type": "execute_result"
    }
   ],
   "source": [
    "df[\"Pclass\"].value_counts()"
   ]
  },
  {
   "cell_type": "markdown",
   "id": "4fe37f31-28de-4b82-934e-d698996084a4",
   "metadata": {},
   "source": [
    "### Groupby and aggregations\n",
    "Polars has a fast parallel algorithm for `groupby` operations. \n",
    "\n",
    "Here we first group by the `Survived` and the `Pclass` columns. We then aggregate in `agg` by counting the number of passengers in each group"
   ]
  },
  {
   "cell_type": "code",
   "execution_count": 13,
   "id": "80e2354c-f911-47b8-98e7-d090e8f7faab",
   "metadata": {},
   "outputs": [
    {
     "data": {
      "text/html": [
       "<div><style>\n",
       ".dataframe > thead > tr > th,\n",
       ".dataframe > tbody > tr > td {\n",
       "  text-align: right;\n",
       "}\n",
       "</style>\n",
       "<small>shape: (891, 12)</small><table border=\"1\" class=\"dataframe\"><thead><tr><th>PassengerId</th><th>Survived</th><th>Pclass</th><th>Name</th><th>Sex</th><th>Age</th><th>SibSp</th><th>Parch</th><th>Ticket</th><th>Fare</th><th>Cabin</th><th>Embarked</th></tr><tr><td>i64</td><td>i64</td><td>i64</td><td>str</td><td>str</td><td>f64</td><td>i64</td><td>i64</td><td>str</td><td>f64</td><td>str</td><td>str</td></tr></thead><tbody><tr><td>1</td><td>0</td><td>3</td><td>&quot;Braund, Mr. Ow…</td><td>&quot;male&quot;</td><td>22.0</td><td>1</td><td>0</td><td>&quot;A/5 21171&quot;</td><td>7.25</td><td>null</td><td>&quot;S&quot;</td></tr><tr><td>2</td><td>1</td><td>1</td><td>&quot;Cumings, Mrs. …</td><td>&quot;female&quot;</td><td>38.0</td><td>1</td><td>0</td><td>&quot;PC 17599&quot;</td><td>71.2833</td><td>&quot;C85&quot;</td><td>&quot;C&quot;</td></tr><tr><td>3</td><td>1</td><td>3</td><td>&quot;Heikkinen, Mis…</td><td>&quot;female&quot;</td><td>26.0</td><td>0</td><td>0</td><td>&quot;STON/O2. 31012…</td><td>7.925</td><td>null</td><td>&quot;S&quot;</td></tr><tr><td>&hellip;</td><td>&hellip;</td><td>&hellip;</td><td>&hellip;</td><td>&hellip;</td><td>&hellip;</td><td>&hellip;</td><td>&hellip;</td><td>&hellip;</td><td>&hellip;</td><td>&hellip;</td><td>&hellip;</td></tr><tr><td>889</td><td>0</td><td>3</td><td>&quot;Johnston, Miss…</td><td>&quot;female&quot;</td><td>null</td><td>1</td><td>2</td><td>&quot;W./C. 6607&quot;</td><td>23.45</td><td>null</td><td>&quot;S&quot;</td></tr><tr><td>890</td><td>1</td><td>1</td><td>&quot;Behr, Mr. Karl…</td><td>&quot;male&quot;</td><td>26.0</td><td>0</td><td>0</td><td>&quot;111369&quot;</td><td>30.0</td><td>&quot;C148&quot;</td><td>&quot;C&quot;</td></tr><tr><td>891</td><td>0</td><td>3</td><td>&quot;Dooley, Mr. Pa…</td><td>&quot;male&quot;</td><td>32.0</td><td>0</td><td>0</td><td>&quot;370376&quot;</td><td>7.75</td><td>null</td><td>&quot;Q&quot;</td></tr></tbody></table></div>"
      ],
      "text/plain": [
       "shape: (891, 12)\n",
       "┌─────────────┬──────────┬────────┬──────────────────┬───┬────────────┬─────────┬───────┬──────────┐\n",
       "│ PassengerId ┆ Survived ┆ Pclass ┆ Name             ┆ … ┆ Ticket     ┆ Fare    ┆ Cabin ┆ Embarked │\n",
       "│ ---         ┆ ---      ┆ ---    ┆ ---              ┆   ┆ ---        ┆ ---     ┆ ---   ┆ ---      │\n",
       "│ i64         ┆ i64      ┆ i64    ┆ str              ┆   ┆ str        ┆ f64     ┆ str   ┆ str      │\n",
       "╞═════════════╪══════════╪════════╪══════════════════╪═══╪════════════╪═════════╪═══════╪══════════╡\n",
       "│ 1           ┆ 0        ┆ 3      ┆ Braund, Mr. Owen ┆ … ┆ A/5 21171  ┆ 7.25    ┆ null  ┆ S        │\n",
       "│             ┆          ┆        ┆ Harris           ┆   ┆            ┆         ┆       ┆          │\n",
       "│ 2           ┆ 1        ┆ 1      ┆ Cumings, Mrs.    ┆ … ┆ PC 17599   ┆ 71.2833 ┆ C85   ┆ C        │\n",
       "│             ┆          ┆        ┆ John Bradley     ┆   ┆            ┆         ┆       ┆          │\n",
       "│             ┆          ┆        ┆ (Flor…           ┆   ┆            ┆         ┆       ┆          │\n",
       "│ 3           ┆ 1        ┆ 3      ┆ Heikkinen, Miss. ┆ … ┆ STON/O2.   ┆ 7.925   ┆ null  ┆ S        │\n",
       "│             ┆          ┆        ┆ Laina            ┆   ┆ 3101282    ┆         ┆       ┆          │\n",
       "│ …           ┆ …        ┆ …      ┆ …                ┆ … ┆ …          ┆ …       ┆ …     ┆ …        │\n",
       "│ 889         ┆ 0        ┆ 3      ┆ Johnston, Miss.  ┆ … ┆ W./C. 6607 ┆ 23.45   ┆ null  ┆ S        │\n",
       "│             ┆          ┆        ┆ Catherine Helen  ┆   ┆            ┆         ┆       ┆          │\n",
       "│             ┆          ┆        ┆ …                ┆   ┆            ┆         ┆       ┆          │\n",
       "│ 890         ┆ 1        ┆ 1      ┆ Behr, Mr. Karl   ┆ … ┆ 111369     ┆ 30.0    ┆ C148  ┆ C        │\n",
       "│             ┆          ┆        ┆ Howell           ┆   ┆            ┆         ┆       ┆          │\n",
       "│ 891         ┆ 0        ┆ 3      ┆ Dooley, Mr.      ┆ … ┆ 370376     ┆ 7.75    ┆ null  ┆ Q        │\n",
       "│             ┆          ┆        ┆ Patrick          ┆   ┆            ┆         ┆       ┆          │\n",
       "└─────────────┴──────────┴────────┴──────────────────┴───┴────────────┴─────────┴───────┴──────────┘"
      ]
     },
     "execution_count": 13,
     "metadata": {},
     "output_type": "execute_result"
    }
   ],
   "source": [
    "df"
   ]
  },
  {
   "cell_type": "code",
   "execution_count": 14,
   "id": "72992a3d-5120-4a84-96c2-bed07d079677",
   "metadata": {
    "tags": []
   },
   "outputs": [
    {
     "data": {
      "text/html": [
       "<div><style>\n",
       ".dataframe > thead > tr > th,\n",
       ".dataframe > tbody > tr > td {\n",
       "  text-align: right;\n",
       "}\n",
       "</style>\n",
       "<small>shape: (6, 3)</small><table border=\"1\" class=\"dataframe\"><thead><tr><th>Survived</th><th>Pclass</th><th>counts</th></tr><tr><td>i64</td><td>i64</td><td>u32</td></tr></thead><tbody><tr><td>1</td><td>2</td><td>87</td></tr><tr><td>0</td><td>2</td><td>97</td></tr><tr><td>1</td><td>3</td><td>119</td></tr><tr><td>0</td><td>1</td><td>80</td></tr><tr><td>0</td><td>3</td><td>372</td></tr><tr><td>1</td><td>1</td><td>136</td></tr></tbody></table></div>"
      ],
      "text/plain": [
       "shape: (6, 3)\n",
       "┌──────────┬────────┬────────┐\n",
       "│ Survived ┆ Pclass ┆ counts │\n",
       "│ ---      ┆ ---    ┆ ---    │\n",
       "│ i64      ┆ i64    ┆ u32    │\n",
       "╞══════════╪════════╪════════╡\n",
       "│ 1        ┆ 2      ┆ 87     │\n",
       "│ 0        ┆ 2      ┆ 97     │\n",
       "│ 1        ┆ 3      ┆ 119    │\n",
       "│ 0        ┆ 1      ┆ 80     │\n",
       "│ 0        ┆ 3      ┆ 372    │\n",
       "│ 1        ┆ 1      ┆ 136    │\n",
       "└──────────┴────────┴────────┘"
      ]
     },
     "execution_count": 14,
     "metadata": {},
     "output_type": "execute_result"
    }
   ],
   "source": [
    "(\n",
    "    df\n",
    "    .groupby([\"Survived\",\"Pclass\"])\n",
    "    .agg(\n",
    "        pl.col(\"PassengerId\").count().alias(\"counts\")\n",
    "    )\n",
    ")"
   ]
  },
  {
   "cell_type": "markdown",
   "id": "26e5b21f-a7c7-4aa5-b19d-74a24bd47805",
   "metadata": {},
   "source": [
    "We use the Expression API to for each aggregation in `agg`.\n",
    "\n",
    "Groupby operations in Polars are fast because Polars has a parallel algorithm for getting the groupby keys. Aggregations are also fast because Polars runs multiple expressions in `agg` in parallel."
   ]
  },
  {
   "cell_type": "markdown",
   "id": "6654a50d-ec2e-4d56-9ab4-c58e21784ff6",
   "metadata": {},
   "source": [
    "### Window operations\n",
    "Window operations occur when we want to add a column that reflects not just data from that row but from a related group of rows. Windows occur in many contexts including rolling or temporal statistics and Polars covers these use cases.\n",
    "\n",
    "Another example of a window operation is when we want the percentage breakdown within a group. We use the `over` expression for this.\n",
    "\n",
    "For example, here we use `over` to calculate what percentage of passengers in each class survived "
   ]
  },
  {
   "cell_type": "code",
   "execution_count": 15,
   "id": "f52484dd-b04d-4dad-8182-f234a0df8662",
   "metadata": {
    "tags": []
   },
   "outputs": [
    {
     "data": {
      "text/html": [
       "<div><style>\n",
       ".dataframe > thead > tr > th,\n",
       ".dataframe > tbody > tr > td {\n",
       "  text-align: right;\n",
       "}\n",
       "</style>\n",
       "<small>shape: (6, 4)</small><table border=\"1\" class=\"dataframe\"><thead><tr><th>Survived</th><th>Pclass</th><th>counts</th><th>% Survived</th></tr><tr><td>i64</td><td>i64</td><td>u32</td><td>f64</td></tr></thead><tbody><tr><td>1</td><td>3</td><td>119</td><td>24.236253</td></tr><tr><td>0</td><td>3</td><td>372</td><td>75.763747</td></tr><tr><td>1</td><td>2</td><td>87</td><td>47.282609</td></tr><tr><td>0</td><td>2</td><td>97</td><td>52.717391</td></tr><tr><td>1</td><td>1</td><td>136</td><td>62.962963</td></tr><tr><td>0</td><td>1</td><td>80</td><td>37.037037</td></tr></tbody></table></div>"
      ],
      "text/plain": [
       "shape: (6, 4)\n",
       "┌──────────┬────────┬────────┬────────────┐\n",
       "│ Survived ┆ Pclass ┆ counts ┆ % Survived │\n",
       "│ ---      ┆ ---    ┆ ---    ┆ ---        │\n",
       "│ i64      ┆ i64    ┆ u32    ┆ f64        │\n",
       "╞══════════╪════════╪════════╪════════════╡\n",
       "│ 1        ┆ 3      ┆ 119    ┆ 24.236253  │\n",
       "│ 0        ┆ 3      ┆ 372    ┆ 75.763747  │\n",
       "│ 1        ┆ 2      ┆ 87     ┆ 47.282609  │\n",
       "│ 0        ┆ 2      ┆ 97     ┆ 52.717391  │\n",
       "│ 1        ┆ 1      ┆ 136    ┆ 62.962963  │\n",
       "│ 0        ┆ 1      ┆ 80     ┆ 37.037037  │\n",
       "└──────────┴────────┴────────┴────────────┘"
      ]
     },
     "execution_count": 15,
     "metadata": {},
     "output_type": "execute_result"
    }
   ],
   "source": [
    "survivedPercentageDf = (\n",
    "    df\n",
    "    # Groupby Survived and Pclass\n",
    "    .groupby([\"Survived\",\"Pclass\"])\n",
    "    # Count the number of passengers in each group\n",
    "    .agg(\n",
    "        pl.col(\"PassengerId\").count().alias(\"counts\")\n",
    "    )\n",
    "    # Divide the number of passengers in each group by the total passengers in each class\n",
    "    .with_columns(\n",
    "        (100*(\n",
    "            pl.col(\"counts\")/pl.col(\"counts\").sum().over(\"Pclass\")\n",
    "        )\n",
    "        )\n",
    "        .alias(\"% Survived\")\n",
    "    )\n",
    "    # Sort the output\n",
    "    .sort([\"Pclass\",\"Survived\"],descending=True)\n",
    ")\n",
    "\n",
    "survivedPercentageDf"
   ]
  },
  {
   "cell_type": "markdown",
   "id": "0e18862c-208f-4f65-9bcf-5d75163551e7",
   "metadata": {},
   "source": [
    "## Lazy mode and query optimisation\n",
    "In the examples above we work in eager mode. In eager mode Polars runs each part of a query step-by-step.\n",
    "\n",
    "Polars has a powerful feature called lazy mode. In this mode Polars looks at a query as a whole to make a query graph. Before running the query Polars passes the query graph through its query optimiser to see if there ways to make the query faster.\n",
    "\n",
    "When working with a CSV we can switch from eager mode to eager mode by replacing `read_csv` with `scan_csv`"
   ]
  },
  {
   "cell_type": "code",
   "execution_count": 17,
   "id": "82853451-8a88-45b4-9c8b-04ab3d7a9bf3",
   "metadata": {
    "tags": []
   },
   "outputs": [
    {
     "data": {
      "text/html": [
       "<i>naive plan: (run <b>LazyFrame.explain(optimized=True)</b> to see the optimized plan)</i>\n",
       "    <p></p>\n",
       "    <div>AGGREGATE<p></p>\t[col(\"PassengerId\").count().alias(\"counts\")] BY [col(\"Survived\"), col(\"Pclass\")] FROM<p></p>\t<p></p>  CSV SCAN ../data/titanic.csv<p></p>  PROJECT */12 COLUMNS</div>"
      ],
      "text/plain": [
       "<polars.LazyFrame object at 0x7FC2114F5240>"
      ]
     },
     "execution_count": 17,
     "metadata": {},
     "output_type": "execute_result"
    }
   ],
   "source": [
    "(\n",
    "    pl.scan_csv(csvFile)\n",
    "    .groupby([\"Survived\",\"Pclass\"])\n",
    "    .agg(\n",
    "        pl.col(\"PassengerId\").count().alias(\"counts\")\n",
    "    )\n",
    ")"
   ]
  },
  {
   "cell_type": "markdown",
   "id": "e4ff7291-9daf-43ba-860e-d20bd6276625",
   "metadata": {},
   "source": [
    "The output of a lazy query is `LazyFrame` and we see the unoptimized query plan when we output a `LazyFrame`.\n",
    "\n",
    "### Query optimiser\n",
    "We can see the optimised query plan that Polars will actually run by add `explain` at the end of the query"
   ]
  },
  {
   "cell_type": "code",
   "execution_count": 18,
   "id": "b6f31781-c8b8-474b-878f-dc16ef666b60",
   "metadata": {
    "tags": []
   },
   "outputs": [
    {
     "name": "stdout",
     "output_type": "stream",
     "text": [
      "AGGREGATE\n",
      "\t[col(\"PassengerId\").count().alias(\"counts\")] BY [col(\"Survived\"), col(\"Pclass\")] FROM\n",
      "\t\n",
      "  CSV SCAN ../data/titanic.csv\n",
      "  PROJECT 3/12 COLUMNS\n"
     ]
    }
   ],
   "source": [
    "print(\n",
    "    pl.scan_csv(csvFile)\n",
    "    .groupby([\"Survived\",\"Pclass\"])\n",
    "    .agg(\n",
    "        pl.col(\"PassengerId\").count().alias(\"counts\")\n",
    "    )\n",
    "    .explain()\n",
    ")"
   ]
  },
  {
   "cell_type": "markdown",
   "id": "8ed924f1-854a-4fcc-bdc4-72fb8b96f6bc",
   "metadata": {},
   "source": [
    "In this example Polars has identified an optimisation:\n",
    "```python\n",
    "PROJECT 3/12 COLUMNS\n",
    "```\n",
    "There are 12 columns in the CSV, but the query optimiser sees that only 3 of these columns are required for the query. When the query is evaluated Polars will `PROJECT` 3 out of 12 columns: Polars will only read the 3 required columns from the CSV. This projection saves memory and computation time.\n",
    "\n",
    "A different optimisation happens when we apply a `filter` to a query. In this case we want the same analysis of survival by class but only for passengers over 50"
   ]
  },
  {
   "cell_type": "code",
   "execution_count": 19,
   "id": "e9ac2d16-8afc-442a-ad7c-e3a776a22b1d",
   "metadata": {
    "tags": []
   },
   "outputs": [
    {
     "name": "stdout",
     "output_type": "stream",
     "text": [
      "AGGREGATE\n",
      "\t[col(\"PassengerId\").count().alias(\"counts\")] BY [col(\"Survived\"), col(\"Pclass\")] FROM\n",
      "\t\n",
      "  CSV SCAN ../data/titanic.csv\n",
      "  PROJECT 4/12 COLUMNS\n",
      "  SELECTION: [(col(\"Age\")) > (50.0)]\n"
     ]
    }
   ],
   "source": [
    "print(\n",
    "    pl.scan_csv(csvFile)\n",
    "    .filter(pl.col(\"Age\") > 50)\n",
    "    .groupby([\"Survived\",\"Pclass\"])\n",
    "    .agg(\n",
    "        pl.col(\"PassengerId\").count().alias(\"counts\")\n",
    "    )\n",
    "    .explain()\n",
    ")"
   ]
  },
  {
   "cell_type": "markdown",
   "id": "1cdcb136-ce68-41af-8e83-60bdc9db1d57",
   "metadata": {},
   "source": [
    "In this example the query optimiser has seen that:\n",
    "- 4 out of 12 columns are now required `PROJECT 4/12 COLUMNS` and\n",
    "- only passengers over 50 should be selected `SELECTION: [(col(\"Age\")) > (50.0)]`\n",
    "\n",
    "These optimisations are applied as Polars reads the CSV file so the whole dataset must not be read into memory.\n",
    "\n",
    "### Query evaluation\n",
    "\n",
    "To evaluate the full query and output a `DataFrame` we call `collect` "
   ]
  },
  {
   "cell_type": "code",
   "execution_count": null,
   "id": "f1580184-5e2e-4aae-84f8-b22ff42e0fdd",
   "metadata": {},
   "outputs": [],
   "source": [
    "print(\n",
    "    pl.scan_csv(csvFile)\n",
    "    .filter(pl.col(\"Age\") > 50)\n",
    "    .groupby([\"Survived\",\"Pclass\"])\n",
    "    .agg(\n",
    "        pl.col(\"PassengerId\").count().alias(\"counts\")\n",
    "    )\n",
    "    .collect()\n",
    ")"
   ]
  },
  {
   "cell_type": "markdown",
   "id": "4e79edea-55b5-4189-80d9-9083dd4cccae",
   "metadata": {},
   "source": [
    "During development with a large dataset it may be better to limit evaluation to a smaller number of output rows. We can do this by replacing `collect` with `fetch`"
   ]
  },
  {
   "cell_type": "code",
   "execution_count": 20,
   "id": "925ce09e-ee42-4d66-a42b-9e8aec722115",
   "metadata": {},
   "outputs": [
    {
     "name": "stdout",
     "output_type": "stream",
     "text": [
      "shape: (3, 3)\n",
      "┌──────────┬────────┬────────┐\n",
      "│ Survived ┆ Pclass ┆ counts │\n",
      "│ ---      ┆ ---    ┆ ---    │\n",
      "│ i64      ┆ i64    ┆ u32    │\n",
      "╞══════════╪════════╪════════╡\n",
      "│ 1        ┆ 2      ┆ 1      │\n",
      "│ 0        ┆ 1      ┆ 1      │\n",
      "│ 1        ┆ 1      ┆ 1      │\n",
      "└──────────┴────────┴────────┘\n"
     ]
    }
   ],
   "source": [
    "print(\n",
    "    pl.scan_csv(csvFile)\n",
    "    .filter(pl.col(\"Age\") > 50)\n",
    "    .groupby([\"Survived\",\"Pclass\"])\n",
    "    .agg(\n",
    "        pl.col(\"PassengerId\").count().alias(\"counts\")\n",
    "    )\n",
    "    .fetch(3)\n",
    ")"
   ]
  },
  {
   "cell_type": "markdown",
   "id": "4ef8e7cc-bbd1-4aa2-baec-0e73fd4b1a2e",
   "metadata": {},
   "source": [
    "## Streaming larger-than-memory datasets\n",
    "By default Polars reads your full dataset into memory when evaluating a lazy query. However, if your dataset is too large to fit into memory Polars can run many operations in *streaming* mode. With streaming Polars processes your query in batches rather than all at once.\n",
    "\n",
    "To enable streaming we pass the `streaming = True` argument to `collect`"
   ]
  },
  {
   "cell_type": "code",
   "execution_count": 21,
   "id": "11add235-2654-438c-b795-9dc53e5114d5",
   "metadata": {},
   "outputs": [
    {
     "data": {
      "text/html": [
       "<div><style>\n",
       ".dataframe > thead > tr > th,\n",
       ".dataframe > tbody > tr > td {\n",
       "  text-align: right;\n",
       "}\n",
       "</style>\n",
       "<small>shape: (6, 3)</small><table border=\"1\" class=\"dataframe\"><thead><tr><th>Survived</th><th>Pclass</th><th>counts</th></tr><tr><td>i64</td><td>i64</td><td>u32</td></tr></thead><tbody><tr><td>1</td><td>2</td><td>3</td></tr><tr><td>0</td><td>2</td><td>12</td></tr><tr><td>1</td><td>3</td><td>1</td></tr><tr><td>0</td><td>1</td><td>21</td></tr><tr><td>1</td><td>1</td><td>18</td></tr><tr><td>0</td><td>3</td><td>9</td></tr></tbody></table></div>"
      ],
      "text/plain": [
       "shape: (6, 3)\n",
       "┌──────────┬────────┬────────┐\n",
       "│ Survived ┆ Pclass ┆ counts │\n",
       "│ ---      ┆ ---    ┆ ---    │\n",
       "│ i64      ┆ i64    ┆ u32    │\n",
       "╞══════════╪════════╪════════╡\n",
       "│ 1        ┆ 2      ┆ 3      │\n",
       "│ 0        ┆ 2      ┆ 12     │\n",
       "│ 1        ┆ 3      ┆ 1      │\n",
       "│ 0        ┆ 1      ┆ 21     │\n",
       "│ 1        ┆ 1      ┆ 18     │\n",
       "│ 0        ┆ 3      ┆ 9      │\n",
       "└──────────┴────────┴────────┘"
      ]
     },
     "execution_count": 21,
     "metadata": {},
     "output_type": "execute_result"
    }
   ],
   "source": [
    "(\n",
    "    pl.scan_csv(csvFile)\n",
    "    .filter(pl.col(\"Age\") > 50)\n",
    "    .groupby([\"Survived\",\"Pclass\"])\n",
    "    .agg(\n",
    "        pl.col(\"PassengerId\").count().alias(\"counts\")\n",
    "    )\n",
    "    .collect(streaming = True)\n",
    ")"
   ]
  },
  {
   "cell_type": "markdown",
   "id": "d933e3a5-d2c8-45cb-962c-19a9a2f0f5a8",
   "metadata": {},
   "source": [
    "In the workshop we look at how you can write your own streaming algorithms and we see how streaming affects different queries."
   ]
  },
  {
   "cell_type": "markdown",
   "id": "68c5867f-bf81-4e82-b34a-11ba17d3fbeb",
   "metadata": {},
   "source": [
    "## Summary\n",
    "This notebook has been a quick overview of the key ideas that make Polars a powerful data analysis tool:\n",
    "- expressions allow us to write complex transformations concisely and run them in parallel\n",
    "- lazy mode allows Polars apply query optimisations that reduce memory usage and computation time\n",
    "- streaming lets us process larger-than-memory datasets with Polars"
   ]
  }
 ],
 "metadata": {
  "celltoolbar": "Slideshow",
  "kernelspec": {
   "display_name": "Python 3 (ipykernel)",
   "language": "python",
   "name": "python3"
  },
  "language_info": {
   "codemirror_mode": {
    "name": "ipython",
    "version": 3
   },
   "file_extension": ".py",
   "mimetype": "text/x-python",
   "name": "python",
   "nbconvert_exporter": "python",
   "pygments_lexer": "ipython3",
   "version": "3.10.9"
  }
 },
 "nbformat": 4,
 "nbformat_minor": 5
}
