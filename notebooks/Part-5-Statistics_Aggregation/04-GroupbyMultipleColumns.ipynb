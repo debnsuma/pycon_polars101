{
 "cells": [
  {
   "cell_type": "markdown",
   "id": "7ab313ba-6253-4d32-a2e4-5b5558b16c91",
   "metadata": {},
   "source": [
    "# Groupby 3: Multiple aggregations\n",
    "By the end of this lecture you will be able to:\n",
    "- do multiple aggregations on multiple columns"
   ]
  },
  {
   "cell_type": "code",
   "execution_count": null,
   "id": "b5e894f2-657c-4b47-b6f5-b4da9a50fbd7",
   "metadata": {
    "tags": []
   },
   "outputs": [],
   "source": [
    "import polars as pl"
   ]
  },
  {
   "cell_type": "code",
   "execution_count": null,
   "id": "995173a7-de94-4202-9b79-ca1bc501d690",
   "metadata": {
    "tags": []
   },
   "outputs": [],
   "source": [
    "csvFile = '../data/titanic.csv'"
   ]
  },
  {
   "cell_type": "code",
   "execution_count": null,
   "id": "a7e71fc9-e440-4908-a1d3-ab76c7a6eaeb",
   "metadata": {
    "tags": []
   },
   "outputs": [],
   "source": [
    "df = pl.read_csv(csvFile)\n",
    "df.head(3)"
   ]
  },
  {
   "cell_type": "markdown",
   "id": "fdc5cdc7-d186-4be6-a9a4-b16d20068f49",
   "metadata": {},
   "source": [
    "## General case: Aggregations in a list\n",
    "We can pass a `list` to `.agg` to set out different aggregations"
   ]
  },
  {
   "cell_type": "code",
   "execution_count": null,
   "id": "e8c9c42b-4367-4c88-97bc-81fd1490ea30",
   "metadata": {
    "tags": []
   },
   "outputs": [],
   "source": [
    "(\n",
    "    df\n",
    "    .groupby('Pclass')\n",
    "    .agg(\n",
    "        [\n",
    "            pl.col('Age').mean(),\n",
    "            pl.col(\"Fare\").max()\n",
    "        ]\n",
    "    )\n",
    ")"
   ]
  },
  {
   "cell_type": "markdown",
   "id": "3e32e9da-97e6-4fb8-a409-1cc86b2dc8a3",
   "metadata": {},
   "source": [
    "When there are multiple aggregations Polars calculates them in parallel.\n",
    "\n",
    "## Multiple aggregations on a column\n",
    "\n",
    "Calling multiple aggregations on the same column produces columns of the same name.\n",
    "\n",
    "We use an `alias` to ensure \n",
    "column names are unique.\n",
    "\n",
    "For example, we get the min, mean and max of the `Age` column"
   ]
  },
  {
   "cell_type": "code",
   "execution_count": null,
   "id": "c6284253-886f-407f-a18d-557d31a4e1bf",
   "metadata": {
    "tags": []
   },
   "outputs": [],
   "source": [
    "(\n",
    "    df\n",
    "    .groupby('Pclass')\n",
    "    .agg(\n",
    "        [\n",
    "            pl.col('Age').min().alias('Age_min'),\n",
    "            pl.col('Age').mean().alias('Age_mean'),\n",
    "            pl.col('Age').max().alias('Age_max')\n",
    "        ]\n",
    "    )\n",
    ")"
   ]
  },
  {
   "cell_type": "markdown",
   "id": "eae2201c-672b-45dc-ba84-1cb8355fb443",
   "metadata": {},
   "source": [
    "There are more efficient ways to write code to do multiple columns and/or aggregations in `agg`.\n",
    "\n",
    "## Same aggregation on multiple columns\n",
    "To do the same aggregation on multiple columns we can loop over the columns in a list comprehension."
   ]
  },
  {
   "cell_type": "code",
   "execution_count": null,
   "id": "1dcb2ccf-4bdf-4575-bc5a-eb739653e6b2",
   "metadata": {
    "tags": []
   },
   "outputs": [],
   "source": [
    "(\n",
    "    df\n",
    "    .groupby('Pclass')\n",
    "    .agg(\n",
    "        [\n",
    "            pl.col(colName).mean() for colName in [\"Age\",\"Fare\"]\n",
    "        ]\n",
    "    )         \n",
    ")"
   ]
  },
  {
   "cell_type": "markdown",
   "id": "2dc7b490-f953-40ac-85ab-a5212d2b423d",
   "metadata": {},
   "source": [
    "We can also use the methods for selecting multiple columns we met previously including:\n",
    "- using `pl.all`\n",
    "- passing a dtype to `pl.col`\n",
    "- passing a regex to `pl.col`\n",
    "\n",
    "We see examples of these below and in the exercises."
   ]
  },
  {
   "cell_type": "markdown",
   "id": "35eda8b7-8789-4261-ba7b-adb21609a224",
   "metadata": {},
   "source": [
    "## Multiple aggregations on multiple columns\n",
    "\n",
    "Using `alias` is tedious for multiple aggregations on multiple columns.\n",
    "\n",
    "Instead we add a prefix or suffix to the column name. \n",
    "\n",
    "For example with a `suffix`"
   ]
  },
  {
   "cell_type": "code",
   "execution_count": null,
   "id": "fe3a5538-a6ae-4ab2-8127-365f4e635d12",
   "metadata": {
    "tags": []
   },
   "outputs": [],
   "source": [
    "(\n",
    "    df\n",
    "    .groupby('Pclass')\n",
    "    .agg(\n",
    "        [\n",
    "        pl.col(pl.Float64).mean().suffix(\"_mean\"),\n",
    "        pl.col(pl.Float64).min().suffix(\"_min\")\n",
    "        ]\n",
    "    )\n",
    ")"
   ]
  },
  {
   "cell_type": "markdown",
   "id": "9558b1b7-b375-4788-855f-7176267d54b8",
   "metadata": {},
   "source": [
    "# Exercises\n",
    "\n",
    "In the exercises you will develop your understanding of:\n",
    "- doing aggregations on a column\n",
    "- doing aggregations on multiple columns\n",
    "- renaming columns with a prefix or suffix\n",
    "- re-ordering columns with a suffix\n",
    "\n",
    "## Exercise 1: \n",
    "Grouping by `Pclass` and `Survived` get the youngest, average and oldest ages in each group"
   ]
  },
  {
   "cell_type": "code",
   "execution_count": null,
   "id": "8e4c7852-76f0-4fc6-8378-9ae4b259e7c5",
   "metadata": {
    "tags": []
   },
   "outputs": [],
   "source": [
    "(\n",
    "    pl.read_csv(csvFile)\n",
    "    <blank>\n",
    ")"
   ]
  },
  {
   "cell_type": "markdown",
   "id": "2a1e013b-5658-432b-9f9c-f43bcb62993e",
   "metadata": {},
   "source": [
    "Exercise 1 cont: Round the average `Age` column to one decimal place. Sort the output by `Survived` and `Pclass`"
   ]
  },
  {
   "cell_type": "code",
   "execution_count": null,
   "id": "b8653df4-a2c0-4916-8455-c3153bd7332a",
   "metadata": {
    "tags": []
   },
   "outputs": [],
   "source": []
  },
  {
   "cell_type": "markdown",
   "id": "4c4bb5f5-79fa-4c74-892e-bb2414321d32",
   "metadata": {},
   "source": [
    "Exercise 1 cont: Filter the output to have only the passengers that survived"
   ]
  },
  {
   "cell_type": "markdown",
   "id": "e723bbbc-592b-4565-8a4a-e76ac3261fd2",
   "metadata": {},
   "source": [
    "## Exercise 2 - aggregate multiple columns\n",
    "\n",
    "Group by `Pclass` and get the mean of all the floating point columns"
   ]
  },
  {
   "cell_type": "code",
   "execution_count": null,
   "id": "616275e4-dcd5-4532-9be7-51c8ce145fa1",
   "metadata": {
    "tags": []
   },
   "outputs": [],
   "source": [
    "(\n",
    "    pl.read_csv(csvFile)\n",
    "    <blank>\n",
    ")"
   ]
  },
  {
   "cell_type": "markdown",
   "id": "1249f7af-6455-4eef-b273-1c51b34d5dd7",
   "metadata": {},
   "source": [
    "Group by `Pclass` and get the mean of all the :\n",
    "- floating point columns and\n",
    "- integer columns\n",
    "\n",
    "Hint: pass a list of dtypes to `pl.col`"
   ]
  },
  {
   "cell_type": "code",
   "execution_count": null,
   "id": "c792e6b0-6f4e-47be-a723-bcd04c9ebcee",
   "metadata": {
    "tags": []
   },
   "outputs": [],
   "source": []
  },
  {
   "cell_type": "markdown",
   "id": "cd1a228d-fe9d-4cbc-9b47-2ef18d011842",
   "metadata": {},
   "source": [
    "Add the suffix \"_mean\" to the floating point and integer columns"
   ]
  },
  {
   "cell_type": "code",
   "execution_count": null,
   "id": "3a1346e7-989f-4205-a39d-8ad077571523",
   "metadata": {
    "tags": []
   },
   "outputs": [],
   "source": []
  },
  {
   "cell_type": "markdown",
   "id": "d4cb789f-1b1f-42c0-b0dc-707835c24f6e",
   "metadata": {},
   "source": [
    "Get the `mean` and `max` of these columns"
   ]
  },
  {
   "cell_type": "markdown",
   "id": "afbd21dd-8c97-4de9-87f4-9f0b2c1ce456",
   "metadata": {},
   "source": []
  },
  {
   "cell_type": "markdown",
   "id": "312c2bc6-6906-4c01-950e-0c1a9375f051",
   "metadata": {},
   "source": [
    "Re-order the columns into alphabetical order after the group key column using `pipe`.\n",
    "\n",
    "(See the lecture Transforming DataFrames in the Selecting Columns Section if you haven't come across `pipe` before)."
   ]
  },
  {
   "cell_type": "code",
   "execution_count": null,
   "id": "8153f8ba-782e-4804-86be-1648c91f2029",
   "metadata": {},
   "outputs": [],
   "source": []
  },
  {
   "cell_type": "markdown",
   "id": "fa373390-9134-4dbd-9788-441945ff462e",
   "metadata": {},
   "source": [
    "# Solutions\n",
    "\n",
    "## Solution to Exercise 1\n",
    "Grouping by `Pclass` and `Survived` get the youngest, average and oldest ages"
   ]
  },
  {
   "cell_type": "code",
   "execution_count": null,
   "id": "5aef3b57-ccd3-48a4-98c0-06a4776369a1",
   "metadata": {
    "jupyter": {
     "source_hidden": true
    },
    "tags": []
   },
   "outputs": [],
   "source": [
    "(\n",
    "    pl.read_csv(csvFile)\n",
    "    .groupby([\"Pclass\",\"Survived\"])\n",
    "    .agg(\n",
    "        [\n",
    "            pl.col(\"Age\").min().alias(\"Age_min\"),\n",
    "            pl.col(\"Age\").mean().alias(\"Age_mean\"),\n",
    "            pl.col(\"Age\").max().alias(\"Age_max\")\n",
    "        ]\n",
    "    )\n",
    ")"
   ]
  },
  {
   "cell_type": "markdown",
   "id": "6950b692-64c9-4711-a2e8-85506adfa900",
   "metadata": {},
   "source": [
    "Round the average Age column and sort by `Survived` and `Pclass`"
   ]
  },
  {
   "cell_type": "code",
   "execution_count": null,
   "id": "de2f6f6d-0cfd-40c2-89cd-46a0671f772e",
   "metadata": {
    "jupyter": {
     "source_hidden": true
    },
    "tags": []
   },
   "outputs": [],
   "source": [
    "(\n",
    "    pl.read_csv(csvFile)\n",
    "    .groupby([\"Pclass\",\"Survived\"])\n",
    "    .agg(\n",
    "        [\n",
    "            pl.col(\"Age\").min().alias(\"Age_min\"),\n",
    "            pl.col(\"Age\").mean().round(0).alias(\"Age_mean\"),\n",
    "            pl.col(\"Age\").max().alias(\"Age_max\")\n",
    "        ]\n",
    "    )\n",
    "    .sort([\"Survived\",\"Pclass\"])\n",
    ")"
   ]
  },
  {
   "cell_type": "markdown",
   "id": "e7140573-19fc-44ed-abfa-f25be3124f83",
   "metadata": {},
   "source": [
    "Filter the output to have only the passengers that survived"
   ]
  },
  {
   "cell_type": "code",
   "execution_count": null,
   "id": "84ecae22-be1c-4efa-84b3-a71ccdc1ac19",
   "metadata": {
    "jupyter": {
     "source_hidden": true
    },
    "tags": []
   },
   "outputs": [],
   "source": [
    "(\n",
    "    pl.read_csv(csvFile)\n",
    "    .groupby([\"Pclass\",\"Survived\"])\n",
    "    .agg(\n",
    "        [\n",
    "            pl.col(\"Age\").min().alias(\"Age_min\"),\n",
    "            pl.col(\"Age\").mean().round(0).alias(\"Age_mean\"),\n",
    "            pl.col(\"Age\").max().alias(\"Age_max\")\n",
    "        ]\n",
    "    )\n",
    "    # In eager mode we should apply the filter before the sort\n",
    "    .filter(pl.col(\"Survived\") == 1)\n",
    "    .sort([\"Pclass\",\"Survived\"])\n",
    ")"
   ]
  },
  {
   "cell_type": "markdown",
   "id": "348644dd-df49-4199-a6e3-879ff171e672",
   "metadata": {},
   "source": [
    "## Solution to Exercise 2 - aggregate multiple columns\n",
    "\n",
    "Groupby `Pclass` and get the mean of all the floating point columns"
   ]
  },
  {
   "cell_type": "code",
   "execution_count": null,
   "id": "c655948b-3f32-45fc-b24c-aed86399fbec",
   "metadata": {
    "jupyter": {
     "source_hidden": true
    },
    "tags": []
   },
   "outputs": [],
   "source": [
    "(\n",
    "    pl.read_csv(csvFile)\n",
    "    .groupby(pl.col('Pclass'))\n",
    "    .agg(\n",
    "        pl.col(pl.Float64).mean()\n",
    "    )\n",
    ")"
   ]
  },
  {
   "cell_type": "markdown",
   "id": "1745837c-55a3-4934-a99c-b0b415de750b",
   "metadata": {},
   "source": [
    "Floating point and integer columns"
   ]
  },
  {
   "cell_type": "code",
   "execution_count": null,
   "id": "3d9f7ae4-ad5e-412f-8fdf-078cd0a05f49",
   "metadata": {
    "jupyter": {
     "source_hidden": true
    },
    "tags": []
   },
   "outputs": [],
   "source": [
    "(\n",
    "    pl.read_csv(csvFile)\n",
    "    .groupby(pl.col('Pclass'))\n",
    "    .agg(\n",
    "        pl.col([pl.Float64,pl.Int64]).mean()\n",
    "    )\n",
    ")"
   ]
  },
  {
   "cell_type": "markdown",
   "id": "e10fe302-8258-46d2-ac9e-ac4b985e2552",
   "metadata": {},
   "source": [
    "Add a suffix to the output"
   ]
  },
  {
   "cell_type": "code",
   "execution_count": null,
   "id": "927c814d-ae59-4e18-b52c-bd667f6f09b5",
   "metadata": {
    "jupyter": {
     "source_hidden": true
    },
    "tags": []
   },
   "outputs": [],
   "source": [
    "(\n",
    "    pl.read_csv(csvFile)\n",
    "    .groupby(pl.col('Pclass'))\n",
    "    .agg(\n",
    "        pl.col([pl.Float64,pl.Int64]).mean().suffix(\"_mean\")\n",
    "    )\n",
    ")"
   ]
  },
  {
   "cell_type": "markdown",
   "id": "51e8b42e-d645-4b70-94bb-8555a0401c0c",
   "metadata": {},
   "source": [
    "Get the `mean` and `max` of each passenger class"
   ]
  },
  {
   "cell_type": "code",
   "execution_count": null,
   "id": "8d3ac2a0-3f3d-4add-86f7-10b3ad504840",
   "metadata": {
    "jupyter": {
     "source_hidden": true
    },
    "tags": []
   },
   "outputs": [],
   "source": [
    "(\n",
    "    pl.read_csv(csvFile)\n",
    "    .groupby(\"Pclass\")\n",
    "    .agg(\n",
    "        [\n",
    "            pl.col([pl.Float64,pl.Int64]).mean().suffix(\"_mean\"),\n",
    "            pl.col([pl.Float64,pl.Int64]).max().suffix(\"_max\"),\n",
    "        ]\n",
    "    )\n",
    ")"
   ]
  },
  {
   "cell_type": "markdown",
   "id": "9418a3cd-8041-4214-938f-fa2625bacdfa",
   "metadata": {
    "collapsed": true,
    "jupyter": {
     "outputs_hidden": true
    }
   },
   "source": [
    "Re-order the columns into alphabetical order using `pipe`"
   ]
  },
  {
   "cell_type": "code",
   "execution_count": null,
   "id": "98e1885a-25f1-49e1-83fc-02119b0ead80",
   "metadata": {
    "tags": []
   },
   "outputs": [],
   "source": [
    "(\n",
    "    pl.read_csv(csvFile)\n",
    "    .groupby(\"Pclass\")\n",
    "    .agg(\n",
    "        [\n",
    "            pl.col([pl.Float64,pl.Int64]).mean().suffix(\"_mean\"),\n",
    "            pl.col([pl.Float64,pl.Int64]).max().suffix(\"_max\"),\n",
    "        ]\n",
    "    )\n",
    "    .pipe(lambda tempDf: tempDf.select([\"Pclass\"] + sorted(tempDf.columns[1:])))\n",
    ")"
   ]
  },
  {
   "cell_type": "code",
   "execution_count": null,
   "id": "b4b1bfe6-fb9d-41b6-b01a-036b3b95c203",
   "metadata": {
    "jupyter": {
     "source_hidden": true
    }
   },
   "outputs": [],
   "source": []
  }
 ],
 "metadata": {
  "kernelspec": {
   "display_name": "Python 3 (ipykernel)",
   "language": "python",
   "name": "python3"
  },
  "language_info": {
   "codemirror_mode": {
    "name": "ipython",
    "version": 3
   },
   "file_extension": ".py",
   "mimetype": "text/x-python",
   "name": "python",
   "nbconvert_exporter": "python",
   "pygments_lexer": "ipython3",
   "version": "3.10.9"
  }
 },
 "nbformat": 4,
 "nbformat_minor": 5
}
