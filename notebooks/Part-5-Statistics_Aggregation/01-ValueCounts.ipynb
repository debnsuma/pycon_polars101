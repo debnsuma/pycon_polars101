{
 "cells": [
  {
   "cell_type": "markdown",
   "id": "7ab313ba-6253-4d32-a2e4-5b5558b16c91",
   "metadata": {},
   "source": [
    "# Value counts\n",
    "By the end of this lecture you will be able to:\n",
    "- count occurrences in a column with `value_counts`\n",
    "- create a bar chart of the outputs\n",
    "- use `value_counts` in an expression\n",
    "- use `value_counts` in lazy mode"
   ]
  },
  {
   "cell_type": "code",
   "execution_count": null,
   "id": "b5e894f2-657c-4b47-b6f5-b4da9a50fbd7",
   "metadata": {
    "tags": []
   },
   "outputs": [],
   "source": [
    "import polars as pl\n",
    "import plotly.express as px"
   ]
  },
  {
   "cell_type": "code",
   "execution_count": null,
   "id": "995173a7-de94-4202-9b79-ca1bc501d690",
   "metadata": {
    "tags": []
   },
   "outputs": [],
   "source": [
    "csvFile = '../data/titanic.csv'"
   ]
  },
  {
   "cell_type": "code",
   "execution_count": null,
   "id": "a7e71fc9-e440-4908-a1d3-ab76c7a6eaeb",
   "metadata": {
    "tags": []
   },
   "outputs": [],
   "source": [
    "df = pl.read_csv(csvFile)\n",
    "df.head(3)"
   ]
  },
  {
   "cell_type": "markdown",
   "id": "0445e58a-13f0-4a55-baad-917ab896ab14",
   "metadata": {},
   "source": [
    "## Count occurences in a `Series`\n",
    "We use `value_counts` to count occurences in a `Series`"
   ]
  },
  {
   "cell_type": "code",
   "execution_count": null,
   "id": "1dcb2ccf-4bdf-4575-bc5a-eb739653e6b2",
   "metadata": {
    "tags": []
   },
   "outputs": [],
   "source": [
    "df['Pclass'].value_counts()"
   ]
  },
  {
   "cell_type": "markdown",
   "id": "5d66287e-0679-4fc6-8428-ffa523fd9813",
   "metadata": {},
   "source": [
    "> In Pandas the output of this operation is a `Series` but in Polars the output is a `DataFrame` with one column for the categories and one for the counts."
   ]
  },
  {
   "cell_type": "markdown",
   "id": "5572e2ea-acf2-4e3f-b65c-57c63ae825a8",
   "metadata": {},
   "source": [
    "The order will vary each time you run `value_counts` unless you pass the `sort` argument"
   ]
  },
  {
   "cell_type": "code",
   "execution_count": null,
   "id": "80449592-5dad-443e-881d-13bc7befa408",
   "metadata": {
    "tags": []
   },
   "outputs": [],
   "source": [
    "df['Pclass'].value_counts(sort=True)"
   ]
  },
  {
   "cell_type": "markdown",
   "id": "b3d43f28-867d-4b04-871f-5cc14736d492",
   "metadata": {},
   "source": [
    "We can also sort by the category using the `sort` method"
   ]
  },
  {
   "cell_type": "code",
   "execution_count": null,
   "id": "4561fa6c-d5d2-41ba-a0f4-1a1025f2d0c9",
   "metadata": {
    "tags": []
   },
   "outputs": [],
   "source": [
    "df['Pclass'].value_counts().sort(\"Pclass\")"
   ]
  },
  {
   "cell_type": "markdown",
   "id": "8cba9cf5-19dd-4cd2-bf4f-c016735547e7",
   "metadata": {},
   "source": [
    "## Value counts as an expression\n",
    "We can call `value_counts` in an expression"
   ]
  },
  {
   "cell_type": "code",
   "execution_count": null,
   "id": "1a62b4ef-4d35-4476-8c80-0b595f055666",
   "metadata": {
    "tags": []
   },
   "outputs": [],
   "source": [
    "(\n",
    "    df\n",
    "    .select(\n",
    "        pl.col(\"Pclass\").value_counts()\n",
    "    )\n",
    ")"
   ]
  },
  {
   "cell_type": "markdown",
   "id": "65bf86bd-587c-4b7c-8703-b506209e1c08",
   "metadata": {},
   "source": [
    "The output is a one-column `DataFrame` with a `pl.Struct` column.\n",
    "\n",
    "We can get the output as a two-column `DataFrame` by calling `.struct.unnest` on the `Series`"
   ]
  },
  {
   "cell_type": "code",
   "execution_count": null,
   "id": "7fd5bf3d-fadf-4d97-9bf3-1cd6bbad29bf",
   "metadata": {
    "tags": []
   },
   "outputs": [],
   "source": [
    "(\n",
    "    df\n",
    "    .select(\n",
    "        pl.col(\"Pclass\").value_counts()\n",
    "    )\n",
    "    [\"Pclass\"]\n",
    "    .struct.unnest()\n",
    ")"
   ]
  },
  {
   "cell_type": "markdown",
   "id": "22488d2a-3e61-4ec8-a0db-02b1d471baf2",
   "metadata": {},
   "source": [
    "## Value counts in lazy mode\n",
    "To calcualte value counts in lazy mode we call `value_counts` as an expression on a `LazyFrame`.\n",
    "\n",
    "As the output of the `value_counts` expression is a `struct` dtype we then:\n",
    "- trigger evaluation of the `LazyFrame`\n",
    "- transform the `struct` column to a `DataFrame`"
   ]
  },
  {
   "cell_type": "code",
   "execution_count": null,
   "id": "773df28f-f738-4ebd-9e84-80105e0775d8",
   "metadata": {
    "tags": []
   },
   "outputs": [],
   "source": [
    "(\n",
    "    pl.scan_csv(csvFile)\n",
    "    .select(\n",
    "        pl.col(\"Pclass\").value_counts()\n",
    "    )\n",
    "    .collect()\n",
    "    [\"Pclass\"]\n",
    "    .struct.unnest()\n",
    ")"
   ]
  },
  {
   "cell_type": "markdown",
   "id": "a6613b3c-85a3-4c84-a020-f1f7eb76ae20",
   "metadata": {},
   "source": [
    "Polars detects that only the `Pclass` column needs to be read from the CSV in lazy mode."
   ]
  },
  {
   "cell_type": "code",
   "execution_count": null,
   "id": "8eba23e1-2314-4f85-b99b-da7de1e89824",
   "metadata": {
    "tags": []
   },
   "outputs": [],
   "source": [
    "print(\n",
    "    pl.scan_csv(csvFile)\n",
    "    .select(\n",
    "        pl.col(\"Pclass\").value_counts()\n",
    "    )\n",
    "    .explain()\n",
    ")"
   ]
  },
  {
   "cell_type": "markdown",
   "id": "8a556e15-be80-4489-baa6-2c28d5a4a0d4",
   "metadata": {},
   "source": [
    "We see this from `PROJECT 1/12 COLUMNS` in the optimised query plan."
   ]
  },
  {
   "cell_type": "markdown",
   "id": "5082745b-e3cd-486a-aa30-31633c8361f5",
   "metadata": {},
   "source": [
    "## Exercises\n",
    "\n",
    "In the exercises you will develop your understanding of:\n",
    "- calculating value counts\n",
    "- calculating percentages\n",
    "- visualising the outputs\n",
    "- doing `value_counts` in lazy mode\n",
    "\n",
    "### Exercise 1 - value counts\n",
    "Calculate the value counts on the `Survived` column as a `Series`. "
   ]
  },
  {
   "cell_type": "code",
   "execution_count": null,
   "id": "8e4c7852-76f0-4fc6-8378-9ae4b259e7c5",
   "metadata": {
    "tags": []
   },
   "outputs": [],
   "source": [
    "(\n",
    "    pl.read_csv(csvFile)\n",
    "    <blank>\n",
    ")"
   ]
  },
  {
   "cell_type": "markdown",
   "id": "7811118c-f37e-4d0c-8d20-9547bf41e845",
   "metadata": {},
   "source": [
    "Sort the output from highest to lowest"
   ]
  },
  {
   "cell_type": "code",
   "execution_count": null,
   "id": "f6795976-668b-42d2-b74d-d33639700fdd",
   "metadata": {
    "tags": []
   },
   "outputs": [],
   "source": []
  },
  {
   "cell_type": "markdown",
   "id": "fe5bc99a-35ea-4329-a128-098bb5cfae9c",
   "metadata": {},
   "source": [
    "Calculate the value counts on the `Survived` column as an expression "
   ]
  },
  {
   "cell_type": "code",
   "execution_count": null,
   "id": "f452ec17-6873-4ad1-a632-4c4bfb9716c2",
   "metadata": {},
   "outputs": [],
   "source": []
  },
  {
   "cell_type": "markdown",
   "id": "ca19309d-5696-4acb-bed9-463d31f0fbe6",
   "metadata": {},
   "source": [
    "Calculate the value counts on the `Survived` column as an expression and convert the `pl.Struct` column to a `DataFrame`"
   ]
  },
  {
   "cell_type": "code",
   "execution_count": null,
   "id": "c5d426d1-ed8d-46ca-b028-8a55e0305d02",
   "metadata": {},
   "outputs": [],
   "source": []
  },
  {
   "cell_type": "markdown",
   "id": "de2701e8-8373-41bc-b142-c2ba1acb27cc",
   "metadata": {},
   "source": [
    "### Exercise 2 - value counts as a percentage\n",
    "As in the first part of Exercise 1, calculate the value counts on the `Survived` column as a `Series`"
   ]
  },
  {
   "cell_type": "code",
   "execution_count": null,
   "id": "10d56180-7557-4dbb-a4f5-5afa2ad8c857",
   "metadata": {},
   "outputs": [],
   "source": [
    "(\n",
    "    pl.read_csv(csvFile)\n",
    "    <blank>\n",
    ")"
   ]
  },
  {
   "cell_type": "markdown",
   "id": "a9fb81a1-97ab-4018-9d08-f53a362b0c16",
   "metadata": {},
   "source": [
    "Add an additional column with the percentage of passengers in each class (divide the `counts` column by the sum of the `counts` column. "
   ]
  },
  {
   "cell_type": "code",
   "execution_count": null,
   "id": "76f4abe4-52d2-4ec6-91cb-2f98d73fac55",
   "metadata": {},
   "outputs": [],
   "source": []
  },
  {
   "cell_type": "markdown",
   "id": "ed04a41b-cce6-4acf-8329-f5c7d0a60c6b",
   "metadata": {},
   "source": [
    "Express the percentages as values ranging from 0 to 100."
   ]
  },
  {
   "cell_type": "code",
   "execution_count": null,
   "id": "4248834b-ee14-4e62-98f7-45950f0a6b45",
   "metadata": {
    "tags": []
   },
   "outputs": [],
   "source": []
  },
  {
   "cell_type": "markdown",
   "id": "aa4ea7dd-fa48-4a20-8ec7-e949599413ae",
   "metadata": {},
   "source": [
    "Visualise the percentage values for each class in a bar chart"
   ]
  },
  {
   "cell_type": "code",
   "execution_count": null,
   "id": "1577f8b4-5b04-4c8e-b8bb-0dc46dfa515d",
   "metadata": {
    "tags": []
   },
   "outputs": [],
   "source": []
  },
  {
   "cell_type": "markdown",
   "id": "7fa1ece4-363a-4ec5-a0e6-44ca3c5f7a93",
   "metadata": {},
   "source": [
    "### Exercise 3\n",
    "\n",
    "Construct the query that produces the following optimized query plan\n",
    "```\n",
    "   SELECT [col(\"Age\").round().value_counts()] FROM\n",
    "    CSV SCAN ../data/titanic.csv\n",
    "    PROJECT 1/12 COLUMNS\n",
    "```\n"
   ]
  },
  {
   "cell_type": "code",
   "execution_count": null,
   "id": "c192ed46-779d-4811-9585-cbe3ae0cfa62",
   "metadata": {
    "tags": []
   },
   "outputs": [],
   "source": [
    "dfLazy = (\n",
    "     <blank>\n",
    ")\n",
    "\n",
    "\n",
    "print(dfLazy.explain())"
   ]
  },
  {
   "cell_type": "markdown",
   "id": "fa373390-9134-4dbd-9788-441945ff462e",
   "metadata": {},
   "source": [
    "## Solutions\n",
    "\n",
    "### Solution to Exercise 1\n",
    "\n",
    "Calculate the value counts on the `Survived` column as a `Series`"
   ]
  },
  {
   "cell_type": "code",
   "execution_count": null,
   "id": "a7cd3b97-8c5d-4f9b-8860-96246bb34033",
   "metadata": {
    "jupyter": {
     "source_hidden": true
    },
    "tags": []
   },
   "outputs": [],
   "source": [
    "(\n",
    "    pl.read_csv(csvFile)\n",
    "    ['Survived']\n",
    "    .value_counts()\n",
    ")"
   ]
  },
  {
   "cell_type": "markdown",
   "id": "2ec4b846-b11b-4bdf-b1c5-fa4f57d8e603",
   "metadata": {},
   "source": [
    "Sort by the counts from highest to lowest"
   ]
  },
  {
   "cell_type": "code",
   "execution_count": null,
   "id": "6235f4e4-83dd-4dc7-a14b-5db267930c82",
   "metadata": {
    "jupyter": {
     "source_hidden": true
    },
    "tags": []
   },
   "outputs": [],
   "source": [
    "(\n",
    "    pl.read_csv(csvFile)\n",
    "    ['Survived']\n",
    "    .value_counts(sort=True)\n",
    ")"
   ]
  },
  {
   "cell_type": "markdown",
   "id": "0f52baf2-af0d-416f-a4ca-cf6122dcc93d",
   "metadata": {},
   "source": [
    "Calculate the value counts on the `Survived` column as an expression"
   ]
  },
  {
   "cell_type": "code",
   "execution_count": null,
   "id": "16c68300-6b1c-4f12-b96a-668bf08e0637",
   "metadata": {
    "jupyter": {
     "source_hidden": true
    },
    "tags": []
   },
   "outputs": [],
   "source": [
    "(\n",
    "    pl.read_csv(csvFile)\n",
    "    .select(\n",
    "        pl.col(\"Survived\").value_counts()\n",
    "    )\n",
    ")"
   ]
  },
  {
   "cell_type": "markdown",
   "id": "580e82de-c692-453e-be1d-6d548a544a32",
   "metadata": {},
   "source": [
    "Calculate the value counts on the `Survived` column as an expression and convert the `pl.Struct` column to a `DataFrame`"
   ]
  },
  {
   "cell_type": "code",
   "execution_count": null,
   "id": "36c85673-7607-40f1-ba9c-2dea0bfbb312",
   "metadata": {
    "jupyter": {
     "source_hidden": true
    },
    "tags": []
   },
   "outputs": [],
   "source": [
    "(\n",
    "    pl.read_csv(csvFile)\n",
    "    .select(\n",
    "        pl.col(\"Survived\").value_counts()\n",
    "    )\n",
    "    [\"Survived\"]\n",
    "    .struct.unnest()\n",
    ")"
   ]
  },
  {
   "cell_type": "markdown",
   "id": "46d393b4-37a8-4179-9145-d2541f16e7f5",
   "metadata": {},
   "source": [
    "### Solution to Exercise 2\n",
    "As in the first part of Exercise 1, calculate the value counts on the `Survived` column as a `Series`"
   ]
  },
  {
   "cell_type": "code",
   "execution_count": null,
   "id": "048d574b-b444-43c5-8986-fde229f641bc",
   "metadata": {
    "jupyter": {
     "source_hidden": true
    },
    "tags": []
   },
   "outputs": [],
   "source": [
    "(\n",
    "    pl.read_csv(csvFile)\n",
    "    ['Survived']\n",
    "    .value_counts(sort=True)\n",
    ")"
   ]
  },
  {
   "cell_type": "markdown",
   "id": "22afb40d-25c8-4849-b096-d1c99c41b842",
   "metadata": {},
   "source": [
    "Add an additional column with the percentage of passengers in each class (divide the `counts` column by the sum of the `counts` column. "
   ]
  },
  {
   "cell_type": "code",
   "execution_count": null,
   "id": "3c5380c4-26fe-495a-b9dc-def5463efbb9",
   "metadata": {
    "jupyter": {
     "source_hidden": true
    },
    "tags": []
   },
   "outputs": [],
   "source": [
    "(\n",
    "    pl.read_csv(csvFile)\n",
    "    ['Survived']\n",
    "    .value_counts(sort=True)\n",
    "    .with_columns(\n",
    "        (pl.col(\"counts\")/pl.col(\"counts\").sum()).alias(\"percent\")\n",
    "    )\n",
    ")"
   ]
  },
  {
   "cell_type": "markdown",
   "id": "af818a75-de24-4306-8651-7eb8567707e9",
   "metadata": {},
   "source": [
    "Express the percentages as values ranging from 0 to 100."
   ]
  },
  {
   "cell_type": "code",
   "execution_count": null,
   "id": "d19066bd-e9c0-4b5a-889f-ad41c60cd3ed",
   "metadata": {
    "jupyter": {
     "source_hidden": true
    },
    "tags": []
   },
   "outputs": [],
   "source": [
    "(\n",
    "    pl.read_csv(csvFile)\n",
    "    ['Survived']\n",
    "    .value_counts(sort=True)\n",
    "    .with_columns(\n",
    "        (100*(pl.col(\"counts\")/pl.col(\"counts\").sum())).alias(\"percent\")\n",
    "    )\n",
    ")"
   ]
  },
  {
   "cell_type": "markdown",
   "id": "f4587a22-173a-45e3-9e06-fc574cfc1af0",
   "metadata": {},
   "source": [
    "Visualise the outputs as a bar chart"
   ]
  },
  {
   "cell_type": "code",
   "execution_count": null,
   "id": "40a3d2dd-11ca-4fe5-b7d4-17f890ffaaf2",
   "metadata": {
    "jupyter": {
     "source_hidden": true
    },
    "tags": []
   },
   "outputs": [],
   "source": [
    "survivedCounts = (\n",
    "    pl.read_csv(csvFile)\n",
    "    ['Survived']\n",
    "    .value_counts(sort=True)\n",
    "    .with_columns(\n",
    "        pl.col(\"Survived\").cast(pl.Utf8)\n",
    "    )\n",
    "    .with_columns(\n",
    "        (100*(pl.col(\"counts\")/pl.col(\"counts\").sum())).alias(\"percent\")\n",
    "    )\n",
    ")\n",
    "px.bar(x=survivedCounts[\"Survived\"],y=survivedCounts[\"percent\"])"
   ]
  },
  {
   "cell_type": "markdown",
   "id": "3b5554f5-3219-4e7e-8f8b-ab1b98879b1f",
   "metadata": {},
   "source": [
    "### Solution to Exercise 3\n",
    "Construct the query that produces the following optimized query plan\n",
    "```\n",
    "   SELECT [col(\"Age\").round().value_counts()] FROM\n",
    "    CSV SCAN ../data/titanic.csv\n",
    "    PROJECT 1/12 COLUMNS\n",
    "```\n"
   ]
  },
  {
   "cell_type": "code",
   "execution_count": null,
   "id": "96a4b135-935c-479b-bb74-14baf03d2219",
   "metadata": {
    "jupyter": {
     "source_hidden": true
    },
    "tags": []
   },
   "outputs": [],
   "source": [
    "dfLazy = (\n",
    "    pl.scan_csv(csvFile)\n",
    "    .select(\n",
    "        pl.col(\"Age\").round(0).value_counts()\n",
    "    )\n",
    ")\n",
    "print(dfLazy.explain())"
   ]
  }
 ],
 "metadata": {
  "kernelspec": {
   "display_name": "Python 3 (ipykernel)",
   "language": "python",
   "name": "python3"
  },
  "language_info": {
   "codemirror_mode": {
    "name": "ipython",
    "version": 3
   },
   "file_extension": ".py",
   "mimetype": "text/x-python",
   "name": "python",
   "nbconvert_exporter": "python",
   "pygments_lexer": "ipython3",
   "version": "3.10.9"
  }
 },
 "nbformat": 4,
 "nbformat_minor": 5
}
