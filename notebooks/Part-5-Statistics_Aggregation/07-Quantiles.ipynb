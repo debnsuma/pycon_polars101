{
 "cells": [
  {
   "cell_type": "markdown",
   "id": "5686a2c5-6046-42c4-afae-934f88b879e2",
   "metadata": {},
   "source": [
    "# Quantiles\n",
    "By the end of this lecture you will be able to:\n",
    "- calculate a quantile on a `DataFrame`\n",
    "- calculate a quantile on an expression\n",
    "- calculate multiple quantiles"
   ]
  },
  {
   "cell_type": "code",
   "execution_count": null,
   "id": "b80f1989-72d2-4ae5-902b-7c1ff0d38e82",
   "metadata": {
    "tags": []
   },
   "outputs": [],
   "source": [
    "import polars as pl"
   ]
  },
  {
   "cell_type": "code",
   "execution_count": null,
   "id": "0463baf3-9101-44bd-89c4-a14992eeb699",
   "metadata": {
    "tags": []
   },
   "outputs": [],
   "source": [
    "csvFile = \"../data/titanic.csv\""
   ]
  },
  {
   "cell_type": "code",
   "execution_count": null,
   "id": "e23647a7-cbb5-49a9-9de4-aef6466b6872",
   "metadata": {
    "tags": []
   },
   "outputs": [],
   "source": [
    "df = pl.read_csv(csvFile)\n",
    "df.head(3)"
   ]
  },
  {
   "cell_type": "markdown",
   "id": "91f1dacf-c105-40c5-81e3-8f25b016e6d9",
   "metadata": {},
   "source": [
    "## Quantiles\n",
    "\n",
    "### Quantiles on a `DataFrame`\n",
    "We calculate quantiles on a `DataFrame` using the `quantile` function. To get the 90th percentile we do:"
   ]
  },
  {
   "cell_type": "code",
   "execution_count": null,
   "id": "5c3dcc7a-d74a-4cbb-9c7a-629a0d3acba3",
   "metadata": {
    "tags": []
   },
   "outputs": [],
   "source": [
    "df.quantile(0.9)"
   ]
  },
  {
   "cell_type": "markdown",
   "id": "368e112e-71b7-4c04-8bd5-00bd5a4280cc",
   "metadata": {},
   "source": [
    "### Quantiles in an expression\n",
    "\n",
    "We can also calculate quantiles as an expression"
   ]
  },
  {
   "cell_type": "code",
   "execution_count": null,
   "id": "4e5817b3-ff02-4f56-8173-e8a898cc6fd7",
   "metadata": {
    "tags": []
   },
   "outputs": [],
   "source": [
    "(\n",
    "    df\n",
    "    .select(\n",
    "        pl.col('Age').quantile(0.9)\n",
    "    )\n",
    ")"
   ]
  },
  {
   "cell_type": "markdown",
   "id": "5312ed81-4ae2-449f-9643-2d6e50d3c4a2",
   "metadata": {},
   "source": [
    "### Multiple quantiles\n",
    "We can calculate multiple quantiles in an expression using a list comprehension. As expressions are run in parallel this allows us to calculate multiple quantiles in parallel"
   ]
  },
  {
   "cell_type": "code",
   "execution_count": null,
   "id": "b99f2117-5b73-4ccc-b58e-49c354d1bc2b",
   "metadata": {
    "tags": []
   },
   "outputs": [],
   "source": [
    "quantileList = [0.1,0.5,0.9]\n",
    "(\n",
    "    df\n",
    "    .select(\n",
    "        [\n",
    "            pl.col('Age').quantile(q).alias(f\"Age_quantile_{q}\") for q in quantileList\n",
    "        ]\n",
    "    )\n",
    ")"
   ]
  },
  {
   "cell_type": "markdown",
   "id": "cc4cb93d-8197-414c-bf31-499025f6dded",
   "metadata": {},
   "source": [
    "To calculate multiple quantiles on multiple columns we can use `suffix` to avoid column name collisions.\n",
    "\n",
    "In this example we calculate multiple quantiles on all of the floating point columns"
   ]
  },
  {
   "cell_type": "code",
   "execution_count": null,
   "id": "0ed1c813-4fc8-48af-8293-c15e1c70f711",
   "metadata": {
    "tags": []
   },
   "outputs": [],
   "source": [
    "quantileList = [0.1,0.5,0.9]\n",
    "(\n",
    "    df\n",
    "    .select(\n",
    "        [\n",
    "            pl.col(pl.Float64).quantile(q).suffix(f\"_quantile_{q}\") for q in quantileList\n",
    "        ]\n",
    "    )\n",
    ")"
   ]
  },
  {
   "cell_type": "markdown",
   "id": "1bea92cb-8a93-4437-8753-73759feb91bf",
   "metadata": {},
   "source": [
    "### Interpolation strategy for quantiles\n",
    "We can use different interpolation strategies for calculating quantiles:\n",
    "- nearest \n",
    "- higher \n",
    "- lower \n",
    "- midpoint\n",
    "- linear"
   ]
  },
  {
   "cell_type": "code",
   "execution_count": null,
   "id": "759bf697-8531-49a5-bcf2-a0ea2634441d",
   "metadata": {
    "tags": []
   },
   "outputs": [],
   "source": [
    "df.select(\n",
    "    [\n",
    "        pl.col('Age').quantile(0.25,interpolation='nearest').alias('Age_nearest'),\n",
    "        pl.col('Age').quantile(0.25,interpolation='linear').alias('Age_linear'),\n",
    "    ]\n",
    ")"
   ]
  },
  {
   "cell_type": "markdown",
   "id": "eae5a842-16a2-42b0-a309-9ca4e760a31c",
   "metadata": {},
   "source": [
    "# Exercises\n",
    "\n",
    "In the exercises you will develop your understanding of:\n",
    "- calculating quantiles\n",
    "- using different interpolation methods\n",
    "\n",
    "## Exercise 1 - calculating quantiles\n",
    "Calculate the 25th,50th and 75th percentiles for the `Age` column. Output the results as 3 columns (with appropriate names) in a one row `DataFrame`"
   ]
  },
  {
   "cell_type": "code",
   "execution_count": null,
   "id": "a6b59cea-16a8-46bc-9747-446aaab3c760",
   "metadata": {},
   "outputs": [],
   "source": [
    "qs = [0.25,0.5,0.75]\n",
    "df = pl.read_csv(csvFile)\n",
    "df<blank>"
   ]
  },
  {
   "cell_type": "markdown",
   "id": "fbb198a6-c46e-4b29-b063-08e94c39c701",
   "metadata": {},
   "source": [
    "Calculate the same percentiles for all of the numeric columns.\n",
    "\n",
    "Hint: you can pass a list of dtypes to `pl.col`"
   ]
  },
  {
   "cell_type": "code",
   "execution_count": null,
   "id": "1db42a01-0a43-44a1-a7d4-4db3356227bb",
   "metadata": {},
   "outputs": [],
   "source": []
  },
  {
   "cell_type": "markdown",
   "id": "4581425d-043c-48da-8e82-1fcfa4586976",
   "metadata": {},
   "source": [
    "# Solutions"
   ]
  },
  {
   "cell_type": "markdown",
   "id": "3d379d91-4852-4b6e-915f-a2f9cf382804",
   "metadata": {},
   "source": [
    "## Solution to Exercise 1\n",
    "Calculate the 25th,50th and 75th percentiles for the `Age` column. Output the results as 3 columns (with appropriate names) in a one row `DataFrame`"
   ]
  },
  {
   "cell_type": "code",
   "execution_count": null,
   "id": "4f5d6714-4673-474f-b1fb-f43491f1233b",
   "metadata": {
    "jupyter": {
     "source_hidden": true
    },
    "tags": []
   },
   "outputs": [],
   "source": [
    "qs = [0.25,0.5,0.75]\n",
    "(\n",
    "    df\n",
    "    .select(\n",
    "        [pl.col('Age').quantile(q).alias(f\"Age_{q}_quantile\") for q in qs]\n",
    "    )\n",
    ")"
   ]
  },
  {
   "cell_type": "markdown",
   "id": "0059457e-6567-4f5a-be5f-31fefee12da9",
   "metadata": {},
   "source": [
    "Calculate the same percentiles for all of the numeric columns.\n",
    "\n",
    "Hint: you can pass a list of dtypes to `pl.col`"
   ]
  },
  {
   "cell_type": "code",
   "execution_count": null,
   "id": "e9b4f988-72d7-4791-818c-10efdb24db40",
   "metadata": {
    "jupyter": {
     "source_hidden": true
    },
    "tags": []
   },
   "outputs": [],
   "source": [
    "qs = [0.25,0.5,0.75]\n",
    "(\n",
    "    df\n",
    "    .select(\n",
    "        [\n",
    "            pl.col([pl.Float64,pl.Int64]).quantile(q).suffix(f\"_{q}_quantile\") for q in qs\n",
    "        ]\n",
    "    )\n",
    ")"
   ]
  },
  {
   "cell_type": "code",
   "execution_count": null,
   "id": "704d6ff5-4af9-46d4-ade2-6bdeb5e34243",
   "metadata": {},
   "outputs": [],
   "source": []
  }
 ],
 "metadata": {
  "kernelspec": {
   "display_name": "Python 3 (ipykernel)",
   "language": "python",
   "name": "python3"
  },
  "language_info": {
   "codemirror_mode": {
    "name": "ipython",
    "version": 3
   },
   "file_extension": ".py",
   "mimetype": "text/x-python",
   "name": "python",
   "nbconvert_exporter": "python",
   "pygments_lexer": "ipython3",
   "version": "3.10.1"
  }
 },
 "nbformat": 4,
 "nbformat_minor": 5
}
