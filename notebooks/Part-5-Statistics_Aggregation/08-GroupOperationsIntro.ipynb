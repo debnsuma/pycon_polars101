{
 "cells": [
  {
   "cell_type": "markdown",
   "id": "a046a482-3531-4092-8ca5-aa41e534cf38",
   "metadata": {},
   "source": [
    "## Introduction to group operations\n",
    "By the end of this lecture you will be able to:\n",
    "- do group operations by a single column\n",
    "- do group operations by multiple columns\n",
    "- cache group operations with the query optimiser"
   ]
  },
  {
   "cell_type": "code",
   "execution_count": null,
   "id": "9ea1ef1f-11b5-4aa5-9d82-8a4a752bcd2f",
   "metadata": {
    "tags": []
   },
   "outputs": [],
   "source": [
    "import polars as pl"
   ]
  },
  {
   "cell_type": "code",
   "execution_count": null,
   "id": "da7cea1f-04c6-479e-9563-ca7a78177027",
   "metadata": {
    "tags": []
   },
   "outputs": [],
   "source": [
    "csvFile = \"../data/titanic.csv\""
   ]
  },
  {
   "cell_type": "code",
   "execution_count": null,
   "id": "52fc6bd9-a102-4fc9-93f4-4ed5a4fb6aa9",
   "metadata": {
    "tags": []
   },
   "outputs": [],
   "source": [
    "df = pl.read_csv(csvFile)\n",
    "df.head(3)"
   ]
  },
  {
   "cell_type": "markdown",
   "id": "3f8bb206-af8e-40d3-98ff-b952b09e8b64",
   "metadata": {},
   "source": [
    "## Group operations - groupby,aggregate and join\n",
    "\n",
    "Group operations are when we want to add a column where the data is based on groups of rows rather than individual rows.\n",
    "\n",
    "For example in the Titanic data we might want a column with the sum of the Fares paid by passengers in the same class.\n",
    "\n",
    "To do this manually we must:\n",
    "- first groupby each class\n",
    "- take the sum of the `Fare` column\n",
    "- do a left join on `Pclass` of this aggregated data back onto the original `DataFrame`"
   ]
  },
  {
   "cell_type": "code",
   "execution_count": null,
   "id": "cc13f534-0fe3-41ff-8068-f740819edc8d",
   "metadata": {},
   "outputs": [],
   "source": [
    "sumFareByClass = (\n",
    "    df\n",
    "    .groupby(\"Pclass\",maintain_order=True)\n",
    "    .agg(\n",
    "        pl.col(\"Fare\").sum().suffix(\"_sum\")\n",
    "        )\n",
    ")\n",
    "sumFareByClass"
   ]
  },
  {
   "cell_type": "markdown",
   "id": "fe3c5426-22c6-404b-8dc2-b8fae075aeb8",
   "metadata": {},
   "source": [
    "We then have to do a left join of the original `DataFrame` df with `sumFareByClass` (we cover joins in more detail in the Section on combining data)"
   ]
  },
  {
   "cell_type": "code",
   "execution_count": null,
   "id": "f2d6bf86-7f60-4691-8e23-bdc083cf8352",
   "metadata": {},
   "outputs": [],
   "source": [
    "(\n",
    "    df\n",
    "    .join(\n",
    "        sumFareByClass,\n",
    "        on=\"Pclass\",\n",
    "        how=\"left\"\n",
    "    )\n",
    "    .select([\"PassengerId\",\"Pclass\",\"Fare\",\"Fare_sum\"])\n",
    "    .head(3)\n",
    ")"
   ]
  },
  {
   "cell_type": "markdown",
   "id": "a45b2260-bb06-42ed-898d-7b625df60486",
   "metadata": {},
   "source": [
    "In Polars we can do this groupby-aggregate-join with the `over` expression"
   ]
  },
  {
   "cell_type": "code",
   "execution_count": null,
   "id": "d8edcf30-a215-40f8-ae17-5e6dd2686ceb",
   "metadata": {},
   "outputs": [],
   "source": [
    "(\n",
    "    df\n",
    "    .with_columns(\n",
    "        pl.col(\"Fare\").sum().over(\"Pclass\").alias(\"Fare_sum\")\n",
    "    )\n",
    "    .select([\"PassengerId\",\"Survived\",\"Pclass\",\"Fare\",\"Fare_sum\"])\n",
    "    .head(3)\n",
    ")"
   ]
  },
  {
   "cell_type": "markdown",
   "id": "4a76d383-6853-4912-ad57-68c07e4567be",
   "metadata": {},
   "source": [
    "The syntax is for `over` is:\n",
    "```python\n",
    "(\n",
    "    df\n",
    "    .with_columns(\n",
    "        pl.col(\"Fare\").sum().over(\"Pclass\")\n",
    "    )\n",
    ")\n",
    "```\n",
    "which means:\n",
    "- take the sum of the `Fare` column for each class in `Pclass`\n",
    "- for this row the value will be the sum for the class this passenger belongs to\n",
    "\n",
    "> In Pandas the equivalent method is `.groupby.transform`"
   ]
  },
  {
   "cell_type": "markdown",
   "id": "74ab22f7-e999-4af0-9db7-cf8db8bf0d73",
   "metadata": {},
   "source": [
    "## Group operation over multiple columns\n",
    "We can also do group operations where we group over multiple columns.\n",
    "\n",
    "In this example we get the sum of the Fare for each group of passengers where we group by passenger class and whether the passenger survived"
   ]
  },
  {
   "cell_type": "code",
   "execution_count": null,
   "id": "dafbe180-e760-4482-9082-86a6a73bf61a",
   "metadata": {},
   "outputs": [],
   "source": [
    "(\n",
    "    df\n",
    "    .with_columns(\n",
    "        pl.col(\"Fare\").sum().over([\"Pclass\",\"Survived\"]).alias(\"Fare_sum\")\n",
    "    )\n",
    "    .select([\"PassengerId\",\"Survived\",\"Pclass\",\"Fare\",\"Fare_sum\"])\n",
    "    .head(3)\n",
    ")"
   ]
  },
  {
   "cell_type": "markdown",
   "id": "b5b3c65e-750f-4c58-94bb-a05b70f9f2c9",
   "metadata": {},
   "source": [
    "## Arithmetic in group operations\n",
    "We calculate the percentage of the total fare paid for that passenger class by each passenger"
   ]
  },
  {
   "cell_type": "code",
   "execution_count": null,
   "id": "535be68d-394c-4417-9005-4de4c961c893",
   "metadata": {},
   "outputs": [],
   "source": [
    "(\n",
    "    df\n",
    "    .with_columns(\n",
    "        (100*(pl.col(\"Fare\") / pl.col(\"Fare\").sum().over(\"Pclass\"))).alias(\"Fare_percent\")\n",
    "    )\n",
    "    .select([\"PassengerId\",\"Survived\",\"Pclass\",\"Fare\",\"Fare_percent\"])\n",
    "    .head(5)\n",
    ")"
   ]
  },
  {
   "cell_type": "markdown",
   "id": "39430120-41f4-4397-b45f-442ce83bf041",
   "metadata": {},
   "source": [
    "## Caching groups\n",
    "When we compute a window expression over a column Polars calculates the groups for that column.\n",
    "\n",
    "If we calculate multiple window expressions over the same column then Polars caches the groups on the first calculation to re-use them for the subsequent window expressions.\n",
    "\n",
    "However, Polars can only do this if the window expressions are in the same `select` or `with_columns` statement.\n",
    "\n",
    "We explore the effect of this caching in the exercises."
   ]
  },
  {
   "cell_type": "markdown",
   "id": "13ed71ee-b119-480f-a8c0-6a79d107d1db",
   "metadata": {},
   "source": [
    "## Window expressions in lazy mode\n",
    "With window expressions in lazy mode Polars detects that only a subset of columns are requred and only reads these columns from the CSV (see `PROJECT` in the optimised query plan) "
   ]
  },
  {
   "cell_type": "code",
   "execution_count": null,
   "id": "8e6c6611-4df8-4eea-adbb-d9c830bb5889",
   "metadata": {},
   "outputs": [],
   "source": [
    "print(\n",
    "    pl.scan_csv(csvFile)\n",
    "    .with_columns(\n",
    "        [\n",
    "            (100*(pl.col(\"Fare\") / pl.col(\"Fare\").sum().over(\"Pclass\"))).alias(\"Fare_percent\"),\n",
    "            (100*(pl.col(\"Fare\") / pl.col(\"Fare\").max().over(\"Pclass\"))).alias(\"Fare_over_fare_max\")\n",
    "        ]\n",
    "    )\n",
    "    .select([\"Fare\",\"Fare_percent\",\"Fare_over_fare_max\"])\n",
    "    .explain()\n",
    ")"
   ]
  },
  {
   "cell_type": "markdown",
   "id": "821c768b-6ec3-4ed4-b64c-bcb9d9801229",
   "metadata": {},
   "source": [
    "## Exercises\n",
    "In the exercises you will develop your understanding of:\n",
    "- doing arithmetic by group\n",
    "- filling nulls by group\n",
    "- doing multiple window expressions in a single `with_columns` statement"
   ]
  },
  {
   "cell_type": "markdown",
   "id": "27fbf11e-79d0-4c54-9a54-fb8997132515",
   "metadata": {},
   "source": [
    "### Exercise 1\n",
    "We want to calculate the *z-score* of the `Age` column normalised by passenger class.\n",
    "\n",
    "Add a new column `Age_mean` with the mean of the `Age` column for passengers by class"
   ]
  },
  {
   "cell_type": "code",
   "execution_count": null,
   "id": "b23bcb16-4230-4699-b9ae-ddaab2aef952",
   "metadata": {
    "tags": []
   },
   "outputs": [],
   "source": [
    "(\n",
    "    pl.read_csv(csvFile)\n",
    "    <blank>\n",
    "    .select(\n",
    "        'Pclass','Age','Age_mean'\n",
    "    )\n",
    "    # Use head(6) to see the null on the sixth row\n",
    "    .head(6)\n",
    ")"
   ]
  },
  {
   "cell_type": "markdown",
   "id": "a7e78423-871b-4d0f-ab13-5a89ea43cba6",
   "metadata": {},
   "source": [
    "Continue by replacing the `null` values in the `Age` column with the `median` age for passengers in that class"
   ]
  },
  {
   "cell_type": "code",
   "execution_count": null,
   "id": "0bc2bae5-1c93-4b0a-a375-8771b7f5d706",
   "metadata": {},
   "outputs": [],
   "source": [
    "(\n",
    "    pl.read_csv(csvFile)\n",
    "    <blank>\n",
    "    .select(\n",
    "        'Pclass','Age','Age_mean'\n",
    "    )\n",
    "    .head(6)\n",
    ")"
   ]
  },
  {
   "cell_type": "markdown",
   "id": "2ee9f63f-8627-4a13-8610-038ad933451b",
   "metadata": {},
   "source": [
    "Replace `Age_mean` with a new column called `Age_delta` that is the difference between the age and the average age of all passengers in the same class"
   ]
  },
  {
   "cell_type": "code",
   "execution_count": null,
   "id": "10d08758-3932-45bb-86a4-c6d6fa06d681",
   "metadata": {},
   "outputs": [],
   "source": [
    "(\n",
    "    pl.read_csv(csvFile)\n",
    "    .with_columns(\n",
    "        <blank>\n",
    "    )\n",
    "    .select(\n",
    "        'Pclass','Age','Age_delta'\n",
    "    )\n",
    "    .head(10)\n",
    ")"
   ]
  },
  {
   "cell_type": "markdown",
   "id": "8d04287c-4339-42b1-8190-741081862d14",
   "metadata": {},
   "source": [
    "Continue by adding another column called `Age_z` that has the z-score for the `Age` where the z-score is the (age - average age of the passengers in that class) divided by the standard deviation of the age column for passengers in that class"
   ]
  },
  {
   "cell_type": "code",
   "execution_count": null,
   "id": "5c19ec70-87b5-4802-b5e9-766b1cf2fa8c",
   "metadata": {},
   "outputs": [],
   "source": [
    "(\n",
    "    pl.read_csv(csvFile)\n",
    "    .with_columns(\n",
    "        <blank>\n",
    "    )\n",
    "    .select(\n",
    "        'Pclass','Age','Age_delta','Age_z'\n",
    "    )\n",
    "    .head(10)\n",
    ")"
   ]
  },
  {
   "cell_type": "markdown",
   "id": "d691b3da-31fb-4743-ba50-0e916e4cdaf0",
   "metadata": {},
   "source": [
    "### Exercise 2\n",
    "\n",
    "Count the number of passengers in each group of: passenger class and survival. Name the column of counts `counts`"
   ]
  },
  {
   "cell_type": "code",
   "execution_count": null,
   "id": "ecc3447f-a305-4f8f-b8f7-0375a7797246",
   "metadata": {},
   "outputs": [],
   "source": [
    "(\n",
    "    pl.read_csv(csvFile)\n",
    "    <blank>\n",
    ")"
   ]
  },
  {
   "cell_type": "markdown",
   "id": "a29b8099-4dfc-40ad-b09b-0fa5595f99ac",
   "metadata": {},
   "source": [
    "Continue by calculating the percentage breakdown of passenger survival within each passenger class group. Call this column `percent`.\n",
    "\n",
    "Sort the output by passenger class and survival"
   ]
  },
  {
   "cell_type": "code",
   "execution_count": null,
   "id": "1064a044-9eba-45f4-93f4-a1f59c8f950d",
   "metadata": {},
   "outputs": [],
   "source": []
  },
  {
   "cell_type": "markdown",
   "id": "b9161a7b-f73d-41eb-89c0-44a1ea2adfef",
   "metadata": {},
   "source": [
    "### Exercise 3\n",
    "Window functions allow us to do multiple groupbys in the same `select` or `with_column`. Polars can cache the groupbys in the same `with_columns` statement.\n",
    "\n",
    "In this exercise we explore the effect of this caching on performance.\n",
    "\n",
    "We begin by creating a `DataFrame` with groups and values"
   ]
  },
  {
   "cell_type": "code",
   "execution_count": null,
   "id": "50a45b7c-0bb2-49db-bcfd-68ecfcab68d2",
   "metadata": {},
   "outputs": [],
   "source": [
    "import numpy as np\n",
    "np.random.seed(0)\n",
    "\n",
    "N = 1_000_000\n",
    "cardinality = N // 2\n",
    "groups = np.random.randint(0,cardinality,N)\n",
    "df = pl.DataFrame(\n",
    "        {\n",
    "            \"groups\":groups,\n",
    "            \"values\":np.random.standard_normal(N)\n",
    "        }\n",
    "    )\n",
    "df.head(3)"
   ]
  },
  {
   "cell_type": "markdown",
   "id": "aafbdb8d-c863-4c06-8c06-7d074099e7b1",
   "metadata": {},
   "source": [
    "We want to add: \n",
    "- a `max` column with the maximum value per group and \n",
    "- a `min` column with the minimum value per group.\n",
    "\n",
    "\n",
    "Time how long this takes with two `with_column` statements"
   ]
  },
  {
   "cell_type": "code",
   "execution_count": null,
   "id": "f075d6fe-808e-4db5-ab88-6686e2358134",
   "metadata": {},
   "outputs": [],
   "source": [
    "%%timeit -n1 -r3\n",
    "(\n",
    "    df\n",
    "    <blank>\n",
    ")"
   ]
  },
  {
   "cell_type": "markdown",
   "id": "07e1229d-a494-4814-abf7-4ac89c988699",
   "metadata": {},
   "source": [
    "Time how long this takes in a single `with_columns` statement"
   ]
  },
  {
   "cell_type": "code",
   "execution_count": null,
   "id": "a9df980d-8fe2-4668-a07a-a5a2aa9ab20e",
   "metadata": {},
   "outputs": [],
   "source": [
    "%%timeit -n1 -r3\n",
    "(\n",
    "    df\n",
    "    <blank>\n",
    ")"
   ]
  },
  {
   "cell_type": "markdown",
   "id": "5b35feef-d8dc-4d74-8e4c-7f51c1e8cd31",
   "metadata": {},
   "source": [
    "Can Polars cache the window expressions across `with_column` statements in lazy mode?"
   ]
  },
  {
   "cell_type": "code",
   "execution_count": null,
   "id": "de8a602c-e79f-4a9d-a4c7-6b8160b6d758",
   "metadata": {},
   "outputs": [],
   "source": [
    "%%timeit -n1 -r3\n",
    "(\n",
    "    pl.scan_csv(csvFile)\n",
    "    <blank>\n",
    ")"
   ]
  },
  {
   "cell_type": "markdown",
   "id": "6cb836d2-c329-4731-abea-0575fd20a487",
   "metadata": {},
   "source": [
    "## Solutions\n",
    "\n",
    "### Solution to exercise 1\n",
    "We want to calculate the *z-score* of the `Age` column for each passenger normalised by their passenger class.\n",
    "\n",
    "Add a new column `Age_mean` with the mean of the `Age` column for passengers by class"
   ]
  },
  {
   "cell_type": "code",
   "execution_count": null,
   "id": "02feb5d1-9676-49b4-a787-e6a15dc29f3d",
   "metadata": {
    "jupyter": {
     "source_hidden": true
    },
    "tags": []
   },
   "outputs": [],
   "source": [
    "(\n",
    "    pl.read_csv(csvFile)\n",
    "    .with_columns(\n",
    "        Age_mean = pl.col('Age').mean().over('Pclass')\n",
    "    )\n",
    "    .select(\n",
    "        'Age','Age_mean'\n",
    "    )\n",
    "    .head(6)\n",
    ")"
   ]
  },
  {
   "cell_type": "markdown",
   "id": "f745b326-e8ee-42cd-8e6e-622c12cb4425",
   "metadata": {},
   "source": [
    "Continue by replacing the `null` values in the `Age` column with the `median` age for passengers in that class"
   ]
  },
  {
   "cell_type": "code",
   "execution_count": null,
   "id": "a3aec425-44df-4701-922b-7c9bb488a116",
   "metadata": {
    "jupyter": {
     "source_hidden": true
    },
    "tags": []
   },
   "outputs": [],
   "source": [
    "(\n",
    "    pl.read_csv(csvFile)\n",
    "    .with_columns(\n",
    "        Age_mean = pl.col('Age').mean().over('Pclass')\n",
    "    )\n",
    "    .with_columns(\n",
    "        Age = pl.col('Age').fill_null(pl.col('Age').median().over('Pclass'))\n",
    "    )\n",
    "    .select(\n",
    "        'Pclass','Age','Age_mean'\n",
    "    )\n",
    "    .head(6)\n",
    ")"
   ]
  },
  {
   "cell_type": "markdown",
   "id": "ee79ce53-f15a-4398-906d-5c92bfe22c69",
   "metadata": {},
   "source": [
    "Replace `Age_mean` with a new column called `Age_delta` that is the difference between the age and the average age of all passengers in the same class. Keep the `fill_null` step from above"
   ]
  },
  {
   "cell_type": "code",
   "execution_count": null,
   "id": "78ef9000-50a6-4c64-be0e-6c7c36db0aee",
   "metadata": {
    "jupyter": {
     "source_hidden": true
    },
    "tags": []
   },
   "outputs": [],
   "source": [
    "(\n",
    "    pl.read_csv(csvFile)\n",
    "    .with_columns(\n",
    "        Age = pl.col('Age').fill_null(pl.col('Age').median().over('Pclass'))\n",
    "    )\n",
    "    .with_columns(\n",
    "        Age_delta = pl.col('Age') - pl.col('Age').mean().over('Pclass')\n",
    "    )\n",
    "    .select(\n",
    "        'Pclass','Age','Age_delta'\n",
    "    )\n",
    "    .head(6)\n",
    ")"
   ]
  },
  {
   "cell_type": "markdown",
   "id": "3faf82e5-39aa-471c-afa1-418f88705525",
   "metadata": {},
   "source": [
    "Continue by adding another column called `Age_z` that has the z-score for the `Age` where the z-score is the (age - average age of the passengers in that class) divided by the standard deviation of the age column for passengers in that class"
   ]
  },
  {
   "cell_type": "code",
   "execution_count": null,
   "id": "da58a67e-c9e8-47bb-a304-8b8be0fe1bba",
   "metadata": {
    "jupyter": {
     "source_hidden": true
    },
    "tags": []
   },
   "outputs": [],
   "source": [
    "(\n",
    "    pl.read_csv(csvFile)\n",
    "    .with_columns(\n",
    "        Age = pl.col('Age').fill_null(pl.col('Age').median().over('Pclass'))\n",
    "    )\n",
    "    .with_columns(\n",
    "        Age_delta = pl.col('Age') - pl.col('Age').mean().over('Pclass')\n",
    "    )\n",
    "\n",
    "    .with_columns(\n",
    "        Age_z = ((pl.col('Age') - pl.col('Age').mean().over('Pclass'))/pl.col('Age').std().over('Pclass'))\n",
    "    )\n",
    "    .select(\n",
    "        'Pclass','Age','Age_delta','Age_z'\n",
    "    )\n",
    "    .head(6)\n",
    ")"
   ]
  },
  {
   "cell_type": "markdown",
   "id": "74e851e4-c9cb-4851-b200-a2dc0065ba09",
   "metadata": {},
   "source": [
    "### Solution to exercise 2"
   ]
  },
  {
   "cell_type": "markdown",
   "id": "be87a30b-1219-405b-aba4-939c5ab68d6d",
   "metadata": {},
   "source": [
    "Count the number of passengers in each group of passenger class and survival"
   ]
  },
  {
   "cell_type": "code",
   "execution_count": null,
   "id": "7f2deea2-a60d-4893-9202-a60dc5b113f1",
   "metadata": {
    "jupyter": {
     "source_hidden": true
    },
    "tags": []
   },
   "outputs": [],
   "source": [
    "(\n",
    "    pl.read_csv(csvFile)\n",
    "    .groupby([\"Pclass\",\"Survived\"])\n",
    "    .agg(\n",
    "        pl.col(\"Name\").count().alias(\"counts\")\n",
    "    )\n",
    ")"
   ]
  },
  {
   "cell_type": "markdown",
   "id": "5e6ec614-b946-4c86-9fb3-650e8a7e23c1",
   "metadata": {},
   "source": [
    "Calculate the percentage breakdown of passenger survival within each passenger class group. Calculate the percentage as 0-100.\n",
    "\n",
    "Sort the output by passenger class and survival"
   ]
  },
  {
   "cell_type": "code",
   "execution_count": null,
   "id": "28c7b1b4-52b0-47e0-8dc6-a6d49a16fbb0",
   "metadata": {
    "jupyter": {
     "source_hidden": true
    },
    "tags": []
   },
   "outputs": [],
   "source": [
    "(\n",
    "    pl.read_csv(csvFile)\n",
    "    .groupby([\"Pclass\",\"Survived\"])\n",
    "    .agg(\n",
    "        pl.col(\"Name\").count().alias(\"counts\")\n",
    "    )\n",
    "    .with_columns(\n",
    "        100*(pl.col(\"counts\")/pl.col(\"counts\").sum().over(\"Pclass\")).round(3).alias(\"percent\")\n",
    "    )\n",
    "    .sort([\"Pclass\",\"Survived\"])\n",
    ")"
   ]
  },
  {
   "cell_type": "markdown",
   "id": "72ddc670-0676-4261-8f30-e27dccae200d",
   "metadata": {},
   "source": [
    "### Solution to exercise 3\n",
    "\n",
    "Window functions allow us to do multiple groupbys in the same `select` or `with_column`. Polars can cache the groupbys in the same `with_columns` statement.\n",
    "\n",
    "In this exercise we explore the effect of this caching on performance.\n",
    "\n",
    "We begin by creating a `DataFrame` with groups and values"
   ]
  },
  {
   "cell_type": "code",
   "execution_count": null,
   "id": "78904f1f-7051-424a-8889-80d3d28f5937",
   "metadata": {},
   "outputs": [],
   "source": [
    "import numpy as np\n",
    "np.random.seed(0)\n",
    "\n",
    "N = 1_000_000\n",
    "cardinality = N // 2\n",
    "groups = np.random.randint(0,cardinality,N)\n",
    "df = pl.DataFrame(\n",
    "        {\n",
    "            \"groups\":groups,\n",
    "            \"values\":np.random.standard_normal(N)\n",
    "        }\n",
    "    )\n",
    "df.head(3)"
   ]
  },
  {
   "cell_type": "markdown",
   "id": "9197b506-fca9-4f59-8b06-062601a7edd2",
   "metadata": {},
   "source": [
    "We want to add a `max` column with the maximum value per group and a `min` column with the minimum value per group.\n",
    "\n",
    "\n",
    "Do this with two `with_column` statements"
   ]
  },
  {
   "cell_type": "code",
   "execution_count": null,
   "id": "6861f302-4bc4-4814-9ed4-c3024234b859",
   "metadata": {
    "jupyter": {
     "source_hidden": true
    },
    "tags": []
   },
   "outputs": [],
   "source": [
    "%%timeit -n1 -r3\n",
    "(\n",
    "    df\n",
    "    .with_columns(\n",
    "        pl.col(\"values\").max().over(\"groups\").alias(\"max\")\n",
    "    )\n",
    "    .with_columns(\n",
    "        pl.col(\"values\").min().over(\"groups\").alias(\"min\")\n",
    "    )\n",
    ")"
   ]
  },
  {
   "cell_type": "markdown",
   "id": "0b06faca-5f2e-4245-b49d-ad73a427febf",
   "metadata": {},
   "source": [
    "Do this in a single `with_columns` statement"
   ]
  },
  {
   "cell_type": "code",
   "execution_count": null,
   "id": "7b6484c0-93af-4ec3-8b77-caee12f80a77",
   "metadata": {
    "jupyter": {
     "source_hidden": true
    },
    "tags": []
   },
   "outputs": [],
   "source": [
    "%%timeit -n1 -r3\n",
    "(\n",
    "    df\n",
    "    .with_columns(\n",
    "        [\n",
    "            pl.col(\"values\").max().over(\"groups\").alias(\"max\"),\n",
    "            pl.col(\"values\").min().over(\"groups\").alias(\"min\")\n",
    "        ]\n",
    "    )\n",
    ")"
   ]
  },
  {
   "cell_type": "markdown",
   "id": "a3d9144a-882e-42dc-9a16-fe9d5c23eb03",
   "metadata": {},
   "source": [
    "Can Polars cache the window expressions across `with_column` statements in lazy mode?"
   ]
  },
  {
   "cell_type": "code",
   "execution_count": null,
   "id": "072024bc-92aa-4c75-8c31-a008bf471cce",
   "metadata": {
    "jupyter": {
     "source_hidden": true
    },
    "tags": []
   },
   "outputs": [],
   "source": [
    "%%timeit -n1 -r3\n",
    "(\n",
    "    df\n",
    "    .lazy()\n",
    "    .with_columns(\n",
    "        pl.col(\"values\").max().over(\"groups\").alias(\"max\")\n",
    "    )\n",
    "    .with_columns(\n",
    "        pl.col(\"values\").min().over(\"groups\").alias(\"min\")\n",
    "    )\n",
    "    .collect()\n",
    ")"
   ]
  },
  {
   "cell_type": "markdown",
   "id": "c7c24dcd-7229-4bcc-803a-0a0798ed3dbd",
   "metadata": {},
   "source": [
    "Not at this point as there is no speed up!"
   ]
  },
  {
   "cell_type": "code",
   "execution_count": null,
   "id": "d7c508d7-7283-4e8f-824f-03df7206b5ff",
   "metadata": {},
   "outputs": [],
   "source": []
  }
 ],
 "metadata": {
  "kernelspec": {
   "display_name": "Python 3 (ipykernel)",
   "language": "python",
   "name": "python3"
  },
  "language_info": {
   "codemirror_mode": {
    "name": "ipython",
    "version": 3
   },
   "file_extension": ".py",
   "mimetype": "text/x-python",
   "name": "python",
   "nbconvert_exporter": "python",
   "pygments_lexer": "ipython3",
   "version": "3.10.1"
  }
 },
 "nbformat": 4,
 "nbformat_minor": 5
}
