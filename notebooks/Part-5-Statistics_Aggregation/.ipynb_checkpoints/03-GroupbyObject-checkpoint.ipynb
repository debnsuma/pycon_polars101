{
    "cells": [
        {
            "cell_type": "markdown",
            "id": "66d73ce5-88a7-4ca4-9c65-80efc207bd62",
            "metadata": {},
            "source": [
                "# Groupby 1: The `GroupBy` object\n",
                "By the end of this lecture you will be able to:\n",
                "- group rows using `groupby`\n",
                "- access data in each group\n",
                "- do aggregations on the groups\n",
                "- group by multiple columns\n",
                "- do fast-track grouping on a sorted column\n"
            ]
        },
        {
            "cell_type": "code",
            "execution_count": null,
            "id": "cd02210d-68fd-400f-adcf-65466018167f",
            "metadata": {
                "tags": []
            },
            "outputs": [],
            "source": [
                "import polars as pl"
            ]
        },
        {
            "cell_type": "code",
            "execution_count": null,
            "id": "f4be68cf-20e2-4017-88e8-e85ad7485d42",
            "metadata": {
                "tags": []
            },
            "outputs": [],
            "source": [
                "csvFile = \"../data/titanic.csv\""
            ]
        },
        {
            "cell_type": "code",
            "execution_count": null,
            "id": "233c146a-3a78-42fa-9b9a-d0ec89cfde44",
            "metadata": {
                "tags": []
            },
            "outputs": [],
            "source": [
                "df = pl.read_csv(csvFile)\n",
                "df.head(3)"
            ]
        },
        {
            "cell_type": "markdown",
            "id": "6602d905-8316-4655-aeaf-441897d115d4",
            "metadata": {},
            "source": [
                "## The `groupby` object\n",
                "Calling the `groupby` method with a column creates a `GroupBy` object"
            ]
        },
        {
            "cell_type": "code",
            "execution_count": null,
            "id": "9adb33bb-fb7f-4535-9e30-fecab6606a50",
            "metadata": {
                "tags": []
            },
            "outputs": [],
            "source": [
                "(\n",
                "    df\n",
                "    .groupby(\"Pclass\")\n",
                ")"
            ]
        },
        {
            "cell_type": "markdown",
            "id": "9ada849a-d376-4d92-8418-de7524c79ccf",
            "metadata": {},
            "source": [
                "We look at some of the methods we can call on the `GroupBy` object below."
            ]
        },
        {
            "cell_type": "markdown",
            "id": "84b2ca99-af25-487a-bad4-308756b6b859",
            "metadata": {},
            "source": [
                "## Iterating over groups\n",
                "We can access the `DataFrame` for each group by looping over a `GroupBy` object.\n",
                "\n",
                "When we iterate we get the group key and the sub-`DataFrame` for each group.\n",
                "\n",
                "In this example we print the mean for each group"
            ]
        },
        {
            "cell_type": "code",
            "execution_count": null,
            "id": "b5078f05-22f7-4aca-8594-fd2be8086055",
            "metadata": {
                "tags": []
            },
            "outputs": [],
            "source": [
                "for groupKey,groupDf in df.groupby(\"Pclass\"):\n",
                "    print(groupKey)\n",
                "    print(groupDf.mean())"
            ]
        },
        {
            "cell_type": "markdown",
            "id": "0a57f2ae-6900-42e3-b616-496f444b7234",
            "metadata": {},
            "source": [
                "## Group indices\n",
                "We get the group keys and the *row indices* for each group with the `agg_groups` expression"
            ]
        },
        {
            "cell_type": "code",
            "execution_count": null,
            "id": "1de358b5-0aea-4122-b7f3-a569f6c1f27d",
            "metadata": {
                "tags": []
            },
            "outputs": [],
            "source": [
                "(\n",
                "    df\n",
                "    .groupby(\"Pclass\")\n",
                "    .agg(\n",
                "        pl.col(\"PassengerId\").agg_groups()\n",
                "    )\n",
                ")"
            ]
        },
        {
            "cell_type": "markdown",
            "id": "c1161732-21ca-41a6-98dd-a51ab600dfcb",
            "metadata": {},
            "source": [
                "Due to the parallelisation algorithm the order of the groups changes each time.\n",
                "\n",
                "To return the same order use the `maintain_order` argument in `groupby`"
            ]
        },
        {
            "cell_type": "code",
            "execution_count": null,
            "id": "8c7c5369-8b0c-49eb-bb03-96eb05f730c1",
            "metadata": {
                "tags": []
            },
            "outputs": [],
            "source": [
                "(\n",
                "    df\n",
                "    .groupby(\"Pclass\",maintain_order=True)\n",
                "    .agg(\n",
                "        pl.col(\"PassengerId\").agg_groups()\n",
                "    )\n",
                ")"
            ]
        },
        {
            "cell_type": "markdown",
            "id": "52355ae4-6a65-4fbe-8f33-add6254ea2ed",
            "metadata": {},
            "source": [
                "We look at `agg` in more detail int the coming lectures.\n",
                "\n",
                "## Group values\n",
                "We use `head` to get the first rows in each group.\n",
                "\n",
                "In this example we return a `DataFrame` with the first 2 rows from each group"
            ]
        },
        {
            "cell_type": "code",
            "execution_count": null,
            "id": "11e45eaf-0537-4424-a1ae-26ec8bb2ec9b",
            "metadata": {
                "tags": []
            },
            "outputs": [],
            "source": [
                "(\n",
                "    df\n",
                "    .groupby(\"Pclass\")\n",
                "    .head(2)\n",
                ")"
            ]
        },
        {
            "cell_type": "markdown",
            "id": "a4dc7228-f24a-48eb-a5cc-076b26c551e8",
            "metadata": {},
            "source": [
                "## Aggregations\n",
                "In eager mode we can call aggregations directly on the `GroupBy`\n",
                "\n",
                "In this example, we count the number of rows per group and we get a single column of counts"
            ]
        },
        {
            "cell_type": "code",
            "execution_count": null,
            "id": "7d701c3a-b07b-43a3-bc5f-1c14e8e23a79",
            "metadata": {
                "tags": []
            },
            "outputs": [],
            "source": [
                "(\n",
                "    df\n",
                "    .groupby(\"Pclass\")\n",
                "    .count()\n",
                ")"
            ]
        },
        {
            "cell_type": "markdown",
            "id": "3eefd8e6-234f-4c8b-9844-a9762350a641",
            "metadata": {},
            "source": [
                "We can also calculate aggregations on all columns"
            ]
        },
        {
            "cell_type": "code",
            "execution_count": null,
            "id": "879730ca-a9d6-4ae4-826c-aae501ef0754",
            "metadata": {
                "tags": []
            },
            "outputs": [],
            "source": [
                "(\n",
                "    df\n",
                "    .groupby(\"Pclass\")\n",
                "    .mean()\n",
                ")"
            ]
        },
        {
            "cell_type": "markdown",
            "id": "e603413b-c992-47f8-b0a9-6c3c120098e6",
            "metadata": {},
            "source": [
                "We use the `agg` method for more flexibility in the next lecture. \n",
                "\n",
                "The methods we can all on `GroupBy` in eager mode are:\n",
                " - `first` get the first element of each group\n",
                " - `last` get the last element of each group\n",
                " - `n_unique` get the number of unique elements in each group\n",
                " - `count` get the number of elements in each group\n",
                " - `sum` sum the elements in each group\n",
                " - `min` get the smallest element in each group\n",
                " - `max` get the largest element in each group\n",
                " - `mean` get the average of elements in each group\n",
                " - `median` get the median in each group\n",
                " - `quantile` calculate quantiles in each group\n",
                " "
            ]
        },
        {
            "cell_type": "markdown",
            "id": "0a5211c8-2519-4605-868b-b179bf18f068",
            "metadata": {},
            "source": [
                "## Groupby on multiple columns\n",
                "\n",
                "We can do `groupby` on multiple columns by passing a list of column names"
            ]
        },
        {
            "cell_type": "code",
            "execution_count": null,
            "id": "f6554898-09a6-44c0-8eac-bc35b81f8290",
            "metadata": {
                "tags": []
            },
            "outputs": [],
            "source": [
                "(\n",
                "    df\n",
                "    .groupby([\"Pclass\",\"Survived\"])\n",
                "    .mean()\n",
                ")"
            ]
        },
        {
            "cell_type": "markdown",
            "id": "036c21a8-1e34-4bc5-8115-c88c1887ff50",
            "metadata": {},
            "source": [
                "In the following lecture we see how we can also pass expressions to `groupby`"
            ]
        },
        {
            "cell_type": "markdown",
            "id": "fecbbbc0-0d3a-4dcc-a5bb-a7b9a6bb5960",
            "metadata": {},
            "source": [
                "## Groupby on a sorted column\n",
                "In the lecture \"Sorting and Fast-track algorithms\" in the Selecting columns and transforming dataframes section we saw how Polars can use fast-track algorithms on sorted columns - if it knows the column is sorted.\n",
                "\n",
                "A fast-track algorithm can also be used if the groupby column is sorted. See Exercise 3 for an example of this (make sure you have done the Sorting and Fast-track algorithms lecture first)."
            ]
        },
        {
            "cell_type": "markdown",
            "id": "9f303005-de03-42ee-ae91-71e454a2942b",
            "metadata": {},
            "source": [
                "## Exercises\n",
                "In the exercises you will develop your understanding of:\n",
                "- creating a `GroupBy` object\n",
                "- accessing data from the groups\n",
                "- aggregating each group\n",
                "- the effect of the fast-track algorithm on a sorted column\n",
                "\n",
                "### Exercises 1\n",
                "Create a `GroupBy` object by grouping on the `Survived` column"
            ]
        },
        {
            "cell_type": "code",
            "execution_count": null,
            "id": "640c171b-b364-4c28-a9b6-86d4fcf7a241",
            "metadata": {
                "tags": []
            },
            "outputs": [],
            "source": [
                "(\n",
                "    pl.read_csv(csvFile)\n",
                "    <blank>\n",
                ")"
            ]
        },
        {
            "cell_type": "markdown",
            "id": "ae08549f-a4e4-4668-89ac-e22addac8150",
            "metadata": {},
            "source": [
                "Create a `DataFrame` showing the row indexes for each group"
            ]
        },
        {
            "cell_type": "code",
            "execution_count": null,
            "id": "517a9131-bdb4-4d78-9857-6ae6e19c9fe8",
            "metadata": {},
            "outputs": [],
            "source": []
        },
        {
            "cell_type": "markdown",
            "id": "f1d741da-39c6-4c6c-8465-a376a8279e82",
            "metadata": {},
            "source": [
                "Create a `DataFrame` with the *last* three rows from each group. Ensure the order of the `DataFrame` is the same each time you run the code."
            ]
        },
        {
            "cell_type": "code",
            "execution_count": null,
            "id": "80df7f61-a515-434e-b617-14aa194637d4",
            "metadata": {
                "tags": []
            },
            "outputs": [],
            "source": []
        },
        {
            "cell_type": "markdown",
            "id": "044bd07a-f464-4248-9261-0161ee11693f",
            "metadata": {},
            "source": [
                "Get the maximum value for each column in each group"
            ]
        },
        {
            "cell_type": "code",
            "execution_count": null,
            "id": "cdd0f434-c506-4ad1-a82b-1ab910bf1d8b",
            "metadata": {
                "tags": []
            },
            "outputs": [],
            "source": []
        },
        {
            "cell_type": "markdown",
            "id": "8f8091d6-d9dd-4abc-aebc-a61939aad965",
            "metadata": {},
            "source": [
                "### Exercise 2\n",
                "Create a `GroupBy` object by grouping on the `Survived` and `Pclass` columns.\n",
                "\n",
                "Call this object `survivedClassDf`"
            ]
        },
        {
            "cell_type": "code",
            "execution_count": null,
            "id": "faf34a77-b285-4dbf-b9f1-85c54a7ba41f",
            "metadata": {
                "tags": []
            },
            "outputs": [],
            "source": [
                "survivedClassDf = (\n",
                "    pl.read_csv(csvFile)\n",
                "    <blank>\n",
                ")"
            ]
        },
        {
            "cell_type": "markdown",
            "id": "3366123a-9541-4f96-acfb-5d3dc362e10f",
            "metadata": {},
            "source": [
                "Loop over the groups and print the `mean` of each group (the output of `print` will be an ASCII representation)"
            ]
        },
        {
            "cell_type": "code",
            "execution_count": null,
            "id": "283e28a3-0b8a-41a9-98e4-998dc7b8ab66",
            "metadata": {},
            "outputs": [],
            "source": []
        },
        {
            "cell_type": "markdown",
            "id": "36b0f972-1ba4-4f8a-9e82-ffd968cf4972",
            "metadata": {
                "tags": []
            },
            "source": [
                "### Exercise 3\n",
                "We look at the effect of sorting and the fast-track algorithm on a `groupby` operation.\n",
                "\n",
                "We create a `DataFrame` with an `id` column of integers and a `values` column\n",
                "\n",
                "- The `N` variable sets the number of rows in the `DataFrame`\n",
                "- The `cardinality` sets the number of distinct group keys in the `id` column\n",
                "\n",
                "We begin with a low cardinality and see the effect of increasing the cardinality later in the exercise.\n",
                "\n",
                "We pre-sort the `id`s before creating the `DataFrame`"
            ]
        },
        {
            "cell_type": "code",
            "execution_count": null,
            "id": "eb49bd9a-5b67-44df-b7c2-66004ca3ec74",
            "metadata": {},
            "outputs": [],
            "source": [
                "pl.Config.set_tbl_rows(4)\n",
                "import numpy as np\n",
                "np.random.seed(0)\n",
                "N = 10_000_000\n",
                "cardinality = 10\n",
                "# Create a sorted array of id integers\n",
                "sortedArray = np.sort(np.random.randint(0,cardinality,N))\n",
                "df = (\n",
                "    pl.DataFrame(\n",
                "        {\n",
                "            \"id\":[i for i in sortedArray],\n",
                "            \"values\":np.random.standard_normal(N)\n",
                "        }\n",
                "    )\n",
                ")\n",
                "df.head(3)"
            ]
        },
        {
            "cell_type": "markdown",
            "id": "a068052c-7f8f-45f5-bcfe-202f969c3f61",
            "metadata": {},
            "source": [
                "Time how long it takes to groupby the `id` column and take the mean of the `values` column without any fast-track algorithm"
            ]
        },
        {
            "cell_type": "code",
            "execution_count": null,
            "id": "7884d548-df0f-4ba8-9b09-98e187d3054f",
            "metadata": {},
            "outputs": [],
            "source": [
                "%%timeit -n1 -r3\n",
                "(\n",
                "    df\n",
                "    <blank>\n",
                ")"
            ]
        },
        {
            "cell_type": "markdown",
            "id": "8e059807-0c28-4d8c-8767-82d80a842ab1",
            "metadata": {},
            "source": [
                "Create a new `DataFrame` called `dfSorted` where we tell Polars the `id` column is sorted"
            ]
        },
        {
            "cell_type": "code",
            "execution_count": null,
            "id": "64e0d0ef-2674-4c49-b252-d7148de6b798",
            "metadata": {},
            "outputs": [],
            "source": [
                "dfSorted = (\n",
                "    df\n",
                "    <blank>\n",
                ")\n",
                "dfSorted[\"id\"].flags"
            ]
        },
        {
            "cell_type": "markdown",
            "id": "77de1b98-cae7-4e0c-bb0f-6a0cda199a68",
            "metadata": {},
            "source": [
                "Time how long it takes to groupby the `id` column and take the mean of the `values` column **with** a fast-track algorithm"
            ]
        },
        {
            "cell_type": "code",
            "execution_count": null,
            "id": "69107106-3bd3-43a9-bcf3-8d67c7981943",
            "metadata": {},
            "outputs": [],
            "source": [
                "%%timeit -n1 -r3\n",
                "(\n",
                "    dfSorted\n",
                "    <blank>\n",
                ")"
            ]
        },
        {
            "cell_type": "markdown",
            "id": "a505a3bf-1089-4c82-9142-6f67e445e94d",
            "metadata": {},
            "source": [
                "Compare the difference between the sorted and non-sorted algorithms when the cardinality of `id` is higher. Try:\n",
                "- `cardinality = 1_000` and \n",
                "- `cardinality = 1_000_000`\n"
            ]
        },
        {
            "cell_type": "markdown",
            "id": "07f0dcb2-696f-45d0-9522-1eda1c0f3f41",
            "metadata": {},
            "source": [
                "## Solutions\n",
                "\n",
                "### Solutions to Exercise 1\n",
                "Create a `GroupBy` object by grouping on the `Survived` column"
            ]
        },
        {
            "cell_type": "code",
            "execution_count": null,
            "id": "a0b6c2fe-c780-4b83-b373-8db44dc9241e",
            "metadata": {
                "jupyter": {
                    "source_hidden": true
                },
                "tags": []
            },
            "outputs": [],
            "source": [
                "(\n",
                "    pl.read_csv(csvFile)\n",
                "    .groupby(\"Survived\")\n",
                ")"
            ]
        },
        {
            "cell_type": "markdown",
            "id": "8f6e45b3-2496-44bd-9706-b6e28f94e110",
            "metadata": {},
            "source": [
                "Create a `DataFrame` showing the row indexes for each group"
            ]
        },
        {
            "cell_type": "code",
            "execution_count": null,
            "id": "358a44f2-b69f-4dc0-8662-b87fad25dadc",
            "metadata": {
                "jupyter": {
                    "source_hidden": true
                },
                "tags": []
            },
            "outputs": [],
            "source": [
                "(\n",
                "    pl.read_csv(csvFile)\n",
                "    .groupby(\"Survived\")\n",
                "    .agg(\n",
                "        pl.col(\"PassengerId\").agg_groups()\n",
                "    )\n",
                ")"
            ]
        },
        {
            "cell_type": "markdown",
            "id": "a4209d4d-3775-42e7-8975-c2ce0af4c0d8",
            "metadata": {},
            "source": [
                "Create a `DataFrame` with the *last* three rows from each group. Ensure the order of the `DataFrame` is the same each time you run the code."
            ]
        },
        {
            "cell_type": "code",
            "execution_count": null,
            "id": "9550a13d-7019-42b3-831f-b7464537467c",
            "metadata": {
                "jupyter": {
                    "source_hidden": true
                },
                "tags": []
            },
            "outputs": [],
            "source": [
                "(\n",
                "    pl.read_csv(csvFile)\n",
                "    .groupby(\"Survived\",maintain_order=True)\n",
                "    .tail(3)\n",
                ")"
            ]
        },
        {
            "cell_type": "markdown",
            "id": "75e06673-41c3-4caf-ad0c-3df1ed7bc916",
            "metadata": {},
            "source": [
                "Get the maximum value for each column in each group"
            ]
        },
        {
            "cell_type": "code",
            "execution_count": null,
            "id": "b88a7878-381b-4c52-8003-ea2a63f011de",
            "metadata": {
                "jupyter": {
                    "source_hidden": true
                },
                "tags": []
            },
            "outputs": [],
            "source": [
                "(\n",
                "    pl.read_csv(csvFile)\n",
                "    .groupby(\"Survived\",maintain_order=True)\n",
                "    .max()\n",
                ")"
            ]
        },
        {
            "cell_type": "markdown",
            "id": "8b91dc06-279d-4cd5-9a82-4a269a08ee1e",
            "metadata": {},
            "source": [
                "### Solutions to Exercise 2\n",
                "Create a `GroupBy` object by grouping on the `Survived` and `Pclass` columns.\n",
                "\n",
                "Call this object `survivedClassDf`"
            ]
        },
        {
            "cell_type": "code",
            "execution_count": null,
            "id": "98f5164d-bc73-4c1e-a21a-613d7e5a0a3d",
            "metadata": {
                "jupyter": {
                    "source_hidden": true
                },
                "tags": []
            },
            "outputs": [],
            "source": [
                "survivedClassDf = (\n",
                "    pl.read_csv(csvFile)\n",
                "    .groupby([\"Survived\",\"Pclass\"])\n",
                ")"
            ]
        },
        {
            "cell_type": "markdown",
            "id": "ad0d2333-de73-456f-88c4-6da0fed01064",
            "metadata": {},
            "source": [
                "Loop over the groups and print the `mean` of each group (the output of `print` will be an ASCII representation)"
            ]
        },
        {
            "cell_type": "code",
            "execution_count": null,
            "id": "9ac275b8-469c-43f9-9ddc-eebc8e8ea5d5",
            "metadata": {
                "jupyter": {
                    "source_hidden": true
                },
                "tags": []
            },
            "outputs": [],
            "source": [
                "survivedClassDf = (\n",
                "    pl.read_csv(csvFile)\n",
                "    .groupby([\"Survived\",\"Pclass\"])\n",
                ")\n",
                "for groupKey,groupDf in survivedClassDf:\n",
                "    print(groupDf.mean())"
            ]
        },
        {
            "cell_type": "markdown",
            "id": "fe4ebf71-c509-430c-9f31-5b2bcedbb4dd",
            "metadata": {},
            "source": [
                "### Solution to exercise 3\n",
                "We look at the effect of sorting on a `groupby` operation.\n",
                "\n",
                "We create a `DataFrame` with an `id` column of integers and a `values` column\n",
                "\n",
                "- The `N` variable sets the number of rows in the `DataFrame`\n",
                "- The `cardinality` sets the number of distinct `id`s\n",
                "\n",
                "We pre-sort the `id`s before creating the `DataFrame`"
            ]
        },
        {
            "cell_type": "code",
            "execution_count": null,
            "id": "74c621b6-eecf-4e97-aaa8-34f453f54155",
            "metadata": {},
            "outputs": [],
            "source": [
                "pl.Config.set_tbl_rows(4)\n",
                "import numpy as np\n",
                "np.random.seed(0)\n",
                "N = 10_000_000\n",
                "cardinality = 1_000_000\n",
                "# Create a sorted array of id integers\n",
                "sortedArray = np.sort(np.random.randint(0,cardinality,N))\n",
                "df = (\n",
                "    pl.DataFrame(\n",
                "        {\n",
                "            \"id\":[i for i in sortedArray],\n",
                "            \"values\":np.random.standard_normal(N)\n",
                "        }\n",
                "    )\n",
                ")\n",
                "df.head(3)"
            ]
        },
        {
            "cell_type": "markdown",
            "id": "df3cf474-1379-4384-8e1b-43ab29699e01",
            "metadata": {},
            "source": [
                "Time how long it takes to groupby the `id` column and take the mean of the `values` column without any fast-track algorithm"
            ]
        },
        {
            "cell_type": "code",
            "execution_count": null,
            "id": "7b1621b9-21b8-48f6-ac81-b7316a271a5a",
            "metadata": {
                "jupyter": {
                    "source_hidden": true
                },
                "tags": []
            },
            "outputs": [],
            "source": [
                "%%timeit -n1 -r3\n",
                "(\n",
                "    df\n",
                "    .groupby(\"id\")\n",
                "    .agg(\n",
                "        pl.col(\"values\").mean()\n",
                "    )\n",
                ")"
            ]
        },
        {
            "cell_type": "markdown",
            "id": "624da374-f00d-4232-a411-d4c3688972fb",
            "metadata": {},
            "source": [
                "Create a new `DataFrame` called `dfSorted` where we tell Polars the `id` column is sorted"
            ]
        },
        {
            "cell_type": "code",
            "execution_count": null,
            "id": "c5e8526a-dddc-4ec0-90ee-36ff5ec61908",
            "metadata": {
                "jupyter": {
                    "source_hidden": true
                },
                "tags": []
            },
            "outputs": [],
            "source": [
                "dfSorted = (\n",
                "    df\n",
                "    .with_columns(\n",
                "        pl.col(\"id\").set_sorted()\n",
                "    )\n",
                ")\n",
                "dfSorted[\"id\"].flags"
            ]
        },
        {
            "cell_type": "markdown",
            "id": "5cb6c14e-bfbe-403d-b7a5-3baaa8c8180f",
            "metadata": {},
            "source": [
                "Time how long it takes to groupby the `id` column and take the mean of the `values` column **with** a fast-track algorithm"
            ]
        },
        {
            "cell_type": "code",
            "execution_count": null,
            "id": "f41c27c4-4bf7-4d2b-a6dc-d10caac38643",
            "metadata": {
                "jupyter": {
                    "source_hidden": true
                },
                "tags": []
            },
            "outputs": [],
            "source": [
                "%%timeit -n1 -r3\n",
                "(\n",
                "    dfSorted\n",
                "    .groupby(\"id\")\n",
                "    .agg(\n",
                "        pl.col(\"values\").mean()\n",
                "    )\n",
                ")"
            ]
        },
        {
            "cell_type": "markdown",
            "id": "9f6f182d-da37-460d-b2a6-2e32c7403a77",
            "metadata": {},
            "source": [
                "Compare the difference in timings between the standard and fast-track algorithm when the cardinality of `id` is higher\n",
                "\n",
                "\n",
                "The difference is much smaller (and possibly negative) when the cardinality of `id` is high"
            ]
        },
        {
            "cell_type": "code",
            "execution_count": null,
            "id": "b0399b89-4c8a-490d-992b-aa7c33815601",
            "metadata": {},
            "outputs": [],
            "source": []
        }
    ],
    "metadata": {
        "kernelspec": {
            "display_name": "Python 3 (ipykernel)",
            "language": "python",
            "name": "python3"
        },
        "language_info": {
            "codemirror_mode": {
                "name": "ipython",
                "version": 3
            },
            "file_extension": ".py",
            "mimetype": "text/x-python",
            "name": "python",
            "nbconvert_exporter": "python",
            "pygments_lexer": "ipython3",
            "version": "3.10.1"
        }
    },
    "nbformat": 4,
    "nbformat_minor": 5
}