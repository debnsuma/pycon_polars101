{
 "cells": [
  {
   "cell_type": "markdown",
   "id": "66d73ce5-88a7-4ca4-9c65-80efc207bd62",
   "metadata": {},
   "source": [
    "# Groupby 1: The `GroupBy` object\n",
    "By the end of this section you will be able to:\n",
    "- group rows using `groupby`\n",
    "- access data in each group\n",
    "- do aggregations on the groups\n",
    "- group by multiple columns\n",
    "- do fast-track grouping on a sorted column\n"
   ]
  },
  {
   "cell_type": "code",
   "execution_count": 1,
   "id": "cd02210d-68fd-400f-adcf-65466018167f",
   "metadata": {
    "tags": []
   },
   "outputs": [],
   "source": [
    "import polars as pl"
   ]
  },
  {
   "cell_type": "code",
   "execution_count": 2,
   "id": "f4be68cf-20e2-4017-88e8-e85ad7485d42",
   "metadata": {
    "tags": []
   },
   "outputs": [],
   "source": [
    "csvFile = \"../data/titanic.csv\""
   ]
  },
  {
   "cell_type": "code",
   "execution_count": 3,
   "id": "233c146a-3a78-42fa-9b9a-d0ec89cfde44",
   "metadata": {
    "tags": []
   },
   "outputs": [
    {
     "data": {
      "text/html": [
       "<div><style>\n",
       ".dataframe > thead > tr > th,\n",
       ".dataframe > tbody > tr > td {\n",
       "  text-align: right;\n",
       "}\n",
       "</style>\n",
       "<small>shape: (3, 12)</small><table border=\"1\" class=\"dataframe\"><thead><tr><th>PassengerId</th><th>Survived</th><th>Pclass</th><th>Name</th><th>Sex</th><th>Age</th><th>SibSp</th><th>Parch</th><th>Ticket</th><th>Fare</th><th>Cabin</th><th>Embarked</th></tr><tr><td>i64</td><td>i64</td><td>i64</td><td>str</td><td>str</td><td>f64</td><td>i64</td><td>i64</td><td>str</td><td>f64</td><td>str</td><td>str</td></tr></thead><tbody><tr><td>1</td><td>0</td><td>3</td><td>&quot;Braund, Mr. Ow…</td><td>&quot;male&quot;</td><td>22.0</td><td>1</td><td>0</td><td>&quot;A/5 21171&quot;</td><td>7.25</td><td>null</td><td>&quot;S&quot;</td></tr><tr><td>2</td><td>1</td><td>1</td><td>&quot;Cumings, Mrs. …</td><td>&quot;female&quot;</td><td>38.0</td><td>1</td><td>0</td><td>&quot;PC 17599&quot;</td><td>71.2833</td><td>&quot;C85&quot;</td><td>&quot;C&quot;</td></tr><tr><td>3</td><td>1</td><td>3</td><td>&quot;Heikkinen, Mis…</td><td>&quot;female&quot;</td><td>26.0</td><td>0</td><td>0</td><td>&quot;STON/O2. 31012…</td><td>7.925</td><td>null</td><td>&quot;S&quot;</td></tr></tbody></table></div>"
      ],
      "text/plain": [
       "shape: (3, 12)\n",
       "┌─────────────┬──────────┬────────┬───────────────────┬───┬───────────┬─────────┬───────┬──────────┐\n",
       "│ PassengerId ┆ Survived ┆ Pclass ┆ Name              ┆ … ┆ Ticket    ┆ Fare    ┆ Cabin ┆ Embarked │\n",
       "│ ---         ┆ ---      ┆ ---    ┆ ---               ┆   ┆ ---       ┆ ---     ┆ ---   ┆ ---      │\n",
       "│ i64         ┆ i64      ┆ i64    ┆ str               ┆   ┆ str       ┆ f64     ┆ str   ┆ str      │\n",
       "╞═════════════╪══════════╪════════╪═══════════════════╪═══╪═══════════╪═════════╪═══════╪══════════╡\n",
       "│ 1           ┆ 0        ┆ 3      ┆ Braund, Mr. Owen  ┆ … ┆ A/5 21171 ┆ 7.25    ┆ null  ┆ S        │\n",
       "│             ┆          ┆        ┆ Harris            ┆   ┆           ┆         ┆       ┆          │\n",
       "│ 2           ┆ 1        ┆ 1      ┆ Cumings, Mrs.     ┆ … ┆ PC 17599  ┆ 71.2833 ┆ C85   ┆ C        │\n",
       "│             ┆          ┆        ┆ John Bradley      ┆   ┆           ┆         ┆       ┆          │\n",
       "│             ┆          ┆        ┆ (Flor…            ┆   ┆           ┆         ┆       ┆          │\n",
       "│ 3           ┆ 1        ┆ 3      ┆ Heikkinen, Miss.  ┆ … ┆ STON/O2.  ┆ 7.925   ┆ null  ┆ S        │\n",
       "│             ┆          ┆        ┆ Laina             ┆   ┆ 3101282   ┆         ┆       ┆          │\n",
       "└─────────────┴──────────┴────────┴───────────────────┴───┴───────────┴─────────┴───────┴──────────┘"
      ]
     },
     "execution_count": 3,
     "metadata": {},
     "output_type": "execute_result"
    }
   ],
   "source": [
    "df = pl.read_csv(csvFile)\n",
    "df.head(3)"
   ]
  },
  {
   "cell_type": "markdown",
   "id": "6602d905-8316-4655-aeaf-441897d115d4",
   "metadata": {},
   "source": [
    "## The `groupby` object\n",
    "Calling the `groupby` method with a column creates a `GroupBy` object"
   ]
  },
  {
   "cell_type": "code",
   "execution_count": 4,
   "id": "9adb33bb-fb7f-4535-9e30-fecab6606a50",
   "metadata": {
    "tags": []
   },
   "outputs": [
    {
     "data": {
      "text/plain": [
       "<polars.dataframe.groupby.GroupBy at 0x106f47160>"
      ]
     },
     "execution_count": 4,
     "metadata": {},
     "output_type": "execute_result"
    }
   ],
   "source": [
    "(\n",
    "    df\n",
    "    .groupby(\"Pclass\")\n",
    ")"
   ]
  },
  {
   "cell_type": "markdown",
   "id": "9ada849a-d376-4d92-8418-de7524c79ccf",
   "metadata": {},
   "source": [
    "We look at some of the methods we can call on the `GroupBy` object below."
   ]
  },
  {
   "cell_type": "markdown",
   "id": "84b2ca99-af25-487a-bad4-308756b6b859",
   "metadata": {},
   "source": [
    "## Iterating over groups\n",
    "We can access the `DataFrame` for each group by looping over a `GroupBy` object.\n",
    "\n",
    "When we iterate we get the group key and the sub-`DataFrame` for each group.\n",
    "\n",
    "In this example we print the mean for each group"
   ]
  },
  {
   "cell_type": "code",
   "execution_count": 5,
   "id": "b5078f05-22f7-4aca-8594-fd2be8086055",
   "metadata": {
    "tags": []
   },
   "outputs": [
    {
     "name": "stdout",
     "output_type": "stream",
     "text": [
      "2\n",
      "shape: (1, 12)\n",
      "┌─────────────┬──────────┬────────┬──────┬───┬────────┬───────────┬───────┬──────────┐\n",
      "│ PassengerId ┆ Survived ┆ Pclass ┆ Name ┆ … ┆ Ticket ┆ Fare      ┆ Cabin ┆ Embarked │\n",
      "│ ---         ┆ ---      ┆ ---    ┆ ---  ┆   ┆ ---    ┆ ---       ┆ ---   ┆ ---      │\n",
      "│ f64         ┆ f64      ┆ f64    ┆ str  ┆   ┆ str    ┆ f64       ┆ str   ┆ str      │\n",
      "╞═════════════╪══════════╪════════╪══════╪═══╪════════╪═══════════╪═══════╪══════════╡\n",
      "│ 445.956522  ┆ 0.472826 ┆ 2.0    ┆ null ┆ … ┆ null   ┆ 20.662183 ┆ null  ┆ null     │\n",
      "└─────────────┴──────────┴────────┴──────┴───┴────────┴───────────┴───────┴──────────┘\n",
      "3\n",
      "shape: (1, 12)\n",
      "┌─────────────┬──────────┬────────┬──────┬───┬────────┬──────────┬───────┬──────────┐\n",
      "│ PassengerId ┆ Survived ┆ Pclass ┆ Name ┆ … ┆ Ticket ┆ Fare     ┆ Cabin ┆ Embarked │\n",
      "│ ---         ┆ ---      ┆ ---    ┆ ---  ┆   ┆ ---    ┆ ---      ┆ ---   ┆ ---      │\n",
      "│ f64         ┆ f64      ┆ f64    ┆ str  ┆   ┆ str    ┆ f64      ┆ str   ┆ str      │\n",
      "╞═════════════╪══════════╪════════╪══════╪═══╪════════╪══════════╪═══════╪══════════╡\n",
      "│ 439.154786  ┆ 0.242363 ┆ 3.0    ┆ null ┆ … ┆ null   ┆ 13.67555 ┆ null  ┆ null     │\n",
      "└─────────────┴──────────┴────────┴──────┴───┴────────┴──────────┴───────┴──────────┘\n",
      "1\n",
      "shape: (1, 12)\n",
      "┌─────────────┬──────────┬────────┬──────┬───┬────────┬───────────┬───────┬──────────┐\n",
      "│ PassengerId ┆ Survived ┆ Pclass ┆ Name ┆ … ┆ Ticket ┆ Fare      ┆ Cabin ┆ Embarked │\n",
      "│ ---         ┆ ---      ┆ ---    ┆ ---  ┆   ┆ ---    ┆ ---       ┆ ---   ┆ ---      │\n",
      "│ f64         ┆ f64      ┆ f64    ┆ str  ┆   ┆ str    ┆ f64       ┆ str   ┆ str      │\n",
      "╞═════════════╪══════════╪════════╪══════╪═══╪════════╪═══════════╪═══════╪══════════╡\n",
      "│ 461.597222  ┆ 0.62963  ┆ 1.0    ┆ null ┆ … ┆ null   ┆ 84.154688 ┆ null  ┆ null     │\n",
      "└─────────────┴──────────┴────────┴──────┴───┴────────┴───────────┴───────┴──────────┘\n"
     ]
    }
   ],
   "source": [
    "for groupKey,groupDf in df.groupby(\"Pclass\"):\n",
    "    print(groupKey)\n",
    "    print(groupDf.mean())"
   ]
  },
  {
   "cell_type": "markdown",
   "id": "0a57f2ae-6900-42e3-b616-496f444b7234",
   "metadata": {},
   "source": [
    "## Group indices\n",
    "We get the group keys and the *row indices* for each group with the `agg_groups` expression"
   ]
  },
  {
   "cell_type": "code",
   "execution_count": 11,
   "id": "1de358b5-0aea-4122-b7f3-a569f6c1f27d",
   "metadata": {
    "tags": []
   },
   "outputs": [
    {
     "data": {
      "text/html": [
       "<div><style>\n",
       ".dataframe > thead > tr > th,\n",
       ".dataframe > tbody > tr > td {\n",
       "  text-align: right;\n",
       "}\n",
       "</style>\n",
       "<small>shape: (3, 2)</small><table border=\"1\" class=\"dataframe\"><thead><tr><th>Pclass</th><th>PassengerId</th></tr><tr><td>i64</td><td>list[u32]</td></tr></thead><tbody><tr><td>1</td><td>[1, 3, … 889]</td></tr><tr><td>3</td><td>[0, 2, … 890]</td></tr><tr><td>2</td><td>[9, 15, … 886]</td></tr></tbody></table></div>"
      ],
      "text/plain": [
       "shape: (3, 2)\n",
       "┌────────┬────────────────┐\n",
       "│ Pclass ┆ PassengerId    │\n",
       "│ ---    ┆ ---            │\n",
       "│ i64    ┆ list[u32]      │\n",
       "╞════════╪════════════════╡\n",
       "│ 1      ┆ [1, 3, … 889]  │\n",
       "│ 3      ┆ [0, 2, … 890]  │\n",
       "│ 2      ┆ [9, 15, … 886] │\n",
       "└────────┴────────────────┘"
      ]
     },
     "execution_count": 11,
     "metadata": {},
     "output_type": "execute_result"
    }
   ],
   "source": [
    "(\n",
    "    df\n",
    "    .groupby(\"Pclass\")\n",
    "    .agg(\n",
    "        pl.col(\"PassengerId\").agg_groups()\n",
    "    )\n",
    ")"
   ]
  },
  {
   "cell_type": "markdown",
   "id": "c1161732-21ca-41a6-98dd-a51ab600dfcb",
   "metadata": {},
   "source": [
    "Due to the parallelisation algorithm the order of the groups changes each time.\n",
    "\n",
    "To return the same order use the `maintain_order` argument in `groupby`"
   ]
  },
  {
   "cell_type": "code",
   "execution_count": 12,
   "id": "8c7c5369-8b0c-49eb-bb03-96eb05f730c1",
   "metadata": {
    "tags": []
   },
   "outputs": [
    {
     "data": {
      "text/html": [
       "<div><style>\n",
       ".dataframe > thead > tr > th,\n",
       ".dataframe > tbody > tr > td {\n",
       "  text-align: right;\n",
       "}\n",
       "</style>\n",
       "<small>shape: (3, 2)</small><table border=\"1\" class=\"dataframe\"><thead><tr><th>Pclass</th><th>PassengerId</th></tr><tr><td>i64</td><td>list[u32]</td></tr></thead><tbody><tr><td>3</td><td>[0, 2, … 890]</td></tr><tr><td>1</td><td>[1, 3, … 889]</td></tr><tr><td>2</td><td>[9, 15, … 886]</td></tr></tbody></table></div>"
      ],
      "text/plain": [
       "shape: (3, 2)\n",
       "┌────────┬────────────────┐\n",
       "│ Pclass ┆ PassengerId    │\n",
       "│ ---    ┆ ---            │\n",
       "│ i64    ┆ list[u32]      │\n",
       "╞════════╪════════════════╡\n",
       "│ 3      ┆ [0, 2, … 890]  │\n",
       "│ 1      ┆ [1, 3, … 889]  │\n",
       "│ 2      ┆ [9, 15, … 886] │\n",
       "└────────┴────────────────┘"
      ]
     },
     "execution_count": 12,
     "metadata": {},
     "output_type": "execute_result"
    }
   ],
   "source": [
    "(\n",
    "    df\n",
    "    .groupby(\"Pclass\",maintain_order=True)\n",
    "    .agg(\n",
    "        pl.col(\"PassengerId\").agg_groups()\n",
    "    )\n",
    ")"
   ]
  },
  {
   "cell_type": "markdown",
   "id": "52355ae4-6a65-4fbe-8f33-add6254ea2ed",
   "metadata": {},
   "source": [
    "We look at `agg` in more detail int the coming lectures.\n",
    "\n",
    "## Group values\n",
    "We use `head` to get the first rows in each group.\n",
    "\n",
    "In this example we return a `DataFrame` with the first 2 rows from each group"
   ]
  },
  {
   "cell_type": "code",
   "execution_count": 13,
   "id": "11e45eaf-0537-4424-a1ae-26ec8bb2ec9b",
   "metadata": {
    "tags": []
   },
   "outputs": [
    {
     "data": {
      "text/html": [
       "<div><style>\n",
       ".dataframe > thead > tr > th,\n",
       ".dataframe > tbody > tr > td {\n",
       "  text-align: right;\n",
       "}\n",
       "</style>\n",
       "<small>shape: (6, 12)</small><table border=\"1\" class=\"dataframe\"><thead><tr><th>Pclass</th><th>PassengerId</th><th>Survived</th><th>Name</th><th>Sex</th><th>Age</th><th>SibSp</th><th>Parch</th><th>Ticket</th><th>Fare</th><th>Cabin</th><th>Embarked</th></tr><tr><td>i64</td><td>i64</td><td>i64</td><td>str</td><td>str</td><td>f64</td><td>i64</td><td>i64</td><td>str</td><td>f64</td><td>str</td><td>str</td></tr></thead><tbody><tr><td>3</td><td>1</td><td>0</td><td>&quot;Braund, Mr. Ow…</td><td>&quot;male&quot;</td><td>22.0</td><td>1</td><td>0</td><td>&quot;A/5 21171&quot;</td><td>7.25</td><td>null</td><td>&quot;S&quot;</td></tr><tr><td>3</td><td>3</td><td>1</td><td>&quot;Heikkinen, Mis…</td><td>&quot;female&quot;</td><td>26.0</td><td>0</td><td>0</td><td>&quot;STON/O2. 31012…</td><td>7.925</td><td>null</td><td>&quot;S&quot;</td></tr><tr><td>2</td><td>10</td><td>1</td><td>&quot;Nasser, Mrs. N…</td><td>&quot;female&quot;</td><td>14.0</td><td>1</td><td>0</td><td>&quot;237736&quot;</td><td>30.0708</td><td>null</td><td>&quot;C&quot;</td></tr><tr><td>2</td><td>16</td><td>1</td><td>&quot;Hewlett, Mrs. …</td><td>&quot;female&quot;</td><td>55.0</td><td>0</td><td>0</td><td>&quot;248706&quot;</td><td>16.0</td><td>null</td><td>&quot;S&quot;</td></tr><tr><td>1</td><td>2</td><td>1</td><td>&quot;Cumings, Mrs. …</td><td>&quot;female&quot;</td><td>38.0</td><td>1</td><td>0</td><td>&quot;PC 17599&quot;</td><td>71.2833</td><td>&quot;C85&quot;</td><td>&quot;C&quot;</td></tr><tr><td>1</td><td>4</td><td>1</td><td>&quot;Futrelle, Mrs.…</td><td>&quot;female&quot;</td><td>35.0</td><td>1</td><td>0</td><td>&quot;113803&quot;</td><td>53.1</td><td>&quot;C123&quot;</td><td>&quot;S&quot;</td></tr></tbody></table></div>"
      ],
      "text/plain": [
       "shape: (6, 12)\n",
       "┌────────┬─────────────┬──────────┬───────────────────┬───┬───────────┬─────────┬───────┬──────────┐\n",
       "│ Pclass ┆ PassengerId ┆ Survived ┆ Name              ┆ … ┆ Ticket    ┆ Fare    ┆ Cabin ┆ Embarked │\n",
       "│ ---    ┆ ---         ┆ ---      ┆ ---               ┆   ┆ ---       ┆ ---     ┆ ---   ┆ ---      │\n",
       "│ i64    ┆ i64         ┆ i64      ┆ str               ┆   ┆ str       ┆ f64     ┆ str   ┆ str      │\n",
       "╞════════╪═════════════╪══════════╪═══════════════════╪═══╪═══════════╪═════════╪═══════╪══════════╡\n",
       "│ 3      ┆ 1           ┆ 0        ┆ Braund, Mr. Owen  ┆ … ┆ A/5 21171 ┆ 7.25    ┆ null  ┆ S        │\n",
       "│        ┆             ┆          ┆ Harris            ┆   ┆           ┆         ┆       ┆          │\n",
       "│ 3      ┆ 3           ┆ 1        ┆ Heikkinen, Miss.  ┆ … ┆ STON/O2.  ┆ 7.925   ┆ null  ┆ S        │\n",
       "│        ┆             ┆          ┆ Laina             ┆   ┆ 3101282   ┆         ┆       ┆          │\n",
       "│ 2      ┆ 10          ┆ 1        ┆ Nasser, Mrs.      ┆ … ┆ 237736    ┆ 30.0708 ┆ null  ┆ C        │\n",
       "│        ┆             ┆          ┆ Nicholas (Adele   ┆   ┆           ┆         ┆       ┆          │\n",
       "│        ┆             ┆          ┆ Ach…              ┆   ┆           ┆         ┆       ┆          │\n",
       "│ 2      ┆ 16          ┆ 1        ┆ Hewlett, Mrs.     ┆ … ┆ 248706    ┆ 16.0    ┆ null  ┆ S        │\n",
       "│        ┆             ┆          ┆ (Mary D Kingcome) ┆   ┆           ┆         ┆       ┆          │\n",
       "│ 1      ┆ 2           ┆ 1        ┆ Cumings, Mrs.     ┆ … ┆ PC 17599  ┆ 71.2833 ┆ C85   ┆ C        │\n",
       "│        ┆             ┆          ┆ John Bradley      ┆   ┆           ┆         ┆       ┆          │\n",
       "│        ┆             ┆          ┆ (Flor…            ┆   ┆           ┆         ┆       ┆          │\n",
       "│ 1      ┆ 4           ┆ 1        ┆ Futrelle, Mrs.    ┆ … ┆ 113803    ┆ 53.1    ┆ C123  ┆ S        │\n",
       "│        ┆             ┆          ┆ Jacques Heath     ┆   ┆           ┆         ┆       ┆          │\n",
       "│        ┆             ┆          ┆ (Li…              ┆   ┆           ┆         ┆       ┆          │\n",
       "└────────┴─────────────┴──────────┴───────────────────┴───┴───────────┴─────────┴───────┴──────────┘"
      ]
     },
     "execution_count": 13,
     "metadata": {},
     "output_type": "execute_result"
    }
   ],
   "source": [
    "(\n",
    "    df\n",
    "    .groupby(\"Pclass\")\n",
    "    .head(2)\n",
    ")"
   ]
  },
  {
   "cell_type": "markdown",
   "id": "a4dc7228-f24a-48eb-a5cc-076b26c551e8",
   "metadata": {},
   "source": [
    "## Aggregations\n",
    "In eager mode we can call aggregations directly on the `GroupBy`\n",
    "\n",
    "In this example, we count the number of rows per group and we get a single column of counts"
   ]
  },
  {
   "cell_type": "code",
   "execution_count": 14,
   "id": "7d701c3a-b07b-43a3-bc5f-1c14e8e23a79",
   "metadata": {
    "tags": []
   },
   "outputs": [
    {
     "data": {
      "text/html": [
       "<div><style>\n",
       ".dataframe > thead > tr > th,\n",
       ".dataframe > tbody > tr > td {\n",
       "  text-align: right;\n",
       "}\n",
       "</style>\n",
       "<small>shape: (3, 2)</small><table border=\"1\" class=\"dataframe\"><thead><tr><th>Pclass</th><th>count</th></tr><tr><td>i64</td><td>u32</td></tr></thead><tbody><tr><td>3</td><td>491</td></tr><tr><td>2</td><td>184</td></tr><tr><td>1</td><td>216</td></tr></tbody></table></div>"
      ],
      "text/plain": [
       "shape: (3, 2)\n",
       "┌────────┬───────┐\n",
       "│ Pclass ┆ count │\n",
       "│ ---    ┆ ---   │\n",
       "│ i64    ┆ u32   │\n",
       "╞════════╪═══════╡\n",
       "│ 3      ┆ 491   │\n",
       "│ 2      ┆ 184   │\n",
       "│ 1      ┆ 216   │\n",
       "└────────┴───────┘"
      ]
     },
     "execution_count": 14,
     "metadata": {},
     "output_type": "execute_result"
    }
   ],
   "source": [
    "(\n",
    "    df\n",
    "    .groupby(\"Pclass\")\n",
    "    .count()\n",
    ")"
   ]
  },
  {
   "cell_type": "markdown",
   "id": "3eefd8e6-234f-4c8b-9844-a9762350a641",
   "metadata": {},
   "source": [
    "We can also calculate aggregations on all columns"
   ]
  },
  {
   "cell_type": "code",
   "execution_count": 15,
   "id": "879730ca-a9d6-4ae4-826c-aae501ef0754",
   "metadata": {
    "tags": []
   },
   "outputs": [
    {
     "data": {
      "text/html": [
       "<div><style>\n",
       ".dataframe > thead > tr > th,\n",
       ".dataframe > tbody > tr > td {\n",
       "  text-align: right;\n",
       "}\n",
       "</style>\n",
       "<small>shape: (3, 12)</small><table border=\"1\" class=\"dataframe\"><thead><tr><th>Pclass</th><th>PassengerId</th><th>Survived</th><th>Name</th><th>Sex</th><th>Age</th><th>SibSp</th><th>Parch</th><th>Ticket</th><th>Fare</th><th>Cabin</th><th>Embarked</th></tr><tr><td>i64</td><td>f64</td><td>f64</td><td>str</td><td>str</td><td>f64</td><td>f64</td><td>f64</td><td>str</td><td>f64</td><td>str</td><td>str</td></tr></thead><tbody><tr><td>1</td><td>461.597222</td><td>0.62963</td><td>null</td><td>null</td><td>38.233441</td><td>0.416667</td><td>0.356481</td><td>null</td><td>84.154687</td><td>null</td><td>null</td></tr><tr><td>3</td><td>439.154786</td><td>0.242363</td><td>null</td><td>null</td><td>25.14062</td><td>0.615071</td><td>0.393075</td><td>null</td><td>13.67555</td><td>null</td><td>null</td></tr><tr><td>2</td><td>445.956522</td><td>0.472826</td><td>null</td><td>null</td><td>29.87763</td><td>0.402174</td><td>0.380435</td><td>null</td><td>20.662183</td><td>null</td><td>null</td></tr></tbody></table></div>"
      ],
      "text/plain": [
       "shape: (3, 12)\n",
       "┌────────┬─────────────┬──────────┬──────┬───┬────────┬───────────┬───────┬──────────┐\n",
       "│ Pclass ┆ PassengerId ┆ Survived ┆ Name ┆ … ┆ Ticket ┆ Fare      ┆ Cabin ┆ Embarked │\n",
       "│ ---    ┆ ---         ┆ ---      ┆ ---  ┆   ┆ ---    ┆ ---       ┆ ---   ┆ ---      │\n",
       "│ i64    ┆ f64         ┆ f64      ┆ str  ┆   ┆ str    ┆ f64       ┆ str   ┆ str      │\n",
       "╞════════╪═════════════╪══════════╪══════╪═══╪════════╪═══════════╪═══════╪══════════╡\n",
       "│ 1      ┆ 461.597222  ┆ 0.62963  ┆ null ┆ … ┆ null   ┆ 84.154687 ┆ null  ┆ null     │\n",
       "│ 3      ┆ 439.154786  ┆ 0.242363 ┆ null ┆ … ┆ null   ┆ 13.67555  ┆ null  ┆ null     │\n",
       "│ 2      ┆ 445.956522  ┆ 0.472826 ┆ null ┆ … ┆ null   ┆ 20.662183 ┆ null  ┆ null     │\n",
       "└────────┴─────────────┴──────────┴──────┴───┴────────┴───────────┴───────┴──────────┘"
      ]
     },
     "execution_count": 15,
     "metadata": {},
     "output_type": "execute_result"
    }
   ],
   "source": [
    "(\n",
    "    df\n",
    "    .groupby(\"Pclass\")\n",
    "    .mean()\n",
    ")"
   ]
  },
  {
   "cell_type": "markdown",
   "id": "e603413b-c992-47f8-b0a9-6c3c120098e6",
   "metadata": {},
   "source": [
    "We use the `agg` method for more flexibility in the next lecture. \n",
    "\n",
    "The methods we can all on `GroupBy` in eager mode are:\n",
    " - `first` get the first element of each group\n",
    " - `last` get the last element of each group\n",
    " - `n_unique` get the number of unique elements in each group\n",
    " - `count` get the number of elements in each group\n",
    " - `sum` sum the elements in each group\n",
    " - `min` get the smallest element in each group\n",
    " - `max` get the largest element in each group\n",
    " - `mean` get the average of elements in each group\n",
    " - `median` get the median in each group\n",
    " - `quantile` calculate quantiles in each group\n",
    " "
   ]
  },
  {
   "cell_type": "markdown",
   "id": "0a5211c8-2519-4605-868b-b179bf18f068",
   "metadata": {},
   "source": [
    "## Groupby on multiple columns\n",
    "\n",
    "We can do `groupby` on multiple columns by passing a list of column names"
   ]
  },
  {
   "cell_type": "code",
   "execution_count": 16,
   "id": "f6554898-09a6-44c0-8eac-bc35b81f8290",
   "metadata": {
    "tags": []
   },
   "outputs": [
    {
     "data": {
      "text/html": [
       "<div><style>\n",
       ".dataframe > thead > tr > th,\n",
       ".dataframe > tbody > tr > td {\n",
       "  text-align: right;\n",
       "}\n",
       "</style>\n",
       "<small>shape: (6, 12)</small><table border=\"1\" class=\"dataframe\"><thead><tr><th>Pclass</th><th>Survived</th><th>PassengerId</th><th>Name</th><th>Sex</th><th>Age</th><th>SibSp</th><th>Parch</th><th>Ticket</th><th>Fare</th><th>Cabin</th><th>Embarked</th></tr><tr><td>i64</td><td>i64</td><td>f64</td><td>str</td><td>str</td><td>f64</td><td>f64</td><td>f64</td><td>str</td><td>f64</td><td>str</td><td>str</td></tr></thead><tbody><tr><td>3</td><td>1</td><td>394.058824</td><td>null</td><td>null</td><td>20.646118</td><td>0.436975</td><td>0.420168</td><td>null</td><td>13.694887</td><td>null</td><td>null</td></tr><tr><td>2</td><td>1</td><td>439.08046</td><td>null</td><td>null</td><td>25.901566</td><td>0.494253</td><td>0.643678</td><td>null</td><td>22.0557</td><td>null</td><td>null</td></tr><tr><td>1</td><td>0</td><td>410.3</td><td>null</td><td>null</td><td>43.695312</td><td>0.2875</td><td>0.3</td><td>null</td><td>64.684008</td><td>null</td><td>null</td></tr><tr><td>1</td><td>1</td><td>491.772059</td><td>null</td><td>null</td><td>35.368197</td><td>0.492647</td><td>0.389706</td><td>null</td><td>95.608029</td><td>null</td><td>null</td></tr><tr><td>2</td><td>0</td><td>452.123711</td><td>null</td><td>null</td><td>33.544444</td><td>0.319588</td><td>0.14433</td><td>null</td><td>19.412328</td><td>null</td><td>null</td></tr><tr><td>3</td><td>0</td><td>453.580645</td><td>null</td><td>null</td><td>26.555556</td><td>0.672043</td><td>0.384409</td><td>null</td><td>13.669364</td><td>null</td><td>null</td></tr></tbody></table></div>"
      ],
      "text/plain": [
       "shape: (6, 12)\n",
       "┌────────┬──────────┬─────────────┬──────┬───┬────────┬───────────┬───────┬──────────┐\n",
       "│ Pclass ┆ Survived ┆ PassengerId ┆ Name ┆ … ┆ Ticket ┆ Fare      ┆ Cabin ┆ Embarked │\n",
       "│ ---    ┆ ---      ┆ ---         ┆ ---  ┆   ┆ ---    ┆ ---       ┆ ---   ┆ ---      │\n",
       "│ i64    ┆ i64      ┆ f64         ┆ str  ┆   ┆ str    ┆ f64       ┆ str   ┆ str      │\n",
       "╞════════╪══════════╪═════════════╪══════╪═══╪════════╪═══════════╪═══════╪══════════╡\n",
       "│ 3      ┆ 1        ┆ 394.058824  ┆ null ┆ … ┆ null   ┆ 13.694887 ┆ null  ┆ null     │\n",
       "│ 2      ┆ 1        ┆ 439.08046   ┆ null ┆ … ┆ null   ┆ 22.0557   ┆ null  ┆ null     │\n",
       "│ 1      ┆ 0        ┆ 410.3       ┆ null ┆ … ┆ null   ┆ 64.684008 ┆ null  ┆ null     │\n",
       "│ 1      ┆ 1        ┆ 491.772059  ┆ null ┆ … ┆ null   ┆ 95.608029 ┆ null  ┆ null     │\n",
       "│ 2      ┆ 0        ┆ 452.123711  ┆ null ┆ … ┆ null   ┆ 19.412328 ┆ null  ┆ null     │\n",
       "│ 3      ┆ 0        ┆ 453.580645  ┆ null ┆ … ┆ null   ┆ 13.669364 ┆ null  ┆ null     │\n",
       "└────────┴──────────┴─────────────┴──────┴───┴────────┴───────────┴───────┴──────────┘"
      ]
     },
     "execution_count": 16,
     "metadata": {},
     "output_type": "execute_result"
    }
   ],
   "source": [
    "(\n",
    "    df\n",
    "    .groupby([\"Pclass\",\"Survived\"])\n",
    "    .mean()\n",
    ")"
   ]
  },
  {
   "cell_type": "markdown",
   "id": "036c21a8-1e34-4bc5-8115-c88c1887ff50",
   "metadata": {},
   "source": [
    "In the following lecture we see how we can also pass expressions to `groupby`"
   ]
  },
  {
   "cell_type": "markdown",
   "id": "fecbbbc0-0d3a-4dcc-a5bb-a7b9a6bb5960",
   "metadata": {},
   "source": [
    "## Groupby on a sorted column\n",
    "In the lecture \"Sorting and Fast-track algorithms\" in the Selecting columns and transforming dataframes section we saw how Polars can use fast-track algorithms on sorted columns - if it knows the column is sorted.\n",
    "\n",
    "A fast-track algorithm can also be used if the groupby column is sorted. See Exercise 3 for an example of this (make sure you have done the Sorting and Fast-track algorithms lecture first)."
   ]
  },
  {
   "cell_type": "markdown",
   "id": "9f303005-de03-42ee-ae91-71e454a2942b",
   "metadata": {},
   "source": [
    "## Exercises\n",
    "In the exercises you will develop your understanding of:\n",
    "- creating a `GroupBy` object\n",
    "- accessing data from the groups\n",
    "- aggregating each group\n",
    "- the effect of the fast-track algorithm on a sorted column\n",
    "\n",
    "### Exercises 1\n",
    "Create a `GroupBy` object by grouping on the `Survived` column"
   ]
  },
  {
   "cell_type": "code",
   "execution_count": 17,
   "id": "640c171b-b364-4c28-a9b6-86d4fcf7a241",
   "metadata": {
    "tags": []
   },
   "outputs": [
    {
     "ename": "SyntaxError",
     "evalue": "invalid syntax (172812692.py, line 4)",
     "output_type": "error",
     "traceback": [
      "\u001b[0;36m  Cell \u001b[0;32mIn[17], line 4\u001b[0;36m\u001b[0m\n\u001b[0;31m    )\u001b[0m\n\u001b[0m    ^\u001b[0m\n\u001b[0;31mSyntaxError\u001b[0m\u001b[0;31m:\u001b[0m invalid syntax\n"
     ]
    }
   ],
   "source": [
    "(\n",
    "    pl.read_csv(csvFile)\n",
    "    <blank>\n",
    ")"
   ]
  },
  {
   "cell_type": "markdown",
   "id": "ae08549f-a4e4-4668-89ac-e22addac8150",
   "metadata": {},
   "source": [
    "Create a `DataFrame` showing the row indexes for each group"
   ]
  },
  {
   "cell_type": "code",
   "execution_count": null,
   "id": "517a9131-bdb4-4d78-9857-6ae6e19c9fe8",
   "metadata": {},
   "outputs": [],
   "source": []
  },
  {
   "cell_type": "markdown",
   "id": "f1d741da-39c6-4c6c-8465-a376a8279e82",
   "metadata": {},
   "source": [
    "Create a `DataFrame` with the *last* three rows from each group. Ensure the order of the `DataFrame` is the same each time you run the code."
   ]
  },
  {
   "cell_type": "code",
   "execution_count": null,
   "id": "80df7f61-a515-434e-b617-14aa194637d4",
   "metadata": {
    "tags": []
   },
   "outputs": [],
   "source": []
  },
  {
   "cell_type": "markdown",
   "id": "044bd07a-f464-4248-9261-0161ee11693f",
   "metadata": {},
   "source": [
    "Get the maximum value for each column in each group"
   ]
  },
  {
   "cell_type": "code",
   "execution_count": null,
   "id": "cdd0f434-c506-4ad1-a82b-1ab910bf1d8b",
   "metadata": {
    "tags": []
   },
   "outputs": [],
   "source": []
  },
  {
   "cell_type": "markdown",
   "id": "8f8091d6-d9dd-4abc-aebc-a61939aad965",
   "metadata": {},
   "source": [
    "### Exercise 2\n",
    "Create a `GroupBy` object by grouping on the `Survived` and `Pclass` columns.\n",
    "\n",
    "Call this object `survivedClassDf`"
   ]
  },
  {
   "cell_type": "code",
   "execution_count": null,
   "id": "faf34a77-b285-4dbf-b9f1-85c54a7ba41f",
   "metadata": {
    "tags": []
   },
   "outputs": [],
   "source": [
    "survivedClassDf = (\n",
    "    pl.read_csv(csvFile)\n",
    "    <blank>\n",
    ")"
   ]
  },
  {
   "cell_type": "markdown",
   "id": "3366123a-9541-4f96-acfb-5d3dc362e10f",
   "metadata": {},
   "source": [
    "Loop over the groups and print the `mean` of each group (the output of `print` will be an ASCII representation)"
   ]
  },
  {
   "cell_type": "code",
   "execution_count": null,
   "id": "283e28a3-0b8a-41a9-98e4-998dc7b8ab66",
   "metadata": {},
   "outputs": [],
   "source": []
  },
  {
   "cell_type": "markdown",
   "id": "36b0f972-1ba4-4f8a-9e82-ffd968cf4972",
   "metadata": {
    "tags": []
   },
   "source": [
    "### Exercise 3\n",
    "We look at the effect of sorting and the fast-track algorithm on a `groupby` operation.\n",
    "\n",
    "We create a `DataFrame` with an `id` column of integers and a `values` column\n",
    "\n",
    "- The `N` variable sets the number of rows in the `DataFrame`\n",
    "- The `cardinality` sets the number of distinct group keys in the `id` column\n",
    "\n",
    "We begin with a low cardinality and see the effect of increasing the cardinality later in the exercise.\n",
    "\n",
    "We pre-sort the `id`s before creating the `DataFrame`"
   ]
  },
  {
   "cell_type": "code",
   "execution_count": null,
   "id": "eb49bd9a-5b67-44df-b7c2-66004ca3ec74",
   "metadata": {},
   "outputs": [],
   "source": [
    "pl.Config.set_tbl_rows(4)\n",
    "import numpy as np\n",
    "np.random.seed(0)\n",
    "N = 10_000_000\n",
    "cardinality = 10\n",
    "# Create a sorted array of id integers\n",
    "sortedArray = np.sort(np.random.randint(0,cardinality,N))\n",
    "df = (\n",
    "    pl.DataFrame(\n",
    "        {\n",
    "            \"id\":[i for i in sortedArray],\n",
    "            \"values\":np.random.standard_normal(N)\n",
    "        }\n",
    "    )\n",
    ")\n",
    "df.head(3)"
   ]
  },
  {
   "cell_type": "markdown",
   "id": "a068052c-7f8f-45f5-bcfe-202f969c3f61",
   "metadata": {},
   "source": [
    "Time how long it takes to groupby the `id` column and take the mean of the `values` column without any fast-track algorithm"
   ]
  },
  {
   "cell_type": "code",
   "execution_count": null,
   "id": "7884d548-df0f-4ba8-9b09-98e187d3054f",
   "metadata": {},
   "outputs": [],
   "source": [
    "%%timeit -n1 -r3\n",
    "(\n",
    "    df\n",
    "    <blank>\n",
    ")"
   ]
  },
  {
   "cell_type": "markdown",
   "id": "8e059807-0c28-4d8c-8767-82d80a842ab1",
   "metadata": {},
   "source": [
    "Create a new `DataFrame` called `dfSorted` where we tell Polars the `id` column is sorted"
   ]
  },
  {
   "cell_type": "code",
   "execution_count": null,
   "id": "64e0d0ef-2674-4c49-b252-d7148de6b798",
   "metadata": {},
   "outputs": [],
   "source": [
    "dfSorted = (\n",
    "    df\n",
    "    <blank>\n",
    ")\n",
    "dfSorted[\"id\"].flags"
   ]
  },
  {
   "cell_type": "markdown",
   "id": "77de1b98-cae7-4e0c-bb0f-6a0cda199a68",
   "metadata": {},
   "source": [
    "Time how long it takes to groupby the `id` column and take the mean of the `values` column **with** a fast-track algorithm"
   ]
  },
  {
   "cell_type": "code",
   "execution_count": null,
   "id": "69107106-3bd3-43a9-bcf3-8d67c7981943",
   "metadata": {},
   "outputs": [],
   "source": [
    "%%timeit -n1 -r3\n",
    "(\n",
    "    dfSorted\n",
    "    <blank>\n",
    ")"
   ]
  },
  {
   "cell_type": "markdown",
   "id": "a505a3bf-1089-4c82-9142-6f67e445e94d",
   "metadata": {},
   "source": [
    "Compare the difference between the sorted and non-sorted algorithms when the cardinality of `id` is higher. Try:\n",
    "- `cardinality = 1_000` and \n",
    "- `cardinality = 1_000_000`\n"
   ]
  },
  {
   "cell_type": "markdown",
   "id": "07f0dcb2-696f-45d0-9522-1eda1c0f3f41",
   "metadata": {},
   "source": [
    "## Solutions\n",
    "\n",
    "### Solutions to Exercise 1\n",
    "Create a `GroupBy` object by grouping on the `Survived` column"
   ]
  },
  {
   "cell_type": "code",
   "execution_count": null,
   "id": "a0b6c2fe-c780-4b83-b373-8db44dc9241e",
   "metadata": {
    "jupyter": {
     "source_hidden": true
    },
    "tags": []
   },
   "outputs": [],
   "source": [
    "(\n",
    "    pl.read_csv(csvFile)\n",
    "    .groupby(\"Survived\")\n",
    ")"
   ]
  },
  {
   "cell_type": "markdown",
   "id": "8f6e45b3-2496-44bd-9706-b6e28f94e110",
   "metadata": {},
   "source": [
    "Create a `DataFrame` showing the row indexes for each group"
   ]
  },
  {
   "cell_type": "code",
   "execution_count": null,
   "id": "358a44f2-b69f-4dc0-8662-b87fad25dadc",
   "metadata": {
    "jupyter": {
     "source_hidden": true
    },
    "tags": []
   },
   "outputs": [],
   "source": [
    "(\n",
    "    pl.read_csv(csvFile)\n",
    "    .groupby(\"Survived\")\n",
    "    .agg(\n",
    "        pl.col(\"PassengerId\").agg_groups()\n",
    "    )\n",
    ")"
   ]
  },
  {
   "cell_type": "markdown",
   "id": "a4209d4d-3775-42e7-8975-c2ce0af4c0d8",
   "metadata": {},
   "source": [
    "Create a `DataFrame` with the *last* three rows from each group. Ensure the order of the `DataFrame` is the same each time you run the code."
   ]
  },
  {
   "cell_type": "code",
   "execution_count": null,
   "id": "9550a13d-7019-42b3-831f-b7464537467c",
   "metadata": {
    "jupyter": {
     "source_hidden": true
    },
    "tags": []
   },
   "outputs": [],
   "source": [
    "(\n",
    "    pl.read_csv(csvFile)\n",
    "    .groupby(\"Survived\",maintain_order=True)\n",
    "    .tail(3)\n",
    ")"
   ]
  },
  {
   "cell_type": "markdown",
   "id": "75e06673-41c3-4caf-ad0c-3df1ed7bc916",
   "metadata": {},
   "source": [
    "Get the maximum value for each column in each group"
   ]
  },
  {
   "cell_type": "code",
   "execution_count": null,
   "id": "b88a7878-381b-4c52-8003-ea2a63f011de",
   "metadata": {
    "jupyter": {
     "source_hidden": true
    },
    "tags": []
   },
   "outputs": [],
   "source": [
    "(\n",
    "    pl.read_csv(csvFile)\n",
    "    .groupby(\"Survived\",maintain_order=True)\n",
    "    .max()\n",
    ")"
   ]
  },
  {
   "cell_type": "markdown",
   "id": "8b91dc06-279d-4cd5-9a82-4a269a08ee1e",
   "metadata": {},
   "source": [
    "### Solutions to Exercise 2\n",
    "Create a `GroupBy` object by grouping on the `Survived` and `Pclass` columns.\n",
    "\n",
    "Call this object `survivedClassDf`"
   ]
  },
  {
   "cell_type": "code",
   "execution_count": null,
   "id": "98f5164d-bc73-4c1e-a21a-613d7e5a0a3d",
   "metadata": {
    "jupyter": {
     "source_hidden": true
    },
    "tags": []
   },
   "outputs": [],
   "source": [
    "survivedClassDf = (\n",
    "    pl.read_csv(csvFile)\n",
    "    .groupby([\"Survived\",\"Pclass\"])\n",
    ")"
   ]
  },
  {
   "cell_type": "markdown",
   "id": "ad0d2333-de73-456f-88c4-6da0fed01064",
   "metadata": {},
   "source": [
    "Loop over the groups and print the `mean` of each group (the output of `print` will be an ASCII representation)"
   ]
  },
  {
   "cell_type": "code",
   "execution_count": null,
   "id": "9ac275b8-469c-43f9-9ddc-eebc8e8ea5d5",
   "metadata": {
    "jupyter": {
     "source_hidden": true
    },
    "tags": []
   },
   "outputs": [],
   "source": [
    "survivedClassDf = (\n",
    "    pl.read_csv(csvFile)\n",
    "    .groupby([\"Survived\",\"Pclass\"])\n",
    ")\n",
    "for groupKey,groupDf in survivedClassDf:\n",
    "    print(groupDf.mean())"
   ]
  },
  {
   "cell_type": "markdown",
   "id": "fe4ebf71-c509-430c-9f31-5b2bcedbb4dd",
   "metadata": {},
   "source": [
    "### Solution to exercise 3\n",
    "We look at the effect of sorting on a `groupby` operation.\n",
    "\n",
    "We create a `DataFrame` with an `id` column of integers and a `values` column\n",
    "\n",
    "- The `N` variable sets the number of rows in the `DataFrame`\n",
    "- The `cardinality` sets the number of distinct `id`s\n",
    "\n",
    "We pre-sort the `id`s before creating the `DataFrame`"
   ]
  },
  {
   "cell_type": "code",
   "execution_count": null,
   "id": "74c621b6-eecf-4e97-aaa8-34f453f54155",
   "metadata": {},
   "outputs": [],
   "source": [
    "pl.Config.set_tbl_rows(4)\n",
    "import numpy as np\n",
    "np.random.seed(0)\n",
    "N = 10_000_000\n",
    "cardinality = 1_000_000\n",
    "# Create a sorted array of id integers\n",
    "sortedArray = np.sort(np.random.randint(0,cardinality,N))\n",
    "df = (\n",
    "    pl.DataFrame(\n",
    "        {\n",
    "            \"id\":[i for i in sortedArray],\n",
    "            \"values\":np.random.standard_normal(N)\n",
    "        }\n",
    "    )\n",
    ")\n",
    "df.head(3)"
   ]
  },
  {
   "cell_type": "markdown",
   "id": "df3cf474-1379-4384-8e1b-43ab29699e01",
   "metadata": {},
   "source": [
    "Time how long it takes to groupby the `id` column and take the mean of the `values` column without any fast-track algorithm"
   ]
  },
  {
   "cell_type": "code",
   "execution_count": null,
   "id": "7b1621b9-21b8-48f6-ac81-b7316a271a5a",
   "metadata": {
    "jupyter": {
     "source_hidden": true
    },
    "tags": []
   },
   "outputs": [],
   "source": [
    "%%timeit -n1 -r3\n",
    "(\n",
    "    df\n",
    "    .groupby(\"id\")\n",
    "    .agg(\n",
    "        pl.col(\"values\").mean()\n",
    "    )\n",
    ")"
   ]
  },
  {
   "cell_type": "markdown",
   "id": "624da374-f00d-4232-a411-d4c3688972fb",
   "metadata": {},
   "source": [
    "Create a new `DataFrame` called `dfSorted` where we tell Polars the `id` column is sorted"
   ]
  },
  {
   "cell_type": "code",
   "execution_count": null,
   "id": "c5e8526a-dddc-4ec0-90ee-36ff5ec61908",
   "metadata": {
    "jupyter": {
     "source_hidden": true
    },
    "tags": []
   },
   "outputs": [],
   "source": [
    "dfSorted = (\n",
    "    df\n",
    "    .with_columns(\n",
    "        pl.col(\"id\").set_sorted()\n",
    "    )\n",
    ")\n",
    "dfSorted[\"id\"].flags"
   ]
  },
  {
   "cell_type": "markdown",
   "id": "5cb6c14e-bfbe-403d-b7a5-3baaa8c8180f",
   "metadata": {},
   "source": [
    "Time how long it takes to groupby the `id` column and take the mean of the `values` column **with** a fast-track algorithm"
   ]
  },
  {
   "cell_type": "code",
   "execution_count": null,
   "id": "f41c27c4-4bf7-4d2b-a6dc-d10caac38643",
   "metadata": {
    "jupyter": {
     "source_hidden": true
    },
    "tags": []
   },
   "outputs": [],
   "source": [
    "%%timeit -n1 -r3\n",
    "(\n",
    "    dfSorted\n",
    "    .groupby(\"id\")\n",
    "    .agg(\n",
    "        pl.col(\"values\").mean()\n",
    "    )\n",
    ")"
   ]
  },
  {
   "cell_type": "markdown",
   "id": "9f6f182d-da37-460d-b2a6-2e32c7403a77",
   "metadata": {},
   "source": [
    "Compare the difference in timings between the standard and fast-track algorithm when the cardinality of `id` is higher\n",
    "\n",
    "\n",
    "The difference is much smaller (and possibly negative) when the cardinality of `id` is high"
   ]
  },
  {
   "cell_type": "code",
   "execution_count": null,
   "id": "b0399b89-4c8a-490d-992b-aa7c33815601",
   "metadata": {},
   "outputs": [],
   "source": []
  }
 ],
 "metadata": {
  "kernelspec": {
   "display_name": "Python 3 (ipykernel)",
   "language": "python",
   "name": "python3"
  },
  "language_info": {
   "codemirror_mode": {
    "name": "ipython",
    "version": 3
   },
   "file_extension": ".py",
   "mimetype": "text/x-python",
   "name": "python",
   "nbconvert_exporter": "python",
   "pygments_lexer": "ipython3",
   "version": "3.10.9"
  }
 },
 "nbformat": 4,
 "nbformat_minor": 5
}
