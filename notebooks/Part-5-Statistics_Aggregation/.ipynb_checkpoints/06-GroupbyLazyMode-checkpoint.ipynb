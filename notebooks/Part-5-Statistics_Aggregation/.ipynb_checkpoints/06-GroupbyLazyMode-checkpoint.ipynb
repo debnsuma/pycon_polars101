{
 "cells": [
  {
   "cell_type": "markdown",
   "id": "39b45952-0b60-4a8a-8b8d-a26e055d3941",
   "metadata": {},
   "source": [
    "# Groupby 4: The `LazyGroupBy` object\n",
    "By the end of this lecture you will be able to:\n",
    "- do `groupby` in lazy mode\n",
    "- do aggregations on a `LazyGroupBy`\n",
    "- inspect the optimized query plan\n",
    "- profile a query\n"
   ]
  },
  {
   "cell_type": "code",
   "execution_count": null,
   "id": "b9a16d53-de6f-4030-a73b-2b54f08c4c3d",
   "metadata": {
    "tags": []
   },
   "outputs": [],
   "source": [
    "import polars as pl"
   ]
  },
  {
   "cell_type": "code",
   "execution_count": null,
   "id": "b9b7540e-8990-4e72-b1b3-b4d1f9555d74",
   "metadata": {
    "tags": []
   },
   "outputs": [],
   "source": [
    "csvFile = \"../data/titanic.csv\""
   ]
  },
  {
   "cell_type": "markdown",
   "id": "79f4b448-9a8c-4e68-9805-55ddc6e71276",
   "metadata": {},
   "source": [
    "## Creating a `LazyGroupBy` object"
   ]
  },
  {
   "cell_type": "markdown",
   "id": "9130c8bd-eca3-49c0-9b9c-b42f433da2e5",
   "metadata": {},
   "source": [
    "We create a `LazyGroupBy` object by calling `groupby` on a `LazyFrame`"
   ]
  },
  {
   "cell_type": "code",
   "execution_count": null,
   "id": "bd09af3b-142b-437d-b174-c749b7085ab4",
   "metadata": {
    "tags": []
   },
   "outputs": [],
   "source": [
    "(\n",
    "    pl.scan_csv(csvFile)\n",
    "    .groupby('Pclass')\n",
    ")"
   ]
  },
  {
   "cell_type": "markdown",
   "id": "504c828f-32e3-4345-8f24-2bbebaa2b5e7",
   "metadata": {},
   "source": [
    "## Aggregations\n",
    "The only way to do aggregations on a `LazyGroupBy` is with `agg`. We cannot call, for example, `.mean` on `.groubpy` as we can with an eager groupby. \n",
    "\n",
    "Calling `agg` converts a `LazyGroupBy` to a `LazyFrame`"
   ]
  },
  {
   "cell_type": "code",
   "execution_count": null,
   "id": "7a9bba00-5047-424c-b8c2-89bc07d47af3",
   "metadata": {
    "tags": []
   },
   "outputs": [],
   "source": [
    "(\n",
    "    pl.scan_csv(csvFile)\n",
    "    .groupby('Pclass')\n",
    "    .agg(\n",
    "        pl.col(\"Age\").mean()\n",
    "    )\n",
    ")"
   ]
  },
  {
   "cell_type": "markdown",
   "id": "d60c6c65-3de6-4b0c-8f3c-7cb5043efcb9",
   "metadata": {},
   "source": [
    "### Query optimizations\n",
    "We print the optimized plan for this groupby query"
   ]
  },
  {
   "cell_type": "code",
   "execution_count": null,
   "id": "2c8ee26b-7250-4d32-86e9-e2c3a9ff543d",
   "metadata": {
    "tags": []
   },
   "outputs": [],
   "source": [
    "print(\n",
    "    pl.scan_csv(csvFile)\n",
    "    .groupby('Pclass')\n",
    "    .agg(\n",
    "        pl.col(\"Age\").mean()\n",
    "    )\n",
    "    .explain()\n",
    ")"
   ]
  },
  {
   "cell_type": "markdown",
   "id": "c5d3015d-2e71-42ad-8ff2-7eedbd7522db",
   "metadata": {},
   "source": [
    "In the optimized plan we have:\n",
    "- `PROJECT 2/12 COLUMNS` so Polars will only read the `Pclass` and `Age` columns from the CSV\n",
    "- `Aggregate [col(\"Age\").mean()] BY [col(\"Pclass\")]` so Polars will group by the `Pclass` column and take the `mean` of the `Age` column\n",
    "\n",
    "As with any lazy query we can evaluate this either all-at-once or in batches using streaming. To evaluate all-at-once call `collect` and to evaluate with streaming call `collect(streaming=True)"
   ]
  },
  {
   "cell_type": "code",
   "execution_count": null,
   "id": "aff22114-510e-4234-b350-c6b4193b0e86",
   "metadata": {},
   "outputs": [],
   "source": [
    "(\n",
    "    pl.scan_csv(csvFile)\n",
    "    .groupby('Pclass')\n",
    "    .agg(\n",
    "        pl.col(\"Age\").mean()\n",
    "    )\n",
    "    .collect(streaming=True)\n",
    ")"
   ]
  },
  {
   "cell_type": "markdown",
   "id": "f1f39ac7-ae9e-4918-82f5-258192aefe0c",
   "metadata": {},
   "source": [
    "Note - in tests on my datasets I often find that setting `streaming=True` is 10-20% faster even when streaming is not strictly required so it may be worth testing this on your data."
   ]
  },
  {
   "cell_type": "markdown",
   "id": "d4b672dc-f69f-4e27-939a-92837c4279f1",
   "metadata": {},
   "source": [
    "## Profiling a lazy query\n",
    "For any lazy query Polars can profile the query showing how long each part of the query takes.\n",
    "\n",
    "We demonstrate this in the context of a lazy groupby.\n",
    "\n",
    "The output of `profile` is a 2-element tuple. The first element of the tuple is the output of the query - the same output as we get from `collect` "
   ]
  },
  {
   "cell_type": "code",
   "execution_count": null,
   "id": "f895b7ed-23ed-4a9a-9eed-0ac0755959d3",
   "metadata": {},
   "outputs": [],
   "source": [
    "groupedDf,profileDf = (\n",
    "    pl.scan_csv(csvFile)\n",
    "    .groupby('Pclass')\n",
    "    .agg(\n",
    "        pl.col(\"Age\").mean()\n",
    "    )\n",
    "    .profile()\n",
    ")\n",
    "groupedDf"
   ]
  },
  {
   "cell_type": "markdown",
   "id": "5d114b7c-5390-45cf-b3ec-e9bf41a8458f",
   "metadata": {},
   "source": [
    "The second element is a `DataFrame` with timings in microseconds for the start and end of each node in the optimised query plan"
   ]
  },
  {
   "cell_type": "code",
   "execution_count": null,
   "id": "4813f158-74e5-4c2c-aeec-5490e4cc4b58",
   "metadata": {},
   "outputs": [],
   "source": [
    "profileDf"
   ]
  },
  {
   "cell_type": "markdown",
   "id": "be66de57-934a-4f5d-9351-de2097cf637f",
   "metadata": {},
   "source": [
    "Polars can also generate a Gantt chart for the timings. For this you need to have Matplotlib installed "
   ]
  },
  {
   "cell_type": "code",
   "execution_count": null,
   "id": "1a296e26-b5f4-46b3-b6ee-b7869296d415",
   "metadata": {},
   "outputs": [],
   "source": [
    "(\n",
    "    pl.scan_csv(csvFile)\n",
    "    .groupby('Pclass')\n",
    "    .agg(\n",
    "        pl.col(\"Age\").mean()\n",
    "    )\n",
    "    .sort(\"Pclass\")\n",
    "    .profile(show_plot=True,figsize=(6,3))\n",
    ")\n"
   ]
  },
  {
   "cell_type": "markdown",
   "id": "a6e7d70e-d68b-4b65-bdfe-d69680e551e9",
   "metadata": {},
   "source": [
    "In the chart we see that the time required for:\n",
    "- optimization of the query is relatively small\n",
    "- doing the groupby aggregation (in PIPELINE) is the largest component and\n",
    "- the sort at the end takes a non negligible amount of time (about 10% of the total)\n",
    "\n",
    "## Exercises\n",
    "In the exercises you will develop your understanding of:\n",
    "- creating a `LazyGroupBy`\n",
    "- doing an aggregation on a `LazyGroupBy`\n",
    "- interpreting optimized query plans\n",
    "- profiling a query\n",
    "\n",
    "## Exercise 1\n",
    "Create a `LazyGroupBy` on the `Survived` and `Plcass` columns in a query that starts with scanning the CSV"
   ]
  },
  {
   "cell_type": "code",
   "execution_count": null,
   "id": "2dfd1f29-e27c-4fe0-a9b0-68e381e0d538",
   "metadata": {
    "tags": []
   },
   "outputs": [],
   "source": []
  },
  {
   "cell_type": "markdown",
   "id": "55459cc5-a445-42b8-a05e-235bca324e14",
   "metadata": {},
   "source": [
    "Aggregate the data by getting the minimum, average and maximum age per group"
   ]
  },
  {
   "cell_type": "code",
   "execution_count": null,
   "id": "401106b0-b375-4798-86ae-48b2467077bb",
   "metadata": {
    "tags": []
   },
   "outputs": [],
   "source": []
  },
  {
   "cell_type": "markdown",
   "id": "51e9232e-a8b7-4af1-acc6-e237c7721a90",
   "metadata": {},
   "source": [
    "Evaluate the query"
   ]
  },
  {
   "cell_type": "code",
   "execution_count": null,
   "id": "b4d83213-de06-49d8-a688-2da15b67e5c2",
   "metadata": {
    "tags": []
   },
   "outputs": [],
   "source": []
  },
  {
   "cell_type": "markdown",
   "id": "2ccacd4b-e005-4db5-b571-e5ae2796f590",
   "metadata": {},
   "source": [
    "Evaluate the query and produce a profile plot"
   ]
  },
  {
   "cell_type": "code",
   "execution_count": null,
   "id": "f1e5beb8-40c6-4bfc-9ad1-83f7015e9941",
   "metadata": {},
   "outputs": [],
   "source": []
  },
  {
   "cell_type": "markdown",
   "id": "9c91c3a1-0e75-4993-a3ce-1ce8e7121d65",
   "metadata": {},
   "source": [
    "## Exercise 2\n",
    "Create the query that has the following optimized plan:\n",
    "\n",
    "```\n",
    "  SORT BY [col(\"Decade\")]\n",
    "Aggregate\n",
    "\t[col(\"Fare\").mean()] BY [[(col(\"Age\")) / (10f64)].round().strict_cast(Int64).alias(\"Decade\")] FROM   CSV SCAN ../data/titanic.csv\n",
    "  PROJECT 2/12 COLUMNS\n",
    "  SELECTION: Some(col(\"Age\").is_not_null())\n",
    "```"
   ]
  },
  {
   "cell_type": "code",
   "execution_count": null,
   "id": "d6e8cd04-5585-45fd-a490-8e9c981aa34a",
   "metadata": {
    "tags": []
   },
   "outputs": [],
   "source": [
    "print(\n",
    "    <blank>\n",
    "    .explain()\n",
    ")"
   ]
  },
  {
   "cell_type": "markdown",
   "id": "555e89e5-e4b9-46db-bad1-136fcc10fa72",
   "metadata": {},
   "source": [
    "## Solutions\n",
    "\n",
    "## Solution to Exercise 1\n",
    "Create a `LazyGroupBy` on the `Survived` and `Plcass` columns in a query that starts with scanning the CSV"
   ]
  },
  {
   "cell_type": "code",
   "execution_count": null,
   "id": "3e97aebd-8541-43fc-90b8-3027caea5934",
   "metadata": {
    "jupyter": {
     "source_hidden": true
    },
    "tags": []
   },
   "outputs": [],
   "source": [
    "(\n",
    "    pl.scan_csv(csvFile)\n",
    "    .groupby([\"Survived\",\"Pclass\"])\n",
    ")"
   ]
  },
  {
   "cell_type": "markdown",
   "id": "f064c4d3-35ba-4a78-924b-3ac7fede351c",
   "metadata": {},
   "source": [
    "Exercise 1 cont: Aggregate the data by getting the minimum, average and maximum age per group"
   ]
  },
  {
   "cell_type": "code",
   "execution_count": null,
   "id": "6dc5b6a2-c7fe-4fbe-b6d9-583d4435c316",
   "metadata": {
    "jupyter": {
     "source_hidden": true
    },
    "tags": []
   },
   "outputs": [],
   "source": [
    "(\n",
    "    pl.scan_csv(csvFile)\n",
    "    .groupby([\"Survived\",\"Pclass\"])\n",
    "    .agg(\n",
    "        [\n",
    "            pl.col(\"Age\").min().suffix(\"_min\"),\n",
    "            pl.col(\"Age\").mean().suffix(\"_mean\"),\n",
    "            pl.col(\"Age\").max().suffix(\"_max\"),\n",
    "        ]\n",
    "    )\n",
    ")"
   ]
  },
  {
   "cell_type": "markdown",
   "id": "c5b05777-5b3d-4b53-865f-4b1a0c6920c9",
   "metadata": {},
   "source": [
    "Exercise 1 cont: Evaluate the query"
   ]
  },
  {
   "cell_type": "code",
   "execution_count": null,
   "id": "80303948-bc1c-4d8c-b8ae-b191e06788d9",
   "metadata": {
    "jupyter": {
     "source_hidden": true
    },
    "tags": []
   },
   "outputs": [],
   "source": [
    "(\n",
    "    pl.scan_csv(csvFile)\n",
    "    .groupby([\"Survived\",\"Pclass\"])\n",
    "    .agg(\n",
    "        [\n",
    "            pl.col(\"Age\").min().suffix(\"_min\"),\n",
    "            pl.col(\"Age\").mean().suffix(\"_mean\"),\n",
    "            pl.col(\"Age\").max().suffix(\"_max\"),\n",
    "        ]\n",
    "    )\n",
    "    .collect()\n",
    ")"
   ]
  },
  {
   "cell_type": "markdown",
   "id": "1448bc23-7245-44ea-9c1e-9ad5ed559c8a",
   "metadata": {},
   "source": [
    "Exercise 1 cont: Evaluate the query and produce a profile plot"
   ]
  },
  {
   "cell_type": "code",
   "execution_count": null,
   "id": "f68524b3-b096-4578-b86c-21d9d8b60931",
   "metadata": {
    "jupyter": {
     "source_hidden": true
    },
    "tags": []
   },
   "outputs": [],
   "source": [
    "(\n",
    "    pl.scan_csv(csvFile)\n",
    "    .groupby([\"Survived\",\"Pclass\"])\n",
    "    .agg(\n",
    "        [\n",
    "            pl.col(\"Age\").min().suffix(\"_min\"),\n",
    "            pl.col(\"Age\").mean().suffix(\"_mean\"),\n",
    "            pl.col(\"Age\").max().suffix(\"_max\"),\n",
    "        ]\n",
    "    )\n",
    "    .profile(show_plot=True)\n",
    ")"
   ]
  },
  {
   "cell_type": "markdown",
   "id": "0091a0ec-3b2c-45a8-9bfa-a9ee97256e88",
   "metadata": {},
   "source": [
    "## Solution to Exercise 2\n",
    "Create the query with the optimized plan\n",
    "\n",
    "```\n",
    "  SORT BY [col(\"Decade\")]\n",
    "Aggregate\n",
    "\t[col(\"Fare\").mean()] BY [[(col(\"Age\")) / (10f64)].round().strict_cast(Int64).alias(\"Decade\")] FROM   CSV SCAN ../data/titanic.csv\n",
    "  PROJECT 2/12 COLUMNS\n",
    "  SELECTION: Some(col(\"Age\").is_not_null())\n",
    "```"
   ]
  },
  {
   "cell_type": "code",
   "execution_count": null,
   "id": "e374901d-4c27-40b3-8f31-ea0a2ad13f15",
   "metadata": {
    "jupyter": {
     "source_hidden": true
    },
    "tags": []
   },
   "outputs": [],
   "source": [
    "print(\n",
    "    pl.scan_csv(csvFile)\n",
    "    .filter(pl.col(\"Age\").is_not_null())\n",
    "    .groupby(\n",
    "        (pl.col(\"Age\")/10).round(0).cast(pl.Int64).alias(\"Decade\")\n",
    "    )\n",
    "    .agg(\n",
    "        pl.col(\"Fare\").mean()\n",
    "    )\n",
    "    .sort(\"Decade\",descending=True)\n",
    "    # .collect()\n",
    "    .explain()\n",
    ")"
   ]
  }
 ],
 "metadata": {
  "kernelspec": {
   "display_name": "Python 3 (ipykernel)",
   "language": "python",
   "name": "python3"
  },
  "language_info": {
   "codemirror_mode": {
    "name": "ipython",
    "version": 3
   },
   "file_extension": ".py",
   "mimetype": "text/x-python",
   "name": "python",
   "nbconvert_exporter": "python",
   "pygments_lexer": "ipython3",
   "version": "3.10.9"
  }
 },
 "nbformat": 4,
 "nbformat_minor": 5
}
