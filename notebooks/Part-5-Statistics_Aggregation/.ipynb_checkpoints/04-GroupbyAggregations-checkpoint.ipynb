{
 "cells": [
  {
   "cell_type": "markdown",
   "id": "7ab313ba-6253-4d32-a2e4-5b5558b16c91",
   "metadata": {},
   "source": [
    "# Groupby 2: Aggregation and expressions\n",
    "By the end of this section you will be able to:\n",
    "- do an aggregation with `agg`\n",
    "- sort the output of an aggregation\n",
    "- transform a column before doing `groupby`\n",
    "- filter an aggregation"
   ]
  },
  {
   "cell_type": "code",
   "execution_count": null,
   "id": "b5e894f2-657c-4b47-b6f5-b4da9a50fbd7",
   "metadata": {
    "tags": []
   },
   "outputs": [],
   "source": [
    "import polars as pl"
   ]
  },
  {
   "cell_type": "code",
   "execution_count": null,
   "id": "995173a7-de94-4202-9b79-ca1bc501d690",
   "metadata": {
    "tags": []
   },
   "outputs": [],
   "source": [
    "csvFile = '../data/titanic.csv'"
   ]
  },
  {
   "cell_type": "code",
   "execution_count": null,
   "id": "a7e71fc9-e440-4908-a1d3-ab76c7a6eaeb",
   "metadata": {
    "tags": []
   },
   "outputs": [],
   "source": [
    "df = pl.read_csv(csvFile)\n",
    "df.head(3)"
   ]
  },
  {
   "cell_type": "markdown",
   "id": "0445e58a-13f0-4a55-baad-917ab896ab14",
   "metadata": {},
   "source": [
    "## Aggregate a single column\n",
    "\n",
    "We aggregate a single column by calling `agg` after `groupby`"
   ]
  },
  {
   "cell_type": "code",
   "execution_count": null,
   "id": "1dcb2ccf-4bdf-4575-bc5a-eb739653e6b2",
   "metadata": {
    "tags": []
   },
   "outputs": [],
   "source": [
    "(\n",
    "    df\n",
    "    .groupby('Pclass')\n",
    "    .agg(\n",
    "        pl.col('Age').mean()\n",
    "    )\n",
    ")"
   ]
  },
  {
   "cell_type": "markdown",
   "id": "512ed574-274e-4600-af92-7ed304ee2be1",
   "metadata": {},
   "source": [
    "We must use expressions inside `agg`.\n",
    "\n",
    "We can sort the output `DataFrame` to order by group key or aggregation columns"
   ]
  },
  {
   "cell_type": "code",
   "execution_count": null,
   "id": "adf09ad1-feb4-4ba6-bc34-031f8e22fb2f",
   "metadata": {
    "tags": []
   },
   "outputs": [],
   "source": [
    "(\n",
    "    df\n",
    "    .groupby('Pclass')\n",
    "    .agg(\n",
    "        pl.col('Age').mean()\n",
    "    )\n",
    "    .sort('Pclass')\n",
    ")"
   ]
  },
  {
   "cell_type": "markdown",
   "id": "74db092f-f058-451e-a674-a3e7bb64081a",
   "metadata": {},
   "source": [
    "## Groupby on an expression\n",
    "We can use expressions inside the `groupby` method to transform the column before grouping."
   ]
  },
  {
   "cell_type": "markdown",
   "id": "bcf2b4be-5144-40a6-9146-1767c9f57665",
   "metadata": {},
   "source": [
    "We want to group by `Age` in decades instead of individual years. \n",
    "\n",
    "To do this we must:\n",
    "- convert the `Age` column from years to decades\n",
    "- cast the output to integer\n",
    "- group by the decades"
   ]
  },
  {
   "cell_type": "code",
   "execution_count": null,
   "id": "be16f0fe-915e-470b-abc7-e7c13aefc82b",
   "metadata": {
    "tags": []
   },
   "outputs": [],
   "source": [
    "(\n",
    "    pl.read_csv(csvFile)\n",
    "    .groupby(\n",
    "        (pl.col(\"Age\")/10).round(0).cast(pl.Int64).alias(\"Decade\")\n",
    "    )\n",
    "    .agg(\n",
    "        pl.col(\"Fare\").mean()\n",
    "    )\n",
    "    .sort(\"Decade\",descending=True)   \n",
    ")"
   ]
  },
  {
   "cell_type": "markdown",
   "id": "38ee2b91-ab54-4e6a-aed7-0730d96117a9",
   "metadata": {},
   "source": [
    "## Apply a filter on an aggregation\n",
    "\n",
    "We may want to filter the results after doing the aggregation so that only some of the aggregates appear in the output.\n",
    "\n",
    "> In SQL this is done using a `HAVING` statement\n",
    "\n",
    "We do this in Polars with an additonal `filter` after calling `agg`.\n",
    "\n",
    "In this example we get the average fare by passenger class but only if the average fare is greater than £20"
   ]
  },
  {
   "cell_type": "code",
   "execution_count": null,
   "id": "fe522066-6cba-476c-833b-71f131d86bce",
   "metadata": {
    "tags": []
   },
   "outputs": [],
   "source": [
    "(\n",
    "    pl.read_csv(csvFile)\n",
    "    .groupby(\"Pclass\")\n",
    "    .agg(\n",
    "        pl.col(\"Fare\").mean()\n",
    "    )\n",
    "    .filter(\n",
    "        pl.col(\"Fare\") > 20\n",
    "    )\n",
    "    .sort(\"Fare\")\n",
    ")"
   ]
  },
  {
   "cell_type": "markdown",
   "id": "9558b1b7-b375-4788-855f-7176267d54b8",
   "metadata": {},
   "source": [
    "## Exercises\n",
    "\n",
    "In the exercises you will develop your understanding of\n",
    "- doing `groupby` on a column\n",
    "- using an expression in a `groupby`\n",
    "- doing `groupby` on multiple columns\n",
    "- applying a `filter` on an aggregation\n",
    "\n",
    "### Exercise 1: Group by a single column\n",
    "Get the average fare by `Age` "
   ]
  },
  {
   "cell_type": "code",
   "execution_count": null,
   "id": "8e4c7852-76f0-4fc6-8378-9ae4b259e7c5",
   "metadata": {
    "tags": []
   },
   "outputs": [],
   "source": [
    "(\n",
    "    pl.read_csv(csvFile)\n",
    "    .<blank>\n",
    ")"
   ]
  },
  {
   "cell_type": "markdown",
   "id": "2a1e013b-5658-432b-9f9c-f43bcb62993e",
   "metadata": {},
   "source": [
    "Round the `Age` column to the nearest year before doing the groupby. Sort the output by age."
   ]
  },
  {
   "cell_type": "code",
   "execution_count": null,
   "id": "b8653df4-a2c0-4916-8455-c3153bd7332a",
   "metadata": {
    "tags": []
   },
   "outputs": [],
   "source": []
  },
  {
   "cell_type": "markdown",
   "id": "6b1ba470-c2d0-43ec-9b16-e209eafc77a8",
   "metadata": {},
   "source": [
    "Continuing from the previous cell, output the rows where the average fare is greater than 30"
   ]
  },
  {
   "cell_type": "code",
   "execution_count": null,
   "id": "4c99ff61-a0a0-40d5-8b6f-e092c37f4001",
   "metadata": {
    "tags": []
   },
   "outputs": [],
   "source": []
  },
  {
   "cell_type": "code",
   "execution_count": null,
   "id": "5c0a6c7c-105a-49ff-ac86-3098a285141e",
   "metadata": {},
   "outputs": [],
   "source": []
  },
  {
   "cell_type": "markdown",
   "id": "519a87a4-3b95-43da-b55d-f317c204daa8",
   "metadata": {},
   "source": [
    "### Exercise 2: Group by multiple columns\n",
    "\n",
    "Group by the `Pclass` and `Survived` columns. Count the number of passengers in each group in a column called `counts`"
   ]
  },
  {
   "cell_type": "code",
   "execution_count": null,
   "id": "60e03b96-c6d8-4474-a660-32562fa278e3",
   "metadata": {
    "tags": []
   },
   "outputs": [],
   "source": [
    "(\n",
    "    pl.read_csv(csvFile)\n",
    "    <blank>\n",
    ")"
   ]
  },
  {
   "cell_type": "markdown",
   "id": "093b4a46-48b2-4498-9732-86347a4fda4f",
   "metadata": {},
   "source": [
    "Add a column with the percentage of the total passengers in each group. Do this by diving the values in `counts` by the sum of the values in `counts`.  Round the percentages to 2 significant figures."
   ]
  },
  {
   "cell_type": "code",
   "execution_count": null,
   "id": "ea7eeee8-ac24-4295-b923-5ecb42c67c0d",
   "metadata": {
    "tags": []
   },
   "outputs": [],
   "source": [
    "# Continue with your code from the previous section using `with_column` after `agg`\n"
   ]
  },
  {
   "cell_type": "markdown",
   "id": "fa373390-9134-4dbd-9788-441945ff462e",
   "metadata": {},
   "source": [
    "## Solutions\n",
    "\n",
    "### Solution to Exercise 1\n",
    "Get the average fare by `Age` "
   ]
  },
  {
   "cell_type": "code",
   "execution_count": null,
   "id": "de2f6f6d-0cfd-40c2-89cd-46a0671f772e",
   "metadata": {
    "jupyter": {
     "source_hidden": true
    },
    "tags": []
   },
   "outputs": [],
   "source": [
    "(\n",
    "    pl.read_csv(csvFile)\n",
    "    .groupby('Age')\n",
    "    .agg(\n",
    "        pl.col(\"Fare\").mean()\n",
    "    ).head(2)\n",
    ")"
   ]
  },
  {
   "cell_type": "markdown",
   "id": "c2b0514b-a907-4df2-9869-9fefd337be28",
   "metadata": {},
   "source": [
    "Round the `Age` column to the nearest year before doing the groupby. Sort the output by age."
   ]
  },
  {
   "cell_type": "code",
   "execution_count": null,
   "id": "af022f63-6100-44ec-952d-2c3f9dbff679",
   "metadata": {
    "jupyter": {
     "source_hidden": true
    },
    "tags": []
   },
   "outputs": [],
   "source": [
    "(\n",
    "    pl.read_csv(csvFile)\n",
    "    .groupby(\n",
    "        pl.col('Age').round(0)\n",
    "    )\n",
    "    .agg(\n",
    "        pl.col(\"Fare\").mean()\n",
    "    )\n",
    "    .sort('Age')\n",
    ")"
   ]
  },
  {
   "cell_type": "markdown",
   "id": "2f6f52b1-45e8-4224-8118-9d0e4bbafd1f",
   "metadata": {},
   "source": [
    "Continuing from the previous cell, output the rows where the average fare is greater than 30"
   ]
  },
  {
   "cell_type": "code",
   "execution_count": null,
   "id": "14d6e5e9-5f00-4d32-8196-9954ae72919d",
   "metadata": {
    "jupyter": {
     "source_hidden": true
    },
    "tags": []
   },
   "outputs": [],
   "source": [
    "(\n",
    "    pl.read_csv(csvFile)\n",
    "    .groupby(\n",
    "        pl.col('Age').round(0)\n",
    "    )\n",
    "    .agg(\n",
    "        pl.col(\"Fare\").mean()\n",
    "    )\n",
    "    .sort(\"Age\")\n",
    "    .filter(pl.col(\"Fare\") > 30)\n",
    "    .head()\n",
    ")"
   ]
  },
  {
   "cell_type": "markdown",
   "id": "555c8a35-b485-421d-8353-a7a291cdfa0f",
   "metadata": {},
   "source": [
    "### Solution to Exercise 2: group by multiple columns "
   ]
  },
  {
   "cell_type": "markdown",
   "id": "436d6a64-f4fc-473f-994c-536c0b1508c5",
   "metadata": {},
   "source": [
    "Group by the `Pclass` and `Survived` columns. Count the number of passengers in each group in a column called `counts`"
   ]
  },
  {
   "cell_type": "code",
   "execution_count": null,
   "id": "bbbe5576-754e-49e7-afdb-b6cffe017434",
   "metadata": {
    "jupyter": {
     "source_hidden": true
    },
    "tags": []
   },
   "outputs": [],
   "source": [
    "(\n",
    "    pl.read_csv(csvFile)\n",
    "    .groupby(\n",
    "        [\"Pclass\",\"Survived\"]\n",
    "    )\n",
    "    .agg(\n",
    "        pl.col(\"Name\").count().alias(\"counts\")\n",
    "    )    \n",
    ")"
   ]
  },
  {
   "cell_type": "markdown",
   "id": "39713ec6-7649-4b07-8177-aa8b36bd10a8",
   "metadata": {},
   "source": [
    "Add a column with the percentage of the total passengers in each group. Do this by diving the values in `counts` by the sum of the values in `counts`.  Round the percentages to 2 significant figures."
   ]
  },
  {
   "cell_type": "code",
   "execution_count": null,
   "id": "d75c16ca-a90f-4908-a1e1-1b32fe2376c0",
   "metadata": {
    "jupyter": {
     "source_hidden": true
    },
    "tags": []
   },
   "outputs": [],
   "source": [
    "# Continue with your code from the previous section using `with_column` after `agg`\n",
    "(\n",
    "    pl.read_csv(csvFile)\n",
    "    .groupby(\n",
    "        [\"Pclass\",\"Survived\"]\n",
    "    )\n",
    "    .agg(\n",
    "        pl.col(\"Name\").count().alias(\"counts\")\n",
    "    )\n",
    "    .with_columns(\n",
    "        (100*(\n",
    "            pl.col(\"counts\")/pl.col(\"counts\").sum()\n",
    "        ).round(2)).alias(\"percent\")\n",
    "    )\n",
    "    \n",
    ")"
   ]
  },
  {
   "cell_type": "code",
   "execution_count": null,
   "id": "2e78d261-3d08-47fe-8781-85c23c482bc6",
   "metadata": {},
   "outputs": [],
   "source": []
  }
 ],
 "metadata": {
  "kernelspec": {
   "display_name": "Python 3 (ipykernel)",
   "language": "python",
   "name": "python3"
  },
  "language_info": {
   "codemirror_mode": {
    "name": "ipython",
    "version": 3
   },
   "file_extension": ".py",
   "mimetype": "text/x-python",
   "name": "python",
   "nbconvert_exporter": "python",
   "pygments_lexer": "ipython3",
   "version": "3.10.9"
  }
 },
 "nbformat": 4,
 "nbformat_minor": 5
}
