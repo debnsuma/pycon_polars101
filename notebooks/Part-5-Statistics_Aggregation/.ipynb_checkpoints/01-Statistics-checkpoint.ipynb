{
 "cells": [
  {
   "cell_type": "markdown",
   "id": "5686a2c5-6046-42c4-afae-934f88b879e2",
   "metadata": {},
   "source": [
    "# Statistics\n",
    "By the end of this section you will learn how to:\n",
    "- calculate statistics on a `DataFrame` or expression\n",
    "- get a summary with `describe`\n",
    "- calculate cumulative, rolling and exponentially-weighted statistics"
   ]
  },
  {
   "cell_type": "code",
   "execution_count": null,
   "id": "b80f1989-72d2-4ae5-902b-7c1ff0d38e82",
   "metadata": {
    "tags": []
   },
   "outputs": [],
   "source": [
    "import polars as pl"
   ]
  },
  {
   "cell_type": "code",
   "execution_count": null,
   "id": "0463baf3-9101-44bd-89c4-a14992eeb699",
   "metadata": {
    "tags": []
   },
   "outputs": [],
   "source": [
    "csvFile = \"../data/titanic.csv\""
   ]
  },
  {
   "cell_type": "code",
   "execution_count": null,
   "id": "e23647a7-cbb5-49a9-9de4-aef6466b6872",
   "metadata": {
    "tags": []
   },
   "outputs": [],
   "source": [
    "df = pl.read_csv(csvFile)\n",
    "df.head(3)"
   ]
  },
  {
   "cell_type": "markdown",
   "id": "dd900f23-ff7d-4e70-8131-e3c314d488e5",
   "metadata": {},
   "source": [
    "## Statistics on a `DataFrame`\n",
    "\n",
    "We can call statistical methods on a `DataFrame`"
   ]
  },
  {
   "cell_type": "code",
   "execution_count": null,
   "id": "a2378c7b-1e82-40fc-909a-7279dd81f27f",
   "metadata": {
    "tags": []
   },
   "outputs": [],
   "source": [
    "df.mean()"
   ]
  },
  {
   "cell_type": "markdown",
   "id": "a24e72c4-bfcd-4191-888f-9b9b0bd5fdbd",
   "metadata": {},
   "source": [
    "## Summary of a `DataFrame`\n",
    "\n",
    "We can get an overview of the `DataFrame` with `describe`"
   ]
  },
  {
   "cell_type": "code",
   "execution_count": null,
   "id": "065a5182-7a8f-4204-8f85-30406c4a4ed1",
   "metadata": {
    "tags": []
   },
   "outputs": [],
   "source": [
    "df.describe()"
   ]
  },
  {
   "cell_type": "markdown",
   "id": "bff3dcd0-5848-4fc2-9d74-7fc738038509",
   "metadata": {},
   "source": [
    "For string columns the values are cast to the dtype of that column.\n",
    "\n",
    "## Statistics in an expression\n",
    "We can calculate statistics in an expression"
   ]
  },
  {
   "cell_type": "code",
   "execution_count": null,
   "id": "af781845-4a7f-42d8-9051-2e3e480f84c1",
   "metadata": {
    "tags": []
   },
   "outputs": [],
   "source": [
    "(\n",
    "    df\n",
    "    .select(\n",
    "        pl.col('Fare').mean()\n",
    "    )\n",
    ")"
   ]
  },
  {
   "cell_type": "markdown",
   "id": "d5c1ba6d-eb36-41b4-bdb5-75148ebe9fe4",
   "metadata": {},
   "source": [
    "The statistics available include:\n",
    "- count\n",
    "- sum\n",
    "- product\n",
    "- min\n",
    "- median\n",
    "- mean\n",
    "- max\n",
    "- std (standard deviation)\n",
    "- var (variance)\n",
    "- skew\n",
    "- kurtosis\n",
    "- entropy"
   ]
  },
  {
   "cell_type": "markdown",
   "id": "9738c4ea-1079-46c7-b4bd-8350cdc15b21",
   "metadata": {},
   "source": [
    "## Rolling statistics\n",
    "We can calculate rolling statistics in an expression.\n",
    "\n",
    "We first create a simple `DataFrame` with sequential values"
   ]
  },
  {
   "cell_type": "code",
   "execution_count": null,
   "id": "c682c78c-5420-4d6b-8cde-7c430ce44789",
   "metadata": {
    "tags": []
   },
   "outputs": [],
   "source": [
    "df = (\n",
    "    pl.DataFrame(\n",
    "        {\n",
    "            \"value\":range(12),\n",
    "        }\n",
    "    )\n",
    ")\n",
    "df.head()"
   ]
  },
  {
   "cell_type": "markdown",
   "id": "2a40d75b-d697-43b1-a793-17553e163b33",
   "metadata": {},
   "source": [
    "We take the rolling mean over 4 values by setting the `window_size` to be 4"
   ]
  },
  {
   "cell_type": "code",
   "execution_count": null,
   "id": "4191befb-dd67-43d6-bba5-45d76383b409",
   "metadata": {
    "tags": []
   },
   "outputs": [],
   "source": [
    "(\n",
    "    df\n",
    "    .with_columns(\n",
    "        rolling_mean_value = pl.col(\"value\").rolling_mean(window_size=4)\n",
    "    )\n",
    "    .head(5)\n",
    ")"
   ]
  },
  {
   "cell_type": "markdown",
   "id": "cc1e17c2-1c4e-42e9-bf3a-f62a4dfebeb9",
   "metadata": {},
   "source": [
    "Note that by default the first non-`null` value is on the 4th row.\n",
    "\n",
    "We can calculate the statistic with fewer values than the `window_size` by setting the `min_periods` argument"
   ]
  },
  {
   "cell_type": "code",
   "execution_count": null,
   "id": "b479d4a3-7964-4ac7-9c26-c60e39ee746d",
   "metadata": {
    "tags": []
   },
   "outputs": [],
   "source": [
    "(\n",
    "    df\n",
    "    .with_columns(\n",
    "        rolling_mean_value = pl.col(\"value\").rolling_mean(window_size=4),\n",
    "        rolling_mean_value_min_periods = pl.col(\"value\").rolling_mean(window_size=4,min_periods=1)\n",
    "\n",
    "    )\n",
    ").head()"
   ]
  },
  {
   "cell_type": "markdown",
   "id": "a3ce59d6-bac6-48ad-bdf0-1e6c0bc08eee",
   "metadata": {},
   "source": [
    "In the examples above the statistics are *backward-looking*. That is, the value on the 4th row is the average of the first four rows. We can instead center the statistic with the `center` argument (note that we use a window size of 5 here)"
   ]
  },
  {
   "cell_type": "code",
   "execution_count": null,
   "id": "c865277d-9d11-4378-8a7a-61f89856bb1a",
   "metadata": {
    "tags": []
   },
   "outputs": [],
   "source": [
    "(\n",
    "    df\n",
    "    .with_columns(\n",
    "        rolling_mean_value = pl.col(\"value\").rolling_mean(window_size=5),\n",
    "        rolling_mean_value_center = pl.col(\"value\").rolling_mean(window_size=5,center=True)\n",
    "    ).head(5)\n",
    ")"
   ]
  },
  {
   "cell_type": "markdown",
   "id": "bdc5d254-50d6-44cd-840c-bccff595be78",
   "metadata": {},
   "source": [
    "In this case the values on the third row is the mean of the first five rows.\n",
    "\n",
    "See the full range of rolling statistics here: https://pola-rs.github.io/polars/py-polars/html/reference/expressions/computation.html\n",
    "\n",
    "## Weighted statistics\n",
    "We can supply a custom weighting to a rolling statistic with the `weights` argument.\n",
    "\n",
    "However, Polars has exponentially-weighted statistics available as expressions.\n",
    "\n",
    "Use the `span` parameter to set the number of rows used for the calculation"
   ]
  },
  {
   "cell_type": "code",
   "execution_count": null,
   "id": "7f037d4c-d87e-4f0d-8df3-f415998050ad",
   "metadata": {
    "tags": []
   },
   "outputs": [],
   "source": [
    "(\n",
    "    df\n",
    "    .with_columns(\n",
    "        rolling_mean_value = pl.col(\"value\").rolling_mean(window_size=4),\n",
    "        ewm_mean_value = pl.col(\"value\").ewm_mean(span=4)\n",
    "    ).head(5)\n",
    ")"
   ]
  },
  {
   "cell_type": "markdown",
   "id": "96223c1b-9528-418b-8c73-60e9e3e75f1f",
   "metadata": {},
   "source": [
    "For the `ewm_mean` the `min_periods` is 1 by default.\n",
    "\n",
    "Exponentially-weighted statistics available are:\n",
    "- `ewm_mean`\n",
    "- `ewm_std`\n",
    "- `ewm_var`"
   ]
  },
  {
   "cell_type": "markdown",
   "id": "43d8721a-8124-48b1-bfd1-09420dcd3b35",
   "metadata": {},
   "source": [
    "### Multiple statistics\n",
    "We can use `suffix` when calculating multiple statistics on the same column or columns"
   ]
  },
  {
   "cell_type": "code",
   "execution_count": null,
   "id": "94617a80-07a1-416d-89ff-60ac69d40357",
   "metadata": {
    "tags": []
   },
   "outputs": [],
   "source": [
    "(\n",
    "    df.select(\n",
    "        [\n",
    "            pl.col(pl.Float64).min().suffix(\"_min\"),\n",
    "            pl.col(pl.Float64).max().suffix(\"_max\"),\n",
    "        ]\n",
    "    )\n",
    ")"
   ]
  },
  {
   "cell_type": "markdown",
   "id": "e1c444ba-fb34-46f9-a09e-8e33dd81ffc8",
   "metadata": {},
   "source": [
    "We can also do arithmetic with statistics. \n",
    "\n",
    "In this example we calculate a min-max scaler for the floating point columns"
   ]
  },
  {
   "cell_type": "code",
   "execution_count": null,
   "id": "fdb166c2-7e97-47fb-9f9c-10fee5bec066",
   "metadata": {
    "tags": []
   },
   "outputs": [],
   "source": [
    "(\n",
    "    df\n",
    "    .with_columns(\n",
    "        ((pl.col(pl.Float64) - pl.col(pl.Float64).min()) / (pl.col(pl.Float64).max() - pl.col(pl.Float64).min())).suffix(\"_scaled\")\n",
    "    )\n",
    "    .select(pl.col(pl.Float64))\n",
    "    .head()\n",
    ")"
   ]
  },
  {
   "cell_type": "markdown",
   "id": "eae5a842-16a2-42b0-a309-9ca4e760a31c",
   "metadata": {},
   "source": [
    "# Exercises\n",
    "\n",
    "In the exercises you will develop your understanding of:\n",
    "- calculating statistics on a column\n",
    "- calculating statistics on multiple columns of the same dtype\n",
    "- calculating cumulative statistics\n",
    "\n",
    "### Exercise 1 - calculating multiple statistics\n",
    "Calculate the mean and median of the `Age` column for passengers in 1st class"
   ]
  },
  {
   "cell_type": "code",
   "execution_count": null,
   "id": "a6b59cea-16a8-46bc-9747-446aaab3c760",
   "metadata": {
    "tags": []
   },
   "outputs": [],
   "source": [
    "(\n",
    "    pl.read_csv(csvFile)\n",
    "    <blank>\n",
    ")"
   ]
  },
  {
   "cell_type": "markdown",
   "id": "cb726ce5-d20e-45f1-b826-499952b24432",
   "metadata": {},
   "source": [
    "Add a new column called `Age_delta` that is the difference between the age and the average age of all passengers"
   ]
  },
  {
   "cell_type": "code",
   "execution_count": null,
   "id": "b87a73b3-9b18-4036-9369-93141e8dd129",
   "metadata": {},
   "outputs": [],
   "source": [
    "(\n",
    "    pl.read_csv(csvFile)\n",
    "    .with_columns(\n",
    "        <blank>\n",
    "    )\n",
    "    .select(\n",
    "        'Age','Age_delta'\n",
    "    )\n",
    "    .head(10)\n",
    ")"
   ]
  },
  {
   "cell_type": "markdown",
   "id": "3122f983-1ab7-4b93-b7b6-7742480e628b",
   "metadata": {},
   "source": [
    "Add another column called `Age_z` that has the z-score for the `Age` where the z-score is the (age - average age of the column) divided by the standard deviation of the age column"
   ]
  },
  {
   "cell_type": "code",
   "execution_count": null,
   "id": "bb2b38b0-01ac-4053-964d-bba6632a920a",
   "metadata": {},
   "outputs": [],
   "source": []
  },
  {
   "cell_type": "markdown",
   "id": "4836dc8b-16f3-482f-ba5f-aeeea8844455",
   "metadata": {},
   "source": [
    "Create these new columns for all floating point columns in the CSV. Add a `pipe` command if you want to sort the columns alphabetically"
   ]
  },
  {
   "cell_type": "code",
   "execution_count": null,
   "id": "72c41b12-8a2c-4c3f-9241-ff8c2a2c29b4",
   "metadata": {},
   "outputs": [],
   "source": []
  },
  {
   "cell_type": "markdown",
   "id": "15da9dae-07a2-41bb-b708-959ccfe6f39e",
   "metadata": {},
   "source": [
    "### Exercise 2\n",
    "We have the following `DataFrame` with values that occur in sequences in the `records` column"
   ]
  },
  {
   "cell_type": "code",
   "execution_count": null,
   "id": "c75c5519-7bbf-467e-b4af-fb596e8c5f79",
   "metadata": {},
   "outputs": [],
   "source": [
    "records = (\n",
    "    pl.DataFrame(\n",
    "        {\n",
    "            \"values\":['A','A','A','B','B','A','A']\n",
    "        }\n",
    "    )\n",
    ")\n",
    "records"
   ]
  },
  {
   "cell_type": "markdown",
   "id": "2f95e61c-ae13-4abc-aedd-20f7afcb8f0d",
   "metadata": {},
   "source": [
    "We want to identify groups of rows with the same consecutive values in the `values` column to get the following output"
   ]
  },
  {
   "cell_type": "code",
   "execution_count": null,
   "id": "5f7834b4-c34f-4470-b302-056d6a0d96aa",
   "metadata": {},
   "outputs": [],
   "source": [
    "(\n",
    "    pl.DataFrame(\n",
    "        {\n",
    "            \"values\":['A','A','A','B','B','A','A'],\n",
    "            \"groups\":[0,0,0,1,1,2,2]\n",
    "        }\n",
    "    )\n",
    ")"
   ]
  },
  {
   "cell_type": "markdown",
   "id": "508f4130-60f4-40ec-bd61-3addfac71616",
   "metadata": {},
   "source": [
    "Try this yourself or follow the step-by-step guide below if you need help. \n",
    "\n",
    "Note that one way to do this involves the `shift` expression that we haven't met before"
   ]
  },
  {
   "cell_type": "code",
   "execution_count": null,
   "id": "8bd5695b-4dca-4f6b-bb0f-da6e45428765",
   "metadata": {},
   "outputs": [],
   "source": [
    "(\n",
    "    records\n",
    "    .with_columns(\n",
    "        pl.col(\"values\").shift(1).alias(\"shifted\")\n",
    "    )\n",
    ")"
   ]
  },
  {
   "cell_type": "markdown",
   "id": "d5a4bd06-6c51-464c-9614-9cc8e547ffd8",
   "metadata": {},
   "source": [
    "Step-by-step approach:\n",
    "\n",
    "Check if the value in each row is **not** equal to the value in the previous row in a column called `equalsPrevious`"
   ]
  },
  {
   "cell_type": "code",
   "execution_count": null,
   "id": "eccec697-e1bc-4d82-a55f-3e103bf04547",
   "metadata": {},
   "outputs": [],
   "source": []
  },
  {
   "cell_type": "markdown",
   "id": "56b8208f-6b94-4c7a-a6da-e6dff430a84a",
   "metadata": {},
   "source": [
    "Use a cumulative function on `equalsPrevious` to increment an integer value whenever a row that is not equal to the previous value is encountered. \n",
    "\n",
    "You may need to do some arithmetic to get the same result as set out in the `groups` column above"
   ]
  },
  {
   "cell_type": "code",
   "execution_count": null,
   "id": "c51bdbd2-ff50-4223-a4a5-909fd8c8dc1e",
   "metadata": {},
   "outputs": [],
   "source": []
  },
  {
   "cell_type": "markdown",
   "id": "4581425d-043c-48da-8e82-1fcfa4586976",
   "metadata": {},
   "source": [
    "# Solutions"
   ]
  },
  {
   "cell_type": "markdown",
   "id": "0f80afbd-27be-4386-aeea-89e966a8f8df",
   "metadata": {},
   "source": [
    "### Solution to Exercise 1 \n",
    "Calculate the mean and median of the `Age` column for passengers in 1st class"
   ]
  },
  {
   "cell_type": "code",
   "execution_count": null,
   "id": "c9090a20-5fcb-4d8d-82a8-daa04eb0a3b4",
   "metadata": {
    "jupyter": {
     "source_hidden": true
    },
    "tags": []
   },
   "outputs": [],
   "source": [
    "(\n",
    "    pl.read_csv(csvFile)\n",
    "    .filter(\n",
    "        pl.col('Pclass') == 1\n",
    "    )\n",
    "    .select(\n",
    "        [\n",
    "            pl.col('Age').mean().alias('Age_mean'),\n",
    "            pl.col('Age').median().alias('Age_median')\n",
    "        ]\n",
    "    )\n",
    ")"
   ]
  },
  {
   "cell_type": "markdown",
   "id": "475de03f-d673-434b-bd21-5ca4c0015563",
   "metadata": {},
   "source": [
    "Add a new column called `Age_delta` that is the difference between the age and the average age of all passengers"
   ]
  },
  {
   "cell_type": "code",
   "execution_count": null,
   "id": "72715c20-7609-4f5c-aaa2-cc692965bfee",
   "metadata": {
    "jupyter": {
     "source_hidden": true
    },
    "tags": []
   },
   "outputs": [],
   "source": [
    "(\n",
    "    pl.read_csv(csvFile)\n",
    "    .with_columns(\n",
    "        (pl.col('Age') - pl.col('Age').mean()).alias('Age_delta')\n",
    "    )\n",
    "    .select(\n",
    "        'Age','Age_delta'\n",
    "    )\n",
    "    .head(10)\n",
    ")"
   ]
  },
  {
   "cell_type": "markdown",
   "id": "28f16229-381d-48a6-a993-46e0a2017cf3",
   "metadata": {},
   "source": [
    "Add a further column called `Age_z` that has the z-score for the `Age`: this is the (age - average age of the column) divided by the standard deviation of the age column"
   ]
  },
  {
   "cell_type": "code",
   "execution_count": null,
   "id": "b1b4b34f-16bc-489f-8211-dd9aa1848314",
   "metadata": {
    "jupyter": {
     "source_hidden": true
    },
    "tags": []
   },
   "outputs": [],
   "source": [
    "(\n",
    "    pl.read_csv(csvFile)\n",
    "    .with_columns(\n",
    "        [\n",
    "            (pl.col('Age') - pl.col('Age').mean()).alias('Age_delta'),\n",
    "            ((pl.col('Age') - pl.col('Age').mean())/pl.col('Age').std()).alias('Age_z')\n",
    "        ]\n",
    "    )\n",
    "    .select(\n",
    "        'Age','Age_delta','Age_z'\n",
    "    )\n",
    "    .head(10)\n",
    ")"
   ]
  },
  {
   "cell_type": "markdown",
   "id": "0327e67f-bf60-4388-93bd-6c28faa190ba",
   "metadata": {},
   "source": [
    "Create these new columns for all floating point columns in the CSV. Add a `pipe` command if you want to sort the columns alphabetically"
   ]
  },
  {
   "cell_type": "code",
   "execution_count": null,
   "id": "a0bd9af8-13b1-4a0b-8a62-09b75db7bf74",
   "metadata": {
    "jupyter": {
     "source_hidden": true
    },
    "tags": []
   },
   "outputs": [],
   "source": [
    "(\n",
    "    pl.read_csv(csvFile)\n",
    "    .with_columns(\n",
    "        [\n",
    "            (pl.col(pl.Float64) - pl.col(pl.Float64).mean()).suffix('_delta'),\n",
    "            ((pl.col(pl.Float64) - pl.col(pl.Float64).mean())/pl.col(pl.Float64).std()).suffix('_z')\n",
    "        ]\n",
    "    )\n",
    "    .select(\n",
    "        pl.col(pl.Float64)\n",
    "    )\n",
    "    .pipe(lambda df:df.select(sorted(df.columns)))\n",
    "    .head(10)\n",
    ")"
   ]
  },
  {
   "cell_type": "markdown",
   "id": "16a8b81e-c050-407c-8a27-f3fcd9c81f49",
   "metadata": {},
   "source": [
    "### Solution to exercise 2\n",
    "We have the following `DataFrame` with values that occur in sequences in the `records` column"
   ]
  },
  {
   "cell_type": "code",
   "execution_count": null,
   "id": "5991673c-8d73-4151-be74-948fd83bae75",
   "metadata": {},
   "outputs": [],
   "source": [
    "records = (\n",
    "    pl.DataFrame(\n",
    "        {\n",
    "            \"values\":['A','A','A','B','B','A','A']\n",
    "        }\n",
    "    )\n",
    ")\n",
    "records"
   ]
  },
  {
   "cell_type": "markdown",
   "id": "fbfb8bea-62a0-4c1b-8164-96dcb763e91a",
   "metadata": {},
   "source": [
    "We want to identify groups of rows with the same consecutive values to get the following output. The column `groups` shows how long the sequence which that row belongs to it."
   ]
  },
  {
   "cell_type": "code",
   "execution_count": null,
   "id": "3ac556ef-0940-46c1-917c-e869f74a4a25",
   "metadata": {},
   "outputs": [],
   "source": [
    "(\n",
    "    pl.DataFrame(\n",
    "        {\n",
    "            \"values\":['A','A','A','B','B','A','A'],\n",
    "            \"groups\":[0,0,0,1,1,2,2]\n",
    "        }\n",
    "    )\n",
    ")"
   ]
  },
  {
   "cell_type": "markdown",
   "id": "f12d4eb8-c37c-45a8-951a-4606c2b09fe3",
   "metadata": {},
   "source": [
    "Check if the value in each row is **not** equal to the value in the previous row in a column called `equalsPrevious`"
   ]
  },
  {
   "cell_type": "code",
   "execution_count": null,
   "id": "036e15d1-f8c2-41ec-b22a-a66f429e4f11",
   "metadata": {
    "jupyter": {
     "source_hidden": true
    },
    "tags": []
   },
   "outputs": [],
   "source": [
    "(\n",
    "    records\n",
    "    .with_columns(\n",
    "        (pl.col('values') != pl.col('values').shift(1)).alias('equalsPrevious')\n",
    "    )\n",
    ")"
   ]
  },
  {
   "cell_type": "markdown",
   "id": "f01e8a89-3e57-479a-a78e-466ed3ddbc9a",
   "metadata": {},
   "source": [
    "Use a cumulative function on `equalsPrevious` to increment an integer value whenever a row that is not equal to the previous value is encountered. \n",
    "\n",
    "You may need to do some arithmetic to get the same result as set out in the `groups` column above"
   ]
  },
  {
   "cell_type": "code",
   "execution_count": null,
   "id": "eee7db3c-1b9b-4a6c-bef1-97ca449764d7",
   "metadata": {
    "jupyter": {
     "source_hidden": true
    },
    "tags": []
   },
   "outputs": [],
   "source": [
    "(\n",
    "    records\n",
    "    .with_columns(\n",
    "        (pl.col('values') != pl.col('values').shift(1)).alias('equalsPrevious')\n",
    "    )\n",
    "    .with_columns(\n",
    "        (pl.col('equalsPrevious').cumsum()-1).alias('groups')\n",
    "    )\n",
    ")"
   ]
  },
  {
   "cell_type": "code",
   "execution_count": null,
   "id": "ccbf82d4-b5cc-4887-9892-0b6375fc7274",
   "metadata": {},
   "outputs": [],
   "source": []
  }
 ],
 "metadata": {
  "kernelspec": {
   "display_name": "Python 3 (ipykernel)",
   "language": "python",
   "name": "python3"
  },
  "language_info": {
   "codemirror_mode": {
    "name": "ipython",
    "version": 3
   },
   "file_extension": ".py",
   "mimetype": "text/x-python",
   "name": "python",
   "nbconvert_exporter": "python",
   "pygments_lexer": "ipython3",
   "version": "3.10.9"
  }
 },
 "nbformat": 4,
 "nbformat_minor": 5
}
