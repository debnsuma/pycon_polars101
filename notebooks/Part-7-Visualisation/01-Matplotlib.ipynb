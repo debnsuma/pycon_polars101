{
 "cells": [
  {
   "cell_type": "markdown",
   "id": "8f1a348d-60e8-43b3-9618-bac97c4c3e03",
   "metadata": {},
   "source": [
    "# Visualisation with Matplotlib\n",
    "By the end of this section you will learn how to:\n",
    "- work with Matplotlib directly from Polars\n",
    "- create bar, row, grouped bar and  scatter charts with Matplotlib\n",
    "- create time series charts with Matplotlib\n",
    "\n",
    "See the Seaborn lecture that follows this one for a simpler interface to Matplotlib"
   ]
  },
  {
   "cell_type": "code",
   "execution_count": null,
   "id": "31958b81-dcc3-4cf9-9e77-f89bdee12927",
   "metadata": {
    "tags": []
   },
   "outputs": [],
   "source": [
    "import polars as pl\n",
    "import matplotlib.pyplot as plt\n",
    "import seaborn as sns"
   ]
  },
  {
   "cell_type": "code",
   "execution_count": null,
   "id": "3db18c26-04ac-4123-ae5f-182167f4cad6",
   "metadata": {
    "tags": []
   },
   "outputs": [],
   "source": [
    "csvFile = '../data/titanic.csv'"
   ]
  },
  {
   "cell_type": "code",
   "execution_count": null,
   "id": "fd891629-7372-4c59-8a7c-aabd338baf8f",
   "metadata": {
    "tags": []
   },
   "outputs": [],
   "source": [
    "df = pl.read_csv(csvFile)\n",
    "df.head(3)"
   ]
  },
  {
   "cell_type": "markdown",
   "id": "fb59839f-efbb-4d33-a9b2-3422e7f88c8a",
   "metadata": {},
   "source": [
    "## Bar chart\n",
    "We can make a bar chart with Matplotlib by specifying the dataframe columns with the `x` and `height` arguments"
   ]
  },
  {
   "cell_type": "code",
   "execution_count": null,
   "id": "b82d7a0d-be06-49f2-abf3-c5153dd17611",
   "metadata": {},
   "outputs": [],
   "source": [
    "classCounts = (\n",
    "    df['Pclass']\n",
    "    .value_counts()\n",
    "    .sort(\"Pclass\")\n",
    "    .with_columns(\n",
    "        pl.col(\"Pclass\").cast(pl.Utf8)\n",
    "    )\n",
    ")\n",
    "\n",
    "classCounts"
   ]
  },
  {
   "cell_type": "code",
   "execution_count": null,
   "id": "00e08aa6-0c42-433f-b7d6-42700a5a4d20",
   "metadata": {
    "tags": []
   },
   "outputs": [],
   "source": [
    "classCounts = (\n",
    "    df['Pclass']\n",
    "    .value_counts()\n",
    "    .sort(\"Pclass\")\n",
    "    .with_columns(\n",
    "        pl.col(\"Pclass\").cast(pl.Utf8)\n",
    "    )\n",
    ")\n",
    "plt.bar(\n",
    "    x=classCounts[\"Pclass\"],\n",
    "    height=classCounts[\"counts\"]\n",
    ")"
   ]
  },
  {
   "cell_type": "markdown",
   "id": "8c0d8a7d-01ed-4d06-af7b-58c5b924801b",
   "metadata": {},
   "source": [
    "Note that we have to cast the `Pclass` column from `Int64` to `Utf8` (string) so that Matplotlib knows it is an ordinal variable rather than a numeric variable.\n",
    "\n",
    "### Adding title and axis labels\n",
    "We can format the chart in the normal way for Matplotlib. In this example we add create a `fig` and `ax` object for a chart with a single subplot and add a title and axes labels"
   ]
  },
  {
   "cell_type": "code",
   "execution_count": null,
   "id": "33d545f4-d548-435e-aea1-d7dff901348d",
   "metadata": {
    "tags": []
   },
   "outputs": [],
   "source": [
    "fig, ax = plt.subplots()\n",
    "ax.bar(\n",
    "    x=classCounts[\"Pclass\"],\n",
    "    height=classCounts[\"counts\"],\n",
    ")\n",
    "ax.title.set_text(\"Number of passengers per class\")\n",
    "ax.set_xlabel(\"Passenger class\")\n",
    "ax.set_ylabel(\"Number of passengers\")\n",
    "plt.show()"
   ]
  },
  {
   "cell_type": "markdown",
   "id": "89cabaca-f990-44e1-86ae-a13661d4fe18",
   "metadata": {},
   "source": [
    "## Row chart\n",
    "We plot the same data as a horizontal row chart by:\n",
    "- using `plt.barh` and\n",
    "- switching the `y` and `width` arguments"
   ]
  },
  {
   "cell_type": "code",
   "execution_count": null,
   "id": "20db026b-7419-4568-954f-75ef9956ad01",
   "metadata": {},
   "outputs": [],
   "source": [
    "plt.barh(\n",
    "    y=classCounts[\"Pclass\"],\n",
    "    width=classCounts[\"counts\"],\n",
    ")"
   ]
  },
  {
   "cell_type": "markdown",
   "id": "879d3a6e-b778-49ad-a67d-95f5188fc5df",
   "metadata": {},
   "source": [
    "## Grouped bar chart\n",
    "We use the example of the survival rate broken down by passenger class from the lecture on group operations using `over`"
   ]
  },
  {
   "cell_type": "code",
   "execution_count": null,
   "id": "027536a2-d806-479e-a1b2-150ee1b72b0a",
   "metadata": {},
   "outputs": [],
   "source": [
    "survivedPercentageDf = (\n",
    "    pl.read_csv(csvFile)\n",
    "    .groupby([\"Pclass\",\"Survived\"])\n",
    "    .agg(\n",
    "        pl.col(\"Name\").count().alias(\"counts\")\n",
    "    )\n",
    "    .with_columns(\n",
    "        (100*(pl.col(\"counts\")/pl.col(\"counts\").sum().over(\"Pclass\"))).round(3).alias(\"% Survived\")\n",
    "    )\n",
    "    .sort([\"Pclass\",\"Survived\"])\n",
    ")"
   ]
  },
  {
   "cell_type": "markdown",
   "id": "73e39ee5-6dd1-4131-81df-c61d66d07f70",
   "metadata": {},
   "source": [
    "We create a grouped bar chart by passing the column to group the bars by to the `color` argument"
   ]
  },
  {
   "cell_type": "code",
   "execution_count": null,
   "id": "b18284c4-0f17-40f2-bd53-d1b215bc4001",
   "metadata": {},
   "outputs": [],
   "source": [
    "labels = ['1','2','3']\n",
    "import numpy as np\n",
    "x = np.arange(len(labels))  # the label locations\n",
    "width = 0.35  # the width of the bars\n",
    "\n",
    "fig, ax = plt.subplots()\n",
    "rects1 = ax.bar(\n",
    "    x - width/2, \n",
    "    survivedPercentageDf.filter(pl.col(\"Survived\")==0)[\"% Survived\"], \n",
    "    width, \n",
    "    label='Died'\n",
    ")\n",
    "rects2 = ax.bar(\n",
    "    x + width/2, \n",
    "    survivedPercentageDf.filter(pl.col(\"Survived\")==1)[\"% Survived\"], \n",
    "    width, \n",
    "    label='Survived'\n",
    ")\n",
    "\n",
    "# Add some text for labels, title and custom x-axis tick labels, etc.\n",
    "ax.set_ylabel('Scores')\n",
    "ax.set_title('% Survival by class')\n",
    "ax.set_xticks(x, labels)\n",
    "ax.legend()\n",
    "\n",
    "ax.bar_label(rects1, padding=3)\n",
    "ax.bar_label(rects2, padding=3)\n",
    "\n",
    "fig.tight_layout()\n",
    "\n",
    "plt.show()"
   ]
  },
  {
   "cell_type": "markdown",
   "id": "94f3e3b7-eba8-4c4a-b075-47f3098f8be2",
   "metadata": {},
   "source": [
    "## Scatter plot and plot size\n",
    "We make a scatter plot of `log10(Age)` and `log10(Fare`).\n",
    "\n",
    "We colour the points by survival. To add different colour scatter we must:\n",
    "- define a list of colours\n",
    "- loop through the different groups (i.e. survived or not survived)\n",
    "- add the scatter points for each group onto the `ax` object\n",
    "\n",
    "We loop through the different groups with the `groupby` function"
   ]
  },
  {
   "cell_type": "code",
   "execution_count": null,
   "id": "2ef229ec-a97e-4cc4-9650-78ca6f1089ff",
   "metadata": {},
   "outputs": [],
   "source": [
    "fig, ax = plt.subplots(figsize=(6,6))\n",
    "colours = ['tab:blue', 'tab:orange']\n",
    "# Loop through the group keys and group DataFrames with groupby\n",
    "for idx,(survived,survivedDf) in enumerate(\n",
    "    df.groupby(\"Survived\")\n",
    "):\n",
    "    color = colours[idx]\n",
    "    ax.scatter(\n",
    "        x=survivedDf[\"Age\"].log(10),\n",
    "        y=survivedDf[\"Fare\"].log(10),\n",
    "        c=color, \n",
    "        label=survived,\n",
    "    )\n",
    "ax.legend()\n",
    "ax.grid(True)\n",
    "\n",
    "plt.show()"
   ]
  },
  {
   "cell_type": "markdown",
   "id": "248bb36c-df5e-4dfc-92fd-002d6c7e465e",
   "metadata": {},
   "source": [
    "To control the shape of the chart in Jupyter we set the width and height as a tuple in `plt.subplots` (see above example)."
   ]
  },
  {
   "cell_type": "markdown",
   "id": "d8c0d653-f3ca-4ebb-b140-4a9db77dedc9",
   "metadata": {},
   "source": [
    "## Line chart\n",
    "For the line chart we bring in some new data: a time series of ocean wave heights from the buoys near the stormy coast of Ireland"
   ]
  },
  {
   "cell_type": "code",
   "execution_count": null,
   "id": "28a36b9b-fe2d-4652-bf24-eb880f6d29c3",
   "metadata": {
    "tags": []
   },
   "outputs": [],
   "source": [
    "waveCsvFile = \"../data/wave_data.csv\""
   ]
  },
  {
   "cell_type": "markdown",
   "id": "2e179443-1078-45c0-abb9-65eb65f926d3",
   "metadata": {},
   "source": [
    "We are primarily interested in looking at time series of the `significant_wave_height` column. This measures the wave height in metres at each station (i.e. at each buoy).\n",
    "\n",
    "We show the first two rows of this `DataFrame` here"
   ]
  },
  {
   "cell_type": "code",
   "execution_count": null,
   "id": "34ba01af-04b6-4c9c-a1de-14eb45cf7752",
   "metadata": {
    "tags": []
   },
   "outputs": [],
   "source": [
    "(\n",
    "    pl.read_csv(waveCsvFile)\n",
    "    .with_columns(\n",
    "        pl.col(\"time\").str.strptime(pl.Datetime,\"%Y-%m-%dT%TZ\")\n",
    "    )\n",
    "    .select([\"time\",\"stationID\",\"significant_wave_height\"])\n",
    "    .head(2)\n",
    ")"
   ]
  },
  {
   "cell_type": "markdown",
   "id": "785d1eac-7fe4-4401-aa4d-212eb4d0ca27",
   "metadata": {},
   "source": [
    "We use `groupby_dynamic` to group the wave data by station and in 1 hour blocks. We take the hourly mean by station.\n",
    "\n",
    "We apply a filter at the end of this query to restrict the plot to the 6 stations with the largest waves"
   ]
  },
  {
   "cell_type": "code",
   "execution_count": null,
   "id": "ae49fdca-f9b3-4d48-972a-5f03704eabe1",
   "metadata": {},
   "outputs": [],
   "source": [
    "stationAggs = (\n",
    "    pl.read_csv(waveCsvFile)\n",
    "    .with_columns(\n",
    "        pl.col(\"time\").str.strptime(pl.Datetime,\"%Y-%m-%dT%TZ\")\n",
    "    )\n",
    "    .groupby_dynamic('time',every=\"1h\",by=\"stationID\")\n",
    "    .agg(\n",
    "            pl.col(pl.Float64).mean().suffix(\"_mean\"),\n",
    "    )\n",
    "    # Apply a filter to output the stations with the largest waves\n",
    "    .filter(\n",
    "        pl.col('significant_wave_height_mean').mean().over(\"stationID\").rank(method='dense',descending=True) < 7\n",
    "    )\n",
    ")\n",
    "stationAggs.head(3)"
   ]
  },
  {
   "cell_type": "markdown",
   "id": "7e7421ac-e6ed-45f1-b12c-3d91f98c8951",
   "metadata": {},
   "source": [
    "We can now produce a time series plot of this hourly data by station. To do this we:\n",
    "- create a `fig` and `ax` object\n",
    "- loop through `stationAggs` in groups by `stationID`\n",
    "- add a line to the plot for each station in the loop"
   ]
  },
  {
   "cell_type": "code",
   "execution_count": null,
   "id": "4d02d585-2e8f-4079-ba71-c88642156f1c",
   "metadata": {},
   "outputs": [],
   "source": [
    "fig,ax = plt.subplots(figsize=(12, 4), dpi=80)\n",
    "# Loop through the groups to get the DataFrame for each station\n",
    "for stationID,stationDf in stationAggs.groupby(\"stationID\"):\n",
    "    # Add a line for each station\n",
    "    ax.plot(\n",
    "        stationDf[\"time\"],\n",
    "        stationDf[\"significant_wave_height_mean\"],\n",
    "        label=stationID\n",
    ")\n",
    "plt.legend()"
   ]
  },
  {
   "cell_type": "markdown",
   "id": "674218ce-e169-498b-9f31-4b9e76907d80",
   "metadata": {},
   "source": [
    "The chart shows the arrival of some large waves on 25th September 2022"
   ]
  },
  {
   "cell_type": "markdown",
   "id": "b7ad093c-013a-49e0-9816-aef868a6c621",
   "metadata": {},
   "source": [
    "## Exercises\n",
    "In the exercises you will develop your understanding of:\n",
    "- creating a range of charts with Matplotlib\n",
    "- creating charts with control over axis labels and sizing\n",
    "\n",
    "### Exercise 1\n",
    "Make a bar chart of the `SibSp` column showing how many passengers there are with 0,1,2 etc siblings. Ensure the chart is correctly ordered in the number of siblings (that means the x-axis must be in order from 0,1,2 etc)\n",
    "\n",
    "Expand the following cell if you want some hints"
   ]
  },
  {
   "cell_type": "code",
   "execution_count": null,
   "id": "5562e1cc-fe07-4ec6-b92b-982d459829f2",
   "metadata": {
    "tags": []
   },
   "outputs": [],
   "source": [
    "#Hint 1: Do a value counts on the `SibSp` column\n",
    "#Hint 2: Cast the `SibSp` column to string"
   ]
  },
  {
   "cell_type": "code",
   "execution_count": null,
   "id": "896c6e04-91df-4e7f-b75f-abb4e70860cb",
   "metadata": {},
   "outputs": [],
   "source": [
    "df = pl.read_csv(csvFile)"
   ]
  },
  {
   "cell_type": "code",
   "execution_count": null,
   "id": "838e072c-90d7-45fd-8e2b-3c053346ea67",
   "metadata": {},
   "outputs": [],
   "source": []
  },
  {
   "cell_type": "markdown",
   "id": "8170a691-6cdc-4271-85ac-272026b01ecf",
   "metadata": {},
   "source": [
    "### Exercise 2\n",
    "Inspect the columns in the stationsAggs `DataFrame`. Note the `mean_wave_period_mean` column that has the mean wave period (the time between wave crests) in seconds.\n",
    "\n",
    "Add the `with_columns` statement noted above if the `time` column is not automatically recognised as a datetime"
   ]
  },
  {
   "cell_type": "code",
   "execution_count": null,
   "id": "53166b34-4aec-4701-ae60-b57ebf834010",
   "metadata": {},
   "outputs": [],
   "source": [
    "stationAggs = (\n",
    "    pl.read_csv(waveCsvFile)\n",
    "    .with_columns(\n",
    "        pl.col(\"time\").str.strptime(pl.Datetime,\"%Y-%m-%dT%TZ\")\n",
    "    )\n",
    "    .groupby_dynamic('time',every=\"1h\",by=\"stationID\")\n",
    "    .agg(\n",
    "            pl.col(pl.Float64).mean().suffix(\"_mean\"),\n",
    "    )\n",
    "    # Apply a filter to output the stations with the largest waves\n",
    "    .filter(\n",
    "        pl.col('significant_wave_height_mean').mean().over(\"stationID\").rank(method='dense',descending=True) < 7\n",
    "    )\n",
    ")\n",
    "stationAggs.head(3)"
   ]
  },
  {
   "cell_type": "markdown",
   "id": "6916ee77-81ce-430c-9e1e-78fefc0cb9c1",
   "metadata": {},
   "source": [
    "Make a time series plot of the mean wave period showing it has a similar pattern to the wave height plot above"
   ]
  },
  {
   "cell_type": "code",
   "execution_count": null,
   "id": "90bfd2e6-0b7a-4c85-ab62-12cc7e7b5263",
   "metadata": {},
   "outputs": [],
   "source": []
  },
  {
   "cell_type": "markdown",
   "id": "e06e931e-02c3-4fb1-abb1-288f3f2cabcc",
   "metadata": {},
   "source": [
    "Now make a scatter plot with:\n",
    "- the significant wave height on the x-axis\n",
    "- the mean wave period on the y-axis\n",
    "- coloured by station"
   ]
  },
  {
   "cell_type": "code",
   "execution_count": null,
   "id": "be011bec-0f6f-40ee-9930-5a9ededaab30",
   "metadata": {},
   "outputs": [],
   "source": []
  },
  {
   "cell_type": "markdown",
   "id": "7d0dc246-4b18-4907-96c6-c917c525b68b",
   "metadata": {},
   "source": [
    "Add labels and a title:\n",
    "- on the x-axis \"Wave height (m)\"\n",
    "- on the y-axis \"Wave period (s)\"\n",
    "- on the color axis \"Station ID\"\n",
    "- for the title \"Wave height versus period\""
   ]
  },
  {
   "cell_type": "code",
   "execution_count": null,
   "id": "c95c505f-9b2e-4f76-9fdb-351b39f06326",
   "metadata": {},
   "outputs": [],
   "source": []
  },
  {
   "cell_type": "markdown",
   "id": "fb860840-7590-4a61-8852-166b60020023",
   "metadata": {},
   "source": [
    "Make the plot area have equal width and height"
   ]
  },
  {
   "cell_type": "code",
   "execution_count": null,
   "id": "99a354f1-e5ff-40e4-b3c5-d67008bc87f4",
   "metadata": {},
   "outputs": [],
   "source": []
  },
  {
   "cell_type": "markdown",
   "id": "3e8a0ff9-2185-49e4-b8d9-759a26384254",
   "metadata": {},
   "source": [
    "## Solutions\n",
    "### Solution to exercise 1\n",
    "Make a bar chart of the `SibSp` column showing how many passengers there are with 0,1,2 etc siblings. Ensure the chart is correctly ordered in the number of siblings (that means the x-axis must be in order from 0,1,2 etc)\n",
    "\n",
    "Expand the following cell if you want some hints"
   ]
  },
  {
   "cell_type": "code",
   "execution_count": null,
   "id": "7601a2be-1197-4856-afcc-927607e756b2",
   "metadata": {
    "tags": []
   },
   "outputs": [],
   "source": [
    "#Hint 1: Do a value counts on the `SibSp` column\n",
    "#Hint 2: Cast the `SibSp` column to string"
   ]
  },
  {
   "cell_type": "code",
   "execution_count": null,
   "id": "cbbcee10-6c3d-444b-97e3-7428e195662a",
   "metadata": {
    "tags": []
   },
   "outputs": [],
   "source": [
    "siblingCount = (\n",
    "    df[\"SibSp\"]\n",
    "    .value_counts()\n",
    "    .with_columns(\n",
    "        pl.col(\"SibSp\").cast(pl.Utf8)\n",
    "    )\n",
    "    .sort(\"SibSp\")\n",
    ")\n",
    "(\n",
    "    plt.bar(\n",
    "        x=siblingCount[\"SibSp\"],\n",
    "        height=siblingCount[\"counts\"]\n",
    "    )\n",
    ")        "
   ]
  },
  {
   "cell_type": "markdown",
   "id": "9383c9f3-bae2-4a20-9a3c-8aecf9b3d4cf",
   "metadata": {},
   "source": [
    "### Solution to Exercise 2\n",
    "\n",
    "Inspect the columns in the stationsAggs `DataFrame`. Note the `mean_wave_period_mean` column that has the mean wave period (the time between wave crests) in seconds.\n",
    "\n",
    "Make a time series plot of the mean wave period. Ensure the legend is displayed"
   ]
  },
  {
   "cell_type": "code",
   "execution_count": null,
   "id": "1d2ecae3-7080-455b-bd97-ba004e531bc2",
   "metadata": {
    "tags": []
   },
   "outputs": [],
   "source": [
    "fig,ax = plt.subplots(figsize=(12, 4), dpi=80)\n",
    "# Loop through the groupby to get the values for each station\n",
    "for idx,(stationID,stationDf) in enumerate(stationAggs.groupby(\"stationID\")):\n",
    "    # Add a line for each station\n",
    "    ax.plot(\n",
    "        stationDf[\"time\"],\n",
    "        stationDf[\"mean_wave_period_mean\"],\n",
    "        label=stationID\n",
    ")\n",
    "plt.legend()"
   ]
  },
  {
   "cell_type": "markdown",
   "id": "351de5f4-dddd-4f79-a54a-7673e66e35cd",
   "metadata": {},
   "source": [
    "Make a scatter plot with:\n",
    "- the significant wave height on the x-axis\n",
    "- the mean wave period on the y-axis\n",
    "- coloured by station (with a legend)"
   ]
  },
  {
   "cell_type": "code",
   "execution_count": null,
   "id": "71bc409e-b595-4edb-87dc-805ba17719e6",
   "metadata": {
    "tags": []
   },
   "outputs": [],
   "source": [
    "fig, ax = plt.subplots()\n",
    "colours = ['tab:blue', 'tab:orange','tab:red','tab:green','tab:purple','tab:cyan']\n",
    "for idx,(stationID,stationDf) in enumerate(stationAggs.groupby(\"stationID\")):\n",
    "    color = colours[idx]    \n",
    "    ax.scatter(\n",
    "        x=stationDf[\"significant_wave_height_mean\"],\n",
    "        y=stationDf[\"mean_wave_period_mean\"],\n",
    "        c=color, \n",
    "        label=stationID,\n",
    "        edgecolors='none'\n",
    "    )\n",
    "ax.legend()\n",
    "plt.show()"
   ]
  },
  {
   "cell_type": "markdown",
   "id": "f9699a96-f8db-4d3e-8922-566ef2b8319d",
   "metadata": {},
   "source": [
    "Add labels and a title:\n",
    "- on the x-axis \"Wave height (m)\"\n",
    "- on the y-axis \"Wave period (s)\"\n",
    "- on the color axis \"Station ID\"\n",
    "- for the title \"Wave height versus period\""
   ]
  },
  {
   "cell_type": "code",
   "execution_count": null,
   "id": "5b1ad5eb-f315-42d9-8f16-216957f68de6",
   "metadata": {
    "tags": []
   },
   "outputs": [],
   "source": [
    "fig, ax = plt.subplots()\n",
    "colours = ['tab:blue', 'tab:orange','tab:red','tab:green','tab:purple','tab:cyan']\n",
    "for idx,(stationID,stationDf) in enumerate(stationAggs.groupby(\"stationID\")):\n",
    "    color = colours[idx]\n",
    "    \n",
    "    ax.scatter(\n",
    "        x=stationDf[\"significant_wave_height_mean\"],\n",
    "        y=stationDf[\"mean_wave_period_mean\"],\n",
    "        c=color, \n",
    "        label=stationID,\n",
    "    )\n",
    "ax.legend()\n",
    "ax.set_xlabel(\"Wave height (m)\")\n",
    "ax.set_ylabel(\"Wave period (s)\")\n",
    "ax.title.set_text(\"Wave height versus period\")"
   ]
  },
  {
   "cell_type": "markdown",
   "id": "8d8c67ff-8048-422e-bc23-75a507e69be9",
   "metadata": {},
   "source": [
    "Ensure the plot area has equal width and height"
   ]
  },
  {
   "cell_type": "code",
   "execution_count": null,
   "id": "88db2c9b-bbc9-48f1-b9bc-be1439ed983a",
   "metadata": {
    "tags": []
   },
   "outputs": [],
   "source": [
    "fig, ax = plt.subplots(figsize=(7,6))\n",
    "colours = ['tab:blue', 'tab:orange','tab:red','tab:green','tab:purple','tab:cyan']\n",
    "for idx,(stationID,stationDf) in enumerate(stationAggs.groupby(\"stationID\")):\n",
    "    color = colours[idx]\n",
    "    \n",
    "    ax.scatter(\n",
    "        x=stationDf[\"significant_wave_height_mean\"],\n",
    "        y=stationDf[\"mean_wave_period_mean\"],\n",
    "        c=color, \n",
    "        label=stationID,\n",
    "    )\n",
    "ax.legend()\n",
    "ax.set_xlabel(\"Wave height (m)\")\n",
    "ax.set_ylabel(\"Wave period (s)\")\n",
    "ax.title.set_text(\"Wave height versus period\")"
   ]
  },
  {
   "cell_type": "code",
   "execution_count": null,
   "id": "c214093e-3e7d-4c70-9bb7-6f22bdda7708",
   "metadata": {},
   "outputs": [],
   "source": []
  }
 ],
 "metadata": {
  "kernelspec": {
   "display_name": "Python 3 (ipykernel)",
   "language": "python",
   "name": "python3"
  },
  "language_info": {
   "codemirror_mode": {
    "name": "ipython",
    "version": 3
   },
   "file_extension": ".py",
   "mimetype": "text/x-python",
   "name": "python",
   "nbconvert_exporter": "python",
   "pygments_lexer": "ipython3",
   "version": "3.10.9"
  }
 },
 "nbformat": 4,
 "nbformat_minor": 5
}
