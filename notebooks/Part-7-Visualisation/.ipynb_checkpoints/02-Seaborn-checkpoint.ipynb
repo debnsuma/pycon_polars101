{
 "cells": [
  {
   "cell_type": "markdown",
   "id": "8f1a348d-60e8-43b3-9618-bac97c4c3e03",
   "metadata": {},
   "source": [
    "# Visualisation with Seaborn\n",
    "By the end of this section you will learn how to:\n",
    "- work with Seaborn directly from Polars and via Pandas\n",
    "- create a range of charts with Seaborn\n",
    "\n",
    "Seaborn does not have explicit support for Polars. However, some Seaborn charts accept Polars `DataFrames` directly while others require conversion to Pandas."
   ]
  },
  {
   "cell_type": "code",
   "execution_count": null,
   "id": "31958b81-dcc3-4cf9-9e77-f89bdee12927",
   "metadata": {},
   "outputs": [],
   "source": [
    "import polars as pl\n",
    "import matplotlib.pyplot as plt\n",
    "import seaborn as sns"
   ]
  },
  {
   "cell_type": "code",
   "execution_count": null,
   "id": "3db18c26-04ac-4123-ae5f-182167f4cad6",
   "metadata": {},
   "outputs": [],
   "source": [
    "csvFile = '../data/titanic.csv'"
   ]
  },
  {
   "cell_type": "code",
   "execution_count": null,
   "id": "fd891629-7372-4c59-8a7c-aabd338baf8f",
   "metadata": {},
   "outputs": [],
   "source": [
    "df = pl.read_csv(csvFile)\n",
    "df.head(3)"
   ]
  },
  {
   "cell_type": "markdown",
   "id": "fb59839f-efbb-4d33-a9b2-3422e7f88c8a",
   "metadata": {},
   "source": [
    "## Bar chart\n",
    "We can make a bar chart with Seaborn by specifying the dataframe columns with the `x` and `y` arguments"
   ]
  },
  {
   "cell_type": "code",
   "execution_count": null,
   "id": "00e08aa6-0c42-433f-b7d6-42700a5a4d20",
   "metadata": {},
   "outputs": [],
   "source": [
    "classCounts = (\n",
    "    df['Pclass']\n",
    "    .value_counts()\n",
    "    .sort(\"Pclass\")\n",
    "    .with_columns(\n",
    "        pl.col(\"Pclass\").cast(pl.Utf8)\n",
    "    )\n",
    ")\n",
    "sns.barplot(\n",
    "    classCounts.to_pandas(),\n",
    "    x=\"Pclass\",\n",
    "    y=\"counts\"\n",
    ")"
   ]
  },
  {
   "cell_type": "markdown",
   "id": "8c0d8a7d-01ed-4d06-af7b-58c5b924801b",
   "metadata": {},
   "source": [
    "Note that we have to cast the `Pclass` column from `Int64` to `Utf8` (string) so that Seaborn knows `Pclass` is a categorical-type variable rather than a numeric variable. This point recurs below - it may be worth casting integer columns that are really categoricals to strings when doing visualisation.\n",
    "\n",
    "### Adding title and axis labels\n",
    "We add a title and axis labels in the standard way for Seaborn using the `set` method"
   ]
  },
  {
   "cell_type": "code",
   "execution_count": null,
   "id": "33d545f4-d548-435e-aea1-d7dff901348d",
   "metadata": {},
   "outputs": [],
   "source": [
    "(\n",
    "    sns.barplot(\n",
    "        classCounts.to_pandas(),\n",
    "        x=\"Pclass\",\n",
    "        y=\"counts\",\n",
    "    )\n",
    "    .set(\n",
    "        title=\"Number of Passengers by class\",\n",
    "        xlabel=\"Passneger class\",\n",
    "        ylabel=\"Number of passnegers\"\n",
    "    )\n",
    ")"
   ]
  },
  {
   "cell_type": "markdown",
   "id": "89cabaca-f990-44e1-86ae-a13661d4fe18",
   "metadata": {},
   "source": [
    "## Row chart\n",
    "We plot the same data as a horizontal row chart by switching the `x` and `y` arguments to `sns.barplot`"
   ]
  },
  {
   "cell_type": "code",
   "execution_count": null,
   "id": "20db026b-7419-4568-954f-75ef9956ad01",
   "metadata": {},
   "outputs": [],
   "source": [
    "sns.barplot(\n",
    "    classCounts.to_pandas(),\n",
    "    y=\"Pclass\",\n",
    "    x=\"counts\"\n",
    ")"
   ]
  },
  {
   "cell_type": "markdown",
   "id": "879d3a6e-b778-49ad-a67d-95f5188fc5df",
   "metadata": {},
   "source": [
    "## Grouped bar chart\n",
    "We use the example of the survival rate broken down by passenger class from the lecture on group operations using the `over` window expression"
   ]
  },
  {
   "cell_type": "code",
   "execution_count": null,
   "id": "027536a2-d806-479e-a1b2-150ee1b72b0a",
   "metadata": {},
   "outputs": [],
   "source": [
    "survivedPercentageDf = (\n",
    "    pl.read_csv(csvFile)\n",
    "    .groupby([\"Pclass\",\"Survived\"])\n",
    "    .agg(\n",
    "        pl.col(\"Name\").count().alias(\"counts\")\n",
    "    )\n",
    "    .with_columns(\n",
    "        (100*(pl.col(\"counts\")/pl.col(\"counts\").sum().over(\"Pclass\"))).round(3).alias(\"% Survived\")\n",
    "    )\n",
    "    .sort([\"Pclass\",\"Survived\"])\n",
    ")"
   ]
  },
  {
   "cell_type": "markdown",
   "id": "73e39ee5-6dd1-4131-81df-c61d66d07f70",
   "metadata": {},
   "source": [
    "We create a grouped bar chart with the `sns.catplot` function"
   ]
  },
  {
   "cell_type": "code",
   "execution_count": null,
   "id": "4f6395aa-6427-41d5-918b-5122167ce333",
   "metadata": {},
   "outputs": [],
   "source": [
    "# Draw a grouped barplot by passenger class and survival\n",
    "g = sns.catplot(\n",
    "    data=survivedPercentageDf.to_pandas(), \n",
    "    kind=\"bar\",\n",
    "    x=\"Pclass\", \n",
    "    y=\"% Survived\", \n",
    "    hue=\"Survived\",\n",
    "    palette=\"dark\", \n",
    "    alpha=.6, # Set transparency\n",
    "    height=6\n",
    ")\n",
    "g.set_axis_labels(\"Passenger class\", \"% Survived\")\n",
    "g.legend.set_title(\"Survival\")\n",
    "g.set(title=\"Survival by passenger class\")"
   ]
  },
  {
   "cell_type": "markdown",
   "id": "94f3e3b7-eba8-4c4a-b075-47f3098f8be2",
   "metadata": {},
   "source": [
    "## Scatter plot and plot size\n",
    "We make a scatter plot of `log10(Age)` and `log10(Fare`) with `sns.scatterplot`. We colour the points by passenger class by setting `hue=\"Pclass\"`\n",
    "\n",
    "We do not need to cast to Pandas in this case"
   ]
  },
  {
   "cell_type": "code",
   "execution_count": null,
   "id": "ab989040-1974-4dd1-aa0b-0c6a933a9788",
   "metadata": {},
   "outputs": [],
   "source": [
    "sns.scatterplot(\n",
    "    (\n",
    "        df\n",
    "        .with_columns(\n",
    "            [\n",
    "                pl.col(\"Pclass\").cast(pl.Utf8),\n",
    "                pl.col(\"Age\").log(),\n",
    "                pl.col(\"Fare\").log(),\n",
    "            ]\n",
    "        )\n",
    "    ),\n",
    "    x=\"Age\",\n",
    "    y=\"Fare\",\n",
    "    hue=\"Pclass\"\n",
    ")"
   ]
  },
  {
   "cell_type": "markdown",
   "id": "dabc4a91-1846-4fde-ba70-98a7b6125b33",
   "metadata": {},
   "source": [
    "## Other Seaborn charts\n",
    "Seaborn comes with a variety of charts for more advanced visualisations.\n",
    "\n",
    "In this example we use `sns.jointplot` to look at the scatter plot of `log(Age)` versus `log(Fare)` along with the distribution of each axis by passenger class.\n",
    "\n",
    "We can pass a Polars `DataFrame` directly to this function"
   ]
  },
  {
   "cell_type": "code",
   "execution_count": null,
   "id": "47476f1b-281b-4cbb-baae-031d460f8d5b",
   "metadata": {},
   "outputs": [],
   "source": [
    "sns.jointplot(\n",
    "    data=(\n",
    "        df\n",
    "        .with_columns(\n",
    "            [\n",
    "                pl.col(pl.Float64).log(),\n",
    "                pl.col(\"Pclass\").cast(pl.Utf8)\n",
    "            ]\n",
    "        )\n",
    "    ),\n",
    "    x=\"Age\", \n",
    "    y=\"Fare\", \n",
    "    hue=\"Pclass\",\n",
    ")"
   ]
  },
  {
   "cell_type": "markdown",
   "id": "639e4a31-8830-4639-989c-103150ce4f13",
   "metadata": {},
   "source": [
    "We can also use the Seaborn `sns.pairplot` to create a facet chart that shows relationships between many columns in one overwhelming chart"
   ]
  },
  {
   "cell_type": "code",
   "execution_count": null,
   "id": "1436cd9a-ac17-4d19-a056-1d3bf611308a",
   "metadata": {},
   "outputs": [],
   "source": [
    "sns.pairplot(\n",
    "    data=(\n",
    "        df\n",
    "        .with_columns(\n",
    "            [\n",
    "                pl.col(pl.Float64).log(),\n",
    "                pl.col(\"Pclass\").cast(pl.Utf8)\n",
    "            ]\n",
    "        )\n",
    "        .to_pandas()\n",
    "    ),\n",
    "    hue=\"Pclass\"\n",
    ")"
   ]
  },
  {
   "cell_type": "markdown",
   "id": "d8c0d653-f3ca-4ebb-b140-4a9db77dedc9",
   "metadata": {},
   "source": [
    "## Line chart\n",
    "For the line chart we bring in some new data: a time series of ocean wave heights from the buoys near the stormy coast of Ireland"
   ]
  },
  {
   "cell_type": "code",
   "execution_count": null,
   "id": "28a36b9b-fe2d-4652-bf24-eb880f6d29c3",
   "metadata": {},
   "outputs": [],
   "source": [
    "waveCsvFile = \"../data/wave_data.csv\""
   ]
  },
  {
   "cell_type": "markdown",
   "id": "2e179443-1078-45c0-abb9-65eb65f926d3",
   "metadata": {},
   "source": [
    "We are primarily interested in looking at time series of the `significant_wave_height` column. This measures the wave height in metres at each station (i.e. at each buoy).\n",
    "\n",
    "We show the first two rows of this `DataFrame` here"
   ]
  },
  {
   "cell_type": "code",
   "execution_count": null,
   "id": "34ba01af-04b6-4c9c-a1de-14eb45cf7752",
   "metadata": {},
   "outputs": [],
   "source": [
    "(\n",
    "    pl.read_csv(waveCsvFile)\n",
    "    .with_columns(pl.col(\"time\").str.strptime(pl.Datetime, \"%Y-%m-%dT%TZ\"))\n",
    "    .select([\"time\",\"stationID\",\"significant_wave_height\"])\n",
    "    .head(2)\n",
    ")"
   ]
  },
  {
   "cell_type": "markdown",
   "id": "785d1eac-7fe4-4401-aa4d-212eb4d0ca27",
   "metadata": {},
   "source": [
    "We use `groupby_dynamic` to group the wave data by station and in 1 hour blocks. We take the hourly mean by station.\n",
    "\n",
    "We apply a filter at the end of this query to restrict the plot to the 6 stations with the largest waves"
   ]
  },
  {
   "cell_type": "code",
   "execution_count": null,
   "id": "ae49fdca-f9b3-4d48-972a-5f03704eabe1",
   "metadata": {},
   "outputs": [],
   "source": [
    "stationAggs = (\n",
    "    pl.read_csv(waveCsvFile)\n",
    "    .with_columns(pl.col(\"time\").str.strptime(pl.Datetime, \"%Y-%m-%dT%TZ\"))\n",
    "    .groupby_dynamic('time',every=\"1h\",by=\"stationID\")\n",
    "    .agg(\n",
    "            pl.col(pl.Float64).mean().suffix(\"_mean\"),\n",
    "    )\n",
    "    # Apply a filter to output the stations with the largest waves\n",
    "    .filter(\n",
    "        pl.col('significant_wave_height_mean').mean().over(\"stationID\").rank(method='dense',descending=True) < 7\n",
    "    )\n",
    ")\n",
    "stationAggs.head(3)"
   ]
  },
  {
   "cell_type": "markdown",
   "id": "7e7421ac-e6ed-45f1-b12c-3d91f98c8951",
   "metadata": {},
   "source": [
    "We can now produce a time series plot of this hourly data by station. \n",
    "\n",
    "To do we can again pass a Polars `DataFrame` directly to `sns.lineplot`"
   ]
  },
  {
   "cell_type": "code",
   "execution_count": null,
   "id": "7b2d024b-e5e3-4d37-ba52-684901fb465b",
   "metadata": {},
   "outputs": [],
   "source": [
    "sns.lineplot(\n",
    "    stationAggs,\n",
    "    x=\"time\",\n",
    "    y=\"significant_wave_height_mean\",\n",
    "    hue=\"stationID\",\n",
    ")"
   ]
  },
  {
   "cell_type": "markdown",
   "id": "4ce7f041-be3f-4e83-9bcd-c5c948530d62",
   "metadata": {},
   "source": [
    "We need to make the plot wider to have clear x"
   ]
  },
  {
   "cell_type": "code",
   "execution_count": null,
   "id": "20009b03-6a2e-4216-9372-07896e7f1443",
   "metadata": {},
   "outputs": [],
   "source": [
    "fig, ax = plt.subplots(figsize=(12, 5))\n",
    "\n",
    "sns.lineplot(\n",
    "    stationAggs,\n",
    "    x=\"time\",\n",
    "    y=\"significant_wave_height_mean\",\n",
    "    hue=\"stationID\",\n",
    "    ax=ax\n",
    ")"
   ]
  },
  {
   "cell_type": "markdown",
   "id": "674218ce-e169-498b-9f31-4b9e76907d80",
   "metadata": {},
   "source": [
    "The chart shows the arrival of some large waves on 25th September 2022"
   ]
  },
  {
   "cell_type": "markdown",
   "id": "b7ad093c-013a-49e0-9816-aef868a6c621",
   "metadata": {},
   "source": [
    "## Exercises\n",
    "In the exercises you will develop your understanding of:\n",
    "- creating a range of charts with Seaborn\n",
    "- creating charts with control over axis labels and sizing\n",
    "\n",
    "### Exercise 1\n",
    "Make a bar chart of the `SibSp` column showing how many passengers there are with 0,1,2 etc siblings. Ensure the chart is correctly ordered in the number of siblings (that means the x-axis must be in order from 0,1,2 etc)\n",
    "\n",
    "Expand the following cell if you want some hints"
   ]
  },
  {
   "cell_type": "code",
   "execution_count": null,
   "id": "5562e1cc-fe07-4ec6-b92b-982d459829f2",
   "metadata": {
    "tags": []
   },
   "outputs": [],
   "source": [
    "#Hint 1: Do a value counts on the `SibSp` column\n",
    "#Hint 2: Cast the `SibSp` column to string"
   ]
  },
  {
   "cell_type": "code",
   "execution_count": null,
   "id": "896c6e04-91df-4e7f-b75f-abb4e70860cb",
   "metadata": {},
   "outputs": [],
   "source": [
    "df = pl.read_csv(csvFile)"
   ]
  },
  {
   "cell_type": "code",
   "execution_count": null,
   "id": "838e072c-90d7-45fd-8e2b-3c053346ea67",
   "metadata": {},
   "outputs": [],
   "source": []
  },
  {
   "cell_type": "markdown",
   "id": "8170a691-6cdc-4271-85ac-272026b01ecf",
   "metadata": {},
   "source": [
    "### Exercise 2\n",
    "Inspect the columns in the stationsAggs`DataFrame` below. Note the `mean_wave_period_mean` column that has the mean wave period (the time between wave crests) in seconds."
   ]
  },
  {
   "cell_type": "code",
   "execution_count": null,
   "id": "53166b34-4aec-4701-ae60-b57ebf834010",
   "metadata": {
    "jupyter": {
     "source_hidden": true
    }
   },
   "outputs": [],
   "source": [
    "stationAggs = (\n",
    "    pl.read_csv(waveCsvFile)\n",
    "    .with_columns(pl.col(\"time\").str.strptime(pl.Datetime, \"%Y-%m-%dT%TZ\"))\n",
    "    .groupby_dynamic('time',every=\"1h\",by=\"stationID\")\n",
    "    .agg(\n",
    "            pl.col(pl.Float64).mean().suffix(\"_mean\"),\n",
    "    )\n",
    "    # Apply a filter to output the stations with the largest waves\n",
    "    .filter(\n",
    "        pl.col('significant_wave_height_mean').mean().over(\"stationID\").rank(method='dense',descending=True) < 7\n",
    "    )\n",
    ")\n",
    "stationAggs.head(3)"
   ]
  },
  {
   "cell_type": "markdown",
   "id": "6916ee77-81ce-430c-9e1e-78fefc0cb9c1",
   "metadata": {},
   "source": [
    "Make a time series plot of the mean wave period showing it has a similar pattern to the wave height plot above"
   ]
  },
  {
   "cell_type": "code",
   "execution_count": null,
   "id": "90bfd2e6-0b7a-4c85-ab62-12cc7e7b5263",
   "metadata": {},
   "outputs": [],
   "source": []
  },
  {
   "cell_type": "markdown",
   "id": "e06e931e-02c3-4fb1-abb1-288f3f2cabcc",
   "metadata": {},
   "source": [
    "Now make a scatter plot with:\n",
    "- the significant wave height on the x-axis\n",
    "- the mean wave period on the y-axis\n",
    "- coloured by station"
   ]
  },
  {
   "cell_type": "code",
   "execution_count": null,
   "id": "be011bec-0f6f-40ee-9930-5a9ededaab30",
   "metadata": {},
   "outputs": [],
   "source": []
  },
  {
   "cell_type": "markdown",
   "id": "7d0dc246-4b18-4907-96c6-c917c525b68b",
   "metadata": {},
   "source": [
    "Add labels and a title:\n",
    "- on the x-axis \"Wave height (m)\"\n",
    "- on the y-axis \"Wave period (s)\"\n",
    "- on the color axis \"Station ID\"\n",
    "- for the title \"Wave height versus period\""
   ]
  },
  {
   "cell_type": "code",
   "execution_count": null,
   "id": "c95c505f-9b2e-4f76-9fdb-351b39f06326",
   "metadata": {},
   "outputs": [],
   "source": []
  },
  {
   "cell_type": "markdown",
   "id": "3e8a0ff9-2185-49e4-b8d9-759a26384254",
   "metadata": {},
   "source": [
    "## Solutions\n",
    "### Solution to exercise 1\n",
    "Make a bar chart of the `SibSp` column showing how many passengers there are with 0,1,2 etc siblings. Ensure the chart is correctly ordered in the number of siblings (that means the x-axis must be in order from 0,1,2 etc)\n",
    "\n",
    "Expand the following cell if you want some hints"
   ]
  },
  {
   "cell_type": "code",
   "execution_count": null,
   "id": "7601a2be-1197-4856-afcc-927607e756b2",
   "metadata": {
    "tags": []
   },
   "outputs": [],
   "source": [
    "#Hint 1: Do a value counts on the `SibSp` column\n",
    "#Hint 2: Cast the `SibSp` column to string"
   ]
  },
  {
   "cell_type": "code",
   "execution_count": null,
   "id": "cbbcee10-6c3d-444b-97e3-7428e195662a",
   "metadata": {
    "jupyter": {
     "source_hidden": true
    },
    "scrolled": true,
    "tags": []
   },
   "outputs": [],
   "source": [
    "siblingCount = (\n",
    "    df[\"SibSp\"]\n",
    "    .value_counts()\n",
    "    .with_columns(\n",
    "        pl.col(\"SibSp\").cast(pl.Utf8)\n",
    "    )\n",
    "    .sort(\"SibSp\")\n",
    ")\n",
    "(\n",
    "    sns.barplot(\n",
    "        data=siblingCount.to_pandas(),\n",
    "        x=\"SibSp\",\n",
    "        y=\"counts\"\n",
    "    )\n",
    ")        "
   ]
  },
  {
   "cell_type": "markdown",
   "id": "9383c9f3-bae2-4a20-9a3c-8aecf9b3d4cf",
   "metadata": {},
   "source": [
    "### Solution to Exercise 2\n",
    "\n",
    "Inspect the columns in the stationsAggs `DataFrame`. Note the `mean_wave_period_mean` column that has the mean wave period (the time between wave crests) in seconds.\n",
    "\n",
    "Make a time series plot of the mean wave period showing it has a similar pattern to the wave height plot above"
   ]
  },
  {
   "cell_type": "code",
   "execution_count": null,
   "id": "1d2ecae3-7080-455b-bd97-ba004e531bc2",
   "metadata": {
    "jupyter": {
     "source_hidden": true
    },
    "tags": []
   },
   "outputs": [],
   "source": [
    "sns.lineplot(\n",
    "    stationAggs,\n",
    "    x=\"time\",\n",
    "    y=\"mean_wave_period_mean\",\n",
    "    hue=\"stationID\"\n",
    ")"
   ]
  },
  {
   "cell_type": "markdown",
   "id": "351de5f4-dddd-4f79-a54a-7673e66e35cd",
   "metadata": {},
   "source": [
    "Make a scatter plot with:\n",
    "- the significant wave height on the x-axis\n",
    "- the mean wave period on the y-axis\n",
    "- coloured by station with a legend"
   ]
  },
  {
   "cell_type": "code",
   "execution_count": null,
   "id": "71bc409e-b595-4edb-87dc-805ba17719e6",
   "metadata": {
    "jupyter": {
     "source_hidden": true
    },
    "tags": []
   },
   "outputs": [],
   "source": [
    "sns.scatterplot(\n",
    "    stationAggs,\n",
    "    x=\"significant_wave_height_mean\",\n",
    "    y=\"mean_wave_period_mean\",\n",
    "    hue=\"stationID\"\n",
    ")"
   ]
  },
  {
   "cell_type": "markdown",
   "id": "f9699a96-f8db-4d3e-8922-566ef2b8319d",
   "metadata": {
    "jupyter": {
     "source_hidden": true
    }
   },
   "source": [
    "Add labels and a title:\n",
    "- on the x-axis \"Wave height (m)\"\n",
    "- on the y-axis \"Wave period (s)\"\n",
    "- on the color axis \"Station ID\"\n",
    "- for the title \"Wave height versus period\""
   ]
  },
  {
   "cell_type": "code",
   "execution_count": null,
   "id": "0c8a5b48-806d-47c5-861b-1c86120016ca",
   "metadata": {
    "jupyter": {
     "source_hidden": true
    },
    "tags": []
   },
   "outputs": [],
   "source": [
    "sns.scatterplot(\n",
    "    stationAggs,\n",
    "    x=\"significant_wave_height_mean\",\n",
    "    y=\"mean_wave_period_mean\",\n",
    "    hue=\"stationID\",\n",
    ").set(xlabel='Wave height (m)', ylabel='Wave period (s)',title=\"Wave height versus period\")\n",
    "plt.legend(title=\"Station ID\")"
   ]
  }
 ],
 "metadata": {
  "kernelspec": {
   "display_name": "Python 3 (ipykernel)",
   "language": "python",
   "name": "python3"
  },
  "language_info": {
   "codemirror_mode": {
    "name": "ipython",
    "version": 3
   },
   "file_extension": ".py",
   "mimetype": "text/x-python",
   "name": "python",
   "nbconvert_exporter": "python",
   "pygments_lexer": "ipython3",
   "version": "3.10.9"
  }
 },
 "nbformat": 4,
 "nbformat_minor": 5
}
