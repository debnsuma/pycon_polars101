{
 "cells": [
  {
   "cell_type": "markdown",
   "id": "b06a7473-8d52-4c0d-b469-37add3272a53",
   "metadata": {},
   "source": [
    "# Filtering rows 2: Using `filter` and the Expression API\n",
    "\n",
    "By the end of this lecture you will be able to:\n",
    "- select rows with the `filter` method\n",
    "- add a row number column\n",
    "- select rows with multiple conditions\n",
    "- explain the difference between `[]` and `filter`\n",
    "\n",
    "The `filter` method is our first example of the *Expression API*.\n",
    "\n",
    "_**Learning to use the *Expression API* is the most important step to writing high performance queries in Polars**_\n"
   ]
  },
  {
   "cell_type": "code",
   "execution_count": null,
   "id": "9fd758ec-0727-4c1e-87ae-04fd47b267b6",
   "metadata": {
    "tags": []
   },
   "outputs": [],
   "source": [
    "import polars as pl"
   ]
  },
  {
   "cell_type": "code",
   "execution_count": null,
   "id": "43c1d48b-a1cc-4374-bfd5-83817c491923",
   "metadata": {
    "tags": []
   },
   "outputs": [],
   "source": [
    "csvFile = \"../data/titanic.csv\""
   ]
  },
  {
   "cell_type": "code",
   "execution_count": null,
   "id": "23ec4b89-5819-4654-a3c8-d43a7a7b31fd",
   "metadata": {
    "tags": []
   },
   "outputs": [],
   "source": [
    "df = pl.read_csv(csvFile)\n",
    "df.head(3)"
   ]
  },
  {
   "cell_type": "markdown",
   "id": "c7ee8c91-cfd2-42a4-8c15-cc0e6a2215f7",
   "metadata": {},
   "source": [
    "## Selecting rows with `filter`\n",
    "\n",
    "We first use an *expression* in the `filter` method before we examine the syntax in more detail.\n",
    "\n",
    "In this example we choose all the first class passengers."
   ]
  },
  {
   "cell_type": "code",
   "execution_count": null,
   "id": "565f8f0e-b6de-4f03-8bba-e347eb96588b",
   "metadata": {
    "tags": []
   },
   "outputs": [],
   "source": [
    "df.filter(\n",
    "    pl.col('Pclass') == 1\n",
    ").head(3)"
   ]
  },
  {
   "cell_type": "markdown",
   "id": "4bcfcb0f-cf3e-4103-90a9-7091f4fc4052",
   "metadata": {},
   "source": [
    "## Syntax of `filter`\n",
    "Inside the `filter` method we pass our first _**expression**_ and apply a Boolean condition to it:\n",
    "\n",
    "`pl.col('Pclass') == 1`\n",
    "\n",
    "This expression has two parts:\n",
    "- `pl.col('Pclass')` expression selects the `Pclass` column from `df`\n",
    "- `== 1` applies a Boolean condition to this expression\n",
    "\n",
    "In this example we choose all rows with the number of parents & children (`Parch`) is greater than 1"
   ]
  },
  {
   "cell_type": "code",
   "execution_count": null,
   "id": "0ed1dc92-b8e0-42f2-b624-14c354bc6455",
   "metadata": {
    "tags": []
   },
   "outputs": [],
   "source": [
    "df.filter(\n",
    "    pl.col('Parch') > 1\n",
    ").head(3)"
   ]
  },
  {
   "cell_type": "markdown",
   "id": "3798de4e-44f2-4087-8af7-405848494ce6",
   "metadata": {},
   "source": [
    "## Key differences between `[]` and `filter`\n",
    "\n",
    "- `[]` indexing can only be used in eager mode, `filter` can also be used in lazy mode\n",
    "- `filter` expressions can be **optimised** in lazy mode by the query optimiser\n",
    "\n",
    "Use cases for `[]`:\n",
    "- inspecting data in interactive mode\n",
    "\n",
    "Use cases for `filter`:\n",
    "- all other times"
   ]
  },
  {
   "cell_type": "markdown",
   "id": "981c0392-3dbe-4f89-b0ae-d71d92f782ba",
   "metadata": {},
   "source": [
    "### Conditions based on row numbers\n",
    "\n",
    "We can add an explicit row number column using `with_row_count` on a `DataFrame`"
   ]
  },
  {
   "cell_type": "code",
   "execution_count": null,
   "id": "37a1d007-a652-4e0c-9685-18821d7b6e89",
   "metadata": {
    "tags": []
   },
   "outputs": [],
   "source": [
    "df = pl.read_csv(csvFile)\n",
    "df = df.with_row_count(name='row_number')\n",
    "df.head(3)"
   ]
  },
  {
   "cell_type": "markdown",
   "id": "db593ef1-e1c0-4480-93cb-75a3ff3779ef",
   "metadata": {},
   "source": [
    "We can then use `filter` to apply a condition based on row number"
   ]
  },
  {
   "cell_type": "code",
   "execution_count": null,
   "id": "570a7939-eb47-4723-968e-1e0ce0b618fe",
   "metadata": {
    "tags": []
   },
   "outputs": [],
   "source": [
    "df.filter(\n",
    "    pl.col('row_number') < 4\n",
    ")"
   ]
  },
  {
   "cell_type": "markdown",
   "id": "b005c15d-86d7-449b-977c-780810f62146",
   "metadata": {},
   "source": [
    "## Select rows with multiple conditions\n",
    "\n",
    "### Apply `AND` conditions\n",
    "\n",
    "We can apply filter `AND` conditions by **chaining** calls to `filter`."
   ]
  },
  {
   "cell_type": "code",
   "execution_count": null,
   "id": "ecb9410d-dfc6-4845-aea6-5378d9b1a66f",
   "metadata": {
    "tags": []
   },
   "outputs": [],
   "source": [
    "dfFiltered = (\n",
    "    pl.read_csv(csvFile)\n",
    "    .filter(\n",
    "        pl.col('Pclass') == 1\n",
    "    )\n",
    "    .filter(\n",
    "        pl.col('Age') > 70\n",
    "    )\n",
    ")\n",
    "dfFiltered.head(3)"
   ]
  },
  {
   "cell_type": "markdown",
   "id": "5662c5bd-1d16-4da9-8e75-146dc37c7c6a",
   "metadata": {},
   "source": [
    "In eager mode chaining requires scanning the `DataFrame` for each `filter` call.\n",
    "\n",
    "It is better to **concatenate** multiple `AND` conditions in a single `filter` call using `&`"
   ]
  },
  {
   "cell_type": "code",
   "execution_count": null,
   "id": "efd6e69a-8b42-42af-90eb-098fa3a3a90e",
   "metadata": {
    "tags": []
   },
   "outputs": [],
   "source": [
    "df.filter(\n",
    "    (pl.col('Age') > 70) & (pl.col('Pclass') == 1)\n",
    ").head(3)"
   ]
  },
  {
   "cell_type": "markdown",
   "id": "49f7c1ce-d67f-49e2-ac8e-e4ea8ab418ea",
   "metadata": {},
   "source": [
    "### Apply `AND` condition on a range\n",
    "\n",
    "We use `in_between` to apply a condition on a range. In this case we are looking for values **greater than or equal to** 10 and **less than or equal to** 13"
   ]
  },
  {
   "cell_type": "code",
   "execution_count": null,
   "id": "f58fbbfc-264e-4faa-bb38-5c9b5a941f4f",
   "metadata": {},
   "outputs": [],
   "source": [
    "(\n",
    "    df\n",
    "    .filter(\n",
    "        pl.col(\"Age\").is_between(10,13)\n",
    "    )\n",
    ")"
   ]
  },
  {
   "cell_type": "markdown",
   "id": "21471e07-3e6f-4e1f-a4de-3b00de6f87b4",
   "metadata": {},
   "source": [
    "We use the `closed` argument to specify if we want the range to be open, closed on both sides or open on the left or right. The default is for the range to be closed (with a value of `\"both\"`). \n",
    "\n",
    "In this example we are looking for values from 10 to 13 exclusive of the boundaries"
   ]
  },
  {
   "cell_type": "code",
   "execution_count": null,
   "id": "3b7de932-c207-4435-ac9b-298f38ac9f0b",
   "metadata": {},
   "outputs": [],
   "source": [
    "(\n",
    "    df\n",
    "    .filter(\n",
    "        pl.col(\"Age\").is_between(10,13,closed=\"none\")\n",
    "    )\n",
    ")"
   ]
  },
  {
   "cell_type": "markdown",
   "id": "2f1610a5-8326-40c9-a890-59a97fff67f3",
   "metadata": {},
   "source": [
    "### Apply `OR` conditions\n",
    "\n",
    "We can apply an OR filter using the pipe `|` operator"
   ]
  },
  {
   "cell_type": "code",
   "execution_count": null,
   "id": "8f48cef1-7bdc-47de-9c8f-267bd4592910",
   "metadata": {
    "tags": []
   },
   "outputs": [],
   "source": [
    "df.filter(\n",
    "    (pl.col('Age') > 70) | (pl.col('Pclass') == 1)\n",
    ").head(3)"
   ]
  },
  {
   "cell_type": "markdown",
   "id": "f070fc5d-f3b9-4696-a767-6ab3fc940a40",
   "metadata": {},
   "source": [
    "If our `OR` statement is only testing for equality on a single column we can use `is_in`"
   ]
  },
  {
   "cell_type": "code",
   "execution_count": null,
   "id": "fd5f4951-d37c-4b6e-875a-f176a8b2fa75",
   "metadata": {},
   "outputs": [],
   "source": [
    "df.filter(\n",
    "    pl.col('Pclass').is_in([2,3])\n",
    ").head(3)"
   ]
  },
  {
   "cell_type": "markdown",
   "id": "94787c49-833d-4b79-9efe-301d49511ec1",
   "metadata": {},
   "source": [
    "# Exercises\n",
    "In the exercises you will develop your understanding of\n",
    "- using the `filter` method\n",
    "- adding a row number column\n",
    "- using the `filter` method with `AND` and `OR` conditions"
   ]
  },
  {
   "cell_type": "markdown",
   "id": "7e114028-cf26-4773-9078-1e68d9221b50",
   "metadata": {},
   "source": [
    "### Exercise 1 \n",
    "Select all rows where `Age` is greater than 30"
   ]
  },
  {
   "cell_type": "code",
   "execution_count": null,
   "id": "3979c416-8da6-44cc-8408-a5930159bdd4",
   "metadata": {
    "tags": []
   },
   "outputs": [],
   "source": [
    "(\n",
    "    pl.read_csv(csvFile)\n",
    "    <blank>\n",
    ")"
   ]
  },
  {
   "cell_type": "markdown",
   "id": "638d7719-579c-421d-8643-13fc3c43c7d0",
   "metadata": {},
   "source": [
    "### Exercise 2 \n",
    "\n",
    "In this exercise we filter on row numbers.\n",
    "\n",
    "First add a row number column"
   ]
  },
  {
   "cell_type": "code",
   "execution_count": null,
   "id": "1ba4e8a1-981d-44ed-b34e-1b54d889c5d1",
   "metadata": {
    "tags": []
   },
   "outputs": [],
   "source": [
    "(\n",
    "    pl.read_csv(csvFile)\n",
    "    <blank>\n",
    ")"
   ]
  },
  {
   "cell_type": "markdown",
   "id": "f5ad5471-a7dd-4771-8a4d-40868b27e15f",
   "metadata": {},
   "source": [
    "Continue by selecting the first 5 rows using `filter` on the row number column"
   ]
  },
  {
   "cell_type": "code",
   "execution_count": null,
   "id": "6a660dae-bf35-4958-83d8-5a629cf55fd7",
   "metadata": {
    "tags": []
   },
   "outputs": [],
   "source": []
  },
  {
   "cell_type": "markdown",
   "id": "80813ac1-611a-4b9a-b39a-b1479f076d71",
   "metadata": {},
   "source": [
    "### Exercise 3\n",
    "\n",
    "Select all rows where `Age` is greater than 30 and the passenger was in 2nd class"
   ]
  },
  {
   "cell_type": "code",
   "execution_count": null,
   "id": "35403f8f-1920-4922-91f9-c6e2a5b47d7b",
   "metadata": {
    "tags": []
   },
   "outputs": [],
   "source": [
    "(\n",
    "    pl.read_csv(csvFile)\n",
    "    .filter(<blank>)\n",
    "    .head(3)\n",
    ")"
   ]
  },
  {
   "cell_type": "markdown",
   "id": "8bac7ff3-d346-429a-a5a3-0e2c50090c46",
   "metadata": {},
   "source": [
    "### Exercise 4 \n",
    "Select all rows where `Age` is less than or equal 5 *or* `Age` is greater than 75"
   ]
  },
  {
   "cell_type": "code",
   "execution_count": null,
   "id": "854a0f82-2947-4a20-a53c-e9e661d566c9",
   "metadata": {
    "tags": []
   },
   "outputs": [],
   "source": [
    "(\n",
    "    pl.read_csv(csvFile)\n",
    "    .filter(<blank>)\n",
    "    .head(3)\n",
    ")"
   ]
  },
  {
   "cell_type": "markdown",
   "id": "53039c6f-c4bf-4f64-853d-7dc515571dc7",
   "metadata": {},
   "source": [
    "Select all rows where `Age` is in between 5 and 75 including the upper boundary "
   ]
  },
  {
   "cell_type": "code",
   "execution_count": null,
   "id": "ab5dd6e5-b864-4163-ac8a-223d25f5ae49",
   "metadata": {},
   "outputs": [],
   "source": [
    "(\n",
    "    pl.read_csv(csvFile)\n",
    "    .filter(<blank>)\n",
    "    .head(3)\n",
    ")"
   ]
  },
  {
   "cell_type": "markdown",
   "id": "acd99200-37a9-4b7c-a2d8-25625290a26c",
   "metadata": {},
   "source": [
    "## Solutions\n",
    "\n",
    "### Solution to Exercise 1\n",
    "Select all rows with `Age` greater than 30"
   ]
  },
  {
   "cell_type": "code",
   "execution_count": null,
   "id": "76586b11-4e98-4d97-a043-71932d85de84",
   "metadata": {
    "jupyter": {
     "source_hidden": true
    },
    "tags": []
   },
   "outputs": [],
   "source": [
    "(\n",
    "    pl.read_csv(csvFile)\n",
    "    .filter(pl.col('Age') > 30)\n",
    "    .head(3)\n",
    ")"
   ]
  },
  {
   "cell_type": "markdown",
   "id": "bc49cd90-a8e6-41b7-951b-2c752fc00c36",
   "metadata": {},
   "source": [
    "### Solution to Exercise 2\n",
    "Add a row number column"
   ]
  },
  {
   "cell_type": "code",
   "execution_count": null,
   "id": "d40af2d5-1553-4553-8b83-079a7969bdea",
   "metadata": {
    "jupyter": {
     "source_hidden": true
    },
    "tags": []
   },
   "outputs": [],
   "source": [
    "(\n",
    "    pl.read_csv(csvFile)\n",
    "    .with_row_count(\"row_nr\")\n",
    ")"
   ]
  },
  {
   "cell_type": "markdown",
   "id": "e597abf1-29dc-47e9-8431-0c2179f7c9ed",
   "metadata": {},
   "source": [
    "Continue by selecting the first 5 rows using `filter` on the row number column"
   ]
  },
  {
   "cell_type": "code",
   "execution_count": null,
   "id": "6181aa22-0bf3-4f7b-b9a4-edcfbd6ba237",
   "metadata": {
    "jupyter": {
     "source_hidden": true
    },
    "tags": []
   },
   "outputs": [],
   "source": [
    "(\n",
    "    pl.read_csv(csvFile)\n",
    "    .with_row_count(\"row_nr\")\n",
    "    .filter(pl.col(\"row_nr\")<5)\n",
    ")"
   ]
  },
  {
   "cell_type": "markdown",
   "id": "3f082e33-52b9-4445-9e7b-5ba1c94d4e98",
   "metadata": {},
   "source": [
    "### Solution to Exercise 3\n",
    "Select all rows where `Age` is greater than 30 and the passenger was in 2nd class"
   ]
  },
  {
   "cell_type": "code",
   "execution_count": null,
   "id": "8c7a0969-d162-4df4-bed6-411acaa1bc93",
   "metadata": {
    "jupyter": {
     "source_hidden": true
    },
    "tags": []
   },
   "outputs": [],
   "source": [
    "(\n",
    "    pl.read_csv(csvFile)\n",
    "    .filter(\n",
    "        (pl.col('Age') > 30) & (pl.col('Pclass')==2)\n",
    "    )\n",
    "    .head(3)\n",
    ")"
   ]
  },
  {
   "cell_type": "markdown",
   "id": "a0b2b377-849f-4eeb-bf84-cd5b91343ba0",
   "metadata": {},
   "source": [
    "### Solution to Exercise 4\n",
    "Select all rows where `Age` is less than or equal 5 *or* `Age` is greater than 75"
   ]
  },
  {
   "cell_type": "code",
   "execution_count": null,
   "id": "bf7386ca-436a-4c8e-b3a6-0f34b1495154",
   "metadata": {
    "jupyter": {
     "source_hidden": true
    },
    "tags": []
   },
   "outputs": [],
   "source": [
    "(\n",
    "    pl.read_csv(csvFile)\n",
    "    .filter( (pl.col(\"Age\") <= 5) | (pl.col(\"Age\") > 75) )\n",
    "    .head(3)\n",
    ")"
   ]
  },
  {
   "cell_type": "code",
   "execution_count": null,
   "id": "b6dd9725-d8b3-481c-b840-d77af2b0c9a4",
   "metadata": {
    "jupyter": {
     "source_hidden": true
    },
    "tags": []
   },
   "outputs": [],
   "source": [
    "(\n",
    "    pl.read_csv(csvFile)\n",
    "    .filter( pl.col(\"Age\").is_between(5,75,closed=\"right\") )\n",
    "    .head(3)\n",
    ")"
   ]
  },
  {
   "cell_type": "code",
   "execution_count": null,
   "id": "8cccc60d-091c-4560-93db-45a1a146f6d3",
   "metadata": {},
   "outputs": [],
   "source": []
  }
 ],
 "metadata": {
  "kernelspec": {
   "display_name": "Python 3 (ipykernel)",
   "language": "python",
   "name": "python3"
  },
  "language_info": {
   "codemirror_mode": {
    "name": "ipython",
    "version": 3
   },
   "file_extension": ".py",
   "mimetype": "text/x-python",
   "name": "python",
   "nbconvert_exporter": "python",
   "pygments_lexer": "ipython3",
   "version": "3.10.9"
  }
 },
 "nbformat": 4,
 "nbformat_minor": 5
}
