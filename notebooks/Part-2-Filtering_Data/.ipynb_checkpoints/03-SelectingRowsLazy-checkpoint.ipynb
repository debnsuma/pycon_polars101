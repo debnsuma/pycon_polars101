{
 "cells": [
  {
   "cell_type": "markdown",
   "id": "b06a7473-8d52-4c0d-b469-37add3272a53",
   "metadata": {},
   "source": [
    "# Filtering rows 3: using `filter` in lazy mode\n",
    "By the end of this section we will learn how to:\n",
    "- use `filter` in lazy mode\n",
    "- understand the optimized and non-optimized query plans\n",
    "- combine mulitiple conditions in lazy mode"
   ]
  },
  {
   "cell_type": "code",
   "execution_count": null,
   "id": "9fd758ec-0727-4c1e-87ae-04fd47b267b6",
   "metadata": {
    "tags": []
   },
   "outputs": [],
   "source": [
    "import polars as pl"
   ]
  },
  {
   "cell_type": "code",
   "execution_count": null,
   "id": "43c1d48b-a1cc-4374-bfd5-83817c491923",
   "metadata": {
    "tags": []
   },
   "outputs": [],
   "source": [
    "csvFile = \"../data/titanic.csv\""
   ]
  },
  {
   "cell_type": "markdown",
   "id": "495cd62d-7e52-4dae-ad6d-63914075fe5f",
   "metadata": {},
   "source": [
    "Create a `LazyFrame` by scanning the CSV"
   ]
  },
  {
   "cell_type": "code",
   "execution_count": null,
   "id": "23ec4b89-5819-4654-a3c8-d43a7a7b31fd",
   "metadata": {
    "tags": []
   },
   "outputs": [],
   "source": [
    "df = pl.scan_csv(csvFile)\n",
    "df"
   ]
  },
  {
   "cell_type": "markdown",
   "id": "2f2a23f0-91cd-4f45-87b9-74f245ff8dca",
   "metadata": {},
   "source": [
    "This output is the non-optimized `naive` query plan.\n",
    "\n",
    "## `filter` in lazy mode\n",
    "\n",
    "When we apply a `filter` in lazy mode a `FILTER` line is added to the `naive` query plan."
   ]
  },
  {
   "cell_type": "code",
   "execution_count": null,
   "id": "990e4e0d-818c-4b77-bfb0-60c35c5c1111",
   "metadata": {
    "tags": []
   },
   "outputs": [],
   "source": [
    "df = (\n",
    "    pl.scan_csv(csvFile)\n",
    "    .filter(pl.col(\"Age\") > 30)\n",
    ")\n",
    "df"
   ]
  },
  {
   "cell_type": "markdown",
   "id": "2b61cfdf-31cf-430a-bbbc-1b3614506e9e",
   "metadata": {},
   "source": [
    "All query plans are read from bottom to top. \n",
    "\n",
    "We examine this non-optimized query plan first. \n",
    "\n",
    "The components of the query plan are separated by `FROM`. Where you see `FROM` Polars creates a dataframe internally when executing the query plan.\n",
    "\n",
    "### First stage\n",
    "In this non-optimized query plan the first stage (before `FROM` when reading from the bottom) is:\n",
    "`CSV SCAN ../data/titanic.csv\n",
    "PROJECT */12 COLUMNS\n",
    "`\n",
    "\n",
    "and this means:\n",
    "- `CSV SCAN` where Polars reads the CSV line-by-line\n",
    "- `PROJECT */12 COLUMNS` reads all 12 of the columns from the CSV (`*` is a wildcard meaning all)\n",
    "\n",
    "### Second stage\n",
    "In this non-optimized query plan the second stage is:\n",
    "`FILTER [(col(\"Age\")) > (30i32)] FROM`\n",
    "\n",
    "states that **once the entire CSV file has been read into memory** as a `DataFrame`:\n",
    "- the `DataFrame` will be filtered for rows with `Age` greater than 30\n",
    "\n",
    "## Inspecting the optimized query plan\n",
    "We compare this with the optimized query plan that Polars will actually run when the `LazyFrame` is evaluated with `collect` or `fetch`.\n",
    "\n",
    "We need to `print` the output of `explain` to format it correctly."
   ]
  },
  {
   "cell_type": "code",
   "execution_count": null,
   "id": "f74ba351-3101-43f5-b710-ea0d5c1623be",
   "metadata": {
    "tags": []
   },
   "outputs": [],
   "source": [
    "df = (\n",
    "    pl.scan_csv(csvFile)\n",
    "    .filter(\n",
    "        pl.col(\"Age\") > 30\n",
    "    )\n",
    ")\n",
    "print(df.explain())"
   ]
  },
  {
   "cell_type": "markdown",
   "id": "95e32d85-2ad3-4773-9e7e-5d2c44028284",
   "metadata": {},
   "source": [
    "The `CSV SCAN` and `PROJECT` parts have not changed relative to the non-optimised plan. However:\n",
    "\n",
    "`SELECTION: [(col(\"Age\")) > (30.0)]` shows that Polars will apply the filter on the `Age` column **as the CSV is being read**.\n",
    "\n",
    "For emphasis: in the optimized plan only the rows of the CSV that meet the filter conditions are read into a `DataFrame`. This is memory efficient."
   ]
  },
  {
   "cell_type": "markdown",
   "id": "3403a930-5f11-459f-bef1-e0220dbf7c11",
   "metadata": {},
   "source": [
    "### Multiple conditions in lazy mode\n",
    "In *lazy mode* if we pass multiple `filter` calls then the query optimizer combines these into a *single condition* inside `SELECTION`.\n",
    "\n",
    "In this example we filter for first class passengers over the age of 70."
   ]
  },
  {
   "cell_type": "code",
   "execution_count": null,
   "id": "53c6558a-67a0-496f-b80f-2e17999f31d1",
   "metadata": {
    "tags": []
   },
   "outputs": [],
   "source": [
    "df = (\n",
    "    pl.scan_csv(csvFile)\n",
    "    .filter(\n",
    "        pl.col('Pclass')==1\n",
    "    )\n",
    "    .filter(\n",
    "        (pl.col('Age') > 70)\n",
    "    )\n",
    ")\n",
    "print(df.explain())"
   ]
  },
  {
   "cell_type": "markdown",
   "id": "11e79823-df64-4864-b6dc-b6fd9b45279e",
   "metadata": {},
   "source": [
    "## Exercises\n",
    "In the exercises you will develop your understanding of:\n",
    "- using the `filter` method in lazy mode\n",
    "- interpreting optimized query plans\n",
    "- applying multiple conditions\n",
    "\n",
    "### Exercise 1\n",
    "Create a `LazyFrame` rows where `Fare` is greater than 10"
   ]
  },
  {
   "cell_type": "code",
   "execution_count": null,
   "id": "3979c416-8da6-44cc-8408-a5930159bdd4",
   "metadata": {
    "tags": []
   },
   "outputs": [],
   "source": [
    "(\n",
    "    pl.<blank>(csvFile)\n",
    "    <blank>\n",
    ")"
   ]
  },
  {
   "cell_type": "markdown",
   "id": "feb3289d-addc-4121-b0b1-28cd05c3fc36",
   "metadata": {},
   "source": [
    "Print out the optimized query plan and confirm the `SELECTION` is updated"
   ]
  },
  {
   "cell_type": "code",
   "execution_count": null,
   "id": "ddd445a9-684b-48e9-9f6c-0737f581cbab",
   "metadata": {
    "tags": []
   },
   "outputs": [],
   "source": []
  },
  {
   "cell_type": "markdown",
   "id": "ec0637a4-5fad-446c-88cd-c9b7f67f4a36",
   "metadata": {},
   "source": [
    "Evaluate this query for the first 10 rows"
   ]
  },
  {
   "cell_type": "code",
   "execution_count": null,
   "id": "c0ef9a26-fc18-418c-a972-729cb9d2f65b",
   "metadata": {
    "tags": []
   },
   "outputs": [],
   "source": []
  },
  {
   "cell_type": "markdown",
   "id": "3f4256c0-868c-4878-85a2-eaf501ce1289",
   "metadata": {},
   "source": [
    "### Exercise 2 \n",
    "Create a `LazyFrame` where `Age` is greater than 30 and the passenger is in 2nd class"
   ]
  },
  {
   "cell_type": "code",
   "execution_count": null,
   "id": "919561ac-e2ed-450c-aca8-c1a885e6652a",
   "metadata": {
    "tags": []
   },
   "outputs": [],
   "source": [
    "(\n",
    "    pl.<blank>(csvFile)\n",
    "    <blank>\n",
    ")"
   ]
  },
  {
   "cell_type": "markdown",
   "id": "8c9c465d-5d73-44f0-b9b4-8caa922c1e83",
   "metadata": {},
   "source": [
    "Print out the optimized query plan and confirm the `SELECTION` is updated"
   ]
  },
  {
   "cell_type": "code",
   "execution_count": null,
   "id": "06522d91-2880-4afb-8b61-bb6288908b17",
   "metadata": {},
   "outputs": [],
   "source": []
  },
  {
   "cell_type": "markdown",
   "id": "8fddd550-96d6-4e6d-837f-9ea407a3fae0",
   "metadata": {},
   "source": [
    "Evaluate this query for the full `DataFrame`"
   ]
  },
  {
   "cell_type": "code",
   "execution_count": null,
   "id": "c906e5ab-6dcd-48ee-82a8-2bd0fe861d5f",
   "metadata": {},
   "outputs": [],
   "source": []
  },
  {
   "cell_type": "markdown",
   "id": "8d00808e-d376-4226-95dc-2bfeea4f3b9f",
   "metadata": {},
   "source": [
    "### Exercise 3\n",
    "Create a lazy query with the following optimized plan\n",
    "```\n",
    "  CSV SCAN ../data/titanic.csv\n",
    "  PROJECT */12 COLUMNS\n",
    "  SELECTION: [([(col(\"Sex\")) == (Utf8(female))]) & ([(col(\"Fare\")) < (10.0)])]\n",
    "```\n",
    "Note - the order of the predicate conditions in the optimised plan can vary"
   ]
  },
  {
   "cell_type": "code",
   "execution_count": null,
   "id": "ef0ea6c6-469a-4a23-8bee-7f3a8443bf68",
   "metadata": {
    "tags": []
   },
   "outputs": [],
   "source": []
  },
  {
   "cell_type": "markdown",
   "id": "e374fd09-aa5a-493f-ad81-bb1d06f1f6f7",
   "metadata": {},
   "source": [
    "## Solutions\n",
    "\n",
    "### Solution to Exercise 1\n",
    "Create a `LazyFrame` rows where `Fare` is greater than 10"
   ]
  },
  {
   "cell_type": "code",
   "execution_count": null,
   "id": "76586b11-4e98-4d97-a043-71932d85de84",
   "metadata": {
    "jupyter": {
     "source_hidden": true
    },
    "tags": []
   },
   "outputs": [],
   "source": [
    "(\n",
    "    pl.scan_csv(csvFile)\n",
    "    .filter(pl.col('Fare') > 10)\n",
    ")"
   ]
  },
  {
   "cell_type": "markdown",
   "id": "41f29990-6fad-4f40-8969-abae5f93b214",
   "metadata": {},
   "source": [
    "Print out the optimized query plan and confirm the `SELECTION` is updated"
   ]
  },
  {
   "cell_type": "code",
   "execution_count": null,
   "id": "1625e640-0308-42fd-ac77-5b46f42cbccc",
   "metadata": {
    "jupyter": {
     "source_hidden": true
    },
    "tags": []
   },
   "outputs": [],
   "source": [
    "print(\n",
    "    pl.scan_csv(csvFile)\n",
    "    .filter(pl.col('Fare') > 10)\n",
    "    .explain()\n",
    ")    "
   ]
  },
  {
   "cell_type": "markdown",
   "id": "32a04335-3b7e-45b5-9414-7f95eaad7365",
   "metadata": {},
   "source": [
    "Evaluate this query for the first 10 rows"
   ]
  },
  {
   "cell_type": "code",
   "execution_count": null,
   "id": "83cd8c92-d0a4-41d6-9fea-b6e6a290dec8",
   "metadata": {
    "jupyter": {
     "source_hidden": true
    },
    "tags": []
   },
   "outputs": [],
   "source": [
    "(\n",
    "    pl.scan_csv(csvFile)\n",
    "    .filter(pl.col('Fare') > 10)\n",
    "    .fetch(10)\n",
    ")    "
   ]
  },
  {
   "cell_type": "markdown",
   "id": "f08531e8-1030-42fd-9c55-36bf78faae63",
   "metadata": {},
   "source": [
    "### Solution to Exercise 2\n",
    "Create a `LazyFrame` where `Age` is greater than 30 and the passenger is in 2nd class"
   ]
  },
  {
   "cell_type": "code",
   "execution_count": null,
   "id": "80da22aa-ae65-4c10-890d-bee420195c49",
   "metadata": {
    "jupyter": {
     "source_hidden": true
    },
    "tags": []
   },
   "outputs": [],
   "source": [
    "(\n",
    "    pl.scan_csv(csvFile)\n",
    "    .filter(\n",
    "        (pl.col('Age') > 30) & (pl.col('Pclass')==2)\n",
    "    )\n",
    ")"
   ]
  },
  {
   "cell_type": "markdown",
   "id": "d3a021b1-36af-4caf-a7e5-e6e482e7351b",
   "metadata": {},
   "source": [
    "Print out the optimized query plan and confirm the `SELECTION` is updated"
   ]
  },
  {
   "cell_type": "code",
   "execution_count": null,
   "id": "a483e251-0b77-4cdd-9e31-16a4e538f9a6",
   "metadata": {
    "jupyter": {
     "source_hidden": true
    },
    "tags": []
   },
   "outputs": [],
   "source": [
    "print(\n",
    "    pl.scan_csv(csvFile)\n",
    "    .filter(\n",
    "        (pl.col('Age') > 30) & (pl.col('Pclass')==2)\n",
    "    )\n",
    "    .explain()\n",
    ")"
   ]
  },
  {
   "cell_type": "markdown",
   "id": "248c49a5-3217-4053-a5cf-9b4146405017",
   "metadata": {},
   "source": [
    "Evaluate this query for the full `DataFrame`"
   ]
  },
  {
   "cell_type": "code",
   "execution_count": null,
   "id": "39889493-d9fe-4b2d-9100-412a12864d03",
   "metadata": {
    "jupyter": {
     "source_hidden": true
    },
    "tags": []
   },
   "outputs": [],
   "source": [
    "df.collect()"
   ]
  },
  {
   "cell_type": "markdown",
   "id": "96c30258-fba5-47ca-9fd1-695d112a3083",
   "metadata": {},
   "source": [
    "## Solution to Exercise 3"
   ]
  },
  {
   "cell_type": "code",
   "execution_count": null,
   "id": "b6dd9725-d8b3-481c-b840-d77af2b0c9a4",
   "metadata": {
    "jupyter": {
     "source_hidden": true
    },
    "tags": []
   },
   "outputs": [],
   "source": [
    "print(\n",
    "    pl.scan_csv(csvFile)\n",
    "    .filter(pl.col('Fare') < 10)\n",
    "    .filter(pl.col('Sex') == 'female')\n",
    "    .explain()\n",
    ")"
   ]
  }
 ],
 "metadata": {
  "kernelspec": {
   "display_name": "Python 3 (ipykernel)",
   "language": "python",
   "name": "python3"
  },
  "language_info": {
   "codemirror_mode": {
    "name": "ipython",
    "version": 3
   },
   "file_extension": ".py",
   "mimetype": "text/x-python",
   "name": "python",
   "nbconvert_exporter": "python",
   "pygments_lexer": "ipython3",
   "version": "3.10.9"
  }
 },
 "nbformat": 4,
 "nbformat_minor": 5
}
