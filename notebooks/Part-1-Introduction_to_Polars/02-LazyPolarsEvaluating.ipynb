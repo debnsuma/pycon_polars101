{
 "cells": [
  {
   "cell_type": "markdown",
   "id": "c8eddcf7-b0c9-4749-aa22-84472316b681",
   "metadata": {},
   "source": [
    "# Lazy mode 2: evaluating queries\n",
    "\n",
    "By the end of this section you will be able to:\n",
    "- trigger evaluation of a `LazyFrame`\n",
    "- evaluate a `LazyFrame` in streaming mode\n",
    "- convert a `DataFrame` to a `LazyFrame`\n",
    "\n",
    "We can also evaluate a `LazyFrame` and profile how long each part of the query takes. We cover this in the lecture on `LazyGroupby` in Section 6."
   ]
  },
  {
   "cell_type": "code",
   "execution_count": null,
   "id": "35ac8a3e-bb6e-41db-a3c1-93bb7bda3b3d",
   "metadata": {
    "tags": []
   },
   "outputs": [],
   "source": [
    "import polars as pl"
   ]
  },
  {
   "cell_type": "code",
   "execution_count": null,
   "id": "5bcf6a0c-81a7-4dc5-add5-451b3ee33442",
   "metadata": {
    "tags": []
   },
   "outputs": [],
   "source": [
    "csvFile = \"../data/titanic.csv\""
   ]
  },
  {
   "cell_type": "markdown",
   "id": "ba4290cd-9941-4a8e-bbcc-0067b975a412",
   "metadata": {},
   "source": [
    "Create a `LazyFrame` with `pl.scan_csv`"
   ]
  },
  {
   "cell_type": "code",
   "execution_count": null,
   "id": "ee9c9dd2-0d62-481e-bce7-11fa498c316a",
   "metadata": {
    "tags": []
   },
   "outputs": [],
   "source": [
    "df = pl.scan_csv(csvFile)\n",
    "df"
   ]
  },
  {
   "cell_type": "markdown",
   "id": "c19b0814-af01-4c72-a471-489f4554db1c",
   "metadata": {},
   "source": [
    "## Triggering evaluation of a `LazyFrame`\n",
    "\n",
    "\n",
    "When we trigger evaluation we convert `LazyFrame` to `DataFrame`.\n",
    "\n",
    "### Full evaluation\n",
    "\n",
    "To trigger evaluation of the full output we call `.collect` "
   ]
  },
  {
   "cell_type": "code",
   "execution_count": null,
   "id": "1d5eaf68-cb55-4613-adab-40da50e548e2",
   "metadata": {
    "tags": []
   },
   "outputs": [],
   "source": [
    "(\n",
    "    df\n",
    "    .collect()\n",
    "    .head()\n",
    ")"
   ]
  },
  {
   "cell_type": "markdown",
   "id": "ca704502-9756-48f5-aeaf-cc93ff5aa4bd",
   "metadata": {},
   "source": [
    "### Partial evaluation\n",
    "\n",
    "To trigger evaluation of a limited number of rows we call `.fetch` "
   ]
  },
  {
   "cell_type": "code",
   "execution_count": null,
   "id": "d310635e-94f6-4c8c-81f9-1d96d1240f5f",
   "metadata": {
    "tags": []
   },
   "outputs": [],
   "source": [
    "(\n",
    "    df\n",
    "    .fetch(3)\n",
    ")"
   ]
  },
  {
   "cell_type": "markdown",
   "id": "3bf6adf9-024e-4032-ac1d-84ddf2812369",
   "metadata": {},
   "source": [
    "### When do you use `fetch` instead of `collect`?\n",
    "\n",
    "The `fetch` method is useful during development and debugging to avoid running the query on a large dataset.\n",
    "\n",
    "## Evaluating larger-than-memory queries in streaming mode\n",
    "Be default when we evaluate a `LazyFrame` Polars works with the entire `DataFrame` in memory. If the query requires more memory than we have available we may be able to evaluate the query in *streaming* mode.\n",
    "\n",
    "In streaming mode Polars processes the query in chunks instead of all-at-once. This allows Polars to work with datasets that are larger than memory.\n",
    "\n",
    "We tell Polars to use streaming with the `streaming` argument to `collect` or `fetch` "
   ]
  },
  {
   "cell_type": "code",
   "execution_count": null,
   "id": "edb4a6cb-26f4-41ef-ab08-5bc4e1172af0",
   "metadata": {
    "tags": []
   },
   "outputs": [],
   "source": [
    "(\n",
    "    pl.scan_csv(csvFile)\n",
    "    .collect(streaming=True)\n",
    "    .head(3)\n",
    ")"
   ]
  },
  {
   "cell_type": "markdown",
   "id": "8ebf903b-3112-40c3-940f-645ed3f8f10c",
   "metadata": {},
   "source": [
    "Streaming is a new addition to Polars and is not supported for all operations. However, many key operations such as `filter`, `groupby` and `join` support streaming. If streaming is not possible then Polars will run the query without streaming.\n",
    "\n",
    "## Turning a `DataFrame` into a `LazyFrame`\n",
    "\n",
    "In some cases we have a `DataFrame` and want to convert it to a `LazyFrame`.\n",
    "\n",
    "We may want to save intermediate values from a query. So we trigger evaluation to create a `DataFrame` we can save before converting back to lazy mode.\n",
    "\n",
    "Our query might contain a transformation that can only be done in eager mode such as a `pivot`. So we can trigger evaluation to do the pivot and then convert back to lazy mode. \n",
    "\n",
    "We convert a `DataFrame` to a `LazyFrame` with `lazy`"
   ]
  },
  {
   "cell_type": "code",
   "execution_count": null,
   "id": "5f209e99-c170-430c-81c4-0befeb0e0a00",
   "metadata": {
    "tags": []
   },
   "outputs": [],
   "source": [
    "dfEager = pl.read_csv(csvFile)\n",
    "dfLazy = dfEager.lazy()\n",
    "dfLazy"
   ]
  },
  {
   "cell_type": "markdown",
   "id": "0f4a8fe1-4e79-4192-809c-c842d4eff6f3",
   "metadata": {},
   "source": [
    "## Limits of lazy mode\n",
    "There are operations that cannot be done in lazy mode (whether in Polars or other lazy frameworks such as SQL databases). One limitation is that Polars must know the column names and dtypes at each step of the query plan.\n",
    "\n",
    "For example we cannot `pivot` in lazy mode as the column names are data-dependant following a pivot"
   ]
  },
  {
   "cell_type": "code",
   "execution_count": null,
   "id": "23cdb1e9-6b01-407c-9520-72d017dbbd89",
   "metadata": {
    "tags": []
   },
   "outputs": [],
   "source": [
    "# # This will throw an error \n",
    "# (\n",
    "#     pl.scan_csv(csvFile)\n",
    "#     .pivot(index=\"Pclass\",columns=\"Sex\",values=\"Age\",aggregate_function=\"mean\")\n",
    "# )"
   ]
  },
  {
   "cell_type": "markdown",
   "id": "5693e9a4-869b-4dea-b49f-16f6062bd271",
   "metadata": {},
   "source": [
    "In these cases I recommend:\n",
    "- starting queries in lazy mode as far as possible\n",
    "- evaluating with `collect` when a non-lazy method is required\n",
    "- calling the non-lazy method\n",
    "- calling `lazy` on the output to continue in lazy mode"
   ]
  },
  {
   "cell_type": "code",
   "execution_count": null,
   "id": "c5f9293a-ff89-44f1-ba5d-5facfd0480f3",
   "metadata": {},
   "outputs": [],
   "source": [
    "(\n",
    "    pl.scan_csv(csvFile)\n",
    "    .collect()\n",
    "    .pivot(index=\"Pclass\",columns=\"Sex\",values=\"Age\",aggregate_function=\"mean\")\n",
    "    .lazy()\n",
    ")"
   ]
  },
  {
   "cell_type": "markdown",
   "id": "2fab23df-8e50-41e4-994b-f9c9de70b41a",
   "metadata": {},
   "source": [
    "## Exercises\n",
    "\n",
    "In the exercises you will develop your understanding of:\n",
    "- triggering full evaluation of a query\n",
    "- triggering partial evaluation of a query\n",
    "- triggering evaluation in streaming mode\n",
    "- converting from eager to lazy mode\n",
    "\n",
    "### Exercise 1\n",
    "Create a `LazyFrame` by doing a scan of the Titanic CSV file"
   ]
  },
  {
   "cell_type": "code",
   "execution_count": null,
   "id": "53f443c2-bd23-48c2-90c1-56b4010fc0af",
   "metadata": {
    "tags": []
   },
   "outputs": [],
   "source": [
    "(\n",
    "    pl.<blank>\n",
    ")"
   ]
  },
  {
   "cell_type": "markdown",
   "id": "44af8e79-770c-467c-922f-621bdbde8823",
   "metadata": {},
   "source": [
    "Continue with your code from the first part in subsequent parts of this exercise.\n",
    "\n",
    "Use the fetch statement on the `LazyFrame` and count how many rows `fetch` returns by default"
   ]
  },
  {
   "cell_type": "code",
   "execution_count": null,
   "id": "da382c5b-af3e-4c11-b4fa-0ab26dec6b4b",
   "metadata": {
    "tags": []
   },
   "outputs": [],
   "source": []
  },
  {
   "cell_type": "markdown",
   "id": "3b3c97f2-b985-4a22-859e-9e51ca1667ca",
   "metadata": {},
   "source": [
    "Check to see which of the following metadata you can get from a `LazyFrame`:\n",
    "- number of rows\n",
    "- column names"
   ]
  },
  {
   "cell_type": "code",
   "execution_count": null,
   "id": "b7f6448e-57d0-403b-8375-7a49c9515fa6",
   "metadata": {
    "tags": []
   },
   "outputs": [],
   "source": []
  },
  {
   "cell_type": "markdown",
   "id": "02ac5d94-6481-4b15-8dde-9e86d7ee9ab9",
   "metadata": {},
   "source": [
    "### Exercise 2: converting between eager and lazy mode\n",
    "Create a `LazyFrame` by doing a scan of the Titanic CSV file"
   ]
  },
  {
   "cell_type": "code",
   "execution_count": null,
   "id": "6fee813c-f454-4145-8b99-a70c3f40e189",
   "metadata": {
    "tags": []
   },
   "outputs": [],
   "source": [
    "(\n",
    "    <blank>\n",
    ")\n"
   ]
  },
  {
   "cell_type": "markdown",
   "id": "8d709f4f-43df-4eb0-94e7-49b033a621a0",
   "metadata": {},
   "source": [
    "Convert the `LazyFrame` to a `DataFrame`"
   ]
  },
  {
   "cell_type": "code",
   "execution_count": null,
   "id": "db2d6c50-8882-4c77-a5a6-440fd5ec8f4e",
   "metadata": {
    "tags": []
   },
   "outputs": [],
   "source": []
  },
  {
   "cell_type": "markdown",
   "id": "815f83a4-7976-447d-a076-002043a477a2",
   "metadata": {},
   "source": [
    "Convert the `DataFrame` to a `LazyFrame`"
   ]
  },
  {
   "cell_type": "code",
   "execution_count": null,
   "id": "63c0e80c-7022-4340-9e1e-10b752d12b68",
   "metadata": {
    "tags": []
   },
   "outputs": [],
   "source": []
  },
  {
   "cell_type": "markdown",
   "id": "305dbf31-92c2-469b-b35e-236282ff89c8",
   "metadata": {},
   "source": [
    "## Solutions\n",
    "\n",
    "### Solution to Exercise 1\n",
    "\n",
    "Create a `LazyFrame` by doing a scan of the Titanic CSV file"
   ]
  },
  {
   "cell_type": "code",
   "execution_count": null,
   "id": "7f59b064-909a-42bc-b43c-0a75d4ae165c",
   "metadata": {
    "jupyter": {
     "source_hidden": true
    },
    "tags": []
   },
   "outputs": [],
   "source": [
    "(\n",
    "    pl.scan_csv(csvFile)\n",
    ")"
   ]
  },
  {
   "cell_type": "markdown",
   "id": "c5117c5f-7c01-498d-86ec-96d95ce750e8",
   "metadata": {},
   "source": [
    "Use the fetch statement on the `LazyFrame` and count how many rows `fetch` returns by default"
   ]
  },
  {
   "cell_type": "code",
   "execution_count": null,
   "id": "2a0ae92f-64bf-4859-99c3-336d2c5535fd",
   "metadata": {
    "jupyter": {
     "source_hidden": true
    },
    "tags": []
   },
   "outputs": [],
   "source": [
    "(\n",
    "    pl.scan_csv(csvFile)\n",
    "    .fetch()\n",
    "    .shape\n",
    ")"
   ]
  },
  {
   "cell_type": "markdown",
   "id": "e4bfa595-b660-45b4-a616-fdfd2b06c500",
   "metadata": {},
   "source": [
    "We discuss the notification about common subplan elimination in the lecture on streaming CSVs "
   ]
  },
  {
   "cell_type": "markdown",
   "id": "3ecc464d-e1df-4321-9959-410ce37efb12",
   "metadata": {},
   "source": [
    "A `LazyFrame` does not know the number of rows in a CSV"
   ]
  },
  {
   "cell_type": "code",
   "execution_count": null,
   "id": "40d0ce15-2063-4b3f-996c-72a743dc8ed7",
   "metadata": {
    "tags": []
   },
   "outputs": [],
   "source": [
    "# (\n",
    "#     pl.scan_csv(csvFile)\n",
    "#     .shape\n",
    "# )"
   ]
  },
  {
   "cell_type": "markdown",
   "id": "89d52f99-509c-455c-9348-53dc56ef6ff0",
   "metadata": {},
   "source": [
    "A `LazyFrame` does know the column names. `Polars` scans the first row of the CSV file to get column names in `pl.scan_csv`"
   ]
  },
  {
   "cell_type": "code",
   "execution_count": null,
   "id": "1b20cd34-2a75-49bd-88ae-2d950fb9e663",
   "metadata": {
    "jupyter": {
     "source_hidden": true
    },
    "tags": []
   },
   "outputs": [],
   "source": [
    "(\n",
    "    pl.scan_csv(csvFile)\n",
    "    .columns\n",
    ")"
   ]
  },
  {
   "cell_type": "markdown",
   "id": "6a5491b5-cb7b-43aa-af23-4519887c5de4",
   "metadata": {
    "collapsed": true,
    "jupyter": {
     "outputs_hidden": true
    }
   },
   "source": [
    "## Solution to Exercise 2\n",
    "\n",
    "Create a `LazyFrame` by doing a scan of the Titanic CSV file"
   ]
  },
  {
   "cell_type": "code",
   "execution_count": null,
   "id": "0dd99aa0-207d-42ee-b04c-78349513559f",
   "metadata": {
    "jupyter": {
     "source_hidden": true
    },
    "tags": []
   },
   "outputs": [],
   "source": [
    "(\n",
    "    pl.scan_csv(csvFile)\n",
    ")\n"
   ]
  },
  {
   "cell_type": "markdown",
   "id": "e19d60b2-a0cf-451a-b495-dc2280ae008b",
   "metadata": {},
   "source": [
    "Convert the `LazyFrame` to a `DataFrame`"
   ]
  },
  {
   "cell_type": "code",
   "execution_count": null,
   "id": "fe521901-2fa8-4292-af23-8ca0ce4c95a3",
   "metadata": {
    "jupyter": {
     "source_hidden": true
    },
    "tags": []
   },
   "outputs": [],
   "source": [
    "(\n",
    "    pl.scan_csv(csvFile)\n",
    "    .collect()\n",
    "    .head(3)\n",
    ")\n"
   ]
  },
  {
   "cell_type": "markdown",
   "id": "a921ca4f-3f1c-40f6-91b8-f060da4fbec6",
   "metadata": {},
   "source": [
    "Convert the `DataFrame` to a `LazyFrame`"
   ]
  },
  {
   "cell_type": "code",
   "execution_count": null,
   "id": "3850da55-cf03-41ef-b3a8-ccbc87d31a76",
   "metadata": {
    "jupyter": {
     "source_hidden": true
    },
    "tags": []
   },
   "outputs": [],
   "source": [
    "(\n",
    "    pl.scan_csv(csvFile)\n",
    "    .collect()\n",
    "    .lazy()\n",
    "    .head(3)\n",
    ")\n"
   ]
  }
 ],
 "metadata": {
  "kernelspec": {
   "display_name": "Python 3 (ipykernel)",
   "language": "python",
   "name": "python3"
  },
  "language_info": {
   "codemirror_mode": {
    "name": "ipython",
    "version": 3
   },
   "file_extension": ".py",
   "mimetype": "text/x-python",
   "name": "python",
   "nbconvert_exporter": "python",
   "pygments_lexer": "ipython3",
   "version": "3.10.9"
  }
 },
 "nbformat": 4,
 "nbformat_minor": 5
}
