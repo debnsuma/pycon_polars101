{
 "cells": [
  {
   "cell_type": "markdown",
   "id": "5bac7fa1-eed0-4cd2-be59-36aade27dc6f",
   "metadata": {},
   "source": [
    "## `Series` and `DataFrame`\n",
    "In this section we will learn how to:\n",
    "- create a `Series` from a `DataFrame` column\n",
    "- create a `Series` from a `list`\n",
    "- use `pl.Config` to change the length of strings printed out\n",
    "\n",
    "We will look at the two objects for storing data in eager mode: the `Series` and `DataFrame`"
   ]
  },
  {
   "cell_type": "code",
   "execution_count": null,
   "id": "38b44ad0-a5f4-426e-8c2d-e6ee6d0174c7",
   "metadata": {
    "tags": []
   },
   "outputs": [],
   "source": [
    "import polars as pl"
   ]
  },
  {
   "cell_type": "code",
   "execution_count": null,
   "id": "82757e51-df36-4fd8-ab62-ead5896221d3",
   "metadata": {
    "tags": []
   },
   "outputs": [],
   "source": [
    "csvFile = \"../data/titanic.csv\""
   ]
  },
  {
   "cell_type": "code",
   "execution_count": null,
   "id": "9678a1c2-f64e-42d7-aeb3-5df27e2a0560",
   "metadata": {
    "tags": []
   },
   "outputs": [],
   "source": [
    "df = pl.read_csv(csvFile)\n",
    "df.head(3)"
   ]
  },
  {
   "cell_type": "markdown",
   "id": "fc38e9d3-4b0b-4094-8e8e-8e0a37742996",
   "metadata": {},
   "source": [
    "## Creating a `Series` from a `DataFrame` column\n",
    "\n",
    "We can create a `Series` from a `DataFrame` column with square brackets. We can also call the `.head` method on a `Series` to restrict the number of rows output."
   ]
  },
  {
   "cell_type": "code",
   "execution_count": null,
   "id": "ccfc0df5-6823-4258-9921-a0f1ca9eae3a",
   "metadata": {
    "tags": []
   },
   "outputs": [],
   "source": [
    "df[\"Name\"].head(3)"
   ]
  },
  {
   "cell_type": "markdown",
   "id": "ba2850c8-76da-4a2e-bf08-59802c562294",
   "metadata": {},
   "source": [
    "Like a `DataFrame` column a `Series` can have a name. "
   ]
  },
  {
   "cell_type": "markdown",
   "id": "c3a9c61f-2e75-4b70-a0a5-e1bf9c1fd0f9",
   "metadata": {},
   "source": [
    "By default `Polars` prints the first 14 characters of strings. We can adjust the number of characters with a function in the `pl.Config` namespace"
   ]
  },
  {
   "cell_type": "code",
   "execution_count": null,
   "id": "02aab649-3914-4ed2-8185-9b5e4b140aab",
   "metadata": {
    "tags": []
   },
   "outputs": [],
   "source": [
    "pl.Config.set_fmt_str_lengths(100)\n",
    "df[\"Name\"].head(3)"
   ]
  },
  {
   "cell_type": "markdown",
   "id": "41ab3008-487b-4495-b7e6-e22ae449ff3a",
   "metadata": {},
   "source": [
    "## Create a `DataFrame` from a `Series`\n",
    "We can convert a `Series` into a one-column `DataFrame`"
   ]
  },
  {
   "cell_type": "code",
   "execution_count": null,
   "id": "cd920bc2-32be-4db2-aa0c-6a8d3d69bab6",
   "metadata": {},
   "outputs": [],
   "source": [
    "s = df[\"Name\"]\n",
    "s.to_frame().head(3)"
   ]
  },
  {
   "cell_type": "markdown",
   "id": "ba6a1848-ed90-4998-9562-b96726f27a91",
   "metadata": {},
   "source": [
    "## Create a `Series` from a `list`\n",
    "We can create a `Series` from a python `list`"
   ]
  },
  {
   "cell_type": "code",
   "execution_count": null,
   "id": "121588a3-3023-4915-b7cf-fe3ed196bb2f",
   "metadata": {
    "tags": []
   },
   "outputs": [],
   "source": [
    "values = [1,2,3]\n",
    "pl.Series(values)"
   ]
  },
  {
   "cell_type": "markdown",
   "id": "ab1d1e20-e67c-49ca-b54f-ed54797c2deb",
   "metadata": {},
   "source": [
    "If the `name` argument is not set then it defaults to an empty string. The name can be passed as follows"
   ]
  },
  {
   "cell_type": "code",
   "execution_count": null,
   "id": "0fb459b5-185c-4f52-9ecf-87eecac2dfb2",
   "metadata": {
    "tags": []
   },
   "outputs": [],
   "source": [
    "pl.Series(name='vals',values=values)"
   ]
  },
  {
   "cell_type": "markdown",
   "id": "e375a936-7d24-41fd-9f95-88e3bf404370",
   "metadata": {},
   "source": [
    "## Create a `Series` from a `list`\n",
    "Or we can convert a `Series` to a `list` with `to_list` "
   ]
  },
  {
   "cell_type": "code",
   "execution_count": null,
   "id": "d4618bea-7275-464e-a46a-69ebd0611ba6",
   "metadata": {},
   "outputs": [],
   "source": [
    "pl.Series(name='vals',values=values).to_list()"
   ]
  },
  {
   "cell_type": "markdown",
   "id": "41ca1c0d-6ed5-412f-a1e6-d318a132c19e",
   "metadata": {},
   "source": [
    "We can also convert a `Series` into a one-column `DataFrame`"
   ]
  },
  {
   "cell_type": "code",
   "execution_count": null,
   "id": "1bb1d868-14f2-4d18-a687-e59dd8359256",
   "metadata": {},
   "outputs": [],
   "source": [
    "pl.Series(name='vals',values=values).to_frame()"
   ]
  },
  {
   "cell_type": "markdown",
   "id": "8bd3fe79-2418-4fd3-8efa-a2ca7963aeca",
   "metadata": {},
   "source": [
    "## Create a `DataFrame` from a `list`\n",
    "We can create a `DataFrame` with:\n",
    "- a list of `lists` with data\n",
    "- a list of string column names"
   ]
  },
  {
   "cell_type": "code",
   "execution_count": null,
   "id": "4232e003-4d95-49ee-ad79-aa49a8333ad6",
   "metadata": {
    "tags": []
   },
   "outputs": [],
   "source": [
    "(\n",
    "    pl.DataFrame(\n",
    "        [values],\n",
    "        schema=[\"vals\"])\n",
    "    .head(2)\n",
    ")"
   ]
  },
  {
   "cell_type": "markdown",
   "id": "bad11700-0ff4-4e35-801f-4ac979425a14",
   "metadata": {},
   "source": [
    "We can also pass a `dict` to the `schema` argument with dtype. In this example we specify a 32-bit integer type for the `vals` column"
   ]
  },
  {
   "cell_type": "code",
   "execution_count": null,
   "id": "0115006c-084c-4f7f-929e-b9e24ca8cb08",
   "metadata": {
    "tags": []
   },
   "outputs": [],
   "source": [
    "(\n",
    "    pl.DataFrame(\n",
    "        [values],\n",
    "        schema={\"vals\":pl.Int32})\n",
    "    .head(2)\n",
    ")"
   ]
  },
  {
   "cell_type": "markdown",
   "id": "5a90721e-a8d4-4669-b558-26e32d2d9cf9",
   "metadata": {},
   "source": [
    "In  the exercises we see how to create a `DataFrame` from a `dict`.\n",
    "\n",
    "In the section Selecting Columns and Transforming DataFrames we see how to add a column to a `DataFrame` from a list."
   ]
  },
  {
   "cell_type": "markdown",
   "id": "ff306a34-b0bd-4499-89eb-a27d4728e9d6",
   "metadata": {},
   "source": [
    "## Exercises\n",
    "In the exercises you will develop your understanding of:\n",
    "- extracting a `Series` from a `DataFrame`\n",
    "- getting metadata from a `Series`\n",
    "- creating a `Series` from a `list`\n",
    "- creating a `DataFrames` from `lists`\n",
    "\n",
    "### Exercise 1\n",
    "Extract the `Age` column as a `Series` and then find:\n",
    "- the `dtype` of the `Series`\n",
    "- the median of the `Series`"
   ]
  },
  {
   "cell_type": "code",
   "execution_count": null,
   "id": "c3687a49-5511-4bdc-a20b-83a8e30afc44",
   "metadata": {},
   "outputs": [],
   "source": [
    "df = pl.read_csv(csvFile)\n",
    "s = <blank>"
   ]
  },
  {
   "cell_type": "code",
   "execution_count": null,
   "id": "85e2633e-dcf4-4627-8b71-6b33baa07aaa",
   "metadata": {},
   "outputs": [],
   "source": [
    "df = pl.read_csv(csvFile)\n",
    "s = <blank>"
   ]
  },
  {
   "cell_type": "markdown",
   "id": "49ce9afd-eb0b-466f-a519-d387b4315a72",
   "metadata": {},
   "source": [
    "### Exercise 2\n",
    "You have the following Python `lists` with data.  "
   ]
  },
  {
   "cell_type": "code",
   "execution_count": null,
   "id": "010d1e16-0cd3-4bb7-b036-f2b956ca0298",
   "metadata": {},
   "outputs": [],
   "source": [
    "groups = [\"a\",\"a\",\"b\",\"b\",\"c\"]\n",
    "values = [0,1,2,3,4]"
   ]
  },
  {
   "cell_type": "markdown",
   "id": "2693cc3f-d445-408b-a3b9-6a80f6a1361b",
   "metadata": {},
   "source": [
    "Create a `Series` called `groupsSeries` from the `groups` list. The name inside the `Series` should be `groups`"
   ]
  },
  {
   "cell_type": "code",
   "execution_count": null,
   "id": "b3db5f48-5e26-42b0-9796-6832dce94717",
   "metadata": {},
   "outputs": [],
   "source": []
  },
  {
   "cell_type": "markdown",
   "id": "0638ce9f-d575-4e94-b3f3-842f7ea63583",
   "metadata": {},
   "source": [
    "Create a `DataFrame` by passing these as a Python `dict` to `pl.DataFrame`"
   ]
  },
  {
   "cell_type": "code",
   "execution_count": null,
   "id": "b622fd45-1871-4a4d-b23c-4df8dcf0a30e",
   "metadata": {},
   "outputs": [],
   "source": []
  },
  {
   "cell_type": "markdown",
   "id": "f41e0e97-7fe8-4264-b873-c022872625d5",
   "metadata": {},
   "source": [
    "## Solutions\n",
    "\n",
    "### Solution to exercise 1\n",
    "Extract the `Age` column as a `Series` and find:\n",
    "- the `dtype` of the `Series`\n",
    "- the median of the `Series`"
   ]
  },
  {
   "cell_type": "code",
   "execution_count": null,
   "id": "d365de99-d54d-4ec4-9cfa-9ab6723139fd",
   "metadata": {
    "jupyter": {
     "source_hidden": true
    },
    "tags": []
   },
   "outputs": [],
   "source": [
    "df = pl.read_csv(csvFile)\n",
    "s = df[\"Age\"]\n",
    "s.dtype"
   ]
  },
  {
   "cell_type": "code",
   "execution_count": null,
   "id": "a644b9e4-1cdb-4774-b3b5-59d6f9464786",
   "metadata": {
    "jupyter": {
     "source_hidden": true
    },
    "tags": []
   },
   "outputs": [],
   "source": [
    "df = pl.read_csv(csvFile)\n",
    "s = df[\"Age\"]\n",
    "s.median()"
   ]
  },
  {
   "cell_type": "markdown",
   "id": "21a98098-1e23-4bfb-b1e4-cab2b65b43c5",
   "metadata": {},
   "source": [
    "### Solution to exercise 2\n",
    "You have the following Python `lists` with data.  "
   ]
  },
  {
   "cell_type": "code",
   "execution_count": null,
   "id": "ea333f06-ff67-47ff-a0a9-1d1d8754fac7",
   "metadata": {
    "tags": []
   },
   "outputs": [],
   "source": [
    "groups = [\"a\",\"a\",\"b\",\"b\",\"c\"]\n",
    "values = [0,1,2,3,4]"
   ]
  },
  {
   "cell_type": "markdown",
   "id": "12bf52c5-8225-42bc-a6d8-a5207fa92049",
   "metadata": {},
   "source": [
    "Create a `Series` called `groupsSeries` from the `groups` list. The name inside the `Series` should be `groups`"
   ]
  },
  {
   "cell_type": "code",
   "execution_count": null,
   "id": "69329a8f-ca31-43fc-9b59-a652e4bd4fde",
   "metadata": {
    "jupyter": {
     "source_hidden": true
    },
    "tags": []
   },
   "outputs": [],
   "source": [
    "groupsSeries = pl.Series(\"groups\",groups)"
   ]
  },
  {
   "cell_type": "markdown",
   "id": "bfb15a0e-d339-4441-82d0-d5ed2324921f",
   "metadata": {},
   "source": [
    "Create a `DataFrame` by passing these as a Python `dict` to `pl.DataFrame`"
   ]
  },
  {
   "cell_type": "code",
   "execution_count": null,
   "id": "7be86390-6277-48ce-925d-f60227704732",
   "metadata": {
    "jupyter": {
     "source_hidden": true
    },
    "tags": []
   },
   "outputs": [],
   "source": [
    "pl.DataFrame(\n",
    "    {\n",
    "        \"groups\":groups,\n",
    "        \"vals\":values\n",
    "    }\n",
    ")"
   ]
  },
  {
   "cell_type": "code",
   "execution_count": null,
   "id": "a0c8a573-056d-474a-9978-09f64d91dc39",
   "metadata": {},
   "outputs": [],
   "source": []
  }
 ],
 "metadata": {
  "kernelspec": {
   "display_name": "Python 3 (ipykernel)",
   "language": "python",
   "name": "python3"
  },
  "language_info": {
   "codemirror_mode": {
    "name": "ipython",
    "version": 3
   },
   "file_extension": ".py",
   "mimetype": "text/x-python",
   "name": "python",
   "nbconvert_exporter": "python",
   "pygments_lexer": "ipython3",
   "version": "3.10.9"
  }
 },
 "nbformat": 4,
 "nbformat_minor": 5
}
