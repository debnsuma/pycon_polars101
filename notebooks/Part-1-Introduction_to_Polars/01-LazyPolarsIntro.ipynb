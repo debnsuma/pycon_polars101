{
 "cells": [
  {
   "cell_type": "markdown",
   "id": "20f080a3-dc1c-4af9-bf60-6779f4ecdccf",
   "metadata": {},
   "source": [
    "# Lazy mode 1: Introducing lazy mode\n",
    "By the end of this section we will learn how to:\n",
    "- create a `LazyFrame` from a CSV file\n",
    "- explain the difference between a `DataFrame` and a `LazyFrame`\n",
    "- print the optimized query plan\n",
    "\n",
    "Lazy mode is crucial to taking full advantage of Polars with query optimisation and streaming large dataset. We introduce lazy mode in section and we re-visit it again and again throughout the workshop.  \n",
    "\n",
    "## Code or queries?\n",
    "Data analysis often involves multiple steps:\n",
    "- loading data from a file or database\n",
    "- transforming the data\n",
    "- grouping by a column\n",
    "- ...\n",
    "\n",
    "We call the set of steps a **query**.\n",
    "\n",
    "We can write some lines of code that carry out a query step-by-step in **eager mode**.\n",
    "\n",
    "There are two problems with this approach:\n",
    "- Each line of code is not aware of what the others are doing.\n",
    "- Each line of code requires copying the full dataframe.\n",
    "\n",
    "We can instead write the steps as an integrated query in **lazy mode**.\n",
    "\n",
    "With an integrated query:\n",
    "- a query optimizer can identify efficiencies\n",
    "- a query engine can minimise the memory usage and produce a single output"
   ]
  },
  {
   "cell_type": "markdown",
   "id": "cbd4f472-c79e-4b57-ad03-ac9188059369",
   "metadata": {},
   "source": [
    "## So what are eager and lazy modes?\n",
    "\n",
    "**Eager mode**: each line of code is run as soon as it is encountered.\n",
    "\n",
    "**Lazy mode**: each line is added to a query plan and the query plan is optimized."
   ]
  },
  {
   "cell_type": "code",
   "execution_count": null,
   "id": "35ac8a3e-bb6e-41db-a3c1-93bb7bda3b3d",
   "metadata": {
    "tags": []
   },
   "outputs": [],
   "source": [
    "import polars as pl"
   ]
  },
  {
   "cell_type": "code",
   "execution_count": null,
   "id": "5bcf6a0c-81a7-4dc5-add5-451b3ee33442",
   "metadata": {
    "tags": []
   },
   "outputs": [],
   "source": [
    "csvFile = \"../data/titanic.csv\""
   ]
  },
  {
   "cell_type": "markdown",
   "id": "85529268-81c8-4bc1-a339-9bb3802bc5ee",
   "metadata": {},
   "source": [
    "## `DataFrames` and `LazyFrames`\n",
    "We **read** a CSV in eager mode with `pl.read_csv`. This creates a **`DataFrame`**"
   ]
  },
  {
   "cell_type": "code",
   "execution_count": null,
   "id": "027fb8cc-3837-497f-941d-0f9829403ac6",
   "metadata": {
    "tags": []
   },
   "outputs": [],
   "source": [
    "dfEager = pl.read_csv(csvFile)"
   ]
  },
  {
   "cell_type": "markdown",
   "id": "ba4290cd-9941-4a8e-bbcc-0067b975a412",
   "metadata": {},
   "source": [
    "We **scan** a CSV in lazy mode with `pl.scan_csv`. This creates a **`LazyFrame`**"
   ]
  },
  {
   "cell_type": "code",
   "execution_count": null,
   "id": "ee9c9dd2-0d62-481e-bce7-11fa498c316a",
   "metadata": {
    "tags": []
   },
   "outputs": [],
   "source": [
    "dfLazy = pl.scan_csv(csvFile)"
   ]
  },
  {
   "cell_type": "code",
   "execution_count": null,
   "id": "37646c19-46ff-460e-9dde-7c19fdead937",
   "metadata": {},
   "outputs": [],
   "source": [
    "dfLazy.schema"
   ]
  },
  {
   "cell_type": "markdown",
   "id": "25882566-935f-4951-b282-0c2c1e3c9b61",
   "metadata": {},
   "source": [
    "We cannot get the shape of a `LazyFrame` as Polars does not know how many rows there are from a scan."
   ]
  },
  {
   "cell_type": "code",
   "execution_count": null,
   "id": "41def48c-3029-4386-b8ed-c4f25dade712",
   "metadata": {},
   "outputs": [],
   "source": [
    "# dfLazy.shape # This will throw an error as shape is not an atribute of the LazyFrame object "
   ]
  },
  {
   "cell_type": "code",
   "execution_count": null,
   "id": "e238b9e7-8439-4226-9c97-2f7113d9f5ec",
   "metadata": {},
   "outputs": [],
   "source": [
    "dfLazy.collect().shape # This will work as we are converting LazyFrame to a DataFrame"
   ]
  },
  {
   "cell_type": "markdown",
   "id": "d86e2373-3c85-4d46-b8f0-db2e03d4800c",
   "metadata": {},
   "source": [
    "### What's the difference between a `DataFrame` and a `LazyFrame`?\n",
    "\n",
    "If we print a `DataFrame` we see data..."
   ]
  },
  {
   "cell_type": "code",
   "execution_count": null,
   "id": "3aab6fc8-5f96-4dbd-bcde-8f8e69fcec89",
   "metadata": {
    "tags": []
   },
   "outputs": [],
   "source": [
    "dfEager.head(2)"
   ]
  },
  {
   "cell_type": "markdown",
   "id": "3d98d41b-68fa-42fa-b148-db601fd597ef",
   "metadata": {},
   "source": [
    "...but if we print a `LazyFrame` we see a **query plan**\n"
   ]
  },
  {
   "cell_type": "code",
   "execution_count": null,
   "id": "e50c8425-4254-457b-a2c2-15caf58737b8",
   "metadata": {},
   "outputs": [],
   "source": [
    "dfLazy.head(2)"
   ]
  },
  {
   "cell_type": "markdown",
   "id": "5150c98e-38b1-4b7a-9550-62b3ca3fb39d",
   "metadata": {},
   "source": [
    "**Key message:** \n",
    "\n",
    "**- An operation on a `DataFrame` acts on the `data`**\n",
    "\n",
    "**- An operation on a `LazyFrame` acts on the `query plan`**\n",
    "\n",
    "## Operations on a `DataFrame` and a `LazyFrame` \n",
    "To show the difference between operations on a `DataFrame` and a `LazyFrame` we rename the `PassengerID` column to `Id` using `rename`.\n",
    "\n",
    "On a `DataFrame` we see the first column is renamed..."
   ]
  },
  {
   "cell_type": "code",
   "execution_count": null,
   "id": "5296491f-e7f8-4a90-b833-bfc072795f62",
   "metadata": {},
   "outputs": [],
   "source": [
    "(\n",
    "    dfEager\n",
    "    .rename({\"PassengerId\":\"Id\"})\n",
    "    .head(2)\n",
    ")    "
   ]
  },
  {
   "cell_type": "markdown",
   "id": "06cb4ae0-32ec-4835-a310-4aef7fbbbcc0",
   "metadata": {},
   "source": [
    "while on a `LazyFrame` we see that a `RENAME` step is added the query plan"
   ]
  },
  {
   "cell_type": "code",
   "execution_count": null,
   "id": "5e7b1130-2875-4a38-aa4a-0221bc06f349",
   "metadata": {},
   "outputs": [],
   "source": [
    "(\n",
    "    dfLazy\n",
    "    .rename({\"PassengerId\":\"Id\"})\n",
    ")    "
   ]
  },
  {
   "cell_type": "markdown",
   "id": "4896acf8-1408-454f-a9f2-a4dfe424b98d",
   "metadata": {},
   "source": [
    "## Chaining or re-assigning?\n",
    "In this workshop we typically run operations with method chaining like this"
   ]
  },
  {
   "cell_type": "code",
   "execution_count": null,
   "id": "247cf557-a371-4f5c-a94c-7d51d296391f",
   "metadata": {},
   "outputs": [],
   "source": [
    "print(\n",
    "    pl.scan_csv(csvFile)\n",
    "    .rename({\"PassengerId\":\"Id\"})\n",
    "    .explain()\n",
    ")    "
   ]
  },
  {
   "cell_type": "markdown",
   "id": "5df3f9c2-df9e-48f2-8681-20875e68631d",
   "metadata": {},
   "source": [
    "However, we can also do operations by re-assigning the variable in each step"
   ]
  },
  {
   "cell_type": "code",
   "execution_count": null,
   "id": "7b5d0c89-1fc6-48ef-996b-81b2efdfbaf8",
   "metadata": {},
   "outputs": [],
   "source": [
    "dfLazy = pl.scan_csv(csvFile)\n",
    "dfLazy = dfLazy.rename({\"PassengerId\":\"Id\"})\n",
    "print(dfLazy.explain())"
   ]
  },
  {
   "cell_type": "markdown",
   "id": "409e4bdb-2946-44d4-95d3-de624d9ea86f",
   "metadata": {},
   "source": [
    "The two methods are equivalent"
   ]
  },
  {
   "cell_type": "markdown",
   "id": "5ca0d756-30a7-42e2-96ca-1629042b4989",
   "metadata": {},
   "source": [
    "## Query optimisation\n",
    "Polars creates a *naive query plan* from your query.\n",
    "\n",
    "`Polars` passes the naive query plan to its **query optimizer**. The query optimizer looks for more efficient ways to arrive at the output you want."
   ]
  },
  {
   "cell_type": "markdown",
   "id": "9276076c-b924-40b3-9c7f-e36f3676ac9d",
   "metadata": {},
   "source": [
    "Printing the output of the `explain` method shows the optimized plan"
   ]
  },
  {
   "cell_type": "code",
   "execution_count": null,
   "id": "4a505c32-72ca-4a15-bd77-5523d3093b32",
   "metadata": {
    "tags": []
   },
   "outputs": [],
   "source": [
    "dfLazy = pl.scan_csv(csvFile)\n",
    "print(dfLazy.explain())"
   ]
  },
  {
   "cell_type": "markdown",
   "id": "c19b0814-af01-4c72-a471-489f4554db1c",
   "metadata": {},
   "source": [
    "## What query optimizations are applied?\n",
    "Query optimizations aren't magic. Most optimizations could be implemented by users in a well-written query if the user:\n",
    "- knows the optimization exists \n",
    "- remembers to implement the optimization and \n",
    "- implements the optimization correctly!\n",
    "\n",
    "Optimizations applied by Polars include:\n",
    "- `projection pushdown` limit the number of columns read to those required\n",
    "- `predicate pushdown` apply filter conditions as early as possible\n",
    "- `combine predicates` combine multiple filter conditions\n",
    "- `slice pushdown` limit rows processed when limited rows are required\n",
    "- `common subplan elimination` run duplicated transformations on the same data once and then re-use\n",
    "\n",
    "We'll see how these optimisations arise later in the workshop.\n",
    "\n",
    "Polars also implements other optimisations such as fast-path algorithms on sorted data (separate from the query optimiser). "
   ]
  },
  {
   "cell_type": "markdown",
   "id": "2fab23df-8e50-41e4-994b-f9c9de70b41a",
   "metadata": {},
   "source": [
    "## Exercises\n",
    "\n",
    "In the exercises you will develop your understanding of:\n",
    "- creating a `LazyFrame` from a CSV file\n",
    "- getting metadata from a `LazyFrame`\n",
    "- printing the query plans\n",
    "\n",
    "### Exercise 1\n",
    "Create a `LazyFrame` by doing a scan of the Titanic CSV file"
   ]
  },
  {
   "cell_type": "code",
   "execution_count": null,
   "id": "53f443c2-bd23-48c2-90c1-56b4010fc0af",
   "metadata": {
    "tags": []
   },
   "outputs": [],
   "source": [
    "df = pl.<blank>"
   ]
  },
  {
   "cell_type": "markdown",
   "id": "44af8e79-770c-467c-922f-621bdbde8823",
   "metadata": {},
   "source": [
    "Use the fetch statement and count how many rows it returns by default"
   ]
  },
  {
   "cell_type": "code",
   "execution_count": null,
   "id": "da382c5b-af3e-4c11-b4fa-0ab26dec6b4b",
   "metadata": {
    "tags": []
   },
   "outputs": [],
   "source": []
  },
  {
   "cell_type": "markdown",
   "id": "3b3c97f2-b985-4a22-859e-9e51ca1667ca",
   "metadata": {},
   "source": [
    "Check to see which of the following metadata you can get from a `LazyFrame`:\n",
    "- number of rows\n",
    "- column names\n",
    "- schema"
   ]
  },
  {
   "cell_type": "code",
   "execution_count": null,
   "id": "7c8cc385-4c2b-4f1a-a73b-ff24c4881f48",
   "metadata": {},
   "outputs": [],
   "source": []
  },
  {
   "cell_type": "markdown",
   "id": "305dbf31-92c2-469b-b35e-236282ff89c8",
   "metadata": {},
   "source": [
    "## Solutions\n",
    "\n",
    "### Solution to Exercise 1"
   ]
  },
  {
   "cell_type": "code",
   "execution_count": null,
   "id": "7f59b064-909a-42bc-b43c-0a75d4ae165c",
   "metadata": {
    "jupyter": {
     "source_hidden": true
    },
    "tags": []
   },
   "outputs": [],
   "source": [
    "df = pl.scan_csv(csvFile)"
   ]
  },
  {
   "cell_type": "code",
   "execution_count": null,
   "id": "2a0ae92f-64bf-4859-99c3-336d2c5535fd",
   "metadata": {
    "jupyter": {
     "source_hidden": true
    },
    "tags": []
   },
   "outputs": [],
   "source": [
    "df.fetch().shape"
   ]
  },
  {
   "cell_type": "markdown",
   "id": "3ecc464d-e1df-4321-9959-410ce37efb12",
   "metadata": {},
   "source": [
    "A `LazyFrame` does not know the number of rows in a CSV"
   ]
  },
  {
   "cell_type": "code",
   "execution_count": null,
   "id": "40d0ce15-2063-4b3f-996c-72a743dc8ed7",
   "metadata": {
    "jupyter": {
     "source_hidden": true
    },
    "tags": []
   },
   "outputs": [],
   "source": [
    "df.shape"
   ]
  },
  {
   "cell_type": "markdown",
   "id": "89d52f99-509c-455c-9348-53dc56ef6ff0",
   "metadata": {},
   "source": [
    "A `LazyFrame` does know the column names. As we will see in the I/O section `Polars` scans the first row of the CSV file to get column names in `pl.scan_csv`"
   ]
  },
  {
   "cell_type": "code",
   "execution_count": null,
   "id": "1b20cd34-2a75-49bd-88ae-2d950fb9e663",
   "metadata": {
    "jupyter": {
     "source_hidden": true
    },
    "tags": []
   },
   "outputs": [],
   "source": [
    "df.columns"
   ]
  },
  {
   "cell_type": "code",
   "execution_count": null,
   "id": "f8f25fcd-124d-4ba6-bdc5-f037756caff0",
   "metadata": {
    "jupyter": {
     "source_hidden": true
    },
    "tags": []
   },
   "outputs": [],
   "source": [
    "df.schema"
   ]
  }
 ],
 "metadata": {
  "kernelspec": {
   "display_name": "Python 3 (ipykernel)",
   "language": "python",
   "name": "python3"
  },
  "language_info": {
   "codemirror_mode": {
    "name": "ipython",
    "version": 3
   },
   "file_extension": ".py",
   "mimetype": "text/x-python",
   "name": "python",
   "nbconvert_exporter": "python",
   "pygments_lexer": "ipython3",
   "version": "3.10.9"
  }
 },
 "nbformat": 4,
 "nbformat_minor": 5
}
