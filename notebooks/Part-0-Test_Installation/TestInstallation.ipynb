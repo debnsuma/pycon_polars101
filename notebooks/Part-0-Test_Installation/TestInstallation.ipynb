{
 "cells": [
  {
   "cell_type": "markdown",
   "id": "5a3ba7c2-c749-4951-8c03-94ae632dca90",
   "metadata": {},
   "source": [
    "## Test installation\n",
    "In this notebook we test your installation and whether you are in the virtual environment.\n",
    "\n",
    "First we will check to see that we are running Jupyter from the `polar_env` virtual environment.\n",
    "\n",
    "We do this by importing the built-in `sys` module and printing the output of `sys.executable`"
   ]
  },
  {
   "cell_type": "code",
   "execution_count": null,
   "id": "10b6ab59-bd78-428f-a609-a09aabf28260",
   "metadata": {},
   "outputs": [],
   "source": [
    "import sys\n",
    "sys.executable"
   ]
  },
  {
   "cell_type": "markdown",
   "id": "22781391-c420-4940-9210-d437e8ce251a",
   "metadata": {},
   "source": [
    "On Linux or Mac the output should be something like\n",
    "```bash\n",
    "'<path-to-current-dir>/polar_env/bin/python'\n",
    "```\n",
    "while on Windows it should be something like:\n",
    "```bash\n",
    "'C:\\\\<path-to-current-folder>\\\\polar_env\\\\Scripts\\\\python.exe'\n",
    "```\n",
    "\n",
    "If it is not in your virtual environment you need to activate your virtual environment. \n",
    "\n",
    "If you have a pre-existing `conda` environment activated you may need to `deactivate` that environment before activating the polar_env enviroment"
   ]
  },
  {
   "cell_type": "markdown",
   "id": "fd99aee8-4511-45be-8ca0-1d8870d1bd88",
   "metadata": {},
   "source": [
    "## Test imports\n",
    "You will need to be able to import Polars and (less importantly) Plotly.\n",
    "\n",
    "**If this cell runs for more than 15 seconds without finishing then restart the kernel and try again**"
   ]
  },
  {
   "cell_type": "code",
   "execution_count": null,
   "id": "f3d26527-2e51-449e-9df1-d4102a89a6f4",
   "metadata": {},
   "outputs": [],
   "source": [
    "import polars as pl\n",
    "import pandas as pd\n",
    "import numpy as np\n",
    "import plotly.express as px"
   ]
  },
  {
   "cell_type": "markdown",
   "id": "601e565d-757b-4a6b-98b3-0a4c2a6b383a",
   "metadata": {},
   "source": [
    "## Test data read\n",
    "You will need to be able to read the following data files"
   ]
  },
  {
   "cell_type": "code",
   "execution_count": null,
   "id": "3d5b8c92-806e-40df-9c7f-f1ba65ed1641",
   "metadata": {},
   "outputs": [],
   "source": [
    "pl.read_csv(\"../data/titanic.csv\").head(2)\n",
    "pl.read_csv(\"../data/nyc_trip_data_1k.csv\").head(2)"
   ]
  },
  {
   "cell_type": "markdown",
   "id": "38cb5abb-6ac5-4726-adee-e9d25be594f5",
   "metadata": {},
   "source": [
    "Ok, if all that worked you should be good to go!"
   ]
  }
 ],
 "metadata": {
  "kernelspec": {
   "display_name": "Python 3 (ipykernel)",
   "language": "python",
   "name": "python3"
  },
  "language_info": {
   "codemirror_mode": {
    "name": "ipython",
    "version": 3
   },
   "file_extension": ".py",
   "mimetype": "text/x-python",
   "name": "python",
   "nbconvert_exporter": "python",
   "pygments_lexer": "ipython3",
   "version": "3.10.9"
  }
 },
 "nbformat": 4,
 "nbformat_minor": 5
}
