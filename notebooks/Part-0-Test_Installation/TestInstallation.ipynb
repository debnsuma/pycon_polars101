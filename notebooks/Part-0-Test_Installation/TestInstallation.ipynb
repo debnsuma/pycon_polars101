{
 "cells": [
  {
   "cell_type": "markdown",
   "id": "5a3ba7c2-c749-4951-8c03-94ae632dca90",
   "metadata": {},
   "source": [
    "## Test installation\n",
    "In this notebook we test your installation and whether you are in the virtual environment.\n",
    "\n",
    "First we will check to see that we are running Jupyter from the `polar_env` virtual environment.\n",
    "\n",
    "We do this by importing the built-in `sys` module and printing the output of `sys.executable`"
   ]
  },
  {
   "cell_type": "code",
   "execution_count": 1,
   "id": "10b6ab59-bd78-428f-a609-a09aabf28260",
   "metadata": {},
   "outputs": [
    {
     "data": {
      "text/plain": [
       "'/Users/debnsuma/AWS-DataEngineering/2023/code/polars101/course/polar_env/bin/python'"
      ]
     },
     "execution_count": 1,
     "metadata": {},
     "output_type": "execute_result"
    }
   ],
   "source": [
    "import sys\n",
    "sys.executable"
   ]
  },
  {
   "cell_type": "markdown",
   "id": "22781391-c420-4940-9210-d437e8ce251a",
   "metadata": {},
   "source": [
    "On Linux or Mac the output should be something like\n",
    "```bash\n",
    "'<path-to-current-dir>/polar_env/bin/python'\n",
    "```\n",
    "while on Windows it should be something like:\n",
    "```bash\n",
    "'C:\\\\<path-to-current-folder>\\\\polar_env\\\\Scripts\\\\python.exe'\n",
    "```\n",
    "\n",
    "If it is not in your virtual environment you need to activate your virtual environment. \n",
    "\n",
    "If you have a pre-existing `conda` environment activated you may need to `deactivate` that environment before activating the polar_env enviroment"
   ]
  },
  {
   "cell_type": "markdown",
   "id": "fd99aee8-4511-45be-8ca0-1d8870d1bd88",
   "metadata": {},
   "source": [
    "## Test imports\n",
    "You will need to be able to import Polars and (less importantly) Plotly.\n",
    "\n",
    "**If this cell runs for more than 15 seconds without finishing then restart the kernel and try again**"
   ]
  },
  {
   "cell_type": "code",
   "execution_count": 3,
   "id": "f3d26527-2e51-449e-9df1-d4102a89a6f4",
   "metadata": {},
   "outputs": [],
   "source": [
    "import polars as pl\n",
    "import pandas as pd\n",
    "import numpy as np\n",
    "import plotly.express as px"
   ]
  },
  {
   "cell_type": "markdown",
   "id": "601e565d-757b-4a6b-98b3-0a4c2a6b383a",
   "metadata": {},
   "source": [
    "## Test data read\n",
    "You will need to be able to read the following data files"
   ]
  },
  {
   "cell_type": "code",
   "execution_count": 3,
   "id": "3d5b8c92-806e-40df-9c7f-f1ba65ed1641",
   "metadata": {},
   "outputs": [
    {
     "data": {
      "text/html": [
       "<div><style>\n",
       ".dataframe > thead > tr > th,\n",
       ".dataframe > tbody > tr > td {\n",
       "  text-align: right;\n",
       "}\n",
       "</style>\n",
       "<small>shape: (2, 7)</small><table border=\"1\" class=\"dataframe\"><thead><tr><th>VendorID</th><th>pickup</th><th>dropoff</th><th>passenger_count</th><th>trip_distance</th><th>fare_amount</th><th>tip_amount</th></tr><tr><td>str</td><td>str</td><td>str</td><td>f64</td><td>f64</td><td>f64</td><td>f64</td></tr></thead><tbody><tr><td>&quot;id1&quot;</td><td>&quot;2022-01-01T00:…</td><td>&quot;2022-01-01T00:…</td><td>1.0</td><td>10.83</td><td>31.0</td><td>0.0</td></tr><tr><td>&quot;id2&quot;</td><td>&quot;2022-01-01T00:…</td><td>&quot;2022-01-01T00:…</td><td>1.0</td><td>3.97</td><td>14.5</td><td>3.66</td></tr></tbody></table></div>"
      ],
      "text/plain": [
       "shape: (2, 7)\n",
       "┌──────────┬───────────────┬──────────────┬──────────────┬──────────────┬─────────────┬────────────┐\n",
       "│ VendorID ┆ pickup        ┆ dropoff      ┆ passenger_co ┆ trip_distanc ┆ fare_amount ┆ tip_amount │\n",
       "│ ---      ┆ ---           ┆ ---          ┆ unt          ┆ e            ┆ ---         ┆ ---        │\n",
       "│ str      ┆ str           ┆ str          ┆ ---          ┆ ---          ┆ f64         ┆ f64        │\n",
       "│          ┆               ┆              ┆ f64          ┆ f64          ┆             ┆            │\n",
       "╞══════════╪═══════════════╪══════════════╪══════════════╪══════════════╪═════════════╪════════════╡\n",
       "│ id1      ┆ 2022-01-01T00 ┆ 2022-01-01T0 ┆ 1.0          ┆ 10.83        ┆ 31.0        ┆ 0.0        │\n",
       "│          ┆ :04:14.000000 ┆ 0:26:12.0000 ┆              ┆              ┆             ┆            │\n",
       "│          ┆               ┆ 00           ┆              ┆              ┆             ┆            │\n",
       "│ id2      ┆ 2022-01-01T00 ┆ 2022-01-01T0 ┆ 1.0          ┆ 3.97         ┆ 14.5        ┆ 3.66       │\n",
       "│          ┆ :32:17.000000 ┆ 0:49:23.0000 ┆              ┆              ┆             ┆            │\n",
       "│          ┆               ┆ 00           ┆              ┆              ┆             ┆            │\n",
       "└──────────┴───────────────┴──────────────┴──────────────┴──────────────┴─────────────┴────────────┘"
      ]
     },
     "execution_count": 3,
     "metadata": {},
     "output_type": "execute_result"
    }
   ],
   "source": [
    "pl.read_csv(\"data/titanic.csv\").head(2)\n",
    "pl.read_csv(\"data/nyc_trip_data_1k.csv\").head(2)"
   ]
  },
  {
   "cell_type": "markdown",
   "id": "38cb5abb-6ac5-4726-adee-e9d25be594f5",
   "metadata": {},
   "source": [
    "Ok, if all that worked you should be good to go!"
   ]
  },
  {
   "cell_type": "code",
   "execution_count": null,
   "id": "69d23b9c-512d-476d-a136-3cdad5f4375a",
   "metadata": {},
   "outputs": [],
   "source": []
  }
 ],
 "metadata": {
  "kernelspec": {
   "display_name": "Python 3 (ipykernel)",
   "language": "python",
   "name": "python3"
  },
  "language_info": {
   "codemirror_mode": {
    "name": "ipython",
    "version": 3
   },
   "file_extension": ".py",
   "mimetype": "text/x-python",
   "name": "python",
   "nbconvert_exporter": "python",
   "pygments_lexer": "ipython3",
   "version": "3.10.9"
  }
 },
 "nbformat": 4,
 "nbformat_minor": 5
}
