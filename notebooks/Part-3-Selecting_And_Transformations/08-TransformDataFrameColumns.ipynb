{
 "cells": [
  {
   "cell_type": "markdown",
   "id": "5cf1ce07-ed1c-4d95-9491-bc2761f732ba",
   "metadata": {},
   "source": [
    "## Transforming a `DataFrame`\n",
    "In this lecture you will learn how to:\n",
    "- rename columns from a `DataFrame`\n",
    "- drop columns from a `DataFrame`\n",
    "- transform a `DataFrame` in a function using `pipe`"
   ]
  },
  {
   "cell_type": "code",
   "execution_count": null,
   "id": "5b446555-1ab6-43d5-848f-77db949f03e2",
   "metadata": {
    "tags": []
   },
   "outputs": [],
   "source": [
    "import polars as pl\n",
    "# Set the number of rows to be printed to 8\n",
    "pl.Config.set_tbl_rows(8)"
   ]
  },
  {
   "cell_type": "code",
   "execution_count": null,
   "id": "3858c329-a601-4b08-8147-90d1fb283d60",
   "metadata": {
    "tags": []
   },
   "outputs": [],
   "source": [
    "csvFile = \"../data/titanic.csv\""
   ]
  },
  {
   "cell_type": "code",
   "execution_count": null,
   "id": "24742f3d-bffb-46f1-82fc-eb228b84f739",
   "metadata": {
    "tags": []
   },
   "outputs": [],
   "source": [
    "df = pl.read_csv(csvFile)\n",
    "df.head(2)"
   ]
  },
  {
   "cell_type": "markdown",
   "id": "fdc0260a-b8d2-43bb-85fb-c9da9b0dabb1",
   "metadata": {},
   "source": [
    "## Renaming columns\n",
    "We can rename columns by passing a `dict` that maps old names to new names."
   ]
  },
  {
   "cell_type": "code",
   "execution_count": null,
   "id": "455791d0-59b0-457b-bcff-5de072fadee4",
   "metadata": {
    "tags": []
   },
   "outputs": [],
   "source": [
    "(\n",
    "    df\n",
    "    .rename({\"PassengerId\":\"ID\"})\n",
    "    .head(2)\n",
    ")"
   ]
  },
  {
   "cell_type": "markdown",
   "id": "cd4eb90d-cb09-4563-b902-58560f41d09e",
   "metadata": {},
   "source": [
    "## Dropping columns\n",
    "\n",
    "We can drop columns by passing a `list` of column names"
   ]
  },
  {
   "cell_type": "code",
   "execution_count": null,
   "id": "69124776-5d64-4dc5-8079-9f408053fe32",
   "metadata": {
    "tags": []
   },
   "outputs": [],
   "source": [
    "(\n",
    "    df\n",
    "    .drop([\"PassengerId\",\"Pclass\"])\n",
    "    .head(2)\n",
    ")"
   ]
  },
  {
   "cell_type": "markdown",
   "id": "4b88990d-8d5b-4fad-8249-48fb7fbc9bee",
   "metadata": {},
   "source": [
    "## Re-ordering columns\n",
    "We can re-order columns with a `list` in `select`.\n",
    "\n",
    "In this example we re-order the columns in alphabetical order"
   ]
  },
  {
   "cell_type": "code",
   "execution_count": null,
   "id": "80ea01db-6e57-40d6-9a9f-38068cfa2783",
   "metadata": {
    "tags": []
   },
   "outputs": [],
   "source": [
    "(\n",
    "    df\n",
    "    .select(sorted(df.columns))\n",
    ")"
   ]
  },
  {
   "cell_type": "markdown",
   "id": "fd9089e4-9ef4-405a-bfc5-fd59df45ec88",
   "metadata": {},
   "source": [
    "## Re-ordering columns in a query\n",
    "\n",
    "We may want to re-order the columns in a query where we cannot access the `columns` attribute. This may be because in the query:\n",
    "- we have just read the file\n",
    "- we have added/removed columns\n",
    "- we have changed column names\n",
    "\n",
    "We can still re-order columns using `pipe`.\n",
    "\n",
    "The `pipe` method allows us to access the `DataFrame` at that point in a query as if we have it assigned to a variable.\n",
    "\n",
    "In this example we sort the columns alphabetically after reading a CSV"
   ]
  },
  {
   "cell_type": "code",
   "execution_count": null,
   "id": "26bf41d3-ca2d-40e2-a391-8a45a3e04377",
   "metadata": {
    "tags": []
   },
   "outputs": [],
   "source": [
    "(\n",
    "    pl.read_csv(csvFile)\n",
    "    .pipe(\n",
    "        lambda tempDf: tempDf.select( sorted(tempDf.columns))\n",
    "    )\n",
    "    .head(2)\n",
    ")"
   ]
  },
  {
   "cell_type": "markdown",
   "id": "c0e0d168-4c1c-4543-8dfc-a4e1ccf44425",
   "metadata": {},
   "source": [
    "We can also use `pipe` in lazy mode"
   ]
  },
  {
   "cell_type": "code",
   "execution_count": null,
   "id": "99129bc1-52bb-4eba-a138-b005eb8abf1a",
   "metadata": {
    "tags": []
   },
   "outputs": [],
   "source": [
    "(\n",
    "    pl.scan_csv(csvFile)\n",
    "    .pipe(\n",
    "        lambda qdf: qdf.select( sorted(qdf.columns[:3]))\n",
    "    )\n",
    ")"
   ]
  },
  {
   "cell_type": "markdown",
   "id": "60380246-749a-48d7-a8ed-5b175cd5ebe9",
   "metadata": {},
   "source": [
    "The transformations in `pipe` are passed to the query optimiser in lazy mode.\n",
    "\n",
    "In this example we only use the first three columns in the `select`"
   ]
  },
  {
   "cell_type": "code",
   "execution_count": null,
   "id": "279e2ff8-9367-432c-b822-204ec9af1fcd",
   "metadata": {
    "tags": []
   },
   "outputs": [],
   "source": [
    "print(\n",
    "    pl.scan_csv(csvFile)\n",
    "    .pipe(\n",
    "        lambda qdf: qdf.select( sorted(qdf.columns[:3]))\n",
    "    )\n",
    "    .explain()\n",
    ")"
   ]
  },
  {
   "cell_type": "markdown",
   "id": "7012cb60-13ef-4c48-bbc0-68c424c24c9d",
   "metadata": {},
   "source": [
    "The query optimiser sees that only 3 columns are required and sets \n",
    "```bash\n",
    "PROJECT 3/12 COLUMNS\n",
    "```\n",
    "\n",
    "## Applying a function to a `DataFrame`\n",
    "We apply a function to a `DataFrame` using `pipe`.\n",
    "\n",
    "In this example we define a function `_multiply_floats` where we select all the floating point columns and multiply them by 3"
   ]
  },
  {
   "cell_type": "code",
   "execution_count": null,
   "id": "a6d5bbf1-b11a-4efe-956b-247af6918ef6",
   "metadata": {},
   "outputs": [],
   "source": [
    "def _multiply_floats(df: pl.DataFrame, mul: int) -> pl.DataFrame:\n",
    "    return df.select(pl.col(pl.Float64)) * mul\n",
    "\n",
    "(\n",
    "    df\n",
    "    .pipe(\n",
    "        _multiply_floats, \n",
    "        mul=3)\n",
    "    .head(3)\n",
    ")\n"
   ]
  },
  {
   "cell_type": "markdown",
   "id": "2844bde6-5fe9-477a-a144-bd7e2ecd6dc8",
   "metadata": {},
   "source": [
    "## Exercises\n",
    "In the exercises you will develop your understanding of:\n",
    "- renaming columns\n",
    "- dropping columns\n",
    "- transformations using `pipe`\n",
    "\n",
    "### Exercise 1\n",
    "Drop the `Age` and `Fare` columns from the `DataFrame`"
   ]
  },
  {
   "cell_type": "code",
   "execution_count": null,
   "id": "576fc9da-288f-453e-8fa4-30137dce118c",
   "metadata": {},
   "outputs": [],
   "source": [
    "(\n",
    "    pl.read_csv(csvFile)\n",
    "    <blank>\n",
    "    .head(3)\n",
    ")"
   ]
  },
  {
   "cell_type": "markdown",
   "id": "d0952e6d-77d3-43cc-8379-7eb4e0dd44cd",
   "metadata": {},
   "source": [
    "### Exercise 2\n",
    "Rename the `Age` column to `age`"
   ]
  },
  {
   "cell_type": "code",
   "execution_count": null,
   "id": "cc09b913-8e06-4656-87f5-32eed32b3132",
   "metadata": {},
   "outputs": [],
   "source": [
    "(\n",
    "    pl.read_csv(csvFile)\n",
    "    <blank>\n",
    "    .head(3)\n",
    ")"
   ]
  },
  {
   "cell_type": "markdown",
   "id": "b0c49258-ac75-4119-a579-40121e5a5be4",
   "metadata": {},
   "source": [
    "Rename all column names to lower case. Expand the cell below if you would like a hint"
   ]
  },
  {
   "cell_type": "code",
   "execution_count": null,
   "id": "87b3ccf1-aa0b-411f-9bc8-15624f5cefc4",
   "metadata": {
    "jupyter": {
     "source_hidden": true
    },
    "tags": []
   },
   "outputs": [],
   "source": [
    "#Hint: do the renaming inside .pipe\n",
    "#Hint: use the Python method .lower() on column name strings"
   ]
  },
  {
   "cell_type": "code",
   "execution_count": null,
   "id": "d49134c6-721d-47b2-a0a0-a66f483104c3",
   "metadata": {},
   "outputs": [],
   "source": [
    "(\n",
    "    pl.read_csv(csvFile)\n",
    "    <blank>\n",
    "    .head(3)\n",
    ")"
   ]
  },
  {
   "cell_type": "markdown",
   "id": "e1e87084-7045-430a-9509-4254f6b9256a",
   "metadata": {},
   "source": [
    "## Solutions\n",
    "\n",
    "### Solution to exercise 1\n",
    "Drop the `Age` and `Fare` columns from the `DataFrame`"
   ]
  },
  {
   "cell_type": "code",
   "execution_count": null,
   "id": "15a96c48-acc6-4ce8-a05c-453f1c4673ec",
   "metadata": {
    "jupyter": {
     "source_hidden": true
    },
    "tags": []
   },
   "outputs": [],
   "source": [
    "(\n",
    "    pl.read_csv(csvFile)\n",
    "    .drop([\"Age\",\"Fare\"])\n",
    "    .head(3)\n",
    ")"
   ]
  },
  {
   "cell_type": "markdown",
   "id": "7c327bf4-fa7c-4f58-9121-c4118ba8bbc1",
   "metadata": {},
   "source": [
    "### Solution to exercise 2\n",
    "\n",
    "Rename the `Age` column to `age`"
   ]
  },
  {
   "cell_type": "code",
   "execution_count": null,
   "id": "8ceb11c7-b0d4-4a3b-a7f4-a8579bbdde57",
   "metadata": {
    "jupyter": {
     "source_hidden": true
    },
    "tags": []
   },
   "outputs": [],
   "source": [
    "(\n",
    "    pl.read_csv(csvFile)\n",
    "    .rename({\"Age\":\"age\"})\n",
    "    .head(3)\n",
    ")"
   ]
  },
  {
   "cell_type": "markdown",
   "id": "44de41cf-4c85-4781-98f9-85177ee1a2fd",
   "metadata": {},
   "source": [
    "Rename all column names to lower case. Expand the cell below if you would like a hint"
   ]
  },
  {
   "cell_type": "code",
   "execution_count": null,
   "id": "16b7c4e8-0974-4a3c-971d-118657c39e61",
   "metadata": {
    "jupyter": {
     "source_hidden": true
    },
    "tags": []
   },
   "outputs": [],
   "source": [
    "#Hint: do the renaming inside .pipe\n",
    "#Hint: use the Python method .lower() on column name strings"
   ]
  },
  {
   "cell_type": "code",
   "execution_count": null,
   "id": "64810949-352b-4ef7-a9cc-62104a30587c",
   "metadata": {
    "jupyter": {
     "source_hidden": true
    },
    "tags": []
   },
   "outputs": [],
   "source": [
    "(\n",
    "    pl.read_csv(csvFile)\n",
    "    .pipe(\n",
    "        lambda df:df.rename({oldCol:oldCol.lower() for oldCol in df.columns})\n",
    "    )\n",
    "    .head(3)\n",
    ")"
   ]
  }
 ],
 "metadata": {
  "kernelspec": {
   "display_name": "Python 3 (ipykernel)",
   "language": "python",
   "name": "python3"
  },
  "language_info": {
   "codemirror_mode": {
    "name": "ipython",
    "version": 3
   },
   "file_extension": ".py",
   "mimetype": "text/x-python",
   "name": "python",
   "nbconvert_exporter": "python",
   "pygments_lexer": "ipython3",
   "version": "3.10.9"
  }
 },
 "nbformat": 4,
 "nbformat_minor": 5
}
