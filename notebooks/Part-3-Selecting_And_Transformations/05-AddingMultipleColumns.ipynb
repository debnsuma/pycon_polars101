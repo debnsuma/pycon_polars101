{
 "cells": [
  {
   "cell_type": "markdown",
   "id": "3eec8164-8b94-4866-b8aa-0c1cc4936a8f",
   "metadata": {},
   "source": [
    "## Selecting columns 5: Transforming and adding multiple columns\n",
    "By the end of this section you will learn:\n",
    "- transform multiple columns in-place\n",
    "- add multiple columns\n",
    "- transform and add multiple columns based on dtype"
   ]
  },
  {
   "cell_type": "code",
   "execution_count": null,
   "id": "d1adc172-fe22-401e-a538-1e8e3fafe8d3",
   "metadata": {
    "tags": []
   },
   "outputs": [],
   "source": [
    "import polars as pl"
   ]
  },
  {
   "cell_type": "code",
   "execution_count": null,
   "id": "c5939bea-b4f8-4007-8ad9-8786e029ea3b",
   "metadata": {
    "tags": []
   },
   "outputs": [],
   "source": [
    "csvFile = \"../data/titanic.csv\""
   ]
  },
  {
   "cell_type": "code",
   "execution_count": null,
   "id": "a3626abb-3d5a-44c6-85e1-fcd9f3826a63",
   "metadata": {
    "tags": []
   },
   "outputs": [],
   "source": [
    "df = pl.read_csv(csvFile)\n",
    "df.head(3)"
   ]
  },
  {
   "cell_type": "markdown",
   "id": "5c3111de-803f-4dfe-8168-34c40392ba8d",
   "metadata": {},
   "source": [
    "## Transforming existing columns\n",
    "\n",
    "We can transform existing columns by passing a `list` of columns to `with_columns` "
   ]
  },
  {
   "cell_type": "code",
   "execution_count": null,
   "id": "9d1160a0-6e7c-4dd4-b11d-53ccb06d978e",
   "metadata": {
    "tags": []
   },
   "outputs": [],
   "source": [
    "(\n",
    "    pl.read_csv(csvFile)\n",
    "    .with_columns(\n",
    "        [\n",
    "            pl.col('Fare').round(0),\n",
    "            pl.col('Age').round(0)\n",
    "        ]\n",
    "    )\n",
    "    .head(3)\n",
    ")"
   ]
  },
  {
   "cell_type": "markdown",
   "id": "b45f6cb6-b15e-4727-8834-9938ff91ae9d",
   "metadata": {},
   "source": [
    "## Adding new columns from existing columns\n",
    "We add new columns from existing columns with `alias`"
   ]
  },
  {
   "cell_type": "code",
   "execution_count": null,
   "id": "ae20907f-8ba2-452b-b5bd-c1cbee1fab3b",
   "metadata": {
    "tags": []
   },
   "outputs": [],
   "source": [
    "(\n",
    "    pl.read_csv(csvFile)\n",
    "    .with_columns(\n",
    "        [\n",
    "            pl.col('Fare').round(0).alias('roundFare'),\n",
    "            pl.col('Age').round(0).alias('roundAge')\n",
    "        ]\n",
    "    )\n",
    "    .select(\n",
    "        ['Age','Fare','roundFare','roundAge']\n",
    "    )\n",
    "    .head(3)\n",
    ")"
   ]
  },
  {
   "cell_type": "markdown",
   "id": "fca8aa91-d975-42b3-a50f-ab7f1097e81e",
   "metadata": {
    "tags": []
   },
   "source": [
    "Or we can use comma-separated kwarg assignments"
   ]
  },
  {
   "cell_type": "code",
   "execution_count": null,
   "id": "010aa56e-2542-4996-8fb9-5c636b05238b",
   "metadata": {
    "tags": []
   },
   "outputs": [],
   "source": [
    "(\n",
    "    pl.read_csv(csvFile)\n",
    "    .with_columns(\n",
    "        roundFare = pl.col('Fare').round(0),\n",
    "        roundAge = pl.col('Age').round(0)\n",
    "    )\n",
    "    .select(\n",
    "        ['Age','Fare','roundFare','roundAge']\n",
    "    )\n",
    "    .head(3)\n",
    ")"
   ]
  },
  {
   "cell_type": "markdown",
   "id": "75d1a500-a8b5-480a-b912-a7e9eb4a3a5b",
   "metadata": {},
   "source": [
    "## Transforming multiple columns based on dtype\n",
    "We can apply the same transformation to all columns of the same dtype.\n",
    "\n",
    "In this example we use the `str.to_uppercase` method we will see more of in the Text section."
   ]
  },
  {
   "cell_type": "code",
   "execution_count": null,
   "id": "7bc341c0-771c-477f-8215-d6d88e1458d4",
   "metadata": {
    "tags": []
   },
   "outputs": [],
   "source": [
    "(\n",
    "    pl.read_csv(csvFile)\n",
    "    .with_columns(\n",
    "        pl.col(pl.Utf8).str.to_uppercase()\n",
    "    )\n",
    "    .select(\n",
    "        pl.col(pl.Utf8)\n",
    "    )\n",
    "    .head(2)\n",
    ")"
   ]
  },
  {
   "cell_type": "markdown",
   "id": "0264b761-de31-4abe-8aba-608727bce09d",
   "metadata": {},
   "source": [
    "## Exercises\n",
    "\n",
    "In the exercises you will develop your understanding of:\n",
    "- adding multiple columns\n",
    "- transforming multiple columns based on dtype\n",
    "\n",
    "## Exercise 1: Adding multiple columns\n",
    "Add \n",
    "- a `familySize` column as the sum of the siblings, parents and the passenger\n",
    "- a Boolean `overThirty` column showing if a passenger is aged 30 or over\n",
    "\n",
    "Do this using kwarg assignment"
   ]
  },
  {
   "cell_type": "code",
   "execution_count": null,
   "id": "da1a13a3-101c-4488-ab2a-87bd0efa1a71",
   "metadata": {},
   "outputs": [],
   "source": [
    "(\n",
    "    pl.read_csv(csvFile)\n",
    "    <blank>\n",
    "    .head()\n",
    ")"
   ]
  },
  {
   "cell_type": "markdown",
   "id": "400c31d2-27fc-41d5-914d-e6975f82ae98",
   "metadata": {},
   "source": [
    "## Exercise 2: Transform columns based on dtype\n",
    "Convert all of the floating point columns to integer dtype "
   ]
  },
  {
   "cell_type": "code",
   "execution_count": null,
   "id": "3d1e35e2-8ad2-4e11-8338-d0d4d3778996",
   "metadata": {},
   "outputs": [],
   "source": [
    "(\n",
    "    pl.read_csv(csvFile)\n",
    "    <blank>\n",
    "    .head()\n",
    ")"
   ]
  },
  {
   "cell_type": "markdown",
   "id": "30183c45-b96b-450d-a375-6a764adbcc71",
   "metadata": {},
   "source": [
    "## Solutions\n",
    "\n",
    "## Solution to Exercise 1: adding multiple columns\n",
    "Add \n",
    "- a `familySize` column as the sum of the siblings, parents and the passenger\n",
    "- a Boolean `overThirty` column showing if a passenger is aged 30 or over\n",
    "\n",
    "Do this using kwarg assignment"
   ]
  },
  {
   "cell_type": "code",
   "execution_count": null,
   "id": "a3a3e5c3-d089-4599-8cba-31653262a8c6",
   "metadata": {
    "jupyter": {
     "source_hidden": true
    },
    "tags": []
   },
   "outputs": [],
   "source": [
    "(\n",
    "    pl.read_csv(csvFile)\n",
    "    .with_columns(\n",
    "        familySize = (pl.col(\"SibSp\")+pl.col(\"Parch\")+1),\n",
    "        overThirty = (pl.col(\"Age\")>=30)\n",
    "    )\n",
    "    .head()\n",
    ")"
   ]
  },
  {
   "cell_type": "code",
   "execution_count": null,
   "id": "af040e8c-15ce-4858-bce9-bf32d0f8f56e",
   "metadata": {
    "jupyter": {
     "source_hidden": true
    }
   },
   "outputs": [],
   "source": [
    "(\n",
    "    pl.read_csv(csvFile)\n",
    "    .with_columns(\n",
    "        (pl.col(\"SibSp\")+pl.col(\"Parch\")+1).alias('familySize'),\n",
    "        (pl.col(\"Age\")>=30).alias('overThirty')\n",
    "    )\n",
    "    .head()\n",
    ")"
   ]
  },
  {
   "cell_type": "markdown",
   "id": "4170d307-f615-4fd6-bb32-9b64d0db217f",
   "metadata": {},
   "source": [
    "## Solution to Exercise 2: Transform columns based on dtype\n",
    "Convert all of the floating point columns to integer dtype "
   ]
  },
  {
   "cell_type": "code",
   "execution_count": null,
   "id": "04644f0e-bc3c-4486-9e20-7ab73905bb61",
   "metadata": {
    "jupyter": {
     "source_hidden": true
    },
    "tags": []
   },
   "outputs": [],
   "source": [
    "(\n",
    "    pl.read_csv(csvFile)\n",
    "    .with_columns(\n",
    "        pl.col(pl.Float64).cast(pl.Int64)\n",
    "    )\n",
    "    .head()\n",
    ")"
   ]
  },
  {
   "cell_type": "code",
   "execution_count": null,
   "id": "75b82a02-bbcd-4313-a21c-d5c158ec0b8e",
   "metadata": {},
   "outputs": [],
   "source": []
  }
 ],
 "metadata": {
  "kernelspec": {
   "display_name": "Python 3 (ipykernel)",
   "language": "python",
   "name": "python3"
  },
  "language_info": {
   "codemirror_mode": {
    "name": "ipython",
    "version": 3
   },
   "file_extension": ".py",
   "mimetype": "text/x-python",
   "name": "python",
   "nbconvert_exporter": "python",
   "pygments_lexer": "ipython3",
   "version": "3.10.9"
  }
 },
 "nbformat": 4,
 "nbformat_minor": 5
}
