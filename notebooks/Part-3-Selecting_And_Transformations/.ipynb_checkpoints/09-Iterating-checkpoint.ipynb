{
 "cells": [
  {
   "cell_type": "markdown",
   "id": "df01407d-a14a-4b88-8bb6-2eab1e299004",
   "metadata": {},
   "source": [
    "## Iterating through a DataFrame\n",
    "By the end of this section you will be able to:\n",
    "- iterate through a column row-by-row\n",
    "- iterate through multiple columns row-by-row\n",
    "- understand the performance effect of the different options\n",
    "\n",
    "While we introduce iteration methods here be aware that we should avoid iterating through a `DataFrame` if it is possible to use expressions as expressions are much faster. "
   ]
  },
  {
   "cell_type": "code",
   "execution_count": 3,
   "id": "a70b44ba-b120-49bc-bd15-2355b032996d",
   "metadata": {},
   "outputs": [],
   "source": [
    "import polars as pl"
   ]
  },
  {
   "cell_type": "code",
   "execution_count": 4,
   "id": "40e41025-1b30-420a-9f79-f4db60abd500",
   "metadata": {},
   "outputs": [],
   "source": [
    "csvFile = \"../data/titanic.csv\""
   ]
  },
  {
   "cell_type": "code",
   "execution_count": 5,
   "id": "8dcd9910-6300-4957-a37a-0c0bd4a09e48",
   "metadata": {},
   "outputs": [
    {
     "data": {
      "text/html": [
       "<div><style>\n",
       ".dataframe > thead > tr > th,\n",
       ".dataframe > tbody > tr > td {\n",
       "  text-align: right;\n",
       "}\n",
       "</style>\n",
       "<small>shape: (3, 12)</small><table border=\"1\" class=\"dataframe\"><thead><tr><th>PassengerId</th><th>Survived</th><th>Pclass</th><th>Name</th><th>Sex</th><th>Age</th><th>SibSp</th><th>Parch</th><th>Ticket</th><th>Fare</th><th>Cabin</th><th>Embarked</th></tr><tr><td>i64</td><td>i64</td><td>i64</td><td>str</td><td>str</td><td>f64</td><td>i64</td><td>i64</td><td>str</td><td>f64</td><td>str</td><td>str</td></tr></thead><tbody><tr><td>1</td><td>0</td><td>3</td><td>&quot;Braund, Mr. Ow…</td><td>&quot;male&quot;</td><td>22.0</td><td>1</td><td>0</td><td>&quot;A/5 21171&quot;</td><td>7.25</td><td>null</td><td>&quot;S&quot;</td></tr><tr><td>2</td><td>1</td><td>1</td><td>&quot;Cumings, Mrs. …</td><td>&quot;female&quot;</td><td>38.0</td><td>1</td><td>0</td><td>&quot;PC 17599&quot;</td><td>71.2833</td><td>&quot;C85&quot;</td><td>&quot;C&quot;</td></tr><tr><td>3</td><td>1</td><td>3</td><td>&quot;Heikkinen, Mis…</td><td>&quot;female&quot;</td><td>26.0</td><td>0</td><td>0</td><td>&quot;STON/O2. 31012…</td><td>7.925</td><td>null</td><td>&quot;S&quot;</td></tr></tbody></table></div>"
      ],
      "text/plain": [
       "shape: (3, 12)\n",
       "┌─────────────┬──────────┬────────┬───────────────────┬───┬───────────┬─────────┬───────┬──────────┐\n",
       "│ PassengerId ┆ Survived ┆ Pclass ┆ Name              ┆ … ┆ Ticket    ┆ Fare    ┆ Cabin ┆ Embarked │\n",
       "│ ---         ┆ ---      ┆ ---    ┆ ---               ┆   ┆ ---       ┆ ---     ┆ ---   ┆ ---      │\n",
       "│ i64         ┆ i64      ┆ i64    ┆ str               ┆   ┆ str       ┆ f64     ┆ str   ┆ str      │\n",
       "╞═════════════╪══════════╪════════╪═══════════════════╪═══╪═══════════╪═════════╪═══════╪══════════╡\n",
       "│ 1           ┆ 0        ┆ 3      ┆ Braund, Mr. Owen  ┆ … ┆ A/5 21171 ┆ 7.25    ┆ null  ┆ S        │\n",
       "│             ┆          ┆        ┆ Harris            ┆   ┆           ┆         ┆       ┆          │\n",
       "│ 2           ┆ 1        ┆ 1      ┆ Cumings, Mrs.     ┆ … ┆ PC 17599  ┆ 71.2833 ┆ C85   ┆ C        │\n",
       "│             ┆          ┆        ┆ John Bradley      ┆   ┆           ┆         ┆       ┆          │\n",
       "│             ┆          ┆        ┆ (Flor…            ┆   ┆           ┆         ┆       ┆          │\n",
       "│ 3           ┆ 1        ┆ 3      ┆ Heikkinen, Miss.  ┆ … ┆ STON/O2.  ┆ 7.925   ┆ null  ┆ S        │\n",
       "│             ┆          ┆        ┆ Laina             ┆   ┆ 3101282   ┆         ┆       ┆          │\n",
       "└─────────────┴──────────┴────────┴───────────────────┴───┴───────────┴─────────┴───────┴──────────┘"
      ]
     },
     "execution_count": 5,
     "metadata": {},
     "output_type": "execute_result"
    }
   ],
   "source": [
    "df = pl.read_csv(csvFile)\n",
    "df.head(3)"
   ]
  },
  {
   "cell_type": "markdown",
   "id": "f964d228-21e6-421b-9157-2ffbd6d332fe",
   "metadata": {},
   "source": [
    "### Iterating over a single column\n",
    "We can iterate over a single column just as we would do with a Pandas column or a Numpy array"
   ]
  },
  {
   "cell_type": "code",
   "execution_count": 6,
   "id": "f5a44e8d-033b-43f1-bfb7-2ffb599417f5",
   "metadata": {},
   "outputs": [
    {
     "data": {
      "text/plain": [
       "[22.0, 38.0, 26.0]"
      ]
     },
     "execution_count": 6,
     "metadata": {},
     "output_type": "execute_result"
    }
   ],
   "source": [
    "ages = [age for age in df[\"Age\"]]\n",
    "ages[:3]"
   ]
  },
  {
   "cell_type": "markdown",
   "id": "217754bf-3aac-4902-8e97-a72bb0f13368",
   "metadata": {},
   "source": [
    "### Iterating over multiple columns\n",
    "We can iterate over multiple columns using the `rows` attribute of a `DataFrame`.\n",
    "\n",
    "In this example we create a list where each element is the `Name` and `Age` of a passenger"
   ]
  },
  {
   "cell_type": "code",
   "execution_count": 7,
   "id": "7d972c68-cc28-4549-82e6-cb2544eca0b7",
   "metadata": {},
   "outputs": [
    {
     "data": {
      "text/plain": [
       "[('Braund, Mr. Owen Harris', 22.0),\n",
       " ('Cumings, Mrs. John Bradley (Florence Briggs Thayer)', 38.0),\n",
       " ('Heikkinen, Miss. Laina', 26.0)]"
      ]
     },
     "execution_count": 7,
     "metadata": {},
     "output_type": "execute_result"
    }
   ],
   "source": [
    "nameAge = [(row[3],row[5]) for row in df.rows()]\n",
    "nameAge[:3]"
   ]
  },
  {
   "cell_type": "markdown",
   "id": "b5ad40be-6cd1-4ea0-b850-862d3ac745bd",
   "metadata": {},
   "source": [
    "Alternatively, we can do this with the `iterrows` attribute"
   ]
  },
  {
   "cell_type": "code",
   "execution_count": 8,
   "id": "c2bdbc57-2588-421a-80e6-e33171dcf39a",
   "metadata": {},
   "outputs": [
    {
     "data": {
      "text/plain": [
       "[('Braund, Mr. Owen Harris', 22.0),\n",
       " ('Cumings, Mrs. John Bradley (Florence Briggs Thayer)', 38.0),\n",
       " ('Heikkinen, Miss. Laina', 26.0)]"
      ]
     },
     "execution_count": 8,
     "metadata": {},
     "output_type": "execute_result"
    }
   ],
   "source": [
    "nameAge = [(row[3],row[5]) for row in df.iter_rows()]\n",
    "nameAge[:3]"
   ]
  },
  {
   "cell_type": "markdown",
   "id": "abc24239-ac2d-48e7-943b-abc66cf32695",
   "metadata": {},
   "source": [
    "#### Difference between `rows` and `iter_rows`?\n",
    "The output of `rows` and `iter_rows` is the same. The difference is that:\n",
    "- when we call `rows` the entire `DataFrame` is materialised as a list of Python tuples where each tuple is a row. We can then iterate over this list of tuples\n",
    "- when we call `iter_rows` Polars materialises each row as a Python tuple when we iterate over it rather than materialising the whole `DataFrame` at the outset\n",
    "\n",
    "Use `rows` if you are iterating through the full `DataFrame` and have enough memory to materialise the whole `DataFrame` as a list of tuples.\n",
    "\n",
    "Use `iter_rows` if you don't want to materialise the whole `DataFrame` as a list of tuples to reduce memory use\n",
    "\n",
    "### Iterating with named columns\n",
    "In the examples with `rows` and `iter_rows` above we use indexing to select the column. We can instead use the column name as an attribute by passing the `named` argument to return a `dict` for each row"
   ]
  },
  {
   "cell_type": "code",
   "execution_count": 9,
   "id": "a655fba4-9879-4bf9-82dd-1e2df9336f97",
   "metadata": {},
   "outputs": [
    {
     "data": {
      "text/plain": [
       "[('Braund, Mr. Owen Harris', 22.0),\n",
       " ('Cumings, Mrs. John Bradley (Florence Briggs Thayer)', 38.0),\n",
       " ('Heikkinen, Miss. Laina', 26.0)]"
      ]
     },
     "execution_count": 9,
     "metadata": {},
     "output_type": "execute_result"
    }
   ],
   "source": [
    "nameAge = [(row[\"Name\"],row[\"Age\"]) for row in df.rows(named=True)]\n",
    "nameAge[:3]"
   ]
  },
  {
   "cell_type": "code",
   "execution_count": 10,
   "id": "94c7f185-cadb-46a9-a929-93b28cd97c24",
   "metadata": {},
   "outputs": [
    {
     "data": {
      "text/plain": [
       "[('Braund, Mr. Owen Harris', 22.0),\n",
       " ('Cumings, Mrs. John Bradley (Florence Briggs Thayer)', 38.0),\n",
       " ('Heikkinen, Miss. Laina', 26.0)]"
      ]
     },
     "execution_count": 10,
     "metadata": {},
     "output_type": "execute_result"
    }
   ],
   "source": [
    "nameAge = [(row[\"Name\"],row[\"Age\"]) for row in df.iter_rows(named=True)]\n",
    "nameAge[:3]"
   ]
  },
  {
   "cell_type": "markdown",
   "id": "32bb43fb-27cd-4cf0-8126-b0410155f305",
   "metadata": {},
   "source": [
    "This approach with named values is easier to read but slower as the named objects must be created for each row."
   ]
  },
  {
   "cell_type": "markdown",
   "id": "f5a51c79-5582-44c1-b709-198a3597c205",
   "metadata": {},
   "source": [
    "## Exercises\n",
    "In the exercises you will develop your understanding of:\n",
    "- iterating over multiple columns with `iterrows`\n",
    "- iterating over multiple columns with `rows`\n",
    "- iterating with named columns\n",
    "\n",
    "## Exercise 1\n",
    "In the example below we create a random `DataFrame` with 1 million rows and 100 columns. We compare how long it takes to iterate through the `DataFrame` when we select the first 2 columns on each iteration"
   ]
  },
  {
   "cell_type": "code",
   "execution_count": null,
   "id": "87061916-bae8-4e78-aebd-bbc4337f285b",
   "metadata": {},
   "outputs": [],
   "source": [
    "import numpy as np\n",
    "N = 1_000_000\n",
    "dfRandom = pl.DataFrame(np.random.standard_normal((N,100)))"
   ]
  },
  {
   "cell_type": "markdown",
   "id": "53182509-5b86-4d46-a298-72a59614f882",
   "metadata": {},
   "source": [
    "Iterate through `dfRandom` with `iter_rows` to create a list where each element is a tuple with the first two columns of `dfRandom`"
   ]
  },
  {
   "cell_type": "code",
   "execution_count": null,
   "id": "c68da701-4e2d-4e41-a9d9-2a71825ebad8",
   "metadata": {},
   "outputs": [],
   "source": []
  },
  {
   "cell_type": "markdown",
   "id": "3209a4f5-b41f-4238-a02f-2e2d4dda03fc",
   "metadata": {},
   "source": [
    "How long does it take to iterate if we pre-`select` the columns of interest first?\n",
    "\n",
    "We use the ipython `timeit` magic with one iteration"
   ]
  },
  {
   "cell_type": "code",
   "execution_count": null,
   "id": "26f599b8-308e-4ded-a2d0-f68b4225da32",
   "metadata": {},
   "outputs": [],
   "source": [
    "%%timeit -n1 -r1\n"
   ]
  },
  {
   "cell_type": "markdown",
   "id": "3f9c1f6f-e11a-4b9a-8f21-f02ac260efb8",
   "metadata": {},
   "source": [
    "Use pre-selected columns below.\n",
    "\n",
    "Do the same iteration with `iter_rows` but use named columns"
   ]
  },
  {
   "cell_type": "code",
   "execution_count": null,
   "id": "21393187-1b5a-41ef-a0e2-1624dfdf72e7",
   "metadata": {},
   "outputs": [],
   "source": [
    "%%timeit -n1 -r1\n"
   ]
  },
  {
   "cell_type": "markdown",
   "id": "136473a8-1ef5-44b6-8e32-372c068983f3",
   "metadata": {},
   "source": [
    "Compare the performance with the `rows` method"
   ]
  },
  {
   "cell_type": "code",
   "execution_count": null,
   "id": "51138617-ed5b-4cad-be43-cf2f72e80d86",
   "metadata": {},
   "outputs": [],
   "source": [
    "%%timeit -n1 -r1\n"
   ]
  },
  {
   "cell_type": "markdown",
   "id": "d79b38cd-1fbc-48fb-82c1-f8b994435179",
   "metadata": {},
   "source": [
    "## Solution to exercise 1\n",
    "In the example below we create a random `DataFrame` with 1 million rows and 100 columns. We compare how long it takes to iterate through the `DataFrame` when we select the first 2 columns on each iteration"
   ]
  },
  {
   "cell_type": "code",
   "execution_count": 15,
   "id": "1cc7a056-7a27-4179-8578-af600a2eac26",
   "metadata": {},
   "outputs": [],
   "source": [
    "import numpy as np\n",
    "N = 1_000_000\n",
    "dfRandom = pl.DataFrame(np.random.standard_normal((N,100)))"
   ]
  },
  {
   "cell_type": "markdown",
   "id": "2978a3e4-b779-4fe5-950c-b220d1a463e7",
   "metadata": {},
   "source": [
    "Iterate through `dfRandom` with `iter_rows` to create a list where each element is a tuple with the first two columns of `dfRandom`"
   ]
  },
  {
   "cell_type": "code",
   "execution_count": 19,
   "id": "e2672ee5-7a1c-4d99-b8df-aff05f58945d",
   "metadata": {
    "collapsed": true,
    "jupyter": {
     "outputs_hidden": true,
     "source_hidden": true
    },
    "tags": []
   },
   "outputs": [
    {
     "name": "stdout",
     "output_type": "stream",
     "text": [
      "8.98 s ± 0 ns per loop (mean ± std. dev. of 1 run, 1 loop each)\n"
     ]
    }
   ],
   "source": [
    "%%timeit -n1 -r1\n",
    "[(row[0],row[1]) for row in dfRandom.iter_rows()]"
   ]
  },
  {
   "cell_type": "markdown",
   "id": "2eb33987-ff08-45b3-9390-03c7667d6819",
   "metadata": {},
   "source": [
    "How long does it take to iterate if we `select` the columns of interest first?"
   ]
  },
  {
   "cell_type": "code",
   "execution_count": 20,
   "id": "4c3ad846-ed4a-4096-9e11-4a3f8fd2e84f",
   "metadata": {
    "collapsed": true,
    "jupyter": {
     "outputs_hidden": true,
     "source_hidden": true
    },
    "tags": []
   },
   "outputs": [
    {
     "name": "stdout",
     "output_type": "stream",
     "text": [
      "321 ms ± 0 ns per loop (mean ± std. dev. of 1 run, 1 loop each)\n"
     ]
    }
   ],
   "source": [
    "%%timeit -n1 -r1\n",
    "[(row[0],row[1]) for row in dfRandom.select([\"column_0\",\"column_1\"]).iter_rows()]"
   ]
  },
  {
   "cell_type": "markdown",
   "id": "4a8f811e-655d-494a-be51-0dd6b4167eb3",
   "metadata": {},
   "source": [
    "It is much faster if we preselect the columns!\n",
    "\n",
    "Use pre-selected columns below."
   ]
  },
  {
   "cell_type": "markdown",
   "id": "1de52a06-4f03-4105-b757-79cecb25d614",
   "metadata": {},
   "source": [
    "Do the same iteration with `iter_rows` but use named columns"
   ]
  },
  {
   "cell_type": "code",
   "execution_count": 21,
   "id": "0a969d80-ed8c-4836-8ce3-e5e88150937d",
   "metadata": {
    "collapsed": true,
    "jupyter": {
     "outputs_hidden": true,
     "source_hidden": true
    },
    "tags": []
   },
   "outputs": [
    {
     "name": "stdout",
     "output_type": "stream",
     "text": [
      "980 ms ± 0 ns per loop (mean ± std. dev. of 1 run, 1 loop each)\n"
     ]
    }
   ],
   "source": [
    "%%timeit -n1 -r1\n",
    "[(row[\"column_0\"],row[\"column_1\"]) for row in dfRandom.select([\"column_0\",\"column_1\"]).iter_rows(named=True)]"
   ]
  },
  {
   "cell_type": "markdown",
   "id": "79386f89-c1b8-4c5b-b6d1-fd56f182b530",
   "metadata": {},
   "source": [
    "We see there is a performance penalty for using the `named` approach\n",
    "\n",
    "Compare the performance without names using the `rows` method"
   ]
  },
  {
   "cell_type": "code",
   "execution_count": 22,
   "id": "c5871513-136f-4e45-809c-b308b5e4ded0",
   "metadata": {
    "collapsed": true,
    "jupyter": {
     "outputs_hidden": true,
     "source_hidden": true
    },
    "tags": []
   },
   "outputs": [
    {
     "name": "stdout",
     "output_type": "stream",
     "text": [
      "318 ms ± 0 ns per loop (mean ± std. dev. of 1 run, 1 loop each)\n"
     ]
    }
   ],
   "source": [
    "%%timeit -n1 -r1\n",
    "[(row[0],row[1]) for row in dfRandom.select([\"column_0\",\"column_1\"]).rows()]"
   ]
  },
  {
   "cell_type": "markdown",
   "id": "16723edb-9e3c-44ab-9361-c4f2653d1884",
   "metadata": {},
   "source": [
    "In this example we see that the `rows` method is faster than the `iter_rows` method. In general I find that it varies whether `rows` or `iter_rows` is faster depending on the problem"
   ]
  },
  {
   "cell_type": "code",
   "execution_count": null,
   "id": "ad136f50-bd4c-4f5b-bb4d-4722643a640a",
   "metadata": {},
   "outputs": [],
   "source": []
  }
 ],
 "metadata": {
  "kernelspec": {
   "display_name": "Python 3 (ipykernel)",
   "language": "python",
   "name": "python3"
  },
  "language_info": {
   "codemirror_mode": {
    "name": "ipython",
    "version": 3
   },
   "file_extension": ".py",
   "mimetype": "text/x-python",
   "name": "python",
   "nbconvert_exporter": "python",
   "pygments_lexer": "ipython3",
   "version": "3.10.9"
  }
 },
 "nbformat": 4,
 "nbformat_minor": 5
}
