{
    "cells": [
        {
            "cell_type": "markdown",
            "id": "63d0d72d-f59c-4197-8e44-05cbe61a8d65",
            "metadata": {},
            "source": [
                "# Sorting\n",
                "By the end of this lecture you will be able to:\n",
                "- sort a `DataFrame`\n",
                "- sort a column with an expression \n",
                "- take advantage of fast-track algorithms with `set_sorted`\n",
                "\n",
                "In this lecture we learn how to sort both on a `DataFrame` and within an expression. We also introduce the fast-track algorithms on sorted data. The fast-track algorithims are optimisations that can not be included as part of the built-in query optimiser so we show how to trigger them on simple problems here."
            ]
        },
        {
            "cell_type": "code",
            "execution_count": null,
            "id": "80c3f69f-5f69-4164-b799-807eb155f1e4",
            "metadata": {
                "tags": []
            },
            "outputs": [],
            "source": [
                "import polars as pl"
            ]
        },
        {
            "cell_type": "code",
            "execution_count": null,
            "id": "d4c4bc4d-45dc-49a5-a5fa-89741257a246",
            "metadata": {
                "tags": []
            },
            "outputs": [],
            "source": [
                "csvFile = \"../data/titanic.csv\""
            ]
        },
        {
            "cell_type": "code",
            "execution_count": null,
            "id": "4a4be14f-3e2d-4a7f-b8f2-5d02368828bf",
            "metadata": {
                "tags": []
            },
            "outputs": [],
            "source": [
                "df = pl.read_csv(csvFile)\n",
                "df.head(3)"
            ]
        },
        {
            "cell_type": "markdown",
            "id": "d81cfbd2-c2fc-4416-8037-88ebdf21cd05",
            "metadata": {},
            "source": [
                "We use `pl.Config` to adjust the default so that only 4 rows of a `DataFrame` are printed"
            ]
        },
        {
            "cell_type": "code",
            "execution_count": null,
            "id": "7ebbd0a6-22b2-4d46-bbbf-2be0b6db0419",
            "metadata": {
                "tags": []
            },
            "outputs": [],
            "source": [
                "pl.Config.set_tbl_rows(4)"
            ]
        },
        {
            "cell_type": "markdown",
            "id": "63930f0c-f173-4fdc-9523-f16776dbce1d",
            "metadata": {},
            "source": [
                "## Sorting a `DataFrame`\n",
                "\n",
                "### Using the `sort` method on `DataFrame`\n",
                "\n",
                "We can sort a `DataFrame` on a column with the `sort` method"
            ]
        },
        {
            "cell_type": "code",
            "execution_count": null,
            "id": "64980609-2c8d-4740-94c7-c21b0f3aca4a",
            "metadata": {
                "tags": []
            },
            "outputs": [],
            "source": [
                "df.sort(\"Age\")"
            ]
        },
        {
            "cell_type": "markdown",
            "id": "c001cda9-b155-4a6f-8ab2-c3f2ea0069bb",
            "metadata": {},
            "source": [
                "By default `null` values are at the start of the sort. \n",
                "\n",
                "We can move `null` values to the end with the `nulls_last` argument to `sort`.\n",
                "\n",
                "We can sort based on multiple columns with a list"
            ]
        },
        {
            "cell_type": "code",
            "execution_count": null,
            "id": "23083dba-75d3-41a4-89f1-f6b7cca7ed0e",
            "metadata": {
                "tags": []
            },
            "outputs": [],
            "source": [
                "df.sort([\"Pclass\",\"Age\"])"
            ]
        },
        {
            "cell_type": "markdown",
            "id": "5d423775-7750-4336-92b2-aa58b1955f98",
            "metadata": {},
            "source": [
                "## Sorting a column with an expression\n",
                "\n",
                "We can transform a column into sorted order with an expression."
            ]
        },
        {
            "cell_type": "markdown",
            "id": "782f841c-b495-44df-823a-327293adf465",
            "metadata": {},
            "source": [
                "In this example we sort the values in every column independent of other columns"
            ]
        },
        {
            "cell_type": "code",
            "execution_count": null,
            "id": "e70d3d3c-4b82-4c97-b603-75397bce0128",
            "metadata": {
                "tags": []
            },
            "outputs": [],
            "source": [
                "(\n",
                "    df\n",
                "    .select(\n",
                "        pl.all().sort()\n",
                "    )\n",
                ")"
            ]
        },
        {
            "cell_type": "markdown",
            "id": "c3230e29-b339-4658-bc1f-9350b90181a5",
            "metadata": {},
            "source": [
                "With the `sort` expression each column is sorted by itself and not with respect to another column.\n",
                "\n",
                "Within an expression we can also sort all columns with respect to another column using `sort_by`"
            ]
        },
        {
            "cell_type": "code",
            "execution_count": null,
            "id": "51da7ab1-cbad-4a8a-83e1-09820e356b91",
            "metadata": {},
            "outputs": [],
            "source": [
                "(\n",
                "    df\n",
                "    .select(\n",
                "        pl.all().sort_by(\"Age\")\n",
                "    )\n",
                ")"
            ]
        },
        {
            "cell_type": "markdown",
            "id": "f182fec3-c46d-40f2-ab5a-cd60b23e17a2",
            "metadata": {},
            "source": [
                "It seems like `sort_by` in this case has just replicated the functionality of \n",
                "```python\n",
                "df.sort(\"Age\")\n",
                "```\n",
                "However, as we can use `sort_by` in an expression it can be used in other contexts such as in a `groupby` aggregation. "
            ]
        },
        {
            "cell_type": "markdown",
            "id": "8859becd-dd2d-47c0-a00f-e4cd5dbfc299",
            "metadata": {},
            "source": [
                "## Taking advantage of sorted data\n",
                "\n",
                "For some operations Polars can use a fast track algorithm if it knows the data in a column is sorted.\n",
                "\n",
                "For example, if we want the `max` value on a sorted column we just take the last non-`null` value.\n",
                "\n",
                "### Checking the sorted status\n",
                "You can check if Polars thinks a column is sorted with the `flags` attribute"
            ]
        },
        {
            "cell_type": "code",
            "execution_count": null,
            "id": "4340f5f2-2fa8-470c-9247-677111e00111",
            "metadata": {
                "tags": []
            },
            "outputs": [],
            "source": [
                "df[\"PassengerId\"].flags"
            ]
        },
        {
            "cell_type": "markdown",
            "id": "80231937-874c-4507-a5e8-56d61aeb2dad",
            "metadata": {},
            "source": [
                "In this case Polars doesn't think the `PassengerID` column is sorted (although it is sorted).\n",
                "\n",
                "### Setting the sorted status\n",
                "If we know that a column is sorted then we can let Polars know using `set_sorted`"
            ]
        },
        {
            "cell_type": "code",
            "execution_count": null,
            "id": "4aec3b92-3f85-4728-a1d0-5c5da6bceb60",
            "metadata": {
                "tags": []
            },
            "outputs": [],
            "source": [
                "df = (\n",
                "    pl.read_csv(csvFile)\n",
                "    .with_columns(\n",
                "        pl.col(\"PassengerId\").set_sorted()\n",
                "    )\n",
                ")\n",
                "df[\"PassengerId\"].flags"
            ]
        },
        {
            "cell_type": "markdown",
            "id": "22f10bbc-84d9-41e4-a731-2bd74400f7c6",
            "metadata": {},
            "source": [
                "In the exercises we see what effect `set_sorted` has on performance.\n",
                "\n",
                "If we transform a column with a sorting operation Polars will update `flags`"
            ]
        },
        {
            "cell_type": "code",
            "execution_count": null,
            "id": "1db9ec2e-f306-4f54-aa8b-518657da75df",
            "metadata": {
                "tags": []
            },
            "outputs": [],
            "source": [
                "df = (\n",
                "    pl.read_csv(csvFile)\n",
                "    .sort(\"PassengerId\")\n",
                ")\n",
                "df[\"PassengerId\"].flags"
            ]
        },
        {
            "cell_type": "markdown",
            "id": "06fc5d0a-c7cb-43dd-9827-f5c1d5f17b25",
            "metadata": {},
            "source": [
                "If the data is sorted descending we call:\n",
                "```python\n",
                "pl.col(\"PassengerId\").set_sorted(descending=True)\n",
                "```\n",
                "\n",
                "### `set_sorted` in an expression\n",
                "We can use `set_sorted` within an expression. \n",
                "\n",
                "For example, if we have a sorted column we can use `set_sorted` to find the `max`"
            ]
        },
        {
            "cell_type": "code",
            "execution_count": null,
            "id": "4898de85-a208-4f47-a787-dadc14276a31",
            "metadata": {
                "tags": []
            },
            "outputs": [],
            "source": [
                "(\n",
                "    df\n",
                "    .select(\n",
                "        pl.col(\"PassengerId\").set_sorted().max()\n",
                "    )\n",
                ")"
            ]
        },
        {
            "cell_type": "markdown",
            "id": "608926c6-3527-40ab-9aab-07a78885ab92",
            "metadata": {},
            "source": [
                "## Exercises\n",
                "In the exercises you will develop your understanding of:\n",
                "- sorting a `DataFrame`\n",
                "- sorting in an expression\n",
                "- using `set_sorted`\n",
                "\n",
                "## Exercise 1: Sorting a `DataFrame`\n",
                "Sort the `DataFrame` by whether passengers survived and the alphabetical order of the passenger names.\n",
                "\n",
                "Configure the output to print 10 lines using `pl.Config`"
            ]
        },
        {
            "cell_type": "code",
            "execution_count": null,
            "id": "58c6e670-aa47-4529-a061-8f2a57d70f23",
            "metadata": {
                "tags": []
            },
            "outputs": [],
            "source": [
                "pl.Config\n",
                "df = pl.read_csv(csvFile)\n",
                "df<blank>"
            ]
        },
        {
            "cell_type": "markdown",
            "id": "169a869c-f705-4bdb-9cdd-7963359a79f1",
            "metadata": {},
            "source": [
                "Add a column for the `familySize` which is the sum of the number of siblings (`SibSp` columns), the number of parents or children (`Parch` columns) plus one for the passenger themself.\n",
                "\n",
                "Then sort all of the columns by `familySize` inside an expression"
            ]
        },
        {
            "cell_type": "code",
            "execution_count": null,
            "id": "d90805f3-a707-44d9-8a05-fdee597e8627",
            "metadata": {},
            "outputs": [],
            "source": [
                "(\n",
                "    pl.read_csv(csvFile)\n",
                "    <blank>\n",
                ")"
            ]
        },
        {
            "cell_type": "markdown",
            "id": "cfe21b61-5210-4e08-83f8-35179d2a76b4",
            "metadata": {},
            "source": [
                "## Exercise 2: Using `set_sorted`\n",
                "\n",
                "We create a random array in Numpy.\n",
                "\n",
                "We populate a `DataFrame` with:\n",
                "- a sorted copy of the random array and\n",
                "- the original random array"
            ]
        },
        {
            "cell_type": "code",
            "execution_count": null,
            "id": "8174d7f6-835f-4ac4-b300-081b21ae2cc3",
            "metadata": {
                "tags": []
            },
            "outputs": [],
            "source": [
                "import numpy as np\n",
                "N = 100_000\n",
                "randomArray = np.random.randint(0,10,N)\n",
                "dfSort = pl.DataFrame({\n",
                "    'sorted':sorted(randomArray),\n",
                "    'unsorted':randomArray\n",
                "}\n",
                ")\n",
                "dfSort.head(3)"
            ]
        },
        {
            "cell_type": "markdown",
            "id": "613ce00c-f3a4-4de2-8c47-5c78be17d8b1",
            "metadata": {},
            "source": [
                "Check to see if Polars thinks either column is sorted"
            ]
        },
        {
            "cell_type": "code",
            "execution_count": null,
            "id": "08288f1c-86fd-497e-86eb-74e0d1269897",
            "metadata": {
                "tags": []
            },
            "outputs": [],
            "source": []
        },
        {
            "cell_type": "code",
            "execution_count": null,
            "id": "5e6376c7-a9c1-495f-bb0e-0e1099b56a6d",
            "metadata": {
                "tags": []
            },
            "outputs": [],
            "source": []
        },
        {
            "cell_type": "markdown",
            "id": "a253b31c-dd18-4bc8-ab85-4a81f1299b8d",
            "metadata": {},
            "source": [
                "Time how long it takes to find the median of each column"
            ]
        },
        {
            "cell_type": "code",
            "execution_count": null,
            "id": "5cd9d6f0-d6a9-4f1b-b9bc-d2d58a9fba79",
            "metadata": {
                "tags": []
            },
            "outputs": [],
            "source": []
        },
        {
            "cell_type": "code",
            "execution_count": null,
            "id": "6cb7811e-e311-4808-a7ae-89ab2f088d5d",
            "metadata": {
                "tags": []
            },
            "outputs": [],
            "source": []
        },
        {
            "cell_type": "markdown",
            "id": "54a49f4c-a000-4055-8f51-09851765fccf",
            "metadata": {},
            "source": [
                "Why is the sorted column column already faster than the unsorted column?\n",
                "\n",
                "Re-create `dfSort` and tell polars that the `sorted` column is sorted"
            ]
        },
        {
            "cell_type": "code",
            "execution_count": null,
            "id": "00a49aff-8892-4c30-8093-a9fe032abb2e",
            "metadata": {
                "tags": []
            },
            "outputs": [],
            "source": [
                "N = 1_000_000\n",
                "randomArray = np.random.randint(0,10,N)\n",
                "dfSort = (\n",
                "        pl.DataFrame({\n",
                "            'sorted':sorted(randomArray),\n",
                "            'unsorted':randomArray\n",
                "            }\n",
                "        )\n",
                ")\n",
                "dfSort = (\n",
                "    dfSort\n",
                "    <blank>\n",
                ")"
            ]
        },
        {
            "cell_type": "markdown",
            "id": "edb58eca-e2a6-4600-a729-a79b8a2281a7",
            "metadata": {},
            "source": [
                "Confirm that Polars knows the `sorted` column is sorted"
            ]
        },
        {
            "cell_type": "code",
            "execution_count": null,
            "id": "1747d571-d5b4-448d-b4e3-d23e1f66a1ba",
            "metadata": {
                "tags": []
            },
            "outputs": [],
            "source": []
        },
        {
            "cell_type": "markdown",
            "id": "06ff7129-9da7-496a-91c2-f1b1ad129abb",
            "metadata": {},
            "source": [
                "Compare again how long it takes to find the median of each column"
            ]
        },
        {
            "cell_type": "code",
            "execution_count": null,
            "id": "64054d7b-864e-49bd-bc26-fbb9d9b47dd1",
            "metadata": {
                "tags": []
            },
            "outputs": [],
            "source": []
        },
        {
            "cell_type": "code",
            "execution_count": null,
            "id": "b982d266-7225-4591-9b07-99a7864a6373",
            "metadata": {
                "tags": []
            },
            "outputs": [],
            "source": []
        },
        {
            "cell_type": "markdown",
            "id": "ec5a814b-abad-450c-8c19-1b1c5f29c53c",
            "metadata": {},
            "source": [
                "Vary `N` to see how the difference changes with size."
            ]
        },
        {
            "cell_type": "markdown",
            "id": "8953b08b-9aa6-4443-b933-7066f7f78d0e",
            "metadata": {},
            "source": [
                "## Solutions\n",
                "\n",
                "## Solution to Exercise 1\n",
                "Sort the `DataFrame` by survival and alphabetical order of the passenger names"
            ]
        },
        {
            "cell_type": "code",
            "execution_count": null,
            "id": "8b597b46-5798-46a6-b850-588ea6236239",
            "metadata": {
                "jupyter": {
                    "source_hidden": true
                },
                "tags": []
            },
            "outputs": [],
            "source": [
                "pl.Config.set_tbl_rows(10)\n",
                "(\n",
                "    pl.read_csv(csvFile)\n",
                "    .sort(\n",
                "        [\"Survived\",\"Name\"]\n",
                "    )\n",
                ")"
            ]
        },
        {
            "cell_type": "markdown",
            "id": "4d63c938-e509-48e1-96f1-b572bc7fe2f6",
            "metadata": {},
            "source": [
                "Add a column for the `familySize` which is the sum of the number of siblings (`SibSp` columns), the number of parents or children (`Parch` columns) plus one for the passenger themself.\n",
                "\n",
                "Then sort all of the columns by `familySize` inside an expression"
            ]
        },
        {
            "cell_type": "code",
            "execution_count": null,
            "id": "7bbebe46-af91-47b3-94d0-b1d3ffe1a039",
            "metadata": {
                "jupyter": {
                    "source_hidden": true
                },
                "tags": []
            },
            "outputs": [],
            "source": [
                "(\n",
                "    pl.read_csv(csvFile)\n",
                "    .with_columns( \n",
                "        (\n",
                "            pl.col('SibSp') + pl.col('Parch') + 1\n",
                "        ).alias('familySize')\n",
                "    )\n",
                "    .select(\n",
                "        pl.all().sort_by(\"familySize\")\n",
                "    )\n",
                ")"
            ]
        },
        {
            "cell_type": "markdown",
            "id": "98d92ab6-06d5-4b42-b31e-7eb71cbebd1a",
            "metadata": {
                "jupyter": {
                    "outputs_hidden": true
                },
                "tags": []
            },
            "source": [
                "## Solution to exercise 2\n"
            ]
        },
        {
            "cell_type": "markdown",
            "id": "37696406-8caa-40ad-b1e4-058ec0079af7",
            "metadata": {},
            "source": [
                "Check Polars knows the columns are sorted"
            ]
        },
        {
            "cell_type": "code",
            "execution_count": null,
            "id": "923dbbcc-8dc1-4027-9b9b-880df49e06de",
            "metadata": {
                "jupyter": {
                    "source_hidden": true
                },
                "tags": []
            },
            "outputs": [],
            "source": [
                "import numpy as np\n",
                "N = 1_000_000\n",
                "randomArray = np.random.randint(0,10,N)\n",
                "dfSort = pl.DataFrame({\n",
                "    'sorted':sorted(randomArray),\n",
                "    'unsorted':randomArray\n",
                "}\n",
                ")\n",
                "dfSort.head(3)"
            ]
        },
        {
            "cell_type": "code",
            "execution_count": null,
            "id": "1ef6025c-ad78-4704-ba2a-12c4b507c3a9",
            "metadata": {
                "jupyter": {
                    "source_hidden": true
                },
                "tags": []
            },
            "outputs": [],
            "source": [
                "dfSort[\"sorted\"].flags"
            ]
        },
        {
            "cell_type": "code",
            "execution_count": null,
            "id": "3d7f5db4-80b8-4577-8278-1ac0c053b8e9",
            "metadata": {
                "jupyter": {
                    "source_hidden": true
                },
                "tags": []
            },
            "outputs": [],
            "source": [
                "dfSort[\"unsorted\"].flags"
            ]
        },
        {
            "cell_type": "markdown",
            "id": "b3932b07-32f2-43df-81ce-9871a8f0468e",
            "metadata": {
                "jupyter": {
                    "outputs_hidden": true
                },
                "tags": []
            },
            "source": [
                "Time how long it takes to find the median of each column"
            ]
        },
        {
            "cell_type": "code",
            "execution_count": null,
            "id": "d68a0ea1-f25a-482c-9ab8-fe089ba80a01",
            "metadata": {
                "jupyter": {
                    "source_hidden": true
                },
                "tags": []
            },
            "outputs": [],
            "source": [
                "%%timeit -n1 -r1 \n",
                "(\n",
                "    dfSort\n",
                "    .select(\n",
                "        pl.col(\"sorted\").median()\n",
                "    )\n",
                ")"
            ]
        },
        {
            "cell_type": "code",
            "execution_count": null,
            "id": "313993a1-1acf-490e-b71a-31732ebfff58",
            "metadata": {
                "jupyter": {
                    "source_hidden": true
                },
                "tags": []
            },
            "outputs": [],
            "source": [
                "%%timeit -n1 -r1 \n",
                "(\n",
                "    dfSort\n",
                "    .select(\n",
                "        pl.col(\"unsorted\").median()\n",
                "    )\n",
                ")"
            ]
        },
        {
            "cell_type": "markdown",
            "id": "dbbebf3b-9cc5-4a3e-9138-01112b23d587",
            "metadata": {},
            "source": [
                "The sorted column is already faster because finding the median requires a sort and there is no data to be moved around in the sorted column.\n",
                "\n",
                "Re-create `dfSort` and tell polars that the `sorted` column is sorted"
            ]
        },
        {
            "cell_type": "code",
            "execution_count": null,
            "id": "0c83f030-6877-45ab-923d-d605e8126692",
            "metadata": {
                "jupyter": {
                    "source_hidden": true
                },
                "tags": []
            },
            "outputs": [],
            "source": [
                "dfSort = (\n",
                "    dfSort\n",
                "    .with_columns(\n",
                "        pl.col('sorted').set_sorted()\n",
                "    )\n",
                ")"
            ]
        },
        {
            "cell_type": "markdown",
            "id": "6f346be7-39f6-46ac-899b-f6745aedc922",
            "metadata": {},
            "source": [
                "Confirm that Polars knows the `sorted` column is sorted"
            ]
        },
        {
            "cell_type": "code",
            "execution_count": null,
            "id": "4e23da6f-8859-4196-bba8-8aacf1bbc9b7",
            "metadata": {
                "jupyter": {
                    "source_hidden": true
                },
                "tags": []
            },
            "outputs": [],
            "source": [
                "dfSort[\"sorted\"].flags"
            ]
        },
        {
            "cell_type": "markdown",
            "id": "04e65c1d-d2ad-4694-ae6a-5c2df866b125",
            "metadata": {},
            "source": [
                "Compare again how long it takes to find the median in each column (same as above)"
            ]
        },
        {
            "cell_type": "code",
            "execution_count": null,
            "id": "3e5ade4e-da93-4caa-86e0-af2170f67102",
            "metadata": {
                "jupyter": {
                    "source_hidden": true
                },
                "tags": []
            },
            "outputs": [],
            "source": [
                "%%timeit -n1 -r1 \n",
                "(\n",
                "    dfSort\n",
                "    .select(\n",
                "        pl.col(\"sorted\").median()\n",
                "    )\n",
                ")"
            ]
        },
        {
            "cell_type": "code",
            "execution_count": null,
            "id": "e4de19e9-2a39-4357-9c14-10afbd87193c",
            "metadata": {
                "jupyter": {
                    "source_hidden": true
                },
                "tags": []
            },
            "outputs": [],
            "source": [
                "%%timeit -n1 -r1 \n",
                "(\n",
                "    dfSort\n",
                "    .select(\n",
                "        pl.col(\"unsorted\").median()\n",
                "    )\n",
                ")"
            ]
        }
    ],
    "metadata": {
        "kernelspec": {
            "display_name": "Python 3 (ipykernel)",
            "language": "python",
            "name": "python3"
        },
        "language_info": {
            "codemirror_mode": {
                "name": "ipython",
                "version": 3
            },
            "file_extension": ".py",
            "mimetype": "text/x-python",
            "name": "python",
            "nbconvert_exporter": "python",
            "pygments_lexer": "ipython3",
            "version": "3.10.1"
        }
    },
    "nbformat": 4,
    "nbformat_minor": 5
}