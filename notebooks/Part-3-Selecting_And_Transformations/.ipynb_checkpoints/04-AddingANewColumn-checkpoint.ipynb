{
 "cells": [
  {
   "cell_type": "markdown",
   "id": "3eec8164-8b94-4866-b8aa-0c1cc4936a8f",
   "metadata": {},
   "source": [
    "## Selecting columns 4: Transforming and adding a column\n",
    "By the end of this section we will learn how to:\n",
    "- transform an existing column in place using `with_columns`\n",
    "- add a new column with an expression\n",
    "- add a new column with column arithmetic\n",
    "- add a column with constant values using `pl.lit`"
   ]
  },
  {
   "cell_type": "code",
   "execution_count": null,
   "id": "d1adc172-fe22-401e-a538-1e8e3fafe8d3",
   "metadata": {
    "tags": []
   },
   "outputs": [],
   "source": [
    "import polars as pl"
   ]
  },
  {
   "cell_type": "code",
   "execution_count": null,
   "id": "c5939bea-b4f8-4007-8ad9-8786e029ea3b",
   "metadata": {
    "tags": []
   },
   "outputs": [],
   "source": [
    "csvFile = \"../data/titanic.csv\""
   ]
  },
  {
   "cell_type": "code",
   "execution_count": null,
   "id": "a3626abb-3d5a-44c6-85e1-fcd9f3826a63",
   "metadata": {
    "tags": []
   },
   "outputs": [],
   "source": [
    "df = pl.read_csv(csvFile)\n",
    "df.head(3)"
   ]
  },
  {
   "cell_type": "markdown",
   "id": "5c3111de-803f-4dfe-8168-34c40392ba8d",
   "metadata": {},
   "source": [
    "## Transforming an existing column\n",
    "\n",
    "We can transform an existing column by passing the column to `with_columns`.\n",
    "\n",
    "In this example we round `Fare` to 0 significant figures."
   ]
  },
  {
   "cell_type": "code",
   "execution_count": null,
   "id": "9d1160a0-6e7c-4dd4-b11d-53ccb06d978e",
   "metadata": {
    "tags": []
   },
   "outputs": [],
   "source": [
    "(\n",
    "    pl.read_csv(csvFile)\n",
    "    .with_columns(\n",
    "        pl.col(\"Fare\").round(0)\n",
    "        )\n",
    "    .head(3)\n",
    ")"
   ]
  },
  {
   "cell_type": "markdown",
   "id": "b45f6cb6-b15e-4727-8834-9938ff91ae9d",
   "metadata": {},
   "source": [
    "## Adding a new column from an existing column\n",
    "We can create a new column from an existing column by renaming it with `alias`"
   ]
  },
  {
   "cell_type": "code",
   "execution_count": null,
   "id": "ae20907f-8ba2-452b-b5bd-c1cbee1fab3b",
   "metadata": {
    "tags": []
   },
   "outputs": [],
   "source": [
    "# this is recommended \n",
    "(\n",
    "    pl.read_csv(csvFile)\n",
    "    .with_columns(\n",
    "        pl.col('Fare').round(0).alias('roundFare')\n",
    "    )\n",
    "    .head(3)\n",
    ")"
   ]
  },
  {
   "cell_type": "markdown",
   "id": "54f42343-51e6-466a-946b-b15c81fada78",
   "metadata": {},
   "source": [
    "Instead of using `alias` we can also create the new column by assigning the column name equal to the expression (this approach in Polars is referred to as kwargs assignment) "
   ]
  },
  {
   "cell_type": "code",
   "execution_count": null,
   "id": "2de88e52-b770-4eb6-b8c1-5df2fcce86dd",
   "metadata": {
    "tags": []
   },
   "outputs": [],
   "source": [
    "# this is not very commonly used, but it works as well\n",
    "(\n",
    "    pl.read_csv(csvFile)\n",
    "    .with_columns(\n",
    "        roundFare = pl.col('Fare').round(0)\n",
    "    )\n",
    "    .head(3)\n",
    ")"
   ]
  },
  {
   "cell_type": "markdown",
   "id": "7c59f9d6-8e62-4fe4-9b45-604fa82d8af5",
   "metadata": {},
   "source": [
    "## Difference between `with_columns` and `select`\n",
    "- The `select` method returns a subset of the columns but `with_columns` method returns all of the columns\n",
    "- `with_columns` accepts expressions only - no strings"
   ]
  },
  {
   "cell_type": "markdown",
   "id": "98c37e9f-44ef-4be5-844e-0db6adc40bb7",
   "metadata": {},
   "source": [
    "## Adding or transforming a column with column arithmetic\n",
    "\n",
    "We can transform columns with arithmetic in an expression.\n",
    "\n",
    "In this example we double the values in the `Fare` column in a new column called `doubleFare`"
   ]
  },
  {
   "cell_type": "code",
   "execution_count": null,
   "id": "5416a720-675f-4ab5-b93f-990c6ccf6598",
   "metadata": {
    "tags": []
   },
   "outputs": [],
   "source": [
    "df = pl.read_csv(csvFile)\n",
    "(\n",
    "    df\n",
    "    .with_columns(\n",
    "        (pl.col(\"Fare\") * 2).alias(\"doubleFare\")\n",
    "    )\n",
    "    .head(3)\n",
    ")"
   ]
  },
  {
   "cell_type": "markdown",
   "id": "3c8f0883-4232-4f70-9daf-fb0d3ae09358",
   "metadata": {},
   "source": [
    "We can also do arithmetic multiple columns in an expression.\n",
    "\n",
    "In this examle we add the values in the `Fare` and `Age` column"
   ]
  },
  {
   "cell_type": "code",
   "execution_count": null,
   "id": "a377a583-1918-4109-bc7c-23053fb8e919",
   "metadata": {
    "tags": []
   },
   "outputs": [],
   "source": [
    "df = pl.read_csv(csvFile)\n",
    "(\n",
    "    df\n",
    "    .with_columns(\n",
    "        (pl.col(\"Fare\") + pl.col(\"Age\")).alias(\"farePlusAge\")\n",
    "    )\n",
    "    .head(2)\n",
    ")"
   ]
  },
  {
   "cell_type": "markdown",
   "id": "2a75dd82-ecdb-4ba2-9ede-88b646d38aac",
   "metadata": {},
   "source": [
    "Some people feel text arithmetic expressions are more readable. \n",
    "\n",
    "We do the same example as above but with the `.add` operator rather than `+` "
   ]
  },
  {
   "cell_type": "code",
   "execution_count": null,
   "id": "a21ae3ad-421e-4051-b60a-9505d56330f3",
   "metadata": {
    "tags": []
   },
   "outputs": [],
   "source": [
    "df = pl.read_csv(csvFile)\n",
    "(\n",
    "    df\n",
    "    .with_columns(\n",
    "        pl.col('Fare').add(pl.col('Age')).alias('farePlusAge')\n",
    "    )\n",
    "    .head(2)\n",
    ")\n"
   ]
  },
  {
   "cell_type": "markdown",
   "id": "32060b94-9548-47ce-81e7-9469bdd9be39",
   "metadata": {},
   "source": [
    "The mapping from python operators to expressions are:\n",
    "- `==` to `eq`\n",
    "- `//` to `floordiv`\n",
    "- `> ` to `gt`\n",
    "- `>=` to `ge`\n",
    "- `< ` to `lt`\n",
    "- `<=` to `le`\n",
    "- `% ` to `mod`\n",
    "- `!=` to `ne`\n",
    "- `- ` to `sub`\n",
    "- `/ ` to `truediv`\n",
    "- `^ ` to `xor`\n",
    "- `* ` to `mul`"
   ]
  },
  {
   "cell_type": "markdown",
   "id": "bd5e4efd-c2f0-48ff-b19d-b0c050c836da",
   "metadata": {},
   "source": [
    "## Adding a new column with a constant value\n",
    "\n",
    "Use the literal function `pl.lit` to specify a constant value in Polars.\n",
    "\n",
    "Here we add a new column called `Aboard` with a value `yes` for all passengers "
   ]
  },
  {
   "cell_type": "code",
   "execution_count": null,
   "id": "2b8a4c10-bc6c-476d-b7e2-5bde96a2e5b0",
   "metadata": {
    "tags": []
   },
   "outputs": [],
   "source": [
    "df = pl.read_csv(csvFile)\n",
    "(\n",
    "    df\n",
    "    .with_columns(\n",
    "        pl.lit('yes').alias('Aboard')\n",
    "    )\n",
    "    .select(['Name','Aboard'])\n",
    "    .head(2)\n",
    ")"
   ]
  },
  {
   "cell_type": "markdown",
   "id": "bb0df250-a7c6-4c68-be2a-d7d7e7651edb",
   "metadata": {
    "tags": []
   },
   "source": [
    "## Exercises\n",
    "\n",
    "In the exercises you will develop your understanding of:\n",
    "- transforming an existing column\n",
    "- adding a new column from existing columns\n",
    "- adding a new column with a constant value\n"
   ]
  },
  {
   "cell_type": "markdown",
   "id": "e832693e-8f1c-449d-b47c-f389e3c60e09",
   "metadata": {},
   "source": [
    "### Exercise 1: Add a new column for family size\n",
    "\n",
    "Add a new column called `familySize` which is the sum of the number of siblings (`SibSp` columns), the number of parents or children (`Parch` columns) plus one for the passenger themself.\n",
    "\n",
    "Print out the first 3 rows.\n",
    "\n",
    "Hint: Add the two columns inside `()` and then apply `.alias`"
   ]
  },
  {
   "cell_type": "code",
   "execution_count": null,
   "id": "5dd474b4-a659-41b3-a852-95732694c988",
   "metadata": {
    "jupyter": {
     "source_hidden": true
    }
   },
   "outputs": [],
   "source": [
    "(\n",
    "    pl.read_csv(csvFile)\n",
    "    <blank>\n",
    ")"
   ]
  },
  {
   "cell_type": "markdown",
   "id": "c087e751-e097-48ac-ac41-b4213b6764c1",
   "metadata": {},
   "source": [
    "### Exercise 2: Create a decades column\n",
    "Add a new column called `decade` that converts the `Age` column to the passengers age in decades e.g. 15.2 goes to 10, where 10 is an integer. Add the new column using the kwargs approach.\n",
    "\n",
    "Print out the first 3 rows.\n",
    "\n",
    "Hint: use `cast` to convert the dtype"
   ]
  },
  {
   "cell_type": "code",
   "execution_count": null,
   "id": "3de6c9dd-0baa-4a73-b0b4-360e7c629278",
   "metadata": {
    "jupyter": {
     "source_hidden": true
    },
    "tags": []
   },
   "outputs": [],
   "source": [
    "(\n",
    "    pl.read_csv(csvFile)\n",
    "    <blank>\n",
    ")"
   ]
  },
  {
   "cell_type": "markdown",
   "id": "6c8a38c0-a771-47c1-a361-ff4263dd70b4",
   "metadata": {},
   "source": [
    "### Exercise 3: Create a new literal column\n",
    "Add a new binary column called `Aboard` that has the value `1` for all passengers.\n",
    "\n",
    "Print out the first 3 rows"
   ]
  },
  {
   "cell_type": "code",
   "execution_count": null,
   "id": "69550fff-77ee-4def-9807-5d2daed60247",
   "metadata": {
    "jupyter": {
     "source_hidden": true
    }
   },
   "outputs": [],
   "source": [
    "(\n",
    "    pl.read_csv(csvFile)\n",
    "    <blank>\n",
    ")"
   ]
  },
  {
   "cell_type": "markdown",
   "id": "78e031ea-355d-4072-bdc3-876e7c2766e7",
   "metadata": {},
   "source": [
    "### Exercise 4: Add a new Boolean column based on an expression\n",
    "\n",
    "Add a new Boolean column `overThirty` that captures whether a passenger's age is 30 years or older"
   ]
  },
  {
   "cell_type": "code",
   "execution_count": null,
   "id": "87ad7227-a382-447e-a7d0-e4fa745ab07c",
   "metadata": {
    "jupyter": {
     "source_hidden": true
    },
    "tags": []
   },
   "outputs": [],
   "source": [
    "(\n",
    "    pl.read_csv(csvFile)\n",
    "    <blank>\n",
    ")"
   ]
  },
  {
   "cell_type": "markdown",
   "id": "006972d9-b4b0-41da-81c6-e2596c5a1bac",
   "metadata": {},
   "source": [
    "## Solutions\n",
    "\n",
    "### Solution to exercise 1: Add a new column for family size"
   ]
  },
  {
   "cell_type": "code",
   "execution_count": null,
   "id": "f1a4943b-50e8-44a2-bc0b-f21a193787af",
   "metadata": {
    "tags": []
   },
   "outputs": [],
   "source": [
    "(\n",
    "    pl.read_csv(csvFile)\n",
    "    .with_columns( \n",
    "        (\n",
    "        pl.col('SibSp') + pl.col('Parch') + 1\n",
    "        ).alias('familySize')\n",
    "    )\n",
    "    .head(3)\n",
    ")\n"
   ]
  },
  {
   "cell_type": "code",
   "execution_count": null,
   "id": "b45baebc-50d9-4a5f-81dd-8c0765ff1037",
   "metadata": {
    "jupyter": {
     "source_hidden": true
    }
   },
   "outputs": [],
   "source": [
    "df = pl.read_csv(csvFile)\n",
    "(\n",
    "    df.with_columns(\n",
    "            (pl.col('SibSp').add(pl.col('Parch')).add(1)).alias('familySize')\n",
    "    )\n",
    "    .head(5)\n",
    ")"
   ]
  },
  {
   "cell_type": "markdown",
   "id": "eb5c8a7b-e788-413c-9c6f-4d036e3068f8",
   "metadata": {},
   "source": [
    "### Solution to exercise 2: Create a decades column"
   ]
  },
  {
   "cell_type": "code",
   "execution_count": null,
   "id": "b918114b-66fa-4ceb-9209-474e421ac949",
   "metadata": {
    "jupyter": {
     "source_hidden": true
    },
    "tags": []
   },
   "outputs": [],
   "source": [
    "(\n",
    "    pl.read_csv(csvFile)\n",
    "    .with_columns( \n",
    "        decade = ((pl.col('Age')/10).floor()).cast(pl.Int64)\n",
    "    )\n",
    "    .select(['Age','decade'])\n",
    "    .head(3)\n",
    ")\n"
   ]
  },
  {
   "cell_type": "markdown",
   "id": "248ae068-a5de-410a-963f-aaf03a3af91b",
   "metadata": {},
   "source": [
    "### Solution to exercise 3: Create a new literal column"
   ]
  },
  {
   "cell_type": "code",
   "execution_count": null,
   "id": "39258f98-ebc4-4b9b-bee8-9aafc49180a3",
   "metadata": {
    "jupyter": {
     "source_hidden": true
    },
    "tags": []
   },
   "outputs": [],
   "source": [
    "(\n",
    "    pl.read_csv(csvFile)\n",
    "    .with_columns(\n",
    "        pl.lit(1).alias('Aboard')\n",
    "    )\n",
    "    .head(3)\n",
    ")"
   ]
  },
  {
   "cell_type": "markdown",
   "id": "294a0ce3-5595-4295-ab78-5c18a697cacb",
   "metadata": {
    "collapsed": true,
    "jupyter": {
     "outputs_hidden": true
    },
    "tags": []
   },
   "source": [
    "### Solution to Exercise 4: Add a new Boolean column based on an expression"
   ]
  },
  {
   "cell_type": "code",
   "execution_count": null,
   "id": "7ab35381-12f8-4194-bdd2-6a3e44151cad",
   "metadata": {
    "jupyter": {
     "source_hidden": true
    },
    "scrolled": true,
    "tags": []
   },
   "outputs": [],
   "source": [
    "(\n",
    "    pl.read_csv(csvFile)\n",
    "    .with_columns(\n",
    "        (pl.col(\"Age\") >= 30).alias(\"overThirty\")\n",
    "    )\n",
    "    .head(3)\n",
    ")"
   ]
  },
  {
   "cell_type": "code",
   "execution_count": null,
   "id": "a9e0a19f-0986-4f45-8e39-687781b0e28e",
   "metadata": {
    "jupyter": {
     "source_hidden": true
    },
    "scrolled": true
   },
   "outputs": [],
   "source": [
    "(\n",
    "    pl.read_csv(csvFile)\n",
    "    .with_columns(\n",
    "    pl.when(df['Age'] >= 30).then(True).otherwise(False).alias(\"overThirty\"))\n",
    "    .head(3)\n",
    ")"
   ]
  }
 ],
 "metadata": {
  "kernelspec": {
   "display_name": "Python 3 (ipykernel)",
   "language": "python",
   "name": "python3"
  },
  "language_info": {
   "codemirror_mode": {
    "name": "ipython",
    "version": 3
   },
   "file_extension": ".py",
   "mimetype": "text/x-python",
   "name": "python",
   "nbconvert_exporter": "python",
   "pygments_lexer": "ipython3",
   "version": "3.10.9"
  }
 },
 "nbformat": 4,
 "nbformat_minor": 5
}
