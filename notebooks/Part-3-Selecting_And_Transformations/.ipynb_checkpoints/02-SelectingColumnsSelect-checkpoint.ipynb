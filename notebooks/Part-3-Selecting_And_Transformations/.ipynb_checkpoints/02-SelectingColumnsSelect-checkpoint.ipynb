{
 "cells": [
  {
   "cell_type": "markdown",
   "id": "b06a7473-8d52-4c0d-b469-37add3272a53",
   "metadata": {},
   "source": [
    "# Selecting columns 2: using `select` and expressions\n",
    "By the end of this section we will learn how to:\n",
    "- select a column or columns with `select`\n",
    "- transform a column while selecting it\n",
    "- select a column in lazy mode\n",
    "\n",
    "Selecting columns with expressions is key to performant analysis as:\n",
    "- this approach works in lazy mode\n",
    "- when we select and transform multiple columns Polars will run these selections in paralell\n",
    "\n",
    "We introduce the range of methods we can use to select columns with an expression in this lecture."
   ]
  },
  {
   "cell_type": "code",
   "execution_count": null,
   "id": "9fd758ec-0727-4c1e-87ae-04fd47b267b6",
   "metadata": {
    "tags": []
   },
   "outputs": [],
   "source": [
    "import polars as pl"
   ]
  },
  {
   "cell_type": "code",
   "execution_count": null,
   "id": "43c1d48b-a1cc-4374-bfd5-83817c491923",
   "metadata": {
    "tags": []
   },
   "outputs": [],
   "source": [
    "csvFile = \"../data/titanic.csv\""
   ]
  },
  {
   "cell_type": "code",
   "execution_count": null,
   "id": "23ec4b89-5819-4654-a3c8-d43a7a7b31fd",
   "metadata": {
    "tags": []
   },
   "outputs": [],
   "source": [
    "df = pl.read_csv(csvFile)\n",
    "df.head(3)"
   ]
  },
  {
   "cell_type": "markdown",
   "id": "c7ee8c91-cfd2-42a4-8c15-cc0e6a2215f7",
   "metadata": {},
   "source": [
    "## Selecting a single column with a string\n",
    "\n",
    "We can choose a column with a string in the `select` method"
   ]
  },
  {
   "cell_type": "code",
   "execution_count": null,
   "id": "565f8f0e-b6de-4f03-8bba-e347eb96588b",
   "metadata": {
    "tags": []
   },
   "outputs": [],
   "source": [
    "(\n",
    "    df\n",
    "    .select('Age')\n",
    "    .head(3)\n",
    ")"
   ]
  },
  {
   "cell_type": "markdown",
   "id": "7db8249f-f94e-4df1-9499-c3a65ce8fae4",
   "metadata": {},
   "source": [
    "The output of `select` is always a `DataFrame` rather than a `Series` even if just one column is selected.\n",
    "\n",
    "We can use `to_series` if we want a `Series`"
   ]
  },
  {
   "cell_type": "code",
   "execution_count": null,
   "id": "cd98da7a-c935-42b0-a636-1cf2126c9be0",
   "metadata": {
    "tags": []
   },
   "outputs": [],
   "source": [
    "(\n",
    "    df\n",
    "    .select('Age')\n",
    "    .to_series()\n",
    "    .head(3)\n",
    ")"
   ]
  },
  {
   "cell_type": "markdown",
   "id": "fc5463aa-8688-4940-b730-b243b7ebcf4f",
   "metadata": {},
   "source": [
    "### Selecting multiple columns\n",
    "\n",
    "We can select multiple columns with comma-separated strings"
   ]
  },
  {
   "cell_type": "code",
   "execution_count": null,
   "id": "ff9cce04-385e-49c8-8aa5-8a7a2f0e83a3",
   "metadata": {
    "tags": []
   },
   "outputs": [],
   "source": [
    "(\n",
    "    df\n",
    "    .select(\n",
    "        'Survived','Age'\n",
    "    )\n",
    "    .head(3)\n",
    ")"
   ]
  },
  {
   "cell_type": "markdown",
   "id": "31645f89-a8c9-4321-829f-375b9937448a",
   "metadata": {},
   "source": [
    "Or we can pass a list of column names to `select`"
   ]
  },
  {
   "cell_type": "code",
   "execution_count": null,
   "id": "ada2519b-2869-4ac1-991d-fc78849f9f38",
   "metadata": {
    "tags": []
   },
   "outputs": [],
   "source": [
    "(\n",
    "    df\n",
    "    .select(\n",
    "        ['Survived','Age']\n",
    "    )\n",
    "    .head(3)\n",
    ")"
   ]
  },
  {
   "cell_type": "markdown",
   "id": "69ad6126-5f26-48af-ba4f-9369b87bcc56",
   "metadata": {},
   "source": [
    "There is no performance difference between using comma-separated column names or a list of column names."
   ]
  },
  {
   "cell_type": "markdown",
   "id": "c57752da-a1df-4b29-852f-e6cd8ff49f67",
   "metadata": {},
   "source": [
    "## Differences between using `select` and `[]`\n",
    "\n",
    "- `[]` indexing can only be used in eager mode, but **`select` can also be used in lazy mode**\n",
    "- expressions in `select` can be **optimised** in lazy mode by the query optimiser\n",
    "- multiple expressions in `select` can be run in *parallel*\n",
    "\n",
    "Get in the habit of using `select` as your default"
   ]
  },
  {
   "cell_type": "markdown",
   "id": "040099aa-a68d-48b9-885a-60f811315a4c",
   "metadata": {},
   "source": [
    "## Selecting columns with an expression\n",
    "\n",
    "We can select a column with an expression in the `select` method"
   ]
  },
  {
   "cell_type": "code",
   "execution_count": null,
   "id": "087f185a-a348-470a-9440-35c0a3350d58",
   "metadata": {
    "tags": []
   },
   "outputs": [],
   "source": [
    "(\n",
    "    df\n",
    "    .select(\n",
    "        pl.col('Age')\n",
    "    )\n",
    "    .head(3)\n",
    ")"
   ]
  },
  {
   "cell_type": "markdown",
   "id": "be9923ea-8410-4f04-aa62-bdd865b0156c",
   "metadata": {},
   "source": [
    "## Selecting and transforming a column with an expression\n",
    "We can apply a transformation to a column before we output it.\n",
    "\n",
    "In this example we use the `round` expression to round the values of the `Fare` column"
   ]
  },
  {
   "cell_type": "code",
   "execution_count": null,
   "id": "c8ee3aa2-c2d9-4dc5-85da-9d3f419ebd68",
   "metadata": {
    "tags": []
   },
   "outputs": [],
   "source": [
    "(\n",
    "    df\n",
    "    .select(\n",
    "        pl.col('Fare').round(0)\n",
    "    )\n",
    "    .head(3)\n",
    ")"
   ]
  },
  {
   "cell_type": "markdown",
   "id": "57b25bfb-853a-4845-8786-bd9a5c33ecca",
   "metadata": {},
   "source": [
    "We will see many more examples where we use expressions to transform data as we go through the course."
   ]
  },
  {
   "cell_type": "markdown",
   "id": "e7c2106f-d021-4bed-8b84-d41cafef0fa3",
   "metadata": {},
   "source": [
    "### Selecting multiple columns with a list of expressions\n",
    "\n",
    "We can also pass a list of expressions to `select`. \n",
    "\n",
    "In this case we use the `alias` expression to change the name of one column in the output"
   ]
  },
  {
   "cell_type": "code",
   "execution_count": null,
   "id": "c7a3c61c-d875-4a52-8609-6a7eeb50f64b",
   "metadata": {
    "tags": []
   },
   "outputs": [],
   "source": [
    "(\n",
    "    df\n",
    "    .select(\n",
    "        [\n",
    "            pl.col('Fare'),\n",
    "            pl.col('Fare').round(0).alias('roundedFare')\n",
    "        ]\n",
    "    )\n",
    "    .head(3)\n",
    ")"
   ]
  },
  {
   "cell_type": "markdown",
   "id": "d2fa6106-a93c-4bbf-8ecb-3d27784cd2ce",
   "metadata": {},
   "source": [
    "Recall that when you have multiple expressions Polars will run them in parallel."
   ]
  },
  {
   "cell_type": "markdown",
   "id": "b7bf5c91-90f5-4282-b218-1d74dbff59b1",
   "metadata": {},
   "source": [
    "## Returning a single value\n",
    "If you have a `DataFrame` with a single value - that is a `DataFrame` with shape `[1,1]` you can\n",
    "return that value with square brackets or the `item` method"
   ]
  },
  {
   "cell_type": "code",
   "execution_count": null,
   "id": "d9aad62d-1371-4d89-a87c-7ce4c2e14f7e",
   "metadata": {
    "tags": []
   },
   "outputs": [],
   "source": [
    "(\n",
    "    pl.read_csv(csvFile)\n",
    "    .select(\n",
    "        pl.col('Name').first()\n",
    "    )\n",
    "    .item()\n",
    ")"
   ]
  },
  {
   "cell_type": "markdown",
   "id": "790937a3-d3e6-4114-851e-6d7311c8d032",
   "metadata": {},
   "source": [
    "## Selecting columns in lazy mode\n",
    "\n",
    "If we apply `select` in lazy mode it changes the `PROJECT` part of the optimised query plan"
   ]
  },
  {
   "cell_type": "code",
   "execution_count": null,
   "id": "a0e82752-5133-4d2e-84f4-13905b262c17",
   "metadata": {
    "tags": []
   },
   "outputs": [],
   "source": [
    "df = (\n",
    "    pl.scan_csv(csvFile)\n",
    "    .select(['Survived','Age'])\n",
    ")\n",
    "print(df.explain())"
   ]
  },
  {
   "cell_type": "markdown",
   "id": "794791b7-18a0-472c-8b9b-44453cf2a9d2",
   "metadata": {},
   "source": [
    "The optimized query plan now has:\n",
    "\n",
    "`PROJECT 2/12 COLUMNS`\n",
    "\n",
    "This means that Polars only loads the `Survived` and `Age` columns into memory when reading the CSV.\n",
    "\n",
    "Reducing the number of columns reduces time and memory usage \n",
    "\n",
    "The `FAST_PROJECT` part of the query plan doesn't have any implications for users but is described here if you are curious... \n",
    "\n",
    "> The `FAST_PROJECT` happens when `select` is applied to `scan_csv` but **no transformations are applied** to any columns.\n",
    "\n",
    "> In this simpler case with column selections and no transformations Polars modifies its standard parallel approach and does the column selection in serial. This is faster than the standard method in parallel and so it is called `FAST_PROJECT`."
   ]
  },
  {
   "cell_type": "markdown",
   "id": "7f478e9c-3955-4f66-adb3-d0dc9afddea0",
   "metadata": {},
   "source": [
    "## Exercises\n",
    "\n",
    "In the exercises you will develop your understanding of:\n",
    "- selecting columns using the `select` method\n",
    "- transforming columns within the `select` method\n",
    "- using `select` in lazy mode"
   ]
  },
  {
   "cell_type": "markdown",
   "id": "c6ff209d-eb8d-479c-bcea-d29ec24fd392",
   "metadata": {},
   "source": [
    "### Exercise 1\n",
    "\n",
    "Select the `Age` and `Survived` columns using the Expression API\n",
    "\n",
    "Do this twice:\n",
    "- once using strings\n",
    "- once using expressions"
   ]
  },
  {
   "cell_type": "code",
   "execution_count": null,
   "id": "181931cf-21f7-47c0-b557-41dd7b1d650b",
   "metadata": {
    "scrolled": true
   },
   "outputs": [],
   "source": [
    "df = pl.read_csv(csvFile)\n",
    "df.<blank>.head(3)\n",
    "df.<blank>.head(3)\n"
   ]
  },
  {
   "cell_type": "markdown",
   "id": "c1c15c07-a563-4368-9e8a-ae2b6628ed49",
   "metadata": {},
   "source": [
    "### Exercise 2\n",
    "Select all rows where `Age` is greater than 30 and output the `Age` and `Survived` columns"
   ]
  },
  {
   "cell_type": "code",
   "execution_count": null,
   "id": "3979c416-8da6-44cc-8408-a5930159bdd4",
   "metadata": {
    "tags": []
   },
   "outputs": [],
   "source": [
    "df = pl.read_csv(csvFile)\n",
    "df.<blank>.head(3)"
   ]
  },
  {
   "cell_type": "markdown",
   "id": "3f4256c0-868c-4878-85a2-eaf501ce1289",
   "metadata": {},
   "source": [
    "### Exercise 3\n",
    "Output a one-column DataFrame where the column is the `min` of the `Age` column"
   ]
  },
  {
   "cell_type": "code",
   "execution_count": null,
   "id": "b0070d82-eb35-4e5c-8187-c8daeb651c38",
   "metadata": {
    "tags": []
   },
   "outputs": [],
   "source": [
    "(\n",
    "    pl.read_csv(csvFile)\n",
    "    <blank>\n",
    ")"
   ]
  },
  {
   "cell_type": "markdown",
   "id": "884a29fc-f9cb-483a-97e1-d64b3d478d19",
   "metadata": {},
   "source": [
    "Add another line onto the query to output this single value as a float"
   ]
  },
  {
   "cell_type": "code",
   "execution_count": null,
   "id": "607c2006-aab3-41ae-8a39-ddbdf46e8f53",
   "metadata": {},
   "outputs": [],
   "source": []
  },
  {
   "cell_type": "markdown",
   "id": "7b9fad2f-a5a2-47e3-8651-6bc0addb43ce",
   "metadata": {},
   "source": [
    "Output a one-row DataFrame where the first column is the `min` of the `Age` column and the second column is the `max` of the `Age` column\n",
    "\n",
    "Expand the following cell if you want a hint"
   ]
  },
  {
   "cell_type": "code",
   "execution_count": null,
   "id": "afea77f6-8c47-4a16-a12f-dcc69697f0f1",
   "metadata": {
    "jupyter": {
     "source_hidden": true
    },
    "tags": []
   },
   "outputs": [],
   "source": [
    "#Hint: you cannot have two columns with the same name so you will have to use the `alias` expression "
   ]
  },
  {
   "cell_type": "code",
   "execution_count": null,
   "id": "919561ac-e2ed-450c-aca8-c1a885e6652a",
   "metadata": {
    "tags": []
   },
   "outputs": [],
   "source": [
    "(\n",
    "    pl.read_csv(csvFile)\n",
    "    <blank>\n",
    ")"
   ]
  },
  {
   "cell_type": "markdown",
   "id": "cb99b0c3-6060-4cfa-a501-91d03014328e",
   "metadata": {},
   "source": [
    "### Exercise 4 \n",
    "Using lazy mode, create a query that has the following query plan\n",
    "\n",
    "```\n",
    "FAST_PROJECT: [Age, Pclass, Survived]\n",
    "\n",
    "    CSV SCAN ../data/titanic.csv\n",
    "    PROJECT 3/12 COLUMNS\n",
    "```"
   ]
  },
  {
   "cell_type": "code",
   "execution_count": null,
   "id": "eb120a48-a0ed-4f02-ac9d-97ae9fc42a3c",
   "metadata": {
    "tags": []
   },
   "outputs": [],
   "source": [
    "print(\n",
    "    <blank>.explain()\n",
    ")"
   ]
  },
  {
   "cell_type": "markdown",
   "id": "84205876-bba5-4967-81c9-1fc26b3722e1",
   "metadata": {},
   "source": [
    "## Solutions\n",
    "\n",
    "### Solution to Exercise 1\n",
    "Select the `Age` and `Survived` columns using the Expression API\n",
    "\n",
    "Do this twice:\n",
    "- once using strings\n",
    "- once using expressions"
   ]
  },
  {
   "cell_type": "code",
   "execution_count": null,
   "id": "5777e105-4862-439b-ae94-81a57dd4487b",
   "metadata": {
    "jupyter": {
     "source_hidden": true
    },
    "tags": []
   },
   "outputs": [],
   "source": [
    "df = pl.read_csv(csvFile)\n",
    "df.select(['Age','Survived']).head(3)\n",
    "df.select([pl.col('Age'),pl.col('Survived')]).head(3)"
   ]
  },
  {
   "cell_type": "markdown",
   "id": "12ff9426-f7b8-4577-a47c-5ba7a544b5a1",
   "metadata": {},
   "source": [
    "### Solution to Exercise 2\n",
    "Select all rows where `Age` is greater than 30 and output the `Age` and `Survived` columns"
   ]
  },
  {
   "cell_type": "code",
   "execution_count": null,
   "id": "45a80476-a66c-49c9-ab11-e25cef9eb925",
   "metadata": {
    "jupyter": {
     "source_hidden": true
    },
    "tags": []
   },
   "outputs": [],
   "source": [
    "df = pl.read_csv(csvFile)\n",
    "df.filter(pl.col('Age')>30).select(['Age','Survived']).head(3)"
   ]
  },
  {
   "cell_type": "markdown",
   "id": "9dd2ca4b-114e-470d-86c1-89b88ec31024",
   "metadata": {},
   "source": [
    "### Solution to Exercise 3\n",
    "Output a one-column DataFrame where the column is the `min` of the `Age` column"
   ]
  },
  {
   "cell_type": "code",
   "execution_count": null,
   "id": "6719bb2c-d1cf-4492-afa3-84717b15e7e9",
   "metadata": {
    "jupyter": {
     "source_hidden": true
    },
    "tags": []
   },
   "outputs": [],
   "source": [
    "(\n",
    "    pl.read_csv(csvFile)\n",
    "    .select(\n",
    "        pl.col('Age').min()\n",
    "    )\n",
    ")"
   ]
  },
  {
   "cell_type": "markdown",
   "id": "b64eab44-ffd1-4694-bde2-a96254f9b0f4",
   "metadata": {},
   "source": [
    "Add another line onto the query to output this single value as a float"
   ]
  },
  {
   "cell_type": "code",
   "execution_count": null,
   "id": "1e8345f4-3dbe-4017-9068-6ad6710ef85a",
   "metadata": {
    "jupyter": {
     "source_hidden": true
    },
    "tags": []
   },
   "outputs": [],
   "source": [
    "(\n",
    "    pl.read_csv(csvFile)\n",
    "    .select(\n",
    "        pl.col('Age').min()\n",
    "    )\n",
    "    .item()\n",
    ")"
   ]
  },
  {
   "cell_type": "markdown",
   "id": "55a1d805-ded7-45f2-a071-9e6ad42a75fa",
   "metadata": {},
   "source": [
    "Output a one-row DataFrame where the first column is the `min` of the `Age` column and the second column is the `max` of the `Age` column\n"
   ]
  },
  {
   "cell_type": "code",
   "execution_count": null,
   "id": "c9fb1dcb-ffae-4ca1-b91a-319aefcf9ff7",
   "metadata": {
    "jupyter": {
     "source_hidden": true
    },
    "tags": []
   },
   "outputs": [],
   "source": [
    "(\n",
    "    pl.read_csv(csvFile)\n",
    "    .select(\n",
    "        [\n",
    "            pl.col('Age').max().alias('age_max'),\n",
    "            pl.col('Age').min().alias('age_min')\n",
    "        ]\n",
    "    )\n",
    ")"
   ]
  },
  {
   "cell_type": "markdown",
   "id": "b94f7156-c6d9-4c08-8b12-1003992e6a10",
   "metadata": {},
   "source": [
    "### Solution to Exercise 4\n",
    "```\n",
    "  FAST_PROJECT: [Age, Pclass, Survived]\n",
    "    CSV SCAN ../data/titanic.csv\n",
    "    PROJECT 3/12 COLUMNS\n",
    "```"
   ]
  },
  {
   "cell_type": "code",
   "execution_count": null,
   "id": "85085662-8982-4a73-98e1-163a9adcaec8",
   "metadata": {
    "jupyter": {
     "source_hidden": true
    },
    "tags": []
   },
   "outputs": [],
   "source": [
    "print(pl.scan_csv(csvFile).select(['Age','Pclass','Survived']).explain())"
   ]
  }
 ],
 "metadata": {
  "kernelspec": {
   "display_name": "Python 3 (ipykernel)",
   "language": "python",
   "name": "python3"
  },
  "language_info": {
   "codemirror_mode": {
    "name": "ipython",
    "version": 3
   },
   "file_extension": ".py",
   "mimetype": "text/x-python",
   "name": "python",
   "nbconvert_exporter": "python",
   "pygments_lexer": "ipython3",
   "version": "3.10.9"
  }
 },
 "nbformat": 4,
 "nbformat_minor": 5
}
