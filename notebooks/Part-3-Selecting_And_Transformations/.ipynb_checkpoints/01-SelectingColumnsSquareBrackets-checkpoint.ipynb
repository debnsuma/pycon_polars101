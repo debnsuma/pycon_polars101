{
 "cells": [
  {
   "cell_type": "markdown",
   "id": "b06a7473-8d52-4c0d-b469-37add3272a53",
   "metadata": {},
   "source": [
    "# Selecting columns 1: using `[]`\n",
    "By the end of this section we will learn how to:\n",
    "- select a column or columns with `[]` indexing\n",
    "- select rows and columns with `[]` indexing"
   ]
  },
  {
   "cell_type": "code",
   "execution_count": null,
   "id": "9fd758ec-0727-4c1e-87ae-04fd47b267b6",
   "metadata": {
    "tags": []
   },
   "outputs": [],
   "source": [
    "import polars as pl"
   ]
  },
  {
   "cell_type": "code",
   "execution_count": null,
   "id": "43c1d48b-a1cc-4374-bfd5-83817c491923",
   "metadata": {
    "tags": []
   },
   "outputs": [],
   "source": [
    "csvFile = \"../data/titanic.csv\""
   ]
  },
  {
   "cell_type": "code",
   "execution_count": null,
   "id": "23ec4b89-5819-4654-a3c8-d43a7a7b31fd",
   "metadata": {
    "tags": []
   },
   "outputs": [],
   "source": [
    "df = pl.read_csv(csvFile)\n",
    "df.head(3)"
   ]
  },
  {
   "cell_type": "markdown",
   "id": "5273bbee-4c37-4847-985b-f28b949dcdd6",
   "metadata": {},
   "source": [
    "## Choosing columns with square brackets\n",
    "\n",
    "We can choose a column with a string in `[]`"
   ]
  },
  {
   "cell_type": "code",
   "execution_count": null,
   "id": "947a7318-66b7-4116-920f-c2b50d118045",
   "metadata": {
    "tags": []
   },
   "outputs": [],
   "source": [
    "df['Age'].head(3)"
   ]
  },
  {
   "cell_type": "markdown",
   "id": "585cd76c-4245-41ae-8160-f8e93c54bb3a",
   "metadata": {},
   "source": [
    "The output is a `Series`."
   ]
  },
  {
   "cell_type": "markdown",
   "id": "60d9915c-f4e6-4191-aae5-b9055066df1b",
   "metadata": {},
   "source": [
    "We can choose a column with a list of strings in `[]` - the output is a `DataFrame`"
   ]
  },
  {
   "cell_type": "code",
   "execution_count": null,
   "id": "b9c3de88-109a-4ff4-9fe0-90c0fd8bd7f2",
   "metadata": {
    "tags": []
   },
   "outputs": [],
   "source": [
    "df[['Survived','Age']].head(3)"
   ]
  },
  {
   "cell_type": "markdown",
   "id": "0aea62e1-efe2-4f6e-b85a-d3590c07086b",
   "metadata": {},
   "source": [
    "## Choosing rows and columns with `[]`\n",
    "We can choose rows and columns together with `[]`"
   ]
  },
  {
   "cell_type": "code",
   "execution_count": null,
   "id": "6422fa9e-c96a-4867-87c6-024059051620",
   "metadata": {
    "tags": []
   },
   "outputs": [],
   "source": [
    "df[0,\"Age\"]"
   ]
  },
  {
   "cell_type": "markdown",
   "id": "16e97e5e-0fa1-49fd-9f65-f5171d8d925a",
   "metadata": {},
   "source": [
    "Python interprets values separate by a comma as a `tuple`"
   ]
  },
  {
   "cell_type": "code",
   "execution_count": null,
   "id": "59c3f02f-e70d-46fc-a696-a6e34ee06351",
   "metadata": {
    "tags": []
   },
   "outputs": [],
   "source": [
    "0,\"Age\""
   ]
  },
  {
   "cell_type": "markdown",
   "id": "5271c579-04cb-41a0-9914-72cbc16446b5",
   "metadata": {},
   "source": [
    "So underneath the hood this case with two elements is really passing a `tuple` inside `[]`"
   ]
  },
  {
   "cell_type": "code",
   "execution_count": null,
   "id": "b3cb494d-d5c6-4e9a-abf2-e005d1e32587",
   "metadata": {
    "tags": []
   },
   "outputs": [],
   "source": [
    "df[(0,\"Age\")]"
   ]
  },
  {
   "cell_type": "markdown",
   "id": "89d79f9a-fde5-46f5-9b8d-3be1a0803e3e",
   "metadata": {},
   "source": [
    "We can still pass lists for either element inside `[]`"
   ]
  },
  {
   "cell_type": "code",
   "execution_count": null,
   "id": "a2cb1410-cae1-4ccd-bd01-46e633a234b6",
   "metadata": {
    "tags": []
   },
   "outputs": [],
   "source": [
    "df[[0,1],[\"Age\",\"Fare\"]]"
   ]
  },
  {
   "cell_type": "markdown",
   "id": "e7becb02-8a9b-4d13-a8b0-4368c945a7b5",
   "metadata": {},
   "source": [
    "The basic rules are:\n",
    "- if we pass just numeric values we select rows\n",
    "- if we pass just strings we select columns\n",
    "- if we pass a tuple like `[numeric,string`] we select rows and columns"
   ]
  },
  {
   "cell_type": "markdown",
   "id": "a782d218-b525-40cf-b052-07ab4713c84f",
   "metadata": {},
   "source": [
    "### Numeric indexing\n",
    "We can use numeric indexing for columns when we pass a `tuple`"
   ]
  },
  {
   "cell_type": "code",
   "execution_count": null,
   "id": "cc250efd-a74b-4944-a77e-c91955933731",
   "metadata": {
    "tags": []
   },
   "outputs": [],
   "source": [
    "df[:, 1:6].head(2)"
   ]
  },
  {
   "cell_type": "markdown",
   "id": "19ce6a19-b5d1-4ccb-8005-e62e0a5770ee",
   "metadata": {},
   "source": [
    "### Slice\n",
    "We can choose columns with a `slice` into the list in `df.columns` "
   ]
  },
  {
   "cell_type": "code",
   "execution_count": null,
   "id": "daee6d9b-73ca-4de8-b8b3-bf423b68769a",
   "metadata": {
    "tags": []
   },
   "outputs": [],
   "source": [
    "df[:2, \"Survived\":\"Age\"]"
   ]
  },
  {
   "cell_type": "markdown",
   "id": "c7ee8c91-cfd2-42a4-8c15-cc0e6a2215f7",
   "metadata": {},
   "source": [
    "## Creating a column with `[]`?\n",
    "We can't create a column with `[]`"
   ]
  },
  {
   "cell_type": "code",
   "execution_count": null,
   "id": "565f8f0e-b6de-4f03-8bba-e347eb96588b",
   "metadata": {
    "tags": []
   },
   "outputs": [],
   "source": [
    "# df[\"constant\"] = 3 # this will thrown an error"
   ]
  },
  {
   "cell_type": "markdown",
   "id": "7db8249f-f94e-4df1-9499-c3a65ce8fae4",
   "metadata": {},
   "source": [
    "To create a column we use the `with_columns` method which we will meet later in this section."
   ]
  },
  {
   "cell_type": "markdown",
   "id": "7f478e9c-3955-4f66-adb3-d0dc9afddea0",
   "metadata": {},
   "source": [
    "# Exercises\n",
    "\n",
    "In the exercises you will develop your understanding of:\n",
    "- selecting columns using `[]`\n",
    "- selecing rows and columns using `[]`\n"
   ]
  },
  {
   "cell_type": "markdown",
   "id": "c6ff209d-eb8d-479c-bcea-d29ec24fd392",
   "metadata": {},
   "source": [
    "### Exercise 1\n",
    "\n",
    "Choose the `Name` column as a `Series`"
   ]
  },
  {
   "cell_type": "code",
   "execution_count": null,
   "id": "e26d45cc-dba2-4437-a99b-8a981c1370ac",
   "metadata": {
    "tags": []
   },
   "outputs": [],
   "source": [
    "df = pl.read_csv(csvFile)\n",
    "df<blank>.head(3)"
   ]
  },
  {
   "cell_type": "markdown",
   "id": "1c4d58ab-b292-486e-97b7-a875606ce329",
   "metadata": {},
   "source": [
    "Choose the `Name` and `Fare` columns"
   ]
  },
  {
   "cell_type": "code",
   "execution_count": null,
   "id": "7de51f7f-3144-4cdf-9c4e-d40340ff6e88",
   "metadata": {
    "tags": []
   },
   "outputs": [],
   "source": [
    "df = pl.read_csv(csvFile)\n",
    "df<blank>.head(3)"
   ]
  },
  {
   "cell_type": "markdown",
   "id": "4695bad9-b4ea-4d9c-95fa-b63bfc7aeeed",
   "metadata": {},
   "source": [
    "Choose all columns from `Name` to `Fare`"
   ]
  },
  {
   "cell_type": "code",
   "execution_count": null,
   "id": "bd42e0e4-7d5f-4802-afd7-6aebc0f900cf",
   "metadata": {
    "tags": []
   },
   "outputs": [],
   "source": [
    "df = pl.read_csv(csvFile)\n",
    "df<blank>.head(3)"
   ]
  },
  {
   "cell_type": "markdown",
   "id": "c1c15c07-a563-4368-9e8a-ae2b6628ed49",
   "metadata": {},
   "source": [
    "### Exercise 2\n",
    "Choose the first 3 rows from the `Name` column as a `Series`"
   ]
  },
  {
   "cell_type": "code",
   "execution_count": null,
   "id": "3979c416-8da6-44cc-8408-a5930159bdd4",
   "metadata": {
    "tags": []
   },
   "outputs": [],
   "source": [
    "df = pl.read_csv(csvFile)\n",
    "df<blank>"
   ]
  },
  {
   "cell_type": "markdown",
   "id": "ef5db3f0-1ad1-44cb-b263-a3ed25d3bb9e",
   "metadata": {},
   "source": [
    "Choose the second and third rows of all columns from `Name` to `Fare`"
   ]
  },
  {
   "cell_type": "code",
   "execution_count": null,
   "id": "10e5c421-b201-4654-aa48-0e1e8205688a",
   "metadata": {
    "tags": []
   },
   "outputs": [],
   "source": [
    "df = pl.read_csv(csvFile)\n",
    "df<blank>"
   ]
  },
  {
   "cell_type": "markdown",
   "id": "84205876-bba5-4967-81c9-1fc26b3722e1",
   "metadata": {},
   "source": [
    "## Solutions\n",
    "\n",
    "### Solution to Exercise 1\n",
    "Choose the `Name` column as a `Series`"
   ]
  },
  {
   "cell_type": "code",
   "execution_count": null,
   "id": "5777e105-4862-439b-ae94-81a57dd4487b",
   "metadata": {
    "jupyter": {
     "source_hidden": true
    },
    "tags": []
   },
   "outputs": [],
   "source": [
    "df = pl.read_csv(csvFile)\n",
    "df[\"Name\"].head(3)\n"
   ]
  },
  {
   "cell_type": "markdown",
   "id": "3cc84ad0-993b-472f-b0d2-f8532ff10f9b",
   "metadata": {},
   "source": [
    "Choose the `Name` and `Fare` columns"
   ]
  },
  {
   "cell_type": "code",
   "execution_count": null,
   "id": "c7fb045e-c24b-41e5-8a41-e3a3fdef75c6",
   "metadata": {
    "jupyter": {
     "source_hidden": true
    },
    "tags": []
   },
   "outputs": [],
   "source": [
    "df = pl.read_csv(csvFile)\n",
    "df[[\"Name\",\"Fare\"]].head(3)\n"
   ]
  },
  {
   "cell_type": "markdown",
   "id": "12ff9426-f7b8-4577-a47c-5ba7a544b5a1",
   "metadata": {},
   "source": [
    "### Solution to Exercise 2\n",
    "Choose the first 3 rows from the `Name` column as a `Series`"
   ]
  },
  {
   "cell_type": "code",
   "execution_count": null,
   "id": "45a80476-a66c-49c9-ab11-e25cef9eb925",
   "metadata": {
    "jupyter": {
     "source_hidden": true
    },
    "tags": []
   },
   "outputs": [],
   "source": [
    "df = pl.read_csv(csvFile)\n",
    "df[:3,\"Name\":\"Fare\"]\n"
   ]
  },
  {
   "cell_type": "markdown",
   "id": "1f482157-52b5-4a3d-81d7-364b2000e939",
   "metadata": {},
   "source": [
    "Choose the second and third rows of all columns from `Name` to `Fare`"
   ]
  },
  {
   "cell_type": "code",
   "execution_count": null,
   "id": "2051e3d8-8534-4b9f-b2e8-5c4752a4a92d",
   "metadata": {
    "jupyter": {
     "source_hidden": true
    }
   },
   "outputs": [],
   "source": [
    "df = pl.read_csv(csvFile)\n",
    "df[1:3,\"Name\":\"Fare\"]\n"
   ]
  }
 ],
 "metadata": {
  "kernelspec": {
   "display_name": "Python 3 (ipykernel)",
   "language": "python",
   "name": "python3"
  },
  "language_info": {
   "codemirror_mode": {
    "name": "ipython",
    "version": 3
   },
   "file_extension": ".py",
   "mimetype": "text/x-python",
   "name": "python",
   "nbconvert_exporter": "python",
   "pygments_lexer": "ipython3",
   "version": "3.10.9"
  }
 },
 "nbformat": 4,
 "nbformat_minor": 5
}
