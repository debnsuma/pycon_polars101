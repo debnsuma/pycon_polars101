{
 "cells": [
  {
   "cell_type": "markdown",
   "id": "b06a7473-8d52-4c0d-b469-37add3272a53",
   "metadata": {},
   "source": [
    "# Selecting columns 3: selecting multiple columns\n",
    "By the end of this section you will be able to:\n",
    "- select all columns from a `DataFrame`\n",
    "- exclude columns from a select on a `DataFrame` \n",
    "- select columns based on a regex\n",
    "- select columns based on dtype\n"
   ]
  },
  {
   "cell_type": "code",
   "execution_count": null,
   "id": "9fd758ec-0727-4c1e-87ae-04fd47b267b6",
   "metadata": {
    "tags": []
   },
   "outputs": [],
   "source": [
    "import polars as pl"
   ]
  },
  {
   "cell_type": "code",
   "execution_count": null,
   "id": "43c1d48b-a1cc-4374-bfd5-83817c491923",
   "metadata": {
    "tags": []
   },
   "outputs": [],
   "source": [
    "csvFile = \"../data/titanic.csv\""
   ]
  },
  {
   "cell_type": "code",
   "execution_count": null,
   "id": "23ec4b89-5819-4654-a3c8-d43a7a7b31fd",
   "metadata": {
    "tags": []
   },
   "outputs": [],
   "source": [
    "df = pl.read_csv(csvFile)\n",
    "df.head(3)"
   ]
  },
  {
   "cell_type": "markdown",
   "id": "5273bbee-4c37-4847-985b-f28b949dcdd6",
   "metadata": {},
   "source": [
    "## Selecting all columns from a `DataFrame`\n",
    "\n",
    "We can select all columns by replacing `pl.col` with `pl.all`"
   ]
  },
  {
   "cell_type": "code",
   "execution_count": null,
   "id": "947a7318-66b7-4116-920f-c2b50d118045",
   "metadata": {
    "tags": []
   },
   "outputs": [],
   "source": [
    "df.select(\n",
    "    pl.all()\n",
    ").head(3)"
   ]
  },
  {
   "cell_type": "markdown",
   "id": "60d9915c-f4e6-4191-aae5-b9055066df1b",
   "metadata": {},
   "source": [
    "We can exclude a column (or columns) with the `exclude` expression"
   ]
  },
  {
   "cell_type": "code",
   "execution_count": null,
   "id": "b9c3de88-109a-4ff4-9fe0-90c0fd8bd7f2",
   "metadata": {
    "tags": []
   },
   "outputs": [],
   "source": [
    "df.select(\n",
    "    pl.exclude(['PassengerId','Survived','Pclass'])\n",
    ").head(3)"
   ]
  },
  {
   "cell_type": "markdown",
   "id": "4a52a7d2-8e7d-41ab-9b76-2b8c9e21025f",
   "metadata": {},
   "source": [
    "## Selecting columns with a regex\n",
    "We can select columns with a regex - if the regex starts with `^` and ends with `$`.\n",
    "\n",
    "The following regex looks for columns starting with `P` and uses the regex *wildcard* `.*` to show `P` can be followed by any characters."
   ]
  },
  {
   "cell_type": "code",
   "execution_count": null,
   "id": "c2d2d27b-23bf-4928-a314-2e83259bfbc0",
   "metadata": {
    "tags": []
   },
   "outputs": [],
   "source": [
    "df.select(\n",
    "    \"^P.*$\"\n",
    ").head(3)"
   ]
  },
  {
   "cell_type": "markdown",
   "id": "e4056cad-51f9-4cd0-95f8-efee8b47bc74",
   "metadata": {},
   "source": [
    "We can pass this regex to `pl.col` to apply transformations to these columns. In this example we take the `max` of each column"
   ]
  },
  {
   "cell_type": "code",
   "execution_count": null,
   "id": "84be5946-c666-4706-9266-71c9e30d4f98",
   "metadata": {
    "tags": []
   },
   "outputs": [],
   "source": [
    "df.select(\n",
    "    pl.col(\"^P.*$\").max()\n",
    ").head(3)"
   ]
  },
  {
   "cell_type": "markdown",
   "id": "8674c88f-6bab-4e28-8c27-e020a10fb069",
   "metadata": {},
   "source": [
    "## Selecting columns based on dtype\n",
    "We can select all of the columns that have a particular dtype by passing the dtype to `pl.col`.\n",
    "\n",
    "Here we select all the string columns with `pl.Utf8` - the string dtype object"
   ]
  },
  {
   "cell_type": "code",
   "execution_count": null,
   "id": "dd9e31f0-1d20-41ca-b54d-32539714439d",
   "metadata": {},
   "outputs": [],
   "source": [
    "df.describe()"
   ]
  },
  {
   "cell_type": "code",
   "execution_count": null,
   "id": "02ddb49c-8d13-491c-b012-4ea15a1c3049",
   "metadata": {
    "tags": []
   },
   "outputs": [],
   "source": [
    "(\n",
    "    df\n",
    "    .select(\n",
    "        pl.col(pl.Utf8)\n",
    "    )\n",
    "    .head(3)\n",
    ")"
   ]
  },
  {
   "cell_type": "markdown",
   "id": "3af224b8-61be-4323-8616-92f3e6fcc4d3",
   "metadata": {},
   "source": [
    "We can also pass a list of dtypes to `pl.col`. In this case we select all of the numeric dtypes"
   ]
  },
  {
   "cell_type": "code",
   "execution_count": null,
   "id": "cbb0e7d2-bf0f-4e82-954a-a42b92cfcf3e",
   "metadata": {},
   "outputs": [],
   "source": [
    "(\n",
    "    df\n",
    "    .select(\n",
    "        pl.col([pl.Int64,pl.Float64])\n",
    "    )\n",
    "    .head(3)\n",
    ")"
   ]
  },
  {
   "cell_type": "markdown",
   "id": "7f478e9c-3955-4f66-adb3-d0dc9afddea0",
   "metadata": {},
   "source": [
    "# Exercises\n",
    "\n",
    "In the exercises you will develop your understanding of:\n",
    "- selecting all columns from a `DataFrame`\n",
    "- excluding columns from a selection\n",
    "- selecting columns with a regex\n",
    "- selecting columns with a dtype"
   ]
  },
  {
   "cell_type": "markdown",
   "id": "c6ff209d-eb8d-479c-bcea-d29ec24fd392",
   "metadata": {},
   "source": [
    "### Exercise 1\n",
    "\n",
    "Select all columns from the `DataFrame` and sort each column"
   ]
  },
  {
   "cell_type": "code",
   "execution_count": null,
   "id": "e26d45cc-dba2-4437-a99b-8a981c1370ac",
   "metadata": {
    "tags": []
   },
   "outputs": [],
   "source": [
    "df = pl.read_csv(csvFile)\n",
    "df.<blank>.head(3)"
   ]
  },
  {
   "cell_type": "markdown",
   "id": "c1c15c07-a563-4368-9e8a-ae2b6628ed49",
   "metadata": {},
   "source": [
    "### Exercise 2\n",
    "Select all columns from the `DataFrame` with the exception of the `PassengerId` column"
   ]
  },
  {
   "cell_type": "code",
   "execution_count": null,
   "id": "3979c416-8da6-44cc-8408-a5930159bdd4",
   "metadata": {
    "tags": []
   },
   "outputs": [],
   "source": [
    "df = pl.read_csv(csvFile)\n",
    "df.<blank>.head(3)"
   ]
  },
  {
   "cell_type": "markdown",
   "id": "3f4256c0-868c-4878-85a2-eaf501ce1289",
   "metadata": {},
   "source": [
    "### Exercise 3\n",
    "Select all columns from the `DataFrame` that start with `S` or `N`"
   ]
  },
  {
   "cell_type": "code",
   "execution_count": null,
   "id": "b0070d82-eb35-4e5c-8187-c8daeb651c38",
   "metadata": {
    "tags": []
   },
   "outputs": [],
   "source": [
    "df = pl.read_csv(csvFile)\n",
    "df.<blank>"
   ]
  },
  {
   "cell_type": "markdown",
   "id": "9b4fbfc9-5862-4ec5-bf84-6d757a0c5740",
   "metadata": {},
   "source": [
    "### Exercise 4\n",
    "Select all the columns with 64-bit floating point dtype\n",
    "\n",
    "Hint: the 64-bit floating point dtype is `pl.Float64`"
   ]
  },
  {
   "cell_type": "code",
   "execution_count": null,
   "id": "ef3646aa-659d-4f5d-9984-da9b1a90941f",
   "metadata": {
    "tags": []
   },
   "outputs": [],
   "source": [
    "df = pl.read_csv(csvFile)\n",
    "df.<blank>"
   ]
  },
  {
   "cell_type": "markdown",
   "id": "15bd8bee-4eff-4d38-8402-b0b31b2a8abb",
   "metadata": {},
   "source": [
    "### Exercise 5\n",
    "Convert the following Pandas code to Polars\n",
    "\n",
    "Looping over columns in Polars is to be avoided at all costs. \n",
    "\n",
    "Convert this Pandas code with a loop over the columns to Polars code using the Expression API.\n",
    "\n",
    "In the loop we create a dictionary `maxDict` with the column names and maximum values"
   ]
  },
  {
   "cell_type": "code",
   "execution_count": null,
   "id": "c07660b8-65f0-4e49-8ca4-37aa7cf0f45a",
   "metadata": {
    "tags": []
   },
   "outputs": [],
   "source": [
    "import pandas as pd\n",
    "import numpy as np\n",
    "df = pl.read_csv(csvFile)\n",
    "dfPandas = df.to_pandas()\n",
    "\n",
    "# Convert this code below to Polars in the following cell\n",
    "maxDict = {}\n",
    "for col in dfPandas.columns:\n",
    "    if dfPandas[col].dtype == np.float64:\n",
    "        maxDict[col] = [dfPandas[col].max()]\n",
    "pd.DataFrame(maxDict)"
   ]
  },
  {
   "cell_type": "code",
   "execution_count": null,
   "id": "782d3635-3f1f-4cb2-99ef-018ee6f198ad",
   "metadata": {
    "tags": []
   },
   "outputs": [],
   "source": [
    "(\n",
    "    pl.read_csv(csvFile)\n",
    "     <blank>\n",
    ")"
   ]
  },
  {
   "cell_type": "markdown",
   "id": "84205876-bba5-4967-81c9-1fc26b3722e1",
   "metadata": {},
   "source": [
    "## Solutions\n",
    "\n",
    "### Solution to Exercise 1\n",
    "Select all columns from the `DataFrame` and sort each column"
   ]
  },
  {
   "cell_type": "code",
   "execution_count": null,
   "id": "5777e105-4862-439b-ae94-81a57dd4487b",
   "metadata": {
    "jupyter": {
     "source_hidden": true
    },
    "tags": []
   },
   "outputs": [],
   "source": [
    "(\n",
    "    pl.read_csv(csvFile)\n",
    "    .select(\n",
    "        pl.all().sort()\n",
    "    )\n",
    "    .head(3)\n",
    ")    "
   ]
  },
  {
   "cell_type": "markdown",
   "id": "12ff9426-f7b8-4577-a47c-5ba7a544b5a1",
   "metadata": {},
   "source": [
    "### Solution to Exercise 2\n",
    "Select all columns from the `DataFrame` with the exception of the `PassengerId` column"
   ]
  },
  {
   "cell_type": "code",
   "execution_count": null,
   "id": "45a80476-a66c-49c9-ab11-e25cef9eb925",
   "metadata": {
    "jupyter": {
     "source_hidden": true
    },
    "tags": []
   },
   "outputs": [],
   "source": [
    "df = pl.read_csv(csvFile)\n",
    "(\n",
    "    df\n",
    "    .select(\n",
    "        pl.all().exclude('PassengerId')\n",
    "    )\n",
    "    .head(3)\n",
    ")"
   ]
  },
  {
   "cell_type": "markdown",
   "id": "9dd2ca4b-114e-470d-86c1-89b88ec31024",
   "metadata": {},
   "source": [
    "### Solution to Exercise 3\n",
    "Select all columns from the `DataFrame` that start with `S` or `N`"
   ]
  },
  {
   "cell_type": "code",
   "execution_count": null,
   "id": "6719bb2c-d1cf-4492-afa3-84717b15e7e9",
   "metadata": {
    "jupyter": {
     "source_hidden": true
    },
    "tags": []
   },
   "outputs": [],
   "source": [
    "pl.read_csv(csvFile)\n",
    "(\n",
    "    df\n",
    "    .select(\n",
    "        pl.col(\"^(S|N).*$\")\n",
    "    )\n",
    "    .head(3)\n",
    ")"
   ]
  },
  {
   "cell_type": "markdown",
   "id": "6a3fa6d3-4da2-4aad-b032-1c1a09b6c7ff",
   "metadata": {},
   "source": [
    "### Solution to Exercise 4\n",
    "Select all the columns with 64-bit floating point dtype"
   ]
  },
  {
   "cell_type": "code",
   "execution_count": null,
   "id": "9c712d6d-86cc-4078-8317-177cdbb631ca",
   "metadata": {
    "jupyter": {
     "source_hidden": true
    },
    "tags": []
   },
   "outputs": [],
   "source": [
    "df = pl.read_csv(csvFile)\n",
    "(\n",
    "    df\n",
    "    .select(\n",
    "        pl.col(pl.Float64)\n",
    "    )\n",
    ")"
   ]
  },
  {
   "cell_type": "markdown",
   "id": "a3b32c33-2246-4ed6-a8ed-07b1546be9e5",
   "metadata": {},
   "source": [
    "### Solution to Exercise 5\n",
    "Convert the following Pandas code to Polars\n",
    "```python\n",
    "import pandas as pd\n",
    "import numpy as np\n",
    "df = pl.read_csv(csvFile)\n",
    "dfPandas = df.to_pandas()\n",
    "\n",
    "# Convert this code below to Polars in the following cell\n",
    "maxDict = {}\n",
    "for col in dfPandas.columns:\n",
    "    if dfPandas[col].dtype == np.float64:\n",
    "        maxDict[col] = [dfPandas[col].max()]\n",
    "pd.DataFrame(maxDict)\n",
    "```"
   ]
  },
  {
   "cell_type": "code",
   "execution_count": null,
   "id": "27764b00-447f-4e3f-a17d-26232dcfebd0",
   "metadata": {
    "jupyter": {
     "source_hidden": true
    },
    "tags": []
   },
   "outputs": [],
   "source": [
    "(\n",
    "    pl.read_csv(csvFile)\n",
    "    .select(\n",
    "        pl.col(pl.Float64).max()\n",
    "    )\n",
    ")"
   ]
  }
 ],
 "metadata": {
  "kernelspec": {
   "display_name": "Python 3 (ipykernel)",
   "language": "python",
   "name": "python3"
  },
  "language_info": {
   "codemirror_mode": {
    "name": "ipython",
    "version": 3
   },
   "file_extension": ".py",
   "mimetype": "text/x-python",
   "name": "python",
   "nbconvert_exporter": "python",
   "pygments_lexer": "ipython3",
   "version": "3.10.9"
  }
 },
 "nbformat": 4,
 "nbformat_minor": 5
}
