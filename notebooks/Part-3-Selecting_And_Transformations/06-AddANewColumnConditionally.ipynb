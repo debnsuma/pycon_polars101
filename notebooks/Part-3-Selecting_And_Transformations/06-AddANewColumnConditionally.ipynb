{
 "cells": [
  {
   "cell_type": "markdown",
   "id": "55f2b433-7df5-4877-aadb-c5a089645d88",
   "metadata": {},
   "source": [
    "## Selecting columns 6: Adding a new column based on a mapping or condition\n",
    "In this lecture we learn how to:\n",
    "- add a new column with a dict mapping from an existing column\n",
    "- add a new column with an `if-else` condition using `pl.when`\n",
    "- add a new column with a condition on multiple columns\n",
    "- add a new column with multiple `if-elif` conditions"
   ]
  },
  {
   "cell_type": "code",
   "execution_count": null,
   "id": "4caa50b5-4448-4722-92f9-faa718e3db6c",
   "metadata": {
    "tags": []
   },
   "outputs": [],
   "source": [
    "import polars as pl"
   ]
  },
  {
   "cell_type": "code",
   "execution_count": null,
   "id": "c14406ef-16b4-4e86-bd86-ef6efc93ddd3",
   "metadata": {
    "tags": []
   },
   "outputs": [],
   "source": [
    "csvFile = \"../data/titanic.csv\""
   ]
  },
  {
   "cell_type": "code",
   "execution_count": null,
   "id": "a3a85d75-a64c-4108-add6-072a4e2da172",
   "metadata": {
    "tags": []
   },
   "outputs": [],
   "source": [
    "df = pl.read_csv(csvFile)\n",
    "df.head(3)"
   ]
  },
  {
   "cell_type": "markdown",
   "id": "8c596506-38fb-4b8f-8090-7f9d9cce8748",
   "metadata": {},
   "source": [
    "## Add a new column based on a mapping from another column\n",
    "We can add a new column based on a Python `dict` that maps values in an existing column to an new value with the `map_dict` expression.\n",
    "\n",
    "In the example we map the class number to a class name"
   ]
  },
  {
   "cell_type": "code",
   "execution_count": null,
   "id": "21f0cab1-7fe0-4789-805a-d89de84990b9",
   "metadata": {
    "tags": []
   },
   "outputs": [],
   "source": [
    "(\n",
    "    df\n",
    "    .with_columns(\n",
    "        className = pl.col(\"Pclass\").map_dict(\n",
    "            {\n",
    "                1:'first',\n",
    "                2:'second',\n",
    "                3:'third'\n",
    "            }\n",
    "        )\n",
    "    )\n",
    "    .select('Pclass','className')\n",
    "    .head(2)\n",
    ")"
   ]
  },
  {
   "cell_type": "markdown",
   "id": "a2ad0342-6c51-4abb-86de-7f7ca1f9eb7c",
   "metadata": {},
   "source": [
    "We can think of `map_dict` as a left join (see the section on combining `DataFrames` if you are not familiar with joins) and in fact Polars implements this as a join by converting the mapping dictionary to a `DataFrame` under-the-hood."
   ]
  },
  {
   "cell_type": "markdown",
   "id": "704bfc0c-cfac-4844-9b8b-511bc60a58a9",
   "metadata": {},
   "source": [
    "## Add a new column based on a condition on another column\n",
    "\n",
    "We want to add a new binary column called `firstClass` based on the `Pclass` column where the value is `1` for first class passengers and `0` for second and third class passengers:\n",
    "\n",
    "`firstClass = 1 if Pclass == 1`,`otherwise = 0`\n"
   ]
  },
  {
   "cell_type": "code",
   "execution_count": null,
   "id": "eca0f119-1607-40eb-b985-865cdbaea26b",
   "metadata": {
    "tags": []
   },
   "outputs": [],
   "source": [
    "(\n",
    "    df\n",
    "    .with_columns(\n",
    "        firstClass = pl.when(\n",
    "                         pl.col(\"Pclass\") == 1\n",
    "                      )\n",
    "                      .then(1)\n",
    "                      .otherwise(0)\n",
    "    )\n",
    "    .select('Pclass','firstClass')\n",
    "    .head(2)\n",
    ")"
   ]
  },
  {
   "cell_type": "markdown",
   "id": "2cbe255c-98d8-4bfe-b159-dbda9170707e",
   "metadata": {},
   "source": [
    "## Syntax of `pl.when`\n",
    "\n",
    "The syntax is:\n",
    "```python\n",
    "\n",
    "    pl.when(**Boolean Expression**)\n",
    "    .then(**Value if True**)\n",
    "    .otherwise(**Value if False)\n",
    "    .alias(**New Column Name**)\n",
    "    \n",
    "```\n",
    "\n",
    "## Add a new column based on a condition on multiple other columns\n",
    "\n",
    "We want to add a new binary column called `youngFirstClass` where first class passengers with age under 30 are `1` and all other passengers are 0. \n",
    "\n",
    "`youngFirstClass = 1 if (Pclass == 1 and Age < 30) otherwise = 0`\n",
    "\n",
    "\n",
    "We do this with a combined filter using `() & ()` in `pl.when`"
   ]
  },
  {
   "cell_type": "code",
   "execution_count": null,
   "id": "e8f7ab8b-5eba-4e5b-b89a-de807b3b24b8",
   "metadata": {
    "tags": []
   },
   "outputs": [],
   "source": [
    "(\n",
    "    df\n",
    "    .select(\n",
    "        [\n",
    "            pl.col(\"Pclass\"),\n",
    "            pl.col(\"Age\"),\n",
    "            pl.when(\n",
    "                (pl.col(\"Pclass\") == 1) & (pl.col(\"Age\") < 30)\n",
    "            )\n",
    "            .then(1)\n",
    "            .otherwise(0)\n",
    "            .alias(\"youngFirstClass\")\n",
    "        ]\n",
    "    )\n",
    "    .tail(5)\n",
    ")"
   ]
  },
  {
   "cell_type": "markdown",
   "id": "b8b97544-d872-4310-b84a-58adcc6d1a4b",
   "metadata": {},
   "source": [
    "## Add a new column based on an `if-elif-else` condition\n",
    "We are not limited to a single `if-else` condition. \n",
    "\n",
    "For example we want to create 3 categories with:\n",
    "- `1` for young first class passengers \n",
    "- `2` for older first class passengers and \n",
    "- `0` for all other passengers\n",
    "\n",
    "`ageClass == 1 if (Pclass == 1 and Age < 30) or\n",
    "ageClass == 2 if (Pclass == 1 and Age > 30) or\n",
    "otherwise 0`\n",
    "\n",
    "We do this by repeating the `.when.then` cycle for each subsequent condition.\n",
    "\n",
    "The syntax here for a single extra condition is:\n",
    "```python\n",
    "\n",
    "    pl.when(**Boolean Expression**)\n",
    "    .then(**Value if True**)\n",
    "    .when(**Boolean Expression**)\n",
    "    .then(**Value if True**)\n",
    "    .otherwise(**Value if False)\n",
    "    .alias(**New Column Name**)\n",
    "    \n",
    "```\n"
   ]
  },
  {
   "cell_type": "code",
   "execution_count": null,
   "id": "4e0b6923-d61a-446f-a2e8-77f1d21196c5",
   "metadata": {
    "tags": []
   },
   "outputs": [],
   "source": [
    "(\n",
    "    df\n",
    "    .select(\n",
    "        [\n",
    "            pl.col(\"Pclass\"),\n",
    "            pl.col(\"Age\"),\n",
    "            pl.when(\n",
    "                (pl.col(\"Pclass\") == 1) & (pl.col(\"Age\")<30)\n",
    "            )\n",
    "            .then(1)\n",
    "            .when(\n",
    "                (pl.col(\"Pclass\") == 1) & (pl.col(\"Age\")>=30)\n",
    "            )\n",
    "            .then(2)\n",
    "            .otherwise(0)\n",
    "            .alias(\"ageClass\")\n",
    "        ]\n",
    "    )\n",
    "    .head(5)\n",
    ")"
   ]
  },
  {
   "cell_type": "markdown",
   "id": "baadc0cb-c151-4fa1-9ada-25b587471046",
   "metadata": {},
   "source": [
    "The cycles of `.when.then` can be repeated indefinitely."
   ]
  },
  {
   "cell_type": "markdown",
   "id": "faf01d53-8149-44eb-9d60-0de99781ed6e",
   "metadata": {},
   "source": [
    "## Exercises\n",
    "\n",
    "In the exercises you will develop your understanding of:\n",
    "- adding a column based on a mapping of another column\n",
    "- adding a binary column based on a condition on multiple columns\n",
    "- adding a column based on a nested `if-elif` condition on another column\n",
    "\n",
    "## Exercise 1 - create a binary column for whether a passenger is female or male\n",
    "Add a column called `isFemale` that maps rows with a female passenger to 1 and rows with a male passenger to 0"
   ]
  },
  {
   "cell_type": "code",
   "execution_count": null,
   "id": "4f5e0508-3fc5-46d3-ab16-111c1b19e68b",
   "metadata": {
    "tags": []
   },
   "outputs": [],
   "source": [
    "(\n",
    "    pl.read_csv(csvFile)\n",
    "    .select(['Sex',<blank>])\n",
    "    .head()\n",
    ")"
   ]
  },
  {
   "cell_type": "markdown",
   "id": "c96fb3d6-e279-4f4d-ae2d-aab0c537378a",
   "metadata": {},
   "source": [
    "## Exercise 2 - create a binary column for whether a passenger is female and has relatives aboard\n",
    "\n",
    "Add a binary column called `femaleRelatives` to indicate whether a passenger is female and is travelling with no relatives (use the parents & children `Parch` column and the siblings column `SibSp`."
   ]
  },
  {
   "cell_type": "code",
   "execution_count": null,
   "id": "1d5c1c53-ff92-413c-84e5-5698bafe8bbc",
   "metadata": {
    "tags": []
   },
   "outputs": [],
   "source": [
    "(\n",
    "    pl.read_csv(csvFile)\n",
    "    <blank>\n",
    "    .head()\n",
    ")"
   ]
  },
  {
   "cell_type": "markdown",
   "id": "53df78ae-b800-4ce1-8872-9ffe3b9f3257",
   "metadata": {},
   "source": [
    "## Exercise 3 - create a column for whether a passenger is female and has parents & children, siblings or both aboard\n",
    "\n",
    "Add a column called `femaleRelatives` where: \n",
    "- `1` indicates a female passenger with no relatives\n",
    "- `2` indicates a female passenger with parents/children but no siblings\n",
    "- `3` indicates a female passenger with siblings but no parents/children\n",
    "- `4` indicates a female passenger with parents/children and siblings\n",
    "- `5` indicates a male passenger"
   ]
  },
  {
   "cell_type": "code",
   "execution_count": null,
   "id": "b5a722f8-81d7-4ae7-9f1a-1b2ded17513b",
   "metadata": {
    "tags": []
   },
   "outputs": [],
   "source": [
    "(\n",
    "    pl.read_csv(csvFile)\n",
    "    .select(\n",
    "        [\n",
    "            'Sex',\n",
    "            \"SibSp\",\n",
    "            \"Parch\", \n",
    "            <blank>\n",
    "          ]\n",
    "    )\n",
    "    .head()\n",
    ")"
   ]
  },
  {
   "cell_type": "markdown",
   "id": "24d44129-b261-485e-a51e-0285fe46c0b3",
   "metadata": {},
   "source": [
    "## Solution to Exercise 1 - Add a column called `isFemale` with value 1 where the passenger is female"
   ]
  },
  {
   "cell_type": "code",
   "execution_count": null,
   "id": "4e6db5f7-767b-40de-bd9c-f939c17c08b4",
   "metadata": {
    "jupyter": {
     "source_hidden": true
    },
    "tags": []
   },
   "outputs": [],
   "source": [
    "(\n",
    "    pl.read_csv(csvFile)\n",
    "    .select(\n",
    "        [\n",
    "            'Sex',\n",
    "            pl.col(\"Sex\").map_dict({\"female\":1,\"male\":0}).alias(\"isFemale\")\n",
    "        ]\n",
    "    )\n",
    "    .head()\n",
    ")"
   ]
  },
  {
   "cell_type": "markdown",
   "id": "59795145-d5d5-4d78-9700-b536fa0ab5c5",
   "metadata": {},
   "source": [
    "## Solution to Exercise 2 - create a binary column for whether a passenger is female and has relatives aboard"
   ]
  },
  {
   "cell_type": "code",
   "execution_count": null,
   "id": "4121e6ba-2e87-47e1-b6b2-104b30c19ae8",
   "metadata": {
    "jupyter": {
     "source_hidden": true
    },
    "tags": []
   },
   "outputs": [],
   "source": [
    "(\n",
    "    pl.read_csv(csvFile)\n",
    "    .select(\n",
    "        [\n",
    "            'Sex',\n",
    "            pl.when(\n",
    "                (pl.col(\"Sex\")==\"female\") & (pl.col(\"SibSp\")==0) & (pl.col(\"Parch\") == 0)\n",
    "            )\n",
    "            .then(1)\n",
    "            .otherwise(0)\n",
    "            .alias(\"femaleRelatives\")\n",
    "\n",
    "        ]\n",
    "    )\n",
    "    .head()\n",
    ")"
   ]
  },
  {
   "cell_type": "markdown",
   "id": "d11af8c6-45c8-4dd5-8114-70e3b26177cf",
   "metadata": {},
   "source": [
    "## Solution to Exercise 3 - create a column for whether a passenger is female and has parents & children, siblings or both aboard"
   ]
  },
  {
   "cell_type": "code",
   "execution_count": null,
   "id": "05d5f278-9c5a-4af0-b7ee-0c0d058a4d92",
   "metadata": {
    "jupyter": {
     "source_hidden": true
    },
    "tags": []
   },
   "outputs": [],
   "source": [
    "(\n",
    "    pl.read_csv(csvFile)\n",
    "    .select(\n",
    "        [\n",
    "            'Sex',\n",
    "            \"SibSp\",\n",
    "            \"Parch\", \n",
    "            pl.when(\n",
    "                (pl.col(\"Sex\")==\"female\") & (pl.col(\"SibSp\")==0) & (pl.col(\"Parch\") == 0)\n",
    "            )\n",
    "            .then(1)\n",
    "            .when(\n",
    "                (pl.col(\"Sex\")==\"female\") & (pl.col(\"SibSp\")==0) & (pl.col(\"Parch\") > 0)\n",
    "            )\n",
    "            .then(2)\n",
    "            .when(\n",
    "                (pl.col(\"Sex\")==\"female\") & (pl.col(\"SibSp\") > 0) & (pl.col(\"Parch\") == 0)\n",
    "            )\n",
    "            .then(3)\n",
    "            .when(\n",
    "                (pl.col(\"Sex\")==\"female\") & (pl.col(\"SibSp\") > 0) & (pl.col(\"Parch\") > 0)\n",
    "            )\n",
    "            .then(4)\n",
    "            .otherwise(0)\n",
    "            .alias(\"femaleRelatives\")\n",
    "          ]\n",
    "    ).head()\n",
    ")"
   ]
  }
 ],
 "metadata": {
  "kernelspec": {
   "display_name": "Python 3 (ipykernel)",
   "language": "python",
   "name": "python3"
  },
  "language_info": {
   "codemirror_mode": {
    "name": "ipython",
    "version": 3
   },
   "file_extension": ".py",
   "mimetype": "text/x-python",
   "name": "python",
   "nbconvert_exporter": "python",
   "pygments_lexer": "ipython3",
   "version": "3.10.9"
  }
 },
 "nbformat": 4,
 "nbformat_minor": 5
}
